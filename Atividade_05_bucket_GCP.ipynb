{
  "nbformat": 4,
  "nbformat_minor": 0,
  "metadata": {
    "colab": {
      "provenance": [],
      "mount_file_id": "1pish1l6sLTUwvs0z8f_p7NmvXaJLuEsI",
      "authorship_tag": "ABX9TyMk4Obn3U9wOsJ0iYrOj9/C",
      "include_colab_link": true
    },
    "kernelspec": {
      "name": "python3",
      "display_name": "Python 3"
    },
    "language_info": {
      "name": "python"
    }
  },
  "cells": [
    {
      "cell_type": "markdown",
      "metadata": {
        "id": "view-in-github",
        "colab_type": "text"
      },
      "source": [
        "<a href=\"https://colab.research.google.com/github/patriciagvas/Bootcamp_Soulcode_Analista_Dados/blob/main/Atividade_05_bucket_GCP.ipynb\" target=\"_parent\"><img src=\"https://colab.research.google.com/assets/colab-badge.svg\" alt=\"Open In Colab\"/></a>"
      ]
    },
    {
      "cell_type": "markdown",
      "source": [
        "Na GCP crie uma bucket (Cloud Storage) com qualquer nome e dentro dela crie uma\n",
        "pasta com o nome de dados_bruto e dentro dele salve o arquivo (csv) com os dados do\n",
        "da base escolhida no site https://dados.gov.br/, deixe o acesso público ativado\n",
        "\n",
        "No colab faça a leitura desse arquivo e a partir dele crie diferentes insight (pandas/pyspark/numpy) com os resultados de agrupamentos e salve esses arquivos como csv e envie diretamente pelo cada um deles para o bucket dentro de uma pasta chamada \"Dados_tratados\""
      ],
      "metadata": {
        "id": "dBRTi1rj9S_o"
      }
    },
    {
      "cell_type": "code",
      "execution_count": null,
      "metadata": {
        "colab": {
          "base_uri": "https://localhost:8080/",
          "height": 723
        },
        "id": "v3ARYC3-9KqE",
        "outputId": "ff88bbc2-08b5-40df-a705-89a377ebd15a"
      },
      "outputs": [
        {
          "output_type": "stream",
          "name": "stdout",
          "text": [
            "Requirement already satisfied: google-cloud-storage in /usr/local/lib/python3.10/dist-packages (2.8.0)\n",
            "Collecting google-cloud-storage\n",
            "  Downloading google_cloud_storage-2.18.2-py2.py3-none-any.whl.metadata (9.1 kB)\n",
            "Requirement already satisfied: google-cloud-bigquery in /usr/local/lib/python3.10/dist-packages (3.25.0)\n",
            "Requirement already satisfied: google-auth<3.0dev,>=2.26.1 in /usr/local/lib/python3.10/dist-packages (from google-cloud-storage) (2.27.0)\n",
            "Requirement already satisfied: google-api-core<3.0.0dev,>=2.15.0 in /usr/local/lib/python3.10/dist-packages (from google-cloud-storage) (2.19.1)\n",
            "Requirement already satisfied: google-cloud-core<3.0dev,>=2.3.0 in /usr/local/lib/python3.10/dist-packages (from google-cloud-storage) (2.4.1)\n",
            "Requirement already satisfied: google-resumable-media>=2.7.2 in /usr/local/lib/python3.10/dist-packages (from google-cloud-storage) (2.7.2)\n",
            "Requirement already satisfied: requests<3.0.0dev,>=2.18.0 in /usr/local/lib/python3.10/dist-packages (from google-cloud-storage) (2.32.3)\n",
            "Requirement already satisfied: google-crc32c<2.0dev,>=1.0 in /usr/local/lib/python3.10/dist-packages (from google-cloud-storage) (1.5.0)\n",
            "Requirement already satisfied: packaging>=20.0.0 in /usr/local/lib/python3.10/dist-packages (from google-cloud-bigquery) (24.1)\n",
            "Requirement already satisfied: python-dateutil<3.0dev,>=2.7.2 in /usr/local/lib/python3.10/dist-packages (from google-cloud-bigquery) (2.8.2)\n",
            "Requirement already satisfied: googleapis-common-protos<2.0.dev0,>=1.56.2 in /usr/local/lib/python3.10/dist-packages (from google-api-core<3.0.0dev,>=2.15.0->google-cloud-storage) (1.64.0)\n",
            "Requirement already satisfied: protobuf!=3.20.0,!=3.20.1,!=4.21.0,!=4.21.1,!=4.21.2,!=4.21.3,!=4.21.4,!=4.21.5,<6.0.0.dev0,>=3.19.5 in /usr/local/lib/python3.10/dist-packages (from google-api-core<3.0.0dev,>=2.15.0->google-cloud-storage) (3.20.3)\n",
            "Requirement already satisfied: proto-plus<2.0.0dev,>=1.22.3 in /usr/local/lib/python3.10/dist-packages (from google-api-core<3.0.0dev,>=2.15.0->google-cloud-storage) (1.24.0)\n",
            "Requirement already satisfied: grpcio<2.0dev,>=1.33.2 in /usr/local/lib/python3.10/dist-packages (from google-api-core[grpc]!=2.0.*,!=2.1.*,!=2.10.*,!=2.2.*,!=2.3.*,!=2.4.*,!=2.5.*,!=2.6.*,!=2.7.*,!=2.8.*,!=2.9.*,<3.0.0dev,>=1.34.1->google-cloud-bigquery) (1.64.1)\n",
            "Requirement already satisfied: grpcio-status<2.0.dev0,>=1.33.2 in /usr/local/lib/python3.10/dist-packages (from google-api-core[grpc]!=2.0.*,!=2.1.*,!=2.10.*,!=2.2.*,!=2.3.*,!=2.4.*,!=2.5.*,!=2.6.*,!=2.7.*,!=2.8.*,!=2.9.*,<3.0.0dev,>=1.34.1->google-cloud-bigquery) (1.48.2)\n",
            "Requirement already satisfied: cachetools<6.0,>=2.0.0 in /usr/local/lib/python3.10/dist-packages (from google-auth<3.0dev,>=2.26.1->google-cloud-storage) (5.5.0)\n",
            "Requirement already satisfied: pyasn1-modules>=0.2.1 in /usr/local/lib/python3.10/dist-packages (from google-auth<3.0dev,>=2.26.1->google-cloud-storage) (0.4.0)\n",
            "Requirement already satisfied: rsa<5,>=3.1.4 in /usr/local/lib/python3.10/dist-packages (from google-auth<3.0dev,>=2.26.1->google-cloud-storage) (4.9)\n",
            "Requirement already satisfied: six>=1.5 in /usr/local/lib/python3.10/dist-packages (from python-dateutil<3.0dev,>=2.7.2->google-cloud-bigquery) (1.16.0)\n",
            "Requirement already satisfied: charset-normalizer<4,>=2 in /usr/local/lib/python3.10/dist-packages (from requests<3.0.0dev,>=2.18.0->google-cloud-storage) (3.3.2)\n",
            "Requirement already satisfied: idna<4,>=2.5 in /usr/local/lib/python3.10/dist-packages (from requests<3.0.0dev,>=2.18.0->google-cloud-storage) (3.8)\n",
            "Requirement already satisfied: urllib3<3,>=1.21.1 in /usr/local/lib/python3.10/dist-packages (from requests<3.0.0dev,>=2.18.0->google-cloud-storage) (2.0.7)\n",
            "Requirement already satisfied: certifi>=2017.4.17 in /usr/local/lib/python3.10/dist-packages (from requests<3.0.0dev,>=2.18.0->google-cloud-storage) (2024.7.4)\n",
            "Requirement already satisfied: pyasn1<0.7.0,>=0.4.6 in /usr/local/lib/python3.10/dist-packages (from pyasn1-modules>=0.2.1->google-auth<3.0dev,>=2.26.1->google-cloud-storage) (0.6.0)\n",
            "Downloading google_cloud_storage-2.18.2-py2.py3-none-any.whl (130 kB)\n",
            "\u001b[2K   \u001b[90m━━━━━━━━━━━━━━━━━━━━━━━━━━━━━━━━━━━━━━━━\u001b[0m \u001b[32m130.5/130.5 kB\u001b[0m \u001b[31m2.1 MB/s\u001b[0m eta \u001b[36m0:00:00\u001b[0m\n",
            "\u001b[?25hInstalling collected packages: google-cloud-storage\n",
            "  Attempting uninstall: google-cloud-storage\n",
            "    Found existing installation: google-cloud-storage 2.8.0\n",
            "    Uninstalling google-cloud-storage-2.8.0:\n",
            "      Successfully uninstalled google-cloud-storage-2.8.0\n",
            "Successfully installed google-cloud-storage-2.18.2\n"
          ]
        },
        {
          "output_type": "display_data",
          "data": {
            "application/vnd.colab-display-data+json": {
              "pip_warning": {
                "packages": [
                  "google"
                ]
              },
              "id": "335ede81d56f4ee1a4cecf110abe4991"
            }
          },
          "metadata": {}
        }
      ],
      "source": [
        "!pip install --upgrade google-cloud-storage google-cloud-bigquery"
      ]
    },
    {
      "cell_type": "code",
      "source": [
        "from google.colab import auth\n",
        "auth.authenticate_user()"
      ],
      "metadata": {
        "id": "xrUbndXh9ic-"
      },
      "execution_count": null,
      "outputs": []
    },
    {
      "cell_type": "code",
      "source": [
        "import os\n",
        "from google.cloud import storage\n",
        "# Inicialize o cliente\n",
        "client = storage.Client()\n",
        "# Defina o nome do bucket\n",
        "bucket_name = 'analista_de_dados_soulcode'\n",
        "bucket = client.bucket(bucket_name)\n",
        "\n",
        "# Caminho dentro do bucket (pasta)\n",
        "destination_blob_path = 'dados_brutos/f-etanol-producao.csv'\n",
        "# Faça o upload de um arquivo CSV\n",
        "blob = bucket.blob(destination_blob_path)\n",
        "blob.upload_from_filename('/content/drive/MyDrive/Colab Notebooks/Datasets/f-etanol-producao.csv') #caminho do arquivo csv que quero fazer upload\n"
      ],
      "metadata": {
        "id": "-pTW5y029tbp"
      },
      "execution_count": null,
      "outputs": []
    },
    {
      "cell_type": "markdown",
      "source": [
        "**Análises**: Com base nos dados obtidos pelo site gov avaliar a produção de etanol anidro e hidratado no Brasil de 2019 a 2023."
      ],
      "metadata": {
        "id": "mMhLdpKa-SOr"
      }
    },
    {
      "cell_type": "code",
      "source": [
        "import pandas as pd\n",
        "from google.colab import drive\n",
        "\n",
        "drive.mount('/content/drive')\n",
        "\n",
        "arquivo = '/content/drive/MyDrive/Colab Notebooks/Datasets/f-etanol-producao.csv'\n",
        "df_producao = pd.read_csv(arquivo)\n",
        "\n",
        "df_producao = df_producao.drop_duplicates()\n",
        "df_producao.isnull().sum()\n",
        "df_producao.columns = df_producao.columns.str.title()\n",
        "df_producao = df_producao.dropna()\n",
        "#df_producao.head()\n",
        "\n",
        "# Arquivo com dados de matéria-prima para produção de etanol\n",
        "arquivo_mp = '/content/drive/MyDrive/Colab Notebooks/Datasets/h-etanol-materia-prima.csv'\n",
        "df_mp = pd.read_csv(arquivo_mp)\n",
        "\n",
        "df_mp = df_mp.drop_duplicates()\n",
        "df_mp.isnull().sum()\n",
        "df_mp.columns = df_mp.columns.str.title()\n",
        "df_mp = df_mp.dropna()\n",
        "df_mp.head()"
      ],
      "metadata": {
        "colab": {
          "base_uri": "https://localhost:8080/",
          "height": 224
        },
        "id": "OZ-Fx-9_-CvG",
        "outputId": "5181dace-5a2f-4b8d-a683-753f64e20281"
      },
      "execution_count": null,
      "outputs": [
        {
          "output_type": "stream",
          "name": "stdout",
          "text": [
            "Drive already mounted at /content/drive; to attempt to forcibly remount, call drive.mount(\"/content/drive\", force_remount=True).\n"
          ]
        },
        {
          "output_type": "execute_result",
          "data": {
            "text/plain": [
              "   Mês/Ano        Região              Estado                  Produto  \\\n",
              "0  08/2023       SUDESTE           São Paulo  BAGAÇO OU PALHA DE CANA   \n",
              "1  08/2023  CENTRO OESTE               Goiás           CANA DE AÇÚCAR   \n",
              "2  08/2023  CENTRO OESTE         Mato Grosso           CANA DE AÇÚCAR   \n",
              "3  08/2023  CENTRO OESTE  Mato Grosso do Sul           CANA DE AÇÚCAR   \n",
              "4  08/2023      NORDESTE             Alagoas           CANA DE AÇÚCAR   \n",
              "\n",
              "   Quantidade Processada (T)  \n",
              "0                      12713  \n",
              "1                    7422467  \n",
              "2                    1544723  \n",
              "3                    4378373  \n",
              "4                       4857  "
            ],
            "text/html": [
              "\n",
              "  <div id=\"df-a089ecf9-0eb5-4e46-ad90-ba5c4526f44d\" class=\"colab-df-container\">\n",
              "    <div>\n",
              "<style scoped>\n",
              "    .dataframe tbody tr th:only-of-type {\n",
              "        vertical-align: middle;\n",
              "    }\n",
              "\n",
              "    .dataframe tbody tr th {\n",
              "        vertical-align: top;\n",
              "    }\n",
              "\n",
              "    .dataframe thead th {\n",
              "        text-align: right;\n",
              "    }\n",
              "</style>\n",
              "<table border=\"1\" class=\"dataframe\">\n",
              "  <thead>\n",
              "    <tr style=\"text-align: right;\">\n",
              "      <th></th>\n",
              "      <th>Mês/Ano</th>\n",
              "      <th>Região</th>\n",
              "      <th>Estado</th>\n",
              "      <th>Produto</th>\n",
              "      <th>Quantidade Processada (T)</th>\n",
              "    </tr>\n",
              "  </thead>\n",
              "  <tbody>\n",
              "    <tr>\n",
              "      <th>0</th>\n",
              "      <td>08/2023</td>\n",
              "      <td>SUDESTE</td>\n",
              "      <td>São Paulo</td>\n",
              "      <td>BAGAÇO OU PALHA DE CANA</td>\n",
              "      <td>12713</td>\n",
              "    </tr>\n",
              "    <tr>\n",
              "      <th>1</th>\n",
              "      <td>08/2023</td>\n",
              "      <td>CENTRO OESTE</td>\n",
              "      <td>Goiás</td>\n",
              "      <td>CANA DE AÇÚCAR</td>\n",
              "      <td>7422467</td>\n",
              "    </tr>\n",
              "    <tr>\n",
              "      <th>2</th>\n",
              "      <td>08/2023</td>\n",
              "      <td>CENTRO OESTE</td>\n",
              "      <td>Mato Grosso</td>\n",
              "      <td>CANA DE AÇÚCAR</td>\n",
              "      <td>1544723</td>\n",
              "    </tr>\n",
              "    <tr>\n",
              "      <th>3</th>\n",
              "      <td>08/2023</td>\n",
              "      <td>CENTRO OESTE</td>\n",
              "      <td>Mato Grosso do Sul</td>\n",
              "      <td>CANA DE AÇÚCAR</td>\n",
              "      <td>4378373</td>\n",
              "    </tr>\n",
              "    <tr>\n",
              "      <th>4</th>\n",
              "      <td>08/2023</td>\n",
              "      <td>NORDESTE</td>\n",
              "      <td>Alagoas</td>\n",
              "      <td>CANA DE AÇÚCAR</td>\n",
              "      <td>4857</td>\n",
              "    </tr>\n",
              "  </tbody>\n",
              "</table>\n",
              "</div>\n",
              "    <div class=\"colab-df-buttons\">\n",
              "\n",
              "  <div class=\"colab-df-container\">\n",
              "    <button class=\"colab-df-convert\" onclick=\"convertToInteractive('df-a089ecf9-0eb5-4e46-ad90-ba5c4526f44d')\"\n",
              "            title=\"Convert this dataframe to an interactive table.\"\n",
              "            style=\"display:none;\">\n",
              "\n",
              "  <svg xmlns=\"http://www.w3.org/2000/svg\" height=\"24px\" viewBox=\"0 -960 960 960\">\n",
              "    <path d=\"M120-120v-720h720v720H120Zm60-500h600v-160H180v160Zm220 220h160v-160H400v160Zm0 220h160v-160H400v160ZM180-400h160v-160H180v160Zm440 0h160v-160H620v160ZM180-180h160v-160H180v160Zm440 0h160v-160H620v160Z\"/>\n",
              "  </svg>\n",
              "    </button>\n",
              "\n",
              "  <style>\n",
              "    .colab-df-container {\n",
              "      display:flex;\n",
              "      gap: 12px;\n",
              "    }\n",
              "\n",
              "    .colab-df-convert {\n",
              "      background-color: #E8F0FE;\n",
              "      border: none;\n",
              "      border-radius: 50%;\n",
              "      cursor: pointer;\n",
              "      display: none;\n",
              "      fill: #1967D2;\n",
              "      height: 32px;\n",
              "      padding: 0 0 0 0;\n",
              "      width: 32px;\n",
              "    }\n",
              "\n",
              "    .colab-df-convert:hover {\n",
              "      background-color: #E2EBFA;\n",
              "      box-shadow: 0px 1px 2px rgba(60, 64, 67, 0.3), 0px 1px 3px 1px rgba(60, 64, 67, 0.15);\n",
              "      fill: #174EA6;\n",
              "    }\n",
              "\n",
              "    .colab-df-buttons div {\n",
              "      margin-bottom: 4px;\n",
              "    }\n",
              "\n",
              "    [theme=dark] .colab-df-convert {\n",
              "      background-color: #3B4455;\n",
              "      fill: #D2E3FC;\n",
              "    }\n",
              "\n",
              "    [theme=dark] .colab-df-convert:hover {\n",
              "      background-color: #434B5C;\n",
              "      box-shadow: 0px 1px 3px 1px rgba(0, 0, 0, 0.15);\n",
              "      filter: drop-shadow(0px 1px 2px rgba(0, 0, 0, 0.3));\n",
              "      fill: #FFFFFF;\n",
              "    }\n",
              "  </style>\n",
              "\n",
              "    <script>\n",
              "      const buttonEl =\n",
              "        document.querySelector('#df-a089ecf9-0eb5-4e46-ad90-ba5c4526f44d button.colab-df-convert');\n",
              "      buttonEl.style.display =\n",
              "        google.colab.kernel.accessAllowed ? 'block' : 'none';\n",
              "\n",
              "      async function convertToInteractive(key) {\n",
              "        const element = document.querySelector('#df-a089ecf9-0eb5-4e46-ad90-ba5c4526f44d');\n",
              "        const dataTable =\n",
              "          await google.colab.kernel.invokeFunction('convertToInteractive',\n",
              "                                                    [key], {});\n",
              "        if (!dataTable) return;\n",
              "\n",
              "        const docLinkHtml = 'Like what you see? Visit the ' +\n",
              "          '<a target=\"_blank\" href=https://colab.research.google.com/notebooks/data_table.ipynb>data table notebook</a>'\n",
              "          + ' to learn more about interactive tables.';\n",
              "        element.innerHTML = '';\n",
              "        dataTable['output_type'] = 'display_data';\n",
              "        await google.colab.output.renderOutput(dataTable, element);\n",
              "        const docLink = document.createElement('div');\n",
              "        docLink.innerHTML = docLinkHtml;\n",
              "        element.appendChild(docLink);\n",
              "      }\n",
              "    </script>\n",
              "  </div>\n",
              "\n",
              "\n",
              "<div id=\"df-83f906ec-64f0-4343-81e7-5e3f66f4b575\">\n",
              "  <button class=\"colab-df-quickchart\" onclick=\"quickchart('df-83f906ec-64f0-4343-81e7-5e3f66f4b575')\"\n",
              "            title=\"Suggest charts\"\n",
              "            style=\"display:none;\">\n",
              "\n",
              "<svg xmlns=\"http://www.w3.org/2000/svg\" height=\"24px\"viewBox=\"0 0 24 24\"\n",
              "     width=\"24px\">\n",
              "    <g>\n",
              "        <path d=\"M19 3H5c-1.1 0-2 .9-2 2v14c0 1.1.9 2 2 2h14c1.1 0 2-.9 2-2V5c0-1.1-.9-2-2-2zM9 17H7v-7h2v7zm4 0h-2V7h2v10zm4 0h-2v-4h2v4z\"/>\n",
              "    </g>\n",
              "</svg>\n",
              "  </button>\n",
              "\n",
              "<style>\n",
              "  .colab-df-quickchart {\n",
              "      --bg-color: #E8F0FE;\n",
              "      --fill-color: #1967D2;\n",
              "      --hover-bg-color: #E2EBFA;\n",
              "      --hover-fill-color: #174EA6;\n",
              "      --disabled-fill-color: #AAA;\n",
              "      --disabled-bg-color: #DDD;\n",
              "  }\n",
              "\n",
              "  [theme=dark] .colab-df-quickchart {\n",
              "      --bg-color: #3B4455;\n",
              "      --fill-color: #D2E3FC;\n",
              "      --hover-bg-color: #434B5C;\n",
              "      --hover-fill-color: #FFFFFF;\n",
              "      --disabled-bg-color: #3B4455;\n",
              "      --disabled-fill-color: #666;\n",
              "  }\n",
              "\n",
              "  .colab-df-quickchart {\n",
              "    background-color: var(--bg-color);\n",
              "    border: none;\n",
              "    border-radius: 50%;\n",
              "    cursor: pointer;\n",
              "    display: none;\n",
              "    fill: var(--fill-color);\n",
              "    height: 32px;\n",
              "    padding: 0;\n",
              "    width: 32px;\n",
              "  }\n",
              "\n",
              "  .colab-df-quickchart:hover {\n",
              "    background-color: var(--hover-bg-color);\n",
              "    box-shadow: 0 1px 2px rgba(60, 64, 67, 0.3), 0 1px 3px 1px rgba(60, 64, 67, 0.15);\n",
              "    fill: var(--button-hover-fill-color);\n",
              "  }\n",
              "\n",
              "  .colab-df-quickchart-complete:disabled,\n",
              "  .colab-df-quickchart-complete:disabled:hover {\n",
              "    background-color: var(--disabled-bg-color);\n",
              "    fill: var(--disabled-fill-color);\n",
              "    box-shadow: none;\n",
              "  }\n",
              "\n",
              "  .colab-df-spinner {\n",
              "    border: 2px solid var(--fill-color);\n",
              "    border-color: transparent;\n",
              "    border-bottom-color: var(--fill-color);\n",
              "    animation:\n",
              "      spin 1s steps(1) infinite;\n",
              "  }\n",
              "\n",
              "  @keyframes spin {\n",
              "    0% {\n",
              "      border-color: transparent;\n",
              "      border-bottom-color: var(--fill-color);\n",
              "      border-left-color: var(--fill-color);\n",
              "    }\n",
              "    20% {\n",
              "      border-color: transparent;\n",
              "      border-left-color: var(--fill-color);\n",
              "      border-top-color: var(--fill-color);\n",
              "    }\n",
              "    30% {\n",
              "      border-color: transparent;\n",
              "      border-left-color: var(--fill-color);\n",
              "      border-top-color: var(--fill-color);\n",
              "      border-right-color: var(--fill-color);\n",
              "    }\n",
              "    40% {\n",
              "      border-color: transparent;\n",
              "      border-right-color: var(--fill-color);\n",
              "      border-top-color: var(--fill-color);\n",
              "    }\n",
              "    60% {\n",
              "      border-color: transparent;\n",
              "      border-right-color: var(--fill-color);\n",
              "    }\n",
              "    80% {\n",
              "      border-color: transparent;\n",
              "      border-right-color: var(--fill-color);\n",
              "      border-bottom-color: var(--fill-color);\n",
              "    }\n",
              "    90% {\n",
              "      border-color: transparent;\n",
              "      border-bottom-color: var(--fill-color);\n",
              "    }\n",
              "  }\n",
              "</style>\n",
              "\n",
              "  <script>\n",
              "    async function quickchart(key) {\n",
              "      const quickchartButtonEl =\n",
              "        document.querySelector('#' + key + ' button');\n",
              "      quickchartButtonEl.disabled = true;  // To prevent multiple clicks.\n",
              "      quickchartButtonEl.classList.add('colab-df-spinner');\n",
              "      try {\n",
              "        const charts = await google.colab.kernel.invokeFunction(\n",
              "            'suggestCharts', [key], {});\n",
              "      } catch (error) {\n",
              "        console.error('Error during call to suggestCharts:', error);\n",
              "      }\n",
              "      quickchartButtonEl.classList.remove('colab-df-spinner');\n",
              "      quickchartButtonEl.classList.add('colab-df-quickchart-complete');\n",
              "    }\n",
              "    (() => {\n",
              "      let quickchartButtonEl =\n",
              "        document.querySelector('#df-83f906ec-64f0-4343-81e7-5e3f66f4b575 button');\n",
              "      quickchartButtonEl.style.display =\n",
              "        google.colab.kernel.accessAllowed ? 'block' : 'none';\n",
              "    })();\n",
              "  </script>\n",
              "</div>\n",
              "\n",
              "    </div>\n",
              "  </div>\n"
            ],
            "application/vnd.google.colaboratory.intrinsic+json": {
              "type": "dataframe",
              "variable_name": "df_mp",
              "summary": "{\n  \"name\": \"df_mp\",\n  \"rows\": 1755,\n  \"fields\": [\n    {\n      \"column\": \"M\\u00eas/Ano\",\n      \"properties\": {\n        \"dtype\": \"object\",\n        \"num_unique_values\": 56,\n        \"samples\": [\n          \"08/2023\",\n          \"03/2023\",\n          \"11/2020\"\n        ],\n        \"semantic_type\": \"\",\n        \"description\": \"\"\n      }\n    },\n    {\n      \"column\": \"Regi\\u00e3o\",\n      \"properties\": {\n        \"dtype\": \"category\",\n        \"num_unique_values\": 5,\n        \"samples\": [\n          \"CENTRO OESTE\",\n          \"SUL\",\n          \"NORDESTE\"\n        ],\n        \"semantic_type\": \"\",\n        \"description\": \"\"\n      }\n    },\n    {\n      \"column\": \"Estado\",\n      \"properties\": {\n        \"dtype\": \"category\",\n        \"num_unique_values\": 21,\n        \"samples\": [\n          \"S\\u00e3o Paulo\",\n          \"Paran\\u00e1\",\n          \"Minas Gerais\"\n        ],\n        \"semantic_type\": \"\",\n        \"description\": \"\"\n      }\n    },\n    {\n      \"column\": \"Produto\",\n      \"properties\": {\n        \"dtype\": \"category\",\n        \"num_unique_values\": 5,\n        \"samples\": [\n          \"CANA DE A\\u00c7\\u00daCAR\",\n          \"OUTRAS MAT\\u00c9RIAS - PRIMAS\",\n          \"MELA\\u00c7O\"\n        ],\n        \"semantic_type\": \"\",\n        \"description\": \"\"\n      }\n    },\n    {\n      \"column\": \"Quantidade Processada (T)\",\n      \"properties\": {\n        \"dtype\": \"number\",\n        \"std\": 3633431,\n        \"min\": 0,\n        \"max\": 82627626,\n        \"num_unique_values\": 1689,\n        \"samples\": [\n          619790,\n          2357,\n          16064\n        ],\n        \"semantic_type\": \"\",\n        \"description\": \"\"\n      }\n    }\n  ]\n}"
            }
          },
          "metadata": {},
          "execution_count": 83
        }
      ]
    },
    {
      "cell_type": "markdown",
      "source": [
        "**1** - Produção de etanol hidratado e anidro no Brasil por mês de 2019 a 2023"
      ],
      "metadata": {
        "id": "3hTnuKSxEcvJ"
      }
    },
    {
      "cell_type": "code",
      "source": [
        "producao_mensal_anidro = df_producao.groupby('Mês/Ano')['Produção Etanol Anidro (M³/D)'].sum().reset_index(name = \"Produção Etanol Anidro (M³/D)\")\n",
        "resultado = round(producao_mensal_anidro, 2)\n",
        "print(resultado)\n",
        "producao_mensal_anidro.to_csv('producao_mensal_anidro.csv', index=False)\n",
        "bucket.blob('Dados_tratados/').upload_from_string('')\n",
        "\n",
        "processed_blob = bucket.blob('Dados_tratados/producao_mensal_anidro.csv')\n",
        "processed_blob.upload_from_filename('producao_mensal_anidro.csv')"
      ],
      "metadata": {
        "colab": {
          "base_uri": "https://localhost:8080/"
        },
        "id": "4hHUv51VEnP3",
        "outputId": "2381a1d7-04c0-4e59-c42c-8c4218386b34"
      },
      "execution_count": null,
      "outputs": [
        {
          "output_type": "stream",
          "name": "stdout",
          "text": [
            "      Mês/Ano  Produção Etanol Anidro (M³/D)\n",
            "0  2019-01-01                       134879.0\n",
            "1  2019-02-01                        67328.0\n",
            "2  2019-03-01                       104452.0\n",
            "3  2019-04-01                       422938.0\n",
            "4  2019-05-01                      1247647.0\n",
            "5  2019-06-01                      1504380.0\n",
            "6  2019-07-01                      1552913.0\n",
            "7  2019-08-01                      1568563.0\n",
            "8  2019-09-01                      1337736.0\n",
            "9  2019-10-01                      1412341.0\n",
            "10 2019-11-01                       805905.0\n",
            "11 2019-12-01                       235172.0\n",
            "12 2020-01-01                       151268.0\n",
            "13 2020-02-01                        75987.0\n",
            "14 2020-03-01                       142132.0\n",
            "15 2020-04-01                       615541.0\n",
            "16 2020-05-01                      1060050.0\n",
            "17 2020-06-01                      1184708.0\n",
            "18 2020-07-01                      1469321.0\n",
            "19 2020-08-01                      1450988.0\n",
            "20 2020-09-01                      1617403.0\n",
            "21 2020-10-01                      1465100.0\n",
            "22 2020-11-01                       775224.0\n",
            "23 2020-12-01                       227359.0\n",
            "24 2021-01-01                       142925.0\n",
            "25 2021-02-01                        86656.0\n",
            "26 2021-03-01                        95311.0\n",
            "27 2021-04-01                       510361.0\n",
            "28 2021-05-01                      1429125.0\n",
            "29 2021-06-01                      1600107.0\n",
            "30 2021-07-01                      1916276.0\n",
            "31 2021-08-01                      1901838.0\n",
            "32 2021-09-01                      1795077.0\n",
            "33 2021-10-01                      1119878.0\n",
            "34 2021-11-01                       608679.0\n",
            "35 2021-12-01                       210887.0\n",
            "36 2022-01-01                       169448.0\n",
            "37 2022-02-01                       121453.0\n",
            "38 2022-03-01                       107407.0\n",
            "39 2022-04-01                       349598.0\n",
            "40 2022-05-01                      1387165.0\n",
            "41 2022-06-01                      1589399.0\n",
            "42 2022-07-01                      1945579.0\n",
            "43 2022-08-01                      1827774.0\n",
            "44 2022-09-01                      1617782.0\n",
            "45 2022-10-01                      1525443.0\n",
            "46 2022-11-01                      1206730.0\n",
            "47 2022-12-01                       475107.0\n",
            "48 2023-01-01                       335096.0\n",
            "49 2023-02-01                       253766.0\n",
            "50 2023-03-01                       309786.0\n",
            "51 2023-04-01                       644243.0\n",
            "52 2023-05-01                      1769261.0\n",
            "53 2023-06-01                      1748446.0\n",
            "54 2023-07-01                      1981233.0\n",
            "55 2023-08-01                      1877197.0\n"
          ]
        }
      ]
    },
    {
      "cell_type": "code",
      "source": [
        "producao_mensal_hidratado = df_producao.groupby('Mês/Ano')['Produção Etanol Hidratado(M³/D)'].sum().reset_index(name = \"Produção Etanol Hidratado (M³/D)\")\n",
        "resultado = round(producao_mensal_hidratado, 2)\n",
        "print(resultado)\n",
        "producao_mensal_hidratado.to_csv('producao_mensal_hidratado.csv', index=False)\n",
        "bucket.blob('Dados_tratados/').upload_from_string('')\n",
        "\n",
        "processed_blob = bucket.blob('Dados_tratados/producao_mensal_hidratado.csv')\n",
        "processed_blob.upload_from_filename('producao_mensal_hidratado.csv')"
      ],
      "metadata": {
        "colab": {
          "base_uri": "https://localhost:8080/"
        },
        "collapsed": true,
        "id": "_u_T5u92G4LT",
        "outputId": "55328be6-c61b-4cb2-abbe-c825cd29e463"
      },
      "execution_count": null,
      "outputs": [
        {
          "output_type": "stream",
          "name": "stdout",
          "text": [
            "      Mês/Ano  Produção Etanol Hidratado (M³/D)\n",
            "0  2019-01-01                          218427.0\n",
            "1  2019-02-01                          158681.0\n",
            "2  2019-03-01                          471761.0\n",
            "3  2019-04-01                         1849021.0\n",
            "4  2019-05-01                         2796146.0\n",
            "5  2019-06-01                         3064382.0\n",
            "6  2019-07-01                         3404262.0\n",
            "7  2019-08-01                         3784037.0\n",
            "8  2019-09-01                         3548800.0\n",
            "9  2019-10-01                         3341073.0\n",
            "10 2019-11-01                         1660643.0\n",
            "11 2019-12-01                          492701.0\n",
            "12 2020-01-01                          323719.0\n",
            "13 2020-02-01                          236518.0\n",
            "14 2020-03-01                          522999.0\n",
            "15 2020-04-01                         1964575.0\n",
            "16 2020-05-01                         2651434.0\n",
            "17 2020-06-01                         2711582.0\n",
            "18 2020-07-01                         3170644.0\n",
            "19 2020-08-01                         3169194.0\n",
            "20 2020-09-01                         3147514.0\n",
            "21 2020-10-01                         2479575.0\n",
            "22 2020-11-01                         1308536.0\n",
            "23 2020-12-01                          436570.0\n",
            "24 2021-01-01                          322130.0\n",
            "25 2021-02-01                          272501.0\n",
            "26 2021-03-01                          558206.0\n",
            "27 2021-04-01                         1576630.0\n",
            "28 2021-05-01                         2515107.0\n",
            "29 2021-06-01                         2329760.0\n",
            "30 2021-07-01                         2742521.0\n",
            "31 2021-08-01                         2773880.0\n",
            "32 2021-09-01                         2597996.0\n",
            "33 2021-10-01                         1540566.0\n",
            "34 2021-11-01                          855427.0\n",
            "35 2021-12-01                          414101.0\n",
            "36 2022-01-01                          338768.0\n",
            "37 2022-02-01                          298914.0\n",
            "38 2022-03-01                          322466.0\n",
            "39 2022-04-01                         1187290.0\n",
            "40 2022-05-01                         2397919.0\n",
            "41 2022-06-01                         2366652.0\n",
            "42 2022-07-01                         2807736.0\n",
            "43 2022-08-01                         2565151.0\n",
            "44 2022-09-01                         2205954.0\n",
            "45 2022-10-01                         1802717.0\n",
            "46 2022-11-01                         1356855.0\n",
            "47 2022-12-01                          578538.0\n",
            "48 2023-01-01                          323640.0\n",
            "49 2023-02-01                          319535.0\n",
            "50 2023-03-01                          506792.0\n",
            "51 2023-04-01                         1299095.0\n",
            "52 2023-05-01                         2439992.0\n",
            "53 2023-06-01                         2230879.0\n",
            "54 2023-07-01                         2876171.0\n",
            "55 2023-08-01                         2946498.0\n"
          ]
        }
      ]
    },
    {
      "cell_type": "markdown",
      "source": [
        "**2** - Produção total e média de etanol hidratado e anidro por região do Brasil"
      ],
      "metadata": {
        "id": "ZkNUGqIRD_Al"
      }
    },
    {
      "cell_type": "code",
      "source": [
        "producao_total_hidratado = df_producao.groupby('Região')['Produção Etanol Hidratado(M³/D)'].sum().reset_index(name = \"Produção Etanol Hidratado (M³/D)\")\n",
        "producao_total_hidratado = round(producao_total_hidratado, 2)\n",
        "producao_total_hidratado = producao_total_hidratado.sort_values(by='Produção Etanol Hidratado (M³/D)', ascending = False)\n",
        "print(producao_total_hidratado)\n",
        "producao_total_hidratado.to_csv('producao_total_hidratado.csv', index=False)\n",
        "bucket.blob('Dados_tratados/').upload_from_string('')\n",
        "\n",
        "processed_blob = bucket.blob('Dados_tratados/producao_total_hidratado.csv')\n",
        "processed_blob.upload_from_filename('producao_total_hidratado.csv')"
      ],
      "metadata": {
        "colab": {
          "base_uri": "https://localhost:8080/"
        },
        "id": "BMni4SYcHbS6",
        "outputId": "cde58479-ade8-4a02-b7ce-0a544ee99130"
      },
      "execution_count": null,
      "outputs": [
        {
          "output_type": "stream",
          "name": "stdout",
          "text": [
            "         Região  Produção Etanol Hidratado (M³/D)\n",
            "3       SUDESTE                        47648732.0\n",
            "0  CENTRO OESTE                        40778931.0\n",
            "1      NORDESTE                         4432298.0\n",
            "4           SUL                         3248073.0\n",
            "2         NORTE                          475147.0\n"
          ]
        }
      ]
    },
    {
      "cell_type": "code",
      "source": [
        "producao_media_hidratado = df_producao.groupby('Região')['Produção Etanol Hidratado(M³/D)'].mean().reset_index(name = \"Produção Média De Etanol Hidratado (M³/D)\")\n",
        "producao_media_hidratado = round(producao_media_hidratado, 2)\n",
        "producao_media_hidratado = producao_media_hidratado.sort_values(by='Produção Média De Etanol Hidratado (M³/D)', ascending = False)\n",
        "print(producao_media_hidratado)\n",
        "producao_media_hidratado.to_csv('producao_media_hidratado.csv', index=False)\n",
        "bucket.blob('Dados_tratados/').upload_from_string('')\n",
        "\n",
        "processed_blob = bucket.blob('Dados_tratados/producao_media_hidratado.csv')\n",
        "processed_blob.upload_from_filename('producao_media_hidratado.csv')"
      ],
      "metadata": {
        "colab": {
          "base_uri": "https://localhost:8080/"
        },
        "id": "csQUsgQbIYFr",
        "outputId": "14b10053-c83f-4a1d-d114-d2465934ac04"
      },
      "execution_count": null,
      "outputs": [
        {
          "output_type": "stream",
          "name": "stdout",
          "text": [
            "         Região  Produção Média De Etanol Hidratado (M³/D)\n",
            "3       SUDESTE                                  333207.92\n",
            "0  CENTRO OESTE                                  248652.02\n",
            "4           SUL                                   63687.71\n",
            "1      NORDESTE                                   16001.08\n",
            "2         NORTE                                    7091.75\n"
          ]
        }
      ]
    },
    {
      "cell_type": "code",
      "source": [
        "# Etanol Anidro\n",
        "\n",
        "producao_total_anidro = df_producao.groupby('Região')['Produção Etanol Anidro (M³/D)'].sum().reset_index(name = \"Produção Etanol Anidro (M³/D)\")\n",
        "producao_total_anidro = round(producao_total_anidro, 2)\n",
        "producao_total_anidro = producao_total_anidro.sort_values(by='Produção Etanol Anidro (M³/D)', ascending = False)\n",
        "print(producao_total_anidro)\n",
        "producao_total_anidro.to_csv('producao_total_anidro.csv', index=False)\n",
        "bucket.blob('Dados_tratados/').upload_from_string('')\n",
        "\n",
        "processed_blob = bucket.blob('Dados_tratados/producao_total_anidro.csv')\n",
        "processed_blob.upload_from_filename('producao_total_anidro.csv')"
      ],
      "metadata": {
        "colab": {
          "base_uri": "https://localhost:8080/"
        },
        "id": "KFI6-KrWJwEr",
        "outputId": "6ba82a7b-f928-41ec-925d-22677ba67f28"
      },
      "execution_count": null,
      "outputs": [
        {
          "output_type": "stream",
          "name": "stdout",
          "text": [
            "         Região  Produção Etanol Anidro (M³/D)\n",
            "3       SUDESTE                     31094888.0\n",
            "0  CENTRO OESTE                     14847046.0\n",
            "1      NORDESTE                      3975862.0\n",
            "4           SUL                      2759378.0\n",
            "2         NORTE                       611194.0\n"
          ]
        }
      ]
    },
    {
      "cell_type": "code",
      "source": [
        "producao_media_anidro = df_producao.groupby('Região')['Produção Etanol Anidro (M³/D)'].mean().reset_index(name = \"Produção Média De Etanol Anidro(M³/D)\")\n",
        "producao_media_anidro = round(producao_media_anidro, 2)\n",
        "producao_media_anidro = producao_media_anidro.sort_values(by='Produção Média De Etanol Anidro(M³/D)', ascending = False)\n",
        "print(producao_media_anidro)\n",
        "producao_media_anidro.to_csv('producao_media_anidro.csv', index=False)\n",
        "bucket.blob('Dados_tratados/').upload_from_string('')\n",
        "\n",
        "processed_blob = bucket.blob('Dados_tratados/producao_media_anidro.csv')\n",
        "processed_blob.upload_from_filename('producao_media_anidro.csv')"
      ],
      "metadata": {
        "colab": {
          "base_uri": "https://localhost:8080/"
        },
        "id": "jIJOTQ_rKO7z",
        "outputId": "d4e3f666-0bbb-46b3-cbfd-a1ca15a3b0f7"
      },
      "execution_count": null,
      "outputs": [
        {
          "output_type": "stream",
          "name": "stdout",
          "text": [
            "         Região  Produção Média De Etanol Anidro(M³/D)\n",
            "3       SUDESTE                              217446.77\n",
            "0  CENTRO OESTE                               90530.77\n",
            "4           SUL                               54105.45\n",
            "1      NORDESTE                               14353.29\n",
            "2         NORTE                                9122.30\n"
          ]
        }
      ]
    },
    {
      "cell_type": "markdown",
      "source": [
        "**3** - Estado com maior produção de etanol anidro e hidratado"
      ],
      "metadata": {
        "id": "DnNBUg-NES07"
      }
    },
    {
      "cell_type": "code",
      "source": [
        "#Identificando a produção de cada estado\n",
        "producao_estado_anidro= df_producao.groupby('Estado')['Produção Etanol Anidro (M³/D)'].sum().reset_index(name = \"Produção De Etanol Anidro(M³/D)\")\n",
        "producao_estado_anidro = round(producao_estado_anidro, 2)\n",
        "producao_estado_anidro = producao_estado_anidro.sort_values(by='Produção De Etanol Anidro(M³/D)', ascending = False)\n",
        "print(producao_estado_anidro)\n",
        "producao_estado_anidro.to_csv('producao_estado_anidro.csv', index=False)\n",
        "bucket.blob('Dados_tratados/').upload_from_string('')\n",
        "\n",
        "processed_blob = bucket.blob('Dados_tratados/producao_estado_anidro.csv')\n",
        "processed_blob.upload_from_filename('producao_estado_anidro.csv')\n",
        "\n",
        "#Estado com maior e menor produção de etanol anidro\n",
        "\n",
        "estado_maior_producao = producao_estado_anidro.index[0]\n",
        "maior_producao = producao_estado_anidro.iloc[0]\n",
        "print(f\"O estado com a maior produção de etanol anidro é {estado_maior_producao} com uma produção total de {maior_producao:} m³.\")\n",
        "\n",
        "producao_estado_anidro_cresc = producao_estado_anidro.sort_values(by='Produção De Etanol Anidro(M³/D)', ascending = True)\n",
        "estado_menor_producao = producao_estado_anidro_cresc.index[0]\n",
        "menor_producao = producao_estado_anidro_cresc.iloc[0]\n",
        "print(f\"O estado com a menor produção de etanol anidro é {estado_menor_producao} com uma produção total de {menor_producao:} m³.\")\n"
      ],
      "metadata": {
        "colab": {
          "base_uri": "https://localhost:8080/"
        },
        "id": "JvF3_2TONM8c",
        "outputId": "5bc975ac-5ffe-4b49-aa5c-abc3f5a4f746"
      },
      "execution_count": null,
      "outputs": [
        {
          "output_type": "stream",
          "name": "stdout",
          "text": [
            "                 Estado  Produção De Etanol Anidro(M³/D)\n",
            "15            São Paulo                       25435649.0\n",
            "5           Mato Grosso                        5752132.0\n",
            "7          Minas Gerais                        5256391.0\n",
            "3                 Goiás                        5046165.0\n",
            "6    Mato Grosso do Sul                        4048749.0\n",
            "8                Paraná                        2759378.0\n",
            "9               Paraíba                         968830.0\n",
            "0               Alagoas                         894576.0\n",
            "4              Maranhão                         665086.0\n",
            "11           Pernambuco                         567730.0\n",
            "1                 Bahia                         546334.0\n",
            "16            Tocantins                         426072.0\n",
            "2        Espírito Santo                         402848.0\n",
            "10                 Pará                         185122.0\n",
            "13  Rio Grande do Norte                         135056.0\n",
            "12                Piauí                         111820.0\n",
            "14              Sergipe                          86430.0\n",
            "O estado com a maior produção de etanol anidro é 15 com uma produção total de Estado                              São Paulo\n",
            "Produção De Etanol Anidro(M³/D)    25435649.0\n",
            "Name: 15, dtype: object m³.\n",
            "O estado com a menor produção de etanol anidro é 14 com uma produção total de Estado                             Sergipe\n",
            "Produção De Etanol Anidro(M³/D)    86430.0\n",
            "Name: 14, dtype: object m³.\n"
          ]
        }
      ]
    },
    {
      "cell_type": "code",
      "source": [
        "#Identificando a produção de cada estado\n",
        "producao_estado_hidratado= df_producao.groupby('Estado')['Produção Etanol Hidratado(M³/D)'].sum().reset_index(name = \"Produção De Etanol Hidratado(M³/D)\")\n",
        "producao_estado_hidratado = round(producao_estado_hidratado, 2)\n",
        "producao_estado_hidratado = producao_estado_hidratado.sort_values(by='Produção De Etanol Hidratado(M³/D)', ascending = False)\n",
        "print(producao_estado_hidratado)\n",
        "producao_estado_hidratado.to_csv('producao_estado_hidratado.csv', index=False)\n",
        "bucket.blob('Dados_tratados/').upload_from_string('')\n",
        "\n",
        "processed_blob = bucket.blob('Dados_tratados/producao_estado_hidratado.csv')\n",
        "processed_blob.upload_from_filename('producao_estado_hidratado.csv')\n",
        "\n",
        "#Estado com maior e menor produção de etanol hidratado\n",
        "\n",
        "estado_maior_producao = producao_estado_hidratado.index[0]\n",
        "maior_producao = producao_estado_hidratado.iloc[0]\n",
        "print(f\"O estado com a maior produção de etanol hidratado é {estado_maior_producao} com uma produção total de {maior_producao:} m³.\")\n",
        "\n",
        "producao_estado_hidratado_cresc = producao_estado_hidratado.sort_values(by='Produção De Etanol Hidratado(M³/D)', ascending = True)\n",
        "estado_menor_producao = producao_estado_hidratado_cresc.index[0]\n",
        "menor_producao = producao_estado_hidratado_cresc.iloc[0]\n",
        "print(f\"O estado com a menor produção de etanol hidratado é {estado_menor_producao} com uma produção total de {menor_producao:} m³.\")"
      ],
      "metadata": {
        "colab": {
          "base_uri": "https://localhost:8080/"
        },
        "id": "EZYJHeHgStH7",
        "outputId": "ba7a3325-6111-4074-fd92-509f1ee5de4f"
      },
      "execution_count": null,
      "outputs": [
        {
          "output_type": "stream",
          "name": "stdout",
          "text": [
            "                 Estado  Produção De Etanol Hidratado(M³/D)\n",
            "15            São Paulo                          38381393.0\n",
            "3                 Goiás                          19149443.0\n",
            "5           Mato Grosso                          11314370.0\n",
            "6    Mato Grosso do Sul                          10315118.0\n",
            "7          Minas Gerais                           9206469.0\n",
            "8                Paraná                           3248073.0\n",
            "0               Alagoas                           1096037.0\n",
            "11           Pernambuco                            973878.0\n",
            "1                 Bahia                            848054.0\n",
            "9               Paraíba                            685686.0\n",
            "16            Tocantins                            412777.0\n",
            "14              Sergipe                            342959.0\n",
            "13  Rio Grande do Norte                            333330.0\n",
            "4              Maranhão                             76919.0\n",
            "12                Piauí                             75435.0\n",
            "10                 Pará                             62370.0\n",
            "2        Espírito Santo                             60870.0\n",
            "O estado com a maior produção de etanol hidratado é 15 com uma produção total de Estado                                 São Paulo\n",
            "Produção De Etanol Hidratado(M³/D)    38381393.0\n",
            "Name: 15, dtype: object m³.\n",
            "O estado com a menor produção de etanol hidratado é 2 com uma produção total de Estado                                Espírito Santo\n",
            "Produção De Etanol Hidratado(M³/D)           60870.0\n",
            "Name: 2, dtype: object m³.\n"
          ]
        }
      ]
    },
    {
      "cell_type": "markdown",
      "source": [
        "**4** - Época com maior produção de cada tipo de etanol"
      ],
      "metadata": {
        "id": "Vf6ju0AiRG68"
      }
    },
    {
      "cell_type": "code",
      "source": [
        "producao_epoca_hidratado= df_producao.groupby('Mês/Ano')['Produção Etanol Hidratado(M³/D)'].max().reset_index(name = \"Produção De Etanol Hidratado(M³/D)\")\n",
        "producao_epoca_hidratado = round(producao_epoca_hidratado, 2)\n",
        "producao_epoca_hidratado = producao_epoca_hidratado.sort_values(by='Produção De Etanol Hidratado(M³/D)', ascending = False)\n",
        "print(producao_epoca_hidratado)\n",
        "producao_epoca_hidratado.to_csv('producao_epoca_hidratado.csv', index=False)\n",
        "bucket.blob('Dados_tratados/').upload_from_string('')\n",
        "\n",
        "processed_blob = bucket.blob('Dados_tratados/producao_epoca_hidratado.csv')\n",
        "processed_blob.upload_from_filename('producao_epoca_hidratado.csv')"
      ],
      "metadata": {
        "colab": {
          "base_uri": "https://localhost:8080/"
        },
        "id": "_Ku04JmzRGrQ",
        "outputId": "1c65b20c-170b-4498-b528-f41ea0d99f5e"
      },
      "execution_count": null,
      "outputs": [
        {
          "output_type": "stream",
          "name": "stdout",
          "text": [
            "      Mês/Ano  Produção De Etanol Hidratado(M³/D)\n",
            "7  2019-08-01                           1758127.0\n",
            "9  2019-10-01                           1582724.0\n",
            "6  2019-07-01                           1571070.0\n",
            "8  2019-09-01                           1556298.0\n",
            "18 2020-07-01                           1475375.0\n",
            "5  2019-06-01                           1459884.0\n",
            "19 2020-08-01                           1459643.0\n",
            "16 2020-05-01                           1390115.0\n",
            "4  2019-05-01                           1354345.0\n",
            "20 2020-09-01                           1350952.0\n",
            "17 2020-06-01                           1292693.0\n",
            "31 2021-08-01                           1135592.0\n",
            "28 2021-05-01                           1134782.0\n",
            "42 2022-07-01                           1132409.0\n",
            "30 2021-07-01                           1110452.0\n",
            "55 2023-08-01                           1105928.0\n",
            "54 2023-07-01                           1075795.0\n",
            "32 2021-09-01                           1067366.0\n",
            "21 2020-10-01                           1026410.0\n",
            "15 2020-04-01                           1019681.0\n",
            "29 2021-06-01                            999164.0\n",
            "40 2022-05-01                            982010.0\n",
            "43 2022-08-01                            965372.0\n",
            "52 2023-05-01                            963244.0\n",
            "41 2022-06-01                            933498.0\n",
            "3  2019-04-01                            830469.0\n",
            "53 2023-06-01                            794420.0\n",
            "44 2022-09-01                            738005.0\n",
            "45 2022-10-01                            678600.0\n",
            "10 2019-11-01                            661083.0\n",
            "27 2021-04-01                            600829.0\n",
            "46 2022-11-01                            495239.0\n",
            "33 2021-10-01                            488465.0\n",
            "22 2020-11-01                            426209.0\n",
            "51 2023-04-01                            422190.0\n",
            "39 2022-04-01                            354980.0\n",
            "34 2021-11-01                            221630.0\n",
            "50 2023-03-01                            204355.0\n",
            "35 2021-12-01                            198026.0\n",
            "36 2022-01-01                            194898.0\n",
            "38 2022-03-01                            183684.0\n",
            "26 2021-03-01                            181836.0\n",
            "37 2022-02-01                            173170.0\n",
            "47 2022-12-01                            172272.0\n",
            "14 2020-03-01                            166160.0\n",
            "23 2020-12-01                            165941.0\n",
            "24 2021-01-01                            149462.0\n",
            "49 2023-02-01                            149387.0\n",
            "2  2019-03-01                            145286.0\n",
            "48 2023-01-01                            144904.0\n",
            "25 2021-02-01                            130806.0\n",
            "11 2019-12-01                            100179.0\n",
            "13 2020-02-01                             94180.0\n",
            "12 2020-01-01                             89633.0\n",
            "1  2019-02-01                             44295.0\n",
            "0  2019-01-01                             42104.0\n"
          ]
        }
      ]
    },
    {
      "cell_type": "code",
      "source": [
        "producao_epoca_anidro= df_producao.groupby('Mês/Ano')['Produção Etanol Anidro (M³/D)'].max().reset_index(name = \"Produção De Etanol Anidro(M³/D)\")\n",
        "producao_epoca_anidro = round(producao_epoca_anidro, 2)\n",
        "producao_epoca_anidro = producao_epoca_anidro.sort_values(by='Produção De Etanol Anidro(M³/D)', ascending = False)\n",
        "print(producao_epoca_anidro)\n",
        "producao_epoca_anidro.to_csv('producao_epoca_anidro.csv', index=False)\n",
        "bucket.blob('Dados_tratados/').upload_from_string('')\n",
        "\n",
        "processed_blob = bucket.blob('Dados_tratados/producao_epoca_anidro.csv')\n",
        "processed_blob.upload_from_filename('producao_epoca_anidro.csv')"
      ],
      "metadata": {
        "colab": {
          "base_uri": "https://localhost:8080/"
        },
        "id": "P8XoMLn6WYGE",
        "outputId": "44faf48b-2923-4b6e-bc31-8d6def151b7a"
      },
      "execution_count": null,
      "outputs": [
        {
          "output_type": "stream",
          "name": "stdout",
          "text": [
            "      Mês/Ano  Produção De Etanol Anidro(M³/D)\n",
            "30 2021-07-01                        1008391.0\n",
            "42 2022-07-01                         970906.0\n",
            "31 2021-08-01                         960479.0\n",
            "54 2023-07-01                         953919.0\n",
            "52 2023-05-01                         912923.0\n",
            "55 2023-08-01                         912080.0\n",
            "7  2019-08-01                         904786.0\n",
            "6  2019-07-01                         888342.0\n",
            "32 2021-09-01                         887598.0\n",
            "43 2022-08-01                         880173.0\n",
            "5  2019-06-01                         870679.0\n",
            "29 2021-06-01                         863876.0\n",
            "20 2020-09-01                         815876.0\n",
            "41 2022-06-01                         810447.0\n",
            "28 2021-05-01                         789325.0\n",
            "53 2023-06-01                         778336.0\n",
            "4  2019-05-01                         770211.0\n",
            "9  2019-10-01                         769479.0\n",
            "18 2020-07-01                         757806.0\n",
            "8  2019-09-01                         751201.0\n",
            "44 2022-09-01                         748926.0\n",
            "21 2020-10-01                         742034.0\n",
            "19 2020-08-01                         719285.0\n",
            "40 2022-05-01                         707619.0\n",
            "45 2022-10-01                         690049.0\n",
            "17 2020-06-01                         619453.0\n",
            "16 2020-05-01                         606576.0\n",
            "46 2022-11-01                         547509.0\n",
            "33 2021-10-01                         436932.0\n",
            "10 2019-11-01                         395386.0\n",
            "15 2020-04-01                         378399.0\n",
            "22 2020-11-01                         320626.0\n",
            "51 2023-04-01                         250897.0\n",
            "3  2019-04-01                         249544.0\n",
            "27 2021-04-01                         229678.0\n",
            "39 2022-04-01                         175177.0\n",
            "34 2021-11-01                         157494.0\n",
            "47 2022-12-01                         137742.0\n",
            "48 2023-01-01                         124028.0\n",
            "50 2023-03-01                         116795.0\n",
            "49 2023-02-01                         108966.0\n",
            "38 2022-03-01                          78150.0\n",
            "36 2022-01-01                          75859.0\n",
            "35 2021-12-01                          72725.0\n",
            "37 2022-02-01                          69473.0\n",
            "24 2021-01-01                          53685.0\n",
            "26 2021-03-01                          47870.0\n",
            "23 2020-12-01                          47366.0\n",
            "11 2019-12-01                          45012.0\n",
            "14 2020-03-01                          43735.0\n",
            "12 2020-01-01                          41235.0\n",
            "25 2021-02-01                          36048.0\n",
            "0  2019-01-01                          33146.0\n",
            "2  2019-03-01                          29624.0\n",
            "13 2020-02-01                          27376.0\n",
            "1  2019-02-01                          21688.0\n"
          ]
        }
      ]
    },
    {
      "cell_type": "markdown",
      "source": [
        "**5** - Produção anual de cada tipo de etanol de 2019 a 2023"
      ],
      "metadata": {
        "id": "GbPOQxriYgX5"
      }
    },
    {
      "cell_type": "code",
      "source": [
        "df_producao['Mês/Ano'] = pd.to_datetime(df_producao['Mês/Ano'], format='%d%m/%Y')  # ajuste o formato conforme necessário\n",
        "df_producao['Ano'] = df_producao['Mês/Ano'].dt.year\n",
        "#print(df_producao)\n",
        "df_producao.to_csv('df_producao_ano.csv', index=False)\n",
        "\n",
        "producao_anual_anidro= df_producao.groupby('Ano')['Produção Etanol Anidro (M³/D)'].sum().reset_index(name = \"Produção De Etanol Anidro(M³/D)\")\n",
        "producao_anual_anidro = round(producao_anual_anidro, 2)\n",
        "producao_anual_anidro = producao_anual_anidro.sort_values(by='Produção De Etanol Anidro(M³/D)', ascending = False)\n",
        "print(producao_anual_anidro)\n",
        "producao_anual_anidro.to_csv('producao_anual_anidro.csv', index=False)\n",
        "bucket.blob('Dados_tratados/').upload_from_string('')\n",
        "\n",
        "processed_blob = bucket.blob('Dados_tratados/producao_anual_anidro.csv')\n",
        "processed_blob.upload_from_filename('producao_anual_anidro.csv')\n"
      ],
      "metadata": {
        "colab": {
          "base_uri": "https://localhost:8080/"
        },
        "id": "yii87K4VXO10",
        "outputId": "ce92afd6-bdd1-4f2e-9823-3cf46d08420a"
      },
      "execution_count": null,
      "outputs": [
        {
          "output_type": "stream",
          "name": "stdout",
          "text": [
            "    Ano  Produção De Etanol Anidro(M³/D)\n",
            "3  2022                       12322885.0\n",
            "2  2021                       11417120.0\n",
            "0  2019                       10394254.0\n",
            "1  2020                       10235081.0\n",
            "4  2023                        8919028.0\n"
          ]
        }
      ]
    },
    {
      "cell_type": "code",
      "source": [
        "df_producao['Mês/Ano'] = pd.to_datetime(df_producao['Mês/Ano'], format='%d%m/%Y')  # ajuste o formato conforme necessário\n",
        "df_producao['Ano'] = df_producao['Mês/Ano'].dt.year\n",
        "#print(df_producao)\n",
        "df_producao.to_csv('df_producao_ano.csv', index=False)\n",
        "\n",
        "producao_anual_hidratado= df_producao.groupby('Ano')['Produção Etanol Hidratado(M³/D)'].sum().reset_index(name = \"Produção De Etanol Hidratado(M³/D)\")\n",
        "producao_anual_hidratado = round(producao_anual_hidratado, 2)\n",
        "producao_anual_hidratado = producao_anual_hidratado.sort_values(by='Produção De Etanol Hidratado(M³/D)', ascending = False)\n",
        "print(producao_anual_hidratado)\n",
        "producao_anual_anidro.to_csv('producao_anual_hidratado.csv', index=False)\n",
        "bucket.blob('Dados_tratados/').upload_from_string('')\n",
        "\n",
        "processed_blob = bucket.blob('Dados_tratados/producao_anual_hidratado.csv')\n",
        "processed_blob.upload_from_filename('producao_anual_hidratado.csv')"
      ],
      "metadata": {
        "colab": {
          "base_uri": "https://localhost:8080/"
        },
        "id": "oTs4k0A3ZzFW",
        "outputId": "f8d8b300-fc6a-4e8f-d7ce-1664123bb801"
      },
      "execution_count": null,
      "outputs": [
        {
          "output_type": "stream",
          "name": "stdout",
          "text": [
            "    Ano  Produção De Etanol Hidratado(M³/D)\n",
            "0  2019                          24789934.0\n",
            "1  2020                          22122860.0\n",
            "2  2021                          18498825.0\n",
            "3  2022                          18228960.0\n",
            "4  2023                          12942602.0\n"
          ]
        }
      ]
    }
  ]
}