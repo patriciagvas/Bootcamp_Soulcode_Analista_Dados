{
  "nbformat": 4,
  "nbformat_minor": 0,
  "metadata": {
    "colab": {
      "provenance": [],
      "authorship_tag": "ABX9TyMVAHvB5r9dKUX0+0u+pJ3a"
    },
    "kernelspec": {
      "name": "python3",
      "display_name": "Python 3"
    },
    "language_info": {
      "name": "python"
    }
  },
  "cells": [
    {
      "cell_type": "markdown",
      "source": [
        "Escreva uma função que simule uma calculadora científica, capaz de realizar operações básicas como adição, subtração, multiplicação, e divisão, além de funções trigonométricas, exponenciação, e logaritmos."
      ],
      "metadata": {
        "id": "wHLKjCKb32a2"
      }
    },
    {
      "cell_type": "code",
      "execution_count": null,
      "metadata": {
        "colab": {
          "base_uri": "https://localhost:8080/"
        },
        "id": "lNX_FS3R3YUB",
        "outputId": "4ed011ef-40bd-4112-8158-8b2e511043c9"
      },
      "outputs": [
        {
          "output_type": "stream",
          "name": "stdout",
          "text": [
            "Iniciando a função...\n",
            "Bem-vindo. Digite um número da lista de operações abaixo: 1 - Soma; 2 - Subtração; 3 - Divisão; 4 - Multiplicação; 5 - Exponenciação; 6 - Logaritmo 7 - seno; 8 - tangente; 9- cosseno : \n",
            "Digite o número da operação desejada: 2\n",
            "Digite o primeiro número: 3\n",
            "Digite o segundo número: 5\n",
            "O resultado da subtração dos números informados é -2.0.\n",
            "A função 'calculadora_cientifica' foi executada em 8.802189 segundos.\n"
          ]
        },
        {
          "output_type": "execute_result",
          "data": {
            "text/plain": [
              "-2.0"
            ]
          },
          "metadata": {},
          "execution_count": 3
        }
      ],
      "source": [
        "import math\n",
        "\n",
        "import time\n",
        "#Definindo o decorador, implementa uma função decoradora para medir o tempo de execução do código\n",
        "def medir_tempo(funcao):\n",
        "  def wrapper(*args, **kwargs):\n",
        "    print(\"Iniciando a função...\")\n",
        "    inicio = time.time() # Marca o tempo no inicio\n",
        "    resultado = funcao(*args, **kwargs)\n",
        "    fim = time.time() # Marca o tempo no final\n",
        "    print(f\"A função '{funcao.__name__}' foi executada em {fim - inicio:.6f} segundos.\")\n",
        "    return resultado\n",
        "  return wrapper\n",
        "\n",
        "@medir_tempo #como chamar a função decoradora antes da função do código principal\n",
        "\n",
        "def calculadora_cientifica():\n",
        "  print(\"Bem-vindo. Digite um número da lista de operações abaixo: 1 - Soma; 2 - Subtração; 3 - Divisão; 4 - Multiplicação; 5 - Exponenciação; 6 - Logaritmo 7 - seno; 8 - tangente; 9- cosseno : \")\n",
        "  operacao_desejada = input(\"Digite o número da operação desejada: \")\n",
        "  if operacao_desejada == \"1\":\n",
        "    num1 = float(input(\"Digite o primeiro número: \"))\n",
        "    num2 = float(input(\"Digite o segundo número: \"))\n",
        "    soma = num1 + num2\n",
        "    resultado = round(soma, 3)\n",
        "    print(f\"O resultado da soma dos números informados é {resultado}.\")\n",
        "    return(resultado) #Acho que não precisa, pois está aparecendo duas vezes\n",
        "\n",
        "  elif operacao_desejada == \"2\":\n",
        "    num1 = float(input(\"Digite o primeiro número: \"))\n",
        "    num2 = float(input(\"Digite o segundo número: \"))\n",
        "    subtracao = num1 - num2\n",
        "    resultado = round(subtracao, 3)\n",
        "    print(f\"O resultado da subtração dos números informados é {resultado}.\")\n",
        "    return(resultado)\n",
        "\n",
        "  elif operacao_desejada == \"3\":\n",
        "    num1 = float(input(\"Digite o primeiro número: \"))\n",
        "    num2 = float(input(\"Digite o segundo número: \"))\n",
        "    divisao = num1 / num2\n",
        "    resultado = round(divisao, 3)\n",
        "    print(f\"O resultado da divisão dos números informados é {resultado}.\")\n",
        "    return(resultado)\n",
        "\n",
        "  elif operacao_desejada == \"4\":\n",
        "    num1 = float(input(\"Digite o primeiro número: \"))\n",
        "    num2 = float(input(\"Digite o segundo número: \"))\n",
        "    multiplicacao = num1 * num2\n",
        "    resultado = round(multiplicacao, 3)\n",
        "    print(f\"O resultado da multiplicação dos números informados é {resultado}.\")\n",
        "    return(resultado)\n",
        "\n",
        "  elif operacao_desejada == \"5\":\n",
        "    num1 = float(input(\"Digite o primeiro número: \"))\n",
        "    num2 = float(input(\"Digite o segundo número: \"))\n",
        "    exponenciacao = num1 ** num2\n",
        "    resultado = round(exponenciacao, 3)\n",
        "    print(f\"O resultado da exponenciação dos números informados é {resultado}.\")\n",
        "    return(resultado)\n",
        "\n",
        "  elif operacao_desejada == \"6\":\n",
        "    num1 = float(input(\"Digite o número (Obs: o número deve ser maior que 0): \"))\n",
        "    logaritmo = math.log(num1)\n",
        "    resultado = round(logaritmo, 3)\n",
        "    print(f\"O resultado do logaritmo  número informado é {resultado}.\")\n",
        "    return(resultado)\n",
        "\n",
        "  elif operacao_desejada == \"7\":\n",
        "    num1 = int(input(\"Digite o primeiro número: \"))\n",
        "    num1_radianos = math.radians(num1)\n",
        "    seno = math.sin(num1_radianos)\n",
        "    resultado = round(seno, 3)\n",
        "    print(f\"O resultado do seno do número informado é {resultado}.\")\n",
        "    return(resultado)\n",
        "\n",
        "  elif operacao_desejada == \"8\":\n",
        "    num1 = int(input(\"Digite o primeiro número: \"))\n",
        "    num1_radianos = math.radians(num1)\n",
        "    tangente = math.tan(num1_radianos)\n",
        "    resultado = round(tangente, 3)\n",
        "    print(f\"O resultado da tangente do número informado é {resultado}.\")\n",
        "    return(resultado)\n",
        "\n",
        "  elif operacao_desejada == \"9\":\n",
        "    num1 = float(input(\"Digite o primeiro número: \"))\n",
        "    num1_radianos = math.radians(num1)\n",
        "    cosseno = math.cos(num1_radianos)\n",
        "    resultado = round(cosseno, 3)\n",
        "    print(f\"O resultado do cosseno do número informado é {resultado}.\")\n",
        "    return(resultado)\n",
        "\n",
        "  else:\n",
        "    print(\"Operação inválida. Tente novamente.\")\n",
        "\n",
        "calculadora_cientifica()"
      ]
    },
    {
      "cell_type": "code",
      "source": [
        "# Resolução aula 13.08\n",
        "\n",
        "import math\n",
        "\n",
        "def calculadora_cientifica():\n",
        "  print(\"Bem-vindo à calculadora Científica!\")\n",
        "  print(\"Operações disponíveis: +, -, *, /, sin, cos, tan, log, sqrt, exp, pow\")\n",
        "  print(\"Digite a operação correta, por exemplo: '2+3' ou 'sin(pi/2)' ou 'log(10)'\")\n",
        "\n",
        "  while True:\n",
        "    expressao = input(\"Digite a expressão matemática (ou sair) para encerrar: \")\n",
        "    if expressao.lower() == 'sair':\n",
        "      print(\"Encerrando a calculadora.\")\n",
        "      break\n",
        "    try:\n",
        "    # Avalia a expressão usando uma função eval, permitindo operações matemáticas\n",
        "      resultado = eval(expressao, {\"__builtins__\":None}, {\n",
        "        \"sin\": math.sin,\n",
        "        \"cos\": math.cos,\n",
        "        \"tan\": math.tan,\n",
        "        \"log\": math.log,\n",
        "        \"sqrt\": math.sqrt,\n",
        "        \"exp\": math.exp,\n",
        "        \"pow\": math.pow,\n",
        "        \"pi\": math.pi,\n",
        "        \"e\": math.e\n",
        "    })\n",
        "      return resultado\n",
        "    except Exception as erro:\n",
        "      return f\"Erro: {erro}\"\n",
        "\n",
        "# Execução da Calculadora\n",
        "calculadora_cientifica()"
      ],
      "metadata": {
        "colab": {
          "base_uri": "https://localhost:8080/"
        },
        "id": "Dity_jaQoLdU",
        "outputId": "708659d6-da0c-409c-b4ad-5f4ba67f6836"
      },
      "execution_count": null,
      "outputs": [
        {
          "name": "stdout",
          "output_type": "stream",
          "text": [
            "Bem-vindo à calculadora Científica!\n",
            "Operações disponíveis: +, -, *, /, sin, cos, tan, log, sqrt, exp, pow\n",
            "Digite a operação correta, por exemplo: '2+3' ou 'sin(pi/2)' ou 'log(10)'\n",
            "Digite a expressão matemática (ou sair) para encerrar: log(10)+sin(2/pi) - sqrt(9)\n"
          ]
        },
        {
          "output_type": "execute_result",
          "data": {
            "text/plain": [
              "-0.10293413848113175"
            ]
          },
          "metadata": {},
          "execution_count": 2
        }
      ]
    },
    {
      "cell_type": "markdown",
      "source": [
        "**2** -\n",
        "Crie uma função que converta entre diferentes unidades de medida (por exemplo, metros para quilômetros, Celsius para Fahrenheit, etc.). A função deve receber a unidade original e a unidade desejada como parâmetros."
      ],
      "metadata": {
        "id": "xh5aopPnCkcb"
      }
    },
    {
      "cell_type": "code",
      "source": [
        "def conversor_medidas(unidade_base, unidade_desejada):\n",
        "  mensagem = print(\"Digite a conversão desejada (1 - m para km; 2 - C para F;  3 - g para kg;  4 - °C para K; 5 - atm para psia)\")\n",
        "  unidade_base = str(input(\"Digite a unidade inicial do valor: \")).lower()\n",
        "  unidade_desejada = str(input(\"Digite a unidade desejada para conversão: \")).lower()\n",
        "\n",
        "  if unidade_desejada == \"km\":\n",
        "    valor = float(input(\"Digite a quantidade de metros: \"))\n",
        "    conversor = valor / 1000\n",
        "    valor_convertido = round(conversor, 3)\n",
        "    print(f\"O valor de {valor} metros é equivalente à {valor_convertido} km\")\n",
        "  elif unidade_desejada == \"f\":\n",
        "    valor = float(input(\"Digite a temperatura em °C: \"))\n",
        "    conversor = (valor*(9/5)) + 32\n",
        "    valor_convertido = round(conversor, 3)\n",
        "    print(f\"O valor de {valor}°C é equivalente à {valor_convertido}°F\")\n",
        "\n",
        "  elif unidade_desejada == \"k\":\n",
        "    valor = float(input(\"Digite a temperatura em °C: \"))\n",
        "    conversor = valor + 273.15\n",
        "    valor_convertido = round(conversor, 3)\n",
        "    print(f\"O valor de {valor}°C é equivalente à {valor_convertido}K\")\n",
        "\n",
        "  elif unidade_desejada == \"kg\":\n",
        "    valor = float(input(\"Digite a quantidade de gramas: \"))\n",
        "    conversor = valor / 1000\n",
        "    valor_convertido = round(conversor, 3)\n",
        "    print(f\"O valor de {valor} gramas é equivalente à {valor_convertido}kg\")\n",
        "\n",
        "  elif unidade_desejada == \"psia\":\n",
        "    valor = float(input(\"Digite a quantidade de atm: \"))\n",
        "    conversor = valor * 14.696\n",
        "    valor_convertido = round(conversor, 3)\n",
        "    print(f\"O valor de {valor}atm é equivalente à {valor_convertido} psia\")\n",
        "\n",
        "  else:\n",
        "    print(\"Não podemos realizar a conversão desejada. Tente novamente.\")\n",
        "\n",
        "conversor_medidas(unidade_base = \" \", unidade_desejada = \" \")\n"
      ],
      "metadata": {
        "colab": {
          "base_uri": "https://localhost:8080/"
        },
        "id": "16S__R0n_glK",
        "outputId": "ce60f737-2496-4097-bd88-71a6e456cf96"
      },
      "execution_count": null,
      "outputs": [
        {
          "output_type": "stream",
          "name": "stdout",
          "text": [
            "Digite a conversão desejada (1 - m para km; 2 - C para F;  3 - g para kg;  4 - °C para K; 5 - atm para psia)\n",
            "Digite a unidade inicial do valor: atm\n",
            "Digite a unidade desejada para conversão: psia\n",
            "Digite a quantidade de atm: 2\n",
            "O valor de 2.0atm é equivalente à 29.392 psia\n"
          ]
        }
      ]
    },
    {
      "cell_type": "markdown",
      "source": [
        "**3** - Escreva uma função que verifique se uma determinada palavra ou frase é um palíndromo (lê-se da mesma forma de frente para trás). A função deve ignorar espaços e pontuações."
      ],
      "metadata": {
        "id": "s4KQeXJ9Wa0G"
      }
    },
    {
      "cell_type": "code",
      "source": [
        "import re\n",
        "def palindromo ():\n",
        "  palavra = re.sub(r'[^a-zA-Z0-9]', '', str(input(\"Digite a palavra para verificar: \")).lower())\n",
        "  palavra_invertida = palavra[::-1]\n",
        "  if palavra_invertida == palavra:\n",
        "    print(f\"A {palavra} é um palíndromo.\")\n",
        "  else:\n",
        "    print(f\"A {palavra} não é um palíndromo\")\n",
        "\n",
        "palindromo()"
      ],
      "metadata": {
        "colab": {
          "base_uri": "https://localhost:8080/"
        },
        "id": "JwVNaxRUY-l4",
        "outputId": "6d4f4c2e-112f-42e5-e037-f6920cc8e253"
      },
      "execution_count": null,
      "outputs": [
        {
          "output_type": "stream",
          "name": "stdout",
          "text": [
            "Digite a palavra para verificar: o^sso\n",
            "A osso é um palíndromo.\n"
          ]
        }
      ]
    },
    {
      "cell_type": "markdown",
      "source": [
        "**4** - Desenvolva uma função que gere uma senha segura com um comprimento especificado. A senha deve conter letras maiúsculas e minúsculas, números e símbolos especiais"
      ],
      "metadata": {
        "id": "YfeYcM5Db9ZA"
      }
    },
    {
      "cell_type": "code",
      "source": [
        "import random\n",
        "import string\n",
        "\n",
        "def gerador_senha(max_senha):\n",
        "  letras_maiusculas = string.ascii_uppercase\n",
        "  letras_minusculas = string.ascii_lowercase\n",
        "  numeros = string.digits\n",
        "  simbolos = string.punctuation\n",
        "\n",
        "  senha = [\n",
        "        random.choice(letras_maiusculas),\n",
        "        random.choice(letras_minusculas),\n",
        "        random.choice(numeros),\n",
        "        random.choice(simbolos)\n",
        "    ]\n",
        "\n",
        "\n",
        "  caracteres = letras_maiusculas + letras_minusculas + numeros + simbolos\n",
        "  senha.extend(random.choice(caracteres) for i in range(max_senha - 4)) #tem q descontar os 4 digitos inseridos  na lista anterior\n",
        "  random.shuffle(senha)\n",
        "  return ''.join(senha)\n",
        "  print(f\"A seu senha é {senha}\")\n",
        "\n",
        "max_senha = 12\n",
        "gerador_senha(max_senha)"
      ],
      "metadata": {
        "colab": {
          "base_uri": "https://localhost:8080/",
          "height": 35
        },
        "id": "efjIYZ3BcEzn",
        "outputId": "6eb48bfa-8c42-483c-804d-648c191abef4"
      },
      "execution_count": null,
      "outputs": [
        {
          "output_type": "execute_result",
          "data": {
            "text/plain": [
              "\"Td7oM'Xa1mm[\""
            ],
            "application/vnd.google.colaboratory.intrinsic+json": {
              "type": "string"
            }
          },
          "metadata": {},
          "execution_count": 37
        }
      ]
    },
    {
      "cell_type": "markdown",
      "source": [
        "**5** -  - Implemente uma função que receba uma lista de números ou strings e a ordene usando um algoritmo de ordenação de sua escolha (por exemplo, QuickSort, MergeSort). A função deve permitir escolher entre ordem crescente ou decrescente.\n"
      ],
      "metadata": {
        "id": "bJP_N7kSmAE7"
      }
    },
    {
      "cell_type": "code",
      "source": [
        "def lista_usuario():\n",
        "  tamanho_lista = int(input(\"Digite o tamanho da lista desejada: \"))\n",
        "  escolha_usuario = str(input(\"Digite se deseja ordenar a lista em ordem crescente ou decrescente: \").lower())\n",
        "  lista =[]\n",
        "\n",
        "  for i in range(tamanho_lista):\n",
        "    i = input(\"Digite o item a ser adicionado à lista: \").strip().lower()\n",
        "    lista.append(i)\n",
        "\n",
        "  if escolha_usuario == \"crescente\":\n",
        "    lista_crescente = sorted(lista)\n",
        "    print(f\"Esta é sua lista ordenada: {lista_crescente}\")\n",
        "  elif escolha_usuario == \"decrescente\":\n",
        "    lista_decrescente = sorted(lista, reverse= True)\n",
        "    print(f\"Esta é sua lista ordenada: {lista_decrescente}\")\n",
        "  else:\n",
        "    print(\"Não foi possível ordenar a lista.\")\n",
        "\n",
        "lista_usuario()\n",
        "\n"
      ],
      "metadata": {
        "colab": {
          "base_uri": "https://localhost:8080/"
        },
        "id": "0VUID6OBmE1y",
        "outputId": "154a11d4-8f49-4261-c0fc-aff1cb43fb89"
      },
      "execution_count": null,
      "outputs": [
        {
          "output_type": "stream",
          "name": "stdout",
          "text": [
            "Digite o tamanho da lista desejada: 4\n",
            "Digite se deseja ordenar a lista em ordem crescente ou decrescente: decrescente\n",
            "Digite o item a ser adicionado à lista: 85\n",
            "Digite o item a ser adicionado à lista: 90\n",
            "Digite o item a ser adicionado à lista: 23\n",
            "Digite o item a ser adicionado à lista: 74\n",
            "Esta é sua lista ordenada: ['90', '85', '74', '23']\n"
          ]
        }
      ]
    },
    {
      "cell_type": "markdown",
      "source": [
        "**6** - rie uma função que valide um CPF (Cadastro de Pessoas Físicas) de acordo com as regras brasileiras, verificando se o CPF é válido ou não."
      ],
      "metadata": {
        "id": "zRyL3_XUrO7M"
      }
    },
    {
      "cell_type": "code",
      "source": [
        "! pip install validate-docbr\n",
        "from validate_docbr import CPF\n",
        "\n",
        "def cpf(cpf):\n",
        "    validator = CPF()\n",
        "    return validator.validate(cpf)\n",
        "\n",
        "cpf_teste = input(\"Digite um CPF para validar (apenas números): \")\n",
        "if cpf(cpf_teste):\n",
        "    print(f\"CPF {cpf_teste} válido!\")\n",
        "else:\n",
        "    print(f\"CPF {cpf_teste} inválido!\")\n"
      ],
      "metadata": {
        "colab": {
          "base_uri": "https://localhost:8080/"
        },
        "id": "UGCYZVpHrUV9",
        "outputId": "481e3e8f-f823-4c5a-ff1d-74bee597aea4"
      },
      "execution_count": null,
      "outputs": [
        {
          "output_type": "stream",
          "name": "stdout",
          "text": [
            "Collecting validate-docbr\n",
            "  Downloading validate_docbr-1.10.0-py3-none-any.whl.metadata (5.3 kB)\n",
            "Downloading validate_docbr-1.10.0-py3-none-any.whl (18 kB)\n",
            "Installing collected packages: validate-docbr\n",
            "Successfully installed validate-docbr-1.10.0\n",
            "Digite um CPF para validar (apenas números): 07412356809\n",
            "CPF 07412356809 inválido!\n"
          ]
        }
      ]
    },
    {
      "cell_type": "markdown",
      "source": [
        "**7** - Escreva funções para implementar o jogo da velha, incluindo a verificação de vitória, empate, e a atualização do tabuleiro com cada jogada.\n"
      ],
      "metadata": {
        "id": "fW4zoq_B8EIn"
      }
    },
    {
      "cell_type": "code",
      "source": [
        "def criar_tabuleiro():\n",
        "    return [[\" \" for _ in range(3)] for _ in range(3)]\n",
        "\n",
        "def exibir_tabuleiro(tabuleiro):\n",
        "    for linha in tabuleiro:\n",
        "        print(\" | \".join(linha))\n",
        "        print(\"-\" * 5)\n",
        "\n",
        "def verificar_vitoria(tabuleiro, jogador):\n",
        "    for linha in tabuleiro:\n",
        "        if all(celula == jogador for celula in linha):\n",
        "            return True\n",
        "\n",
        "    for col in range(3):\n",
        "        if all(tabuleiro[row][col] == jogador for row in range(3)):\n",
        "            return True\n",
        "\n",
        "    if all(tabuleiro[i][i] == jogador for i in range(3)):\n",
        "        return True\n",
        "    if all(tabuleiro[i][2 - i] == jogador for i in range(3)):\n",
        "        return True\n",
        "\n",
        "    return False\n",
        "\n",
        "def verificar_empate(tabuleiro):\n",
        "    for linha in tabuleiro:\n",
        "        if \" \" in linha:\n",
        "            return False\n",
        "    return True\n",
        "\n",
        "def fazer_jogada(tabuleiro, linha, coluna, jogador):\n",
        "    if tabuleiro[linha][coluna] == \" \":\n",
        "        tabuleiro[linha][coluna] = jogador\n",
        "        return True\n",
        "    return False\n",
        "\n",
        "def jogar():\n",
        "    tabuleiro = criar_tabuleiro()\n",
        "    jogador_atual = \"X\"\n",
        "\n",
        "    while True:\n",
        "        exibir_tabuleiro(tabuleiro)\n",
        "        print(f\"Vez do jogador {jogador_atual}\")\n",
        "\n",
        "        try:\n",
        "            linha = int(input(\"Digite a linha (0, 1, 2): \"))\n",
        "            coluna = int(input(\"Digite a coluna (0, 1, 2): \"))\n",
        "        except ValueError:\n",
        "            print(\"Entrada inválida. Tente novamente.\")\n",
        "            continue\n",
        "\n",
        "        if linha not in [0, 1, 2] or coluna not in [0, 1, 2]:\n",
        "            print(\"Linha ou coluna inválida. Tente novamente.\")\n",
        "            continue\n",
        "\n",
        "        if not fazer_jogada(tabuleiro, linha, coluna, jogador_atual):\n",
        "            print(\"Celula já ocupada. Tente novamente.\")\n",
        "            continue\n",
        "\n",
        "        if verificar_vitoria(tabuleiro, jogador_atual):\n",
        "            exibir_tabuleiro(tabuleiro)\n",
        "            print(f\"Jogador {jogador_atual} venceu!\")\n",
        "            break\n",
        "\n",
        "        if verificar_empate(tabuleiro):\n",
        "            exibir_tabuleiro(tabuleiro)\n",
        "            print(\"Empate!\")\n",
        "            break\n",
        "\n",
        "        jogador_atual = \"O\" if jogador_atual == \"X\" else \"X\"\n",
        "\n",
        "jogar()"
      ],
      "metadata": {
        "id": "hWFKaf2X8Idd",
        "colab": {
          "base_uri": "https://localhost:8080/"
        },
        "outputId": "5db9db39-c377-4c1f-f036-4c06c1b92c8a"
      },
      "execution_count": 1,
      "outputs": [
        {
          "output_type": "stream",
          "name": "stdout",
          "text": [
            "  |   |  \n",
            "-----\n",
            "  |   |  \n",
            "-----\n",
            "  |   |  \n",
            "-----\n",
            "Vez do jogador X\n",
            "Digite a linha (0, 1, 2): 2\n",
            "Digite a coluna (0, 1, 2): 3\n",
            "Linha ou coluna inválida. Tente novamente.\n",
            "  |   |  \n",
            "-----\n",
            "  |   |  \n",
            "-----\n",
            "  |   |  \n",
            "-----\n",
            "Vez do jogador X\n",
            "Digite a linha (0, 1, 2): 0\n",
            "Digite a coluna (0, 1, 2): 1\n",
            "  | X |  \n",
            "-----\n",
            "  |   |  \n",
            "-----\n",
            "  |   |  \n",
            "-----\n",
            "Vez do jogador O\n",
            "Digite a linha (0, 1, 2): 21\n",
            "Digite a coluna (0, 1, 2): 2\n",
            "Linha ou coluna inválida. Tente novamente.\n",
            "  | X |  \n",
            "-----\n",
            "  |   |  \n",
            "-----\n",
            "  |   |  \n",
            "-----\n",
            "Vez do jogador O\n",
            "Digite a linha (0, 1, 2): 0\n",
            "Digite a coluna (0, 1, 2): 1\n",
            "Celula já ocupada. Tente novamente.\n",
            "  | X |  \n",
            "-----\n",
            "  |   |  \n",
            "-----\n",
            "  |   |  \n",
            "-----\n",
            "Vez do jogador O\n",
            "Digite a linha (0, 1, 2): 2\n",
            "Digite a coluna (0, 1, 2): 1\n",
            "  | X |  \n",
            "-----\n",
            "  |   |  \n",
            "-----\n",
            "  | O |  \n",
            "-----\n",
            "Vez do jogador X\n",
            "Digite a linha (0, 1, 2): 0\n",
            "Digite a coluna (0, 1, 2): 2\n",
            "  | X | X\n",
            "-----\n",
            "  |   |  \n",
            "-----\n",
            "  | O |  \n",
            "-----\n",
            "Vez do jogador O\n",
            "Digite a linha (0, 1, 2): 0\n",
            "Digite a coluna (0, 1, 2): 0\n",
            "O | X | X\n",
            "-----\n",
            "  |   |  \n",
            "-----\n",
            "  | O |  \n",
            "-----\n",
            "Vez do jogador X\n",
            "Digite a linha (0, 1, 2): 2\n",
            "Digite a coluna (0, 1, 2): 1\n",
            "Celula já ocupada. Tente novamente.\n",
            "O | X | X\n",
            "-----\n",
            "  |   |  \n",
            "-----\n",
            "  | O |  \n",
            "-----\n",
            "Vez do jogador X\n",
            "Digite a linha (0, 1, 2): 1\n",
            "Digite a coluna (0, 1, 2): 2\n",
            "O | X | X\n",
            "-----\n",
            "  |   | X\n",
            "-----\n",
            "  | O |  \n",
            "-----\n",
            "Vez do jogador O\n",
            "Digite a linha (0, 1, 2): 2\n",
            "Digite a coluna (0, 1, 2): 2\n",
            "O | X | X\n",
            "-----\n",
            "  |   | X\n",
            "-----\n",
            "  | O | O\n",
            "-----\n",
            "Vez do jogador X\n",
            "Digite a linha (0, 1, 2): 2\n",
            "Digite a coluna (0, 1, 2): 0\n",
            "O | X | X\n",
            "-----\n",
            "  |   | X\n",
            "-----\n",
            "X | O | O\n",
            "-----\n",
            "Vez do jogador O\n",
            "Digite a linha (0, 1, 2): 1\n",
            "Digite a coluna (0, 1, 2): 1\n",
            "O | X | X\n",
            "-----\n",
            "  | O | X\n",
            "-----\n",
            "X | O | O\n",
            "-----\n",
            "Jogador O venceu!\n"
          ]
        }
      ]
    },
    {
      "cell_type": "markdown",
      "source": [
        "**8** - - Desenvolva uma função que analise uma frase ou texto e determine se o sentimento é positivo, negativo ou neutro, usando uma abordagem simples baseada em palavras-chave."
      ],
      "metadata": {
        "id": "WI7SDYPcFrQ4"
      }
    },
    {
      "cell_type": "code",
      "source": [
        "def sentimento(frase):\n",
        "  palavras_chave_tristeza = [\"choro\", \"solidão\", \"infeliz\", \"angústia\", \"decepção\", \"abandono\", \"péssimo\", \"chato\", \"ruim\"]\n",
        "  palavras_chave_felicidade = [\"alegre\", \"sorriso\", \"sucesso\", \"propósito\", \"ótimo\", \"maravilhoso\"]\n",
        "  cont_tristeza = 0\n",
        "  cont_felicidade = 0\n",
        "  frase_palavras = frase.lower().split()\n",
        "  for palavra in frase_palavras:\n",
        "    if palavra in palavras_chave_felicidade:\n",
        "      cont_felicidade += 1\n",
        "    elif palavra in palavras_chave_tristeza:\n",
        "      cont_tristeza += 1\n",
        "\n",
        "  if cont_felicidade > cont_tristeza:\n",
        "    print(\"A frase passa um sentimento de felicidade.\")\n",
        "  elif cont_tristeza > cont_felicidade:\n",
        "    print(\"A frase passa um sentimento de tristeza.\")\n",
        "  else:\n",
        "    print(\"A frase passa um sentimento neutro.\")\n",
        "\n",
        "frase=(input(\"Digite uma frase: \"))\n",
        "sentimento(frase)"
      ],
      "metadata": {
        "colab": {
          "base_uri": "https://localhost:8080/"
        },
        "id": "cpdawk4DFvr_",
        "outputId": "2feb484b-603e-4fca-937e-638a9b27423d"
      },
      "execution_count": null,
      "outputs": [
        {
          "output_type": "stream",
          "name": "stdout",
          "text": [
            "Digite uma frase: ontem foi um dia infeliz\n",
            "A frase passa um sentimento de tristeza.\n"
          ]
        }
      ]
    },
    {
      "cell_type": "markdown",
      "source": [
        "**9** -  - Crie um sistema de votação simples em que os usuários podem votar em diferentes opções. A função deve calcular e exibir o vencedor com base nos votos."
      ],
      "metadata": {
        "id": "8n-CZMBfLv1t"
      }
    },
    {
      "cell_type": "code",
      "source": [
        "def votacao():\n",
        "  votos_camila = 0\n",
        "  votos_roberto = 0\n",
        "  votos_manoela = 0\n",
        "  total_eleitores = int(input(\"Digite o total de eleitores: \"))\n",
        "  for i in range(total_eleitores):\n",
        "    voto = input(\"Digite o número do seu candidato (23 - Camila; 58 - Roberto; 12 - Manoela): \")\n",
        "    if voto == \"23\":\n",
        "      votos_camila += 1\n",
        "    elif voto == \"58\":\n",
        "      votos_roberto += 1\n",
        "    elif voto == \"12\":\n",
        "      votos_manoela += 1\n",
        "    else:\n",
        "      print(\"Opção inválida\")\n",
        "\n",
        "  if votos_camila > votos_roberto and votos_camila > votos_manoela:\n",
        "    print(f\"Camila é a vencedora com {votos_camila} votos\")\n",
        "  elif votos_roberto > votos_camila and votos_roberto > votos_manoela:\n",
        "    print(f\"Roberto é a vencedor com {votos_roberto} votos\")\n",
        "  elif votos_manoela > votos_roberto and votos_manoela > votos_camila:\n",
        "    print(f\"Manoela é a vencedora com {votos_manoela} votos\")\n",
        "  else:\n",
        "    print(\"Não há vencedor\")\n",
        "\n",
        "votacao()"
      ],
      "metadata": {
        "colab": {
          "base_uri": "https://localhost:8080/"
        },
        "id": "784N3rdrLyEx",
        "outputId": "92e4e67d-a744-4ef7-92c7-f7cdea43c96b"
      },
      "execution_count": null,
      "outputs": [
        {
          "output_type": "stream",
          "name": "stdout",
          "text": [
            "Digite o total de eleitores: 3\n",
            "Digite o número do seu candidato (23 - Camila; 58 - Roberto; 12 - Manoela): 12\n",
            "Digite o número do seu candidato (23 - Camila; 58 - Roberto; 12 - Manoela): 12\n",
            "Digite o número do seu candidato (23 - Camila; 58 - Roberto; 12 - Manoela): 23\n",
            "Manoela é a vencedora com 2 votos\n"
          ]
        }
      ]
    },
    {
      "cell_type": "markdown",
      "source": [
        "**10**  Escreva uma função que simule a coleta de dados de temperatura de diferentes cidades ao longo de uma semana e, em seguida, calcule a média, a temperatura mais alta e mais baixa."
      ],
      "metadata": {
        "id": "NJbtICGFQ1YL"
      }
    },
    {
      "cell_type": "code",
      "source": [
        "def dados_temperatura():\n",
        "  cidades_temperaturas = {} #Dicionário vazio para adicionar valores de temp para cada cidade\n",
        "  cidades = [] #lista vazia para adcionar o nome das cidades\n",
        "  num_dados = 7\n",
        "  num_cidades = int(input(\"Digite o número de cidades para coleta de dados: \")) #para deixar o usuário escolher o número de cidades\n",
        "\n",
        "  for i in range(num_cidades): #intera até atingir o n de cidades, adicionando o nome de cada cidade na lista\n",
        "    nome_cidade = str(input(\"Digite o nome da cidade: \"))\n",
        "    cidades.append(nome_cidade)\n",
        "    temperaturas = [] #receber os dados de temp de cada cidade\n",
        "\n",
        "    for i in range(num_dados):\n",
        "      temperatura_dia = int(input(\"Digite a temperatura do dia: \"))\n",
        "      temperaturas.append(temperatura_dia)\n",
        "\n",
        "      cidades_temperaturas[nome_cidade] = temperaturas #coloca no dicionário a chave com o nome da cidade e relaciona a suas temperaturas\n",
        "\n",
        "  for nome_cidade in cidades:\n",
        "    valores_temperatura = cidades_temperaturas[nome_cidade] #pega apenas os valores da lista de temp de cada cidade\n",
        "    media_temperatura = round(sum(valores_temperatura)/len(valores_temperatura), 2)\n",
        "    maxima = max(valores_temperatura)\n",
        "    minima = min(valores_temperatura)\n",
        "    print(f\"A cidade de {nome_cidade} teve temperatura média de {media_temperatura}, com máxima de {maxima} e mínima de {minima}.\")\n",
        "\n",
        "  print(cidades_temperaturas)\n",
        "\n",
        "dados_temperatura()"
      ],
      "metadata": {
        "colab": {
          "base_uri": "https://localhost:8080/"
        },
        "id": "oI_2jl1kQ6L_",
        "outputId": "c065cb56-94f0-4ae5-d43e-eac7c4359735"
      },
      "execution_count": null,
      "outputs": [
        {
          "output_type": "stream",
          "name": "stdout",
          "text": [
            "Digite o número de cidades para coleta de dados: 2\n",
            "Digite o nome da cidade: São Paulo\n",
            "Digite a temperatura do dia: 30\n",
            "Digite a temperatura do dia: 29\n",
            "Digite a temperatura do dia: 31\n",
            "Digite a temperatura do dia: 32\n",
            "Digite a temperatura do dia: 30\n",
            "Digite a temperatura do dia: 28\n",
            "Digite a temperatura do dia: 27\n",
            "Digite o nome da cidade: Curitiba\n",
            "Digite a temperatura do dia: 19\n",
            "Digite a temperatura do dia: 18\n",
            "Digite a temperatura do dia: 20\n",
            "Digite a temperatura do dia: 20\n",
            "Digite a temperatura do dia: 21\n",
            "Digite a temperatura do dia: 25\n",
            "Digite a temperatura do dia: 25\n",
            "A São Paulo teve temperatura média de 29.57, com máxima de 32 e mínima de 27.\n",
            "A Curitiba teve temperatura média de 21.14, com máxima de 25 e mínima de 18.\n",
            "{'São Paulo': [30, 29, 31, 32, 30, 28, 27], 'Curitiba': [19, 18, 20, 20, 21, 25, 25]}\n"
          ]
        }
      ]
    },
    {
      "cell_type": "markdown",
      "source": [
        "**11**-- Desenvolva uma função que gere uma lista de números aleatórios dentro de um intervalo específico e calcule a média, mediana, e moda dos números gerados."
      ],
      "metadata": {
        "id": "L2LyRtewVuoW"
      }
    },
    {
      "cell_type": "code",
      "source": [
        "import random\n",
        "import statistics\n",
        "\n",
        "lista_numeros = []\n",
        "\n",
        "def numeros_aleatorios():\n",
        "  intervalo_minimo = int(input(\"Digite o primeiro número do intervalo: \"))\n",
        "  intervalo_maximo = int(input(\"Digite o segundo número do intervalo: \"))\n",
        "  num_itens = int(input(\"Digite a quantidade de números desejados: \"))\n",
        "\n",
        "  for i in range(num_itens):\n",
        "    numero = random.randint(intervalo_minimo, intervalo_maximo)\n",
        "    lista_numeros.append(numero)\n",
        "\n",
        "  media = round(sum(lista_numeros)/len(lista_numeros),2)\n",
        "  moda = statistics.mode(lista_numeros)\n",
        "  mediana = statistics.median(lista_numeros)\n",
        "\n",
        "  print(f\"A lista de números aletórios é {lista_numeros}, com média de {media}, moda de {moda} e mediana {mediana}.\")\n",
        "\n",
        "\n",
        "numeros_aleatorios()"
      ],
      "metadata": {
        "colab": {
          "base_uri": "https://localhost:8080/"
        },
        "id": "ztpzPg_zVykL",
        "outputId": "bbb244e5-13d9-40b5-c2d2-b7c3edf3b756"
      },
      "execution_count": null,
      "outputs": [
        {
          "output_type": "stream",
          "name": "stdout",
          "text": [
            "Digite o primeiro número do intervalo: 10\n",
            "Digite o segundo número do intervalo: 20\n",
            "Digite a quantidade de números desejados: 5\n",
            "A lista de números aletórios é [18, 13, 20, 19, 19], com média de 17.8, moda de 19 e mediana 19.\n"
          ]
        }
      ]
    },
    {
      "cell_type": "markdown",
      "source": [
        "**12** - Crie uma função que receba um texto e retorne o número de palavras, frases, e caracteres, além de calcular a frequência de cada palavra no texto.\n"
      ],
      "metadata": {
        "id": "1Ti6MpXoYFx3"
      }
    },
    {
      "cell_type": "code",
      "source": [
        "import re #regular expressions, permite realizar operações, como busca findall em uma coleção de strings\n",
        "from collections import Counter\n",
        "\n",
        "def contador_texto ():\n",
        "  texto = str(input(\"Digite o texto para análise: \")).lower().strip()\n",
        "  palavras = re.findall(r'\\b\\w+\\b', texto)\n",
        "  num_palavras = len(palavras)\n",
        "  num_caracteres = len(texto)\n",
        "  frases = re.split(r'[.!?]', texto)\n",
        "  num_frases = len([frase for frase in frases if frase.strip()])\n",
        "  frequencia_palavras = Counter(palavras)\n",
        "\n",
        "\n",
        "  print(f\"O texto informado tem {num_palavras} palavras, {num_frases} frases e {num_caracteres} caracteres.\")\n",
        "\n",
        "  for palavra in frequencia_palavras:\n",
        "    contagem = frequencia_palavras[palavra]\n",
        "    print(f\"A palavra '{palavra}': '{contagem}' vezes.\")\n",
        "\n",
        "\n",
        "\n",
        "contador_texto()"
      ],
      "metadata": {
        "colab": {
          "base_uri": "https://localhost:8080/"
        },
        "id": "FwJH4EG8YJLe",
        "outputId": "7bf34a48-7acb-4310-b52b-f25bdf2b6693"
      },
      "execution_count": null,
      "outputs": [
        {
          "output_type": "stream",
          "name": "stdout",
          "text": [
            "Digite o texto para análise: o gato correu. o gato dormiu.\n",
            "O texto informado tem 6 palavras, 2 frases e 29 caracteres.\n",
            "A palavra 'o': '2' vezes.\n",
            "A palavra 'gato': '2' vezes.\n",
            "A palavra 'correu': '1' vezes.\n",
            "A palavra 'dormiu': '1' vezes.\n"
          ]
        }
      ]
    },
    {
      "cell_type": "markdown",
      "source": [
        "**13** -  Escreva uma função que calcule o valor futuro de um investimento com base nos juros compostos. A função deve permitir a personalização do principal, taxa de juros, e número de períodos."
      ],
      "metadata": {
        "id": "5nZJSCyhiFAT"
      }
    },
    {
      "cell_type": "code",
      "source": [
        "def juros_investimento(montante_inicial, juros, tempo):\n",
        "  juros_perc = juros/100\n",
        "  montante_final = round(montante_inicial * ((1+ juros_perc)**tempo), 2)\n",
        "  print(f\"De acordo com a taxa de {juros}% e o tempo de {tempo} meses, o montante final será de R${montante_final}\")\n",
        "\n",
        "\n",
        "montante_inicial = float(input(\"Digite o valor do montante: \"))\n",
        "juros = float(input(\"Digite a taxa de juros: \"))\n",
        "tempo = int(input(\"Digite a quantidade de meses: \"))\n",
        "resultado = juros_investimento(montante_inicial, juros, tempo)\n"
      ],
      "metadata": {
        "id": "CMhWiv6OiIYq",
        "colab": {
          "base_uri": "https://localhost:8080/"
        },
        "outputId": "112d7e60-91c5-4c83-a158-ad53fb9a0a38"
      },
      "execution_count": null,
      "outputs": [
        {
          "output_type": "stream",
          "name": "stdout",
          "text": [
            "Digite o valor do montante: 1000\n",
            "Digite a taxa de juros: 2\n",
            "Digite a quantidade de meses: 5\n",
            "De acordo com a taxa de 2.0% e o tempo de 5 meses, o montante final será de R$None\n"
          ]
        }
      ]
    },
    {
      "cell_type": "markdown",
      "source": [
        "**14** - Desenvolva uma função que converta datas entre diferentes formatos (por exemplo, de \"DD/MM/YYYY\" para \"YYYY-MM-DD\") e que valide se a data inserida é válida."
      ],
      "metadata": {
        "id": "EsTrncYkG_O0"
      }
    },
    {
      "cell_type": "code",
      "source": [
        "from datetime import datetime\n",
        "\n",
        "def conversor_datas(data_inicial, formato_atual, formato_desejado):\n",
        "  try:\n",
        "    data_convertida1 = datetime.strptime(data_inicial, formato_atual) #converter a data para um objeto datetime\n",
        "    data_convertida2= data_convertida1.strftime(formato_desejado) #converte a data para o formato desejado\n",
        "    return data_convertida2\n",
        "  except ValueError:\n",
        "    return \"Data inválida.\"\n",
        "\n",
        "\n",
        "data_inicial = input(\"Digite a data desejada em formato DD/MM/YYYY: \")\n",
        "formato_atual = \"%d/%m/%Y\"\n",
        "formato_desejado = \"%Y-%m-%d\"\n",
        "data_final = conversor_datas(data_inicial, formato_atual, formato_desejado)\n",
        "print(data_final)"
      ],
      "metadata": {
        "colab": {
          "base_uri": "https://localhost:8080/"
        },
        "id": "6tSbVg6KHEoE",
        "outputId": "c629a2ae-8401-41c1-d6fb-bfd31ec4f791"
      },
      "execution_count": null,
      "outputs": [
        {
          "output_type": "stream",
          "name": "stdout",
          "text": [
            "Digite a data desejada em formato DD/MM/YYYY: 15/05/2024\n",
            "2024-05-15\n"
          ]
        }
      ]
    },
    {
      "cell_type": "markdown",
      "source": [
        "**15** - Crie uma função que simule o lançamento de um dado (ou múltiplos dados) um número específico de vezes e exiba a frequência de cada face."
      ],
      "metadata": {
        "id": "eA2v4qNeQik4"
      }
    },
    {
      "cell_type": "code",
      "source": [
        "import random\n",
        "\n",
        "def lancamento_dado(numero_jogadas, numero_dados):\n",
        "  face_frequencia = {}\n",
        "  faces = 6\n",
        "  for face in range(1,7): #o dado tem 6 faces\n",
        "    face_frequencia[face] = 0\n",
        "\n",
        "  for i in range(numero_jogadas): #for para a quantidade de joagadas\n",
        "    for j in range(numero_dados): #for para a quantidade de dados lançados\n",
        "      face = random.randint(1, 6)\n",
        "      face_frequencia[face] += 1\n",
        "\n",
        "  for face, frequencia in face_frequencia.items():  #avalia cada face dentro do dicionário e acessa a frequencia de cada uma\n",
        "        print(f\"A face {face} foi sorteada {frequencia} vezes\")\n",
        "\n",
        "\n",
        "numero_jogadas = int(input(\"Digite o número de jogadas máximas por jogador: \"))\n",
        "numero_dados = int(input(\"Digite o número de dados para cada jogada: \"))\n",
        "lancamento_dado(numero_jogadas, numero_dados)"
      ],
      "metadata": {
        "colab": {
          "base_uri": "https://localhost:8080/"
        },
        "id": "FhgLiYjvQnUs",
        "outputId": "868b888d-8493-4043-b78b-de8ac57692a8"
      },
      "execution_count": null,
      "outputs": [
        {
          "output_type": "stream",
          "name": "stdout",
          "text": [
            "Digite o número de jogadas máximas por jogador: 3\n",
            "Digite o número de dados para cada jogada: 2\n",
            "A face 1: foi sorteada 1 vezes\n",
            "A face 2: foi sorteada 0 vezes\n",
            "A face 3: foi sorteada 2 vezes\n",
            "A face 4: foi sorteada 0 vezes\n",
            "A face 5: foi sorteada 3 vezes\n",
            "A face 6: foi sorteada 0 vezes\n"
          ]
        }
      ]
    }
  ]
}