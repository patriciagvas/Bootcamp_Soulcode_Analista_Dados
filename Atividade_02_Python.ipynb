{
  "nbformat": 4,
  "nbformat_minor": 0,
  "metadata": {
    "colab": {
      "provenance": [],
      "authorship_tag": "ABX9TyPbcet7mV/IUn9Q84kWUOt+"
    },
    "kernelspec": {
      "name": "python3",
      "display_name": "Python 3"
    },
    "language_info": {
      "name": "python"
    }
  },
  "cells": [
    {
      "cell_type": "markdown",
      "source": [
        "**1** - Crie uma função chamada `saudacao` que receba um nome como argumento e exiba uma mensagem de saudação no console."
      ],
      "metadata": {
        "id": "3snGHbFpEa8g"
      }
    },
    {
      "cell_type": "code",
      "execution_count": null,
      "metadata": {
        "colab": {
          "base_uri": "https://localhost:8080/"
        },
        "id": "S5jOuzw1EFw2",
        "outputId": "8851354d-9aff-40cb-903d-84b7975ca8b6"
      },
      "outputs": [
        {
          "output_type": "stream",
          "name": "stdout",
          "text": [
            "Digite o seu nome: Patrícia\n",
            "Olá Patrícia, bem-vindo!\n"
          ]
        }
      ],
      "source": [
        "def saudacao(nome):\n",
        "  print(f\"Olá {nome}, bem-vindo!\")\n",
        "\n",
        "nome = input(\"Digite o seu nome: \")\n",
        "saudacao(nome)"
      ]
    },
    {
      "cell_type": "markdown",
      "source": [
        "**2** - Crie uma função chamada `soma` que receba dois números como argumentos e retorne a soma deles"
      ],
      "metadata": {
        "id": "6x2bfdyBE8q-"
      }
    },
    {
      "cell_type": "code",
      "source": [
        "def soma(num1, num2):\n",
        "  resultado = num1 + num2\n",
        "  return resultado\n",
        "\n",
        "num1 = float(input(\"Digite o primeiro número: \"))\n",
        "num2 = float(input(\"Digite o segundo número: \"))\n",
        "soma(num1, num2)"
      ],
      "metadata": {
        "colab": {
          "base_uri": "https://localhost:8080/"
        },
        "id": "Mz-4GLWcFFSN",
        "outputId": "4f99d6d3-679d-49b9-e6e7-90938a45565d"
      },
      "execution_count": null,
      "outputs": [
        {
          "name": "stdout",
          "output_type": "stream",
          "text": [
            "Digite o primeiro número: 23\n",
            "Digite o segundo número: 25\n"
          ]
        },
        {
          "output_type": "execute_result",
          "data": {
            "text/plain": [
              "48.0"
            ]
          },
          "metadata": {},
          "execution_count": 4
        }
      ]
    },
    {
      "cell_type": "code",
      "source": [
        "#usando a função lambda\n",
        "\n",
        "soma = lambda num1, num2: num1 + num2\n",
        "\n",
        "num1 = float(input(\"Digite o primeiro número: \"))\n",
        "num2 = float(input(\"Digite o segundo número: \"))\n",
        "print(soma(num1,num2))\n"
      ],
      "metadata": {
        "colab": {
          "base_uri": "https://localhost:8080/"
        },
        "id": "nB1qS2rdF51w",
        "outputId": "00c21b05-ba67-4756-fceb-3ebd48c12711"
      },
      "execution_count": null,
      "outputs": [
        {
          "output_type": "stream",
          "name": "stdout",
          "text": [
            "Digite o primeiro número: 25\n",
            "Digite o segundo número: 26\n",
            "51.0\n"
          ]
        }
      ]
    },
    {
      "cell_type": "markdown",
      "source": [
        "**3** - Crie uma função chamada `subtracao` que receba dois números como argumentos e retorne a subtração do segundo número pelo primeiro."
      ],
      "metadata": {
        "id": "D10mYd46GfxQ"
      }
    },
    {
      "cell_type": "code",
      "source": [
        "def subtracao(num1, num2):\n",
        "  resultado = num1 - num2\n",
        "  return resultado\n",
        "\n",
        "num1 = float(input(\"Digite o primeiro número: \"))\n",
        "num2 = float(input(\"Digite o segundo número: \"))\n",
        "subtracao(num1, num2)"
      ],
      "metadata": {
        "colab": {
          "base_uri": "https://localhost:8080/"
        },
        "id": "91wv53M7GjMu",
        "outputId": "48b6f17b-c48c-412f-9bf0-ca15b3daf012"
      },
      "execution_count": null,
      "outputs": [
        {
          "name": "stdout",
          "output_type": "stream",
          "text": [
            "Digite o primeiro número: 26\n",
            "Digite o segundo número: 3\n"
          ]
        },
        {
          "output_type": "execute_result",
          "data": {
            "text/plain": [
              "23.0"
            ]
          },
          "metadata": {},
          "execution_count": 7
        }
      ]
    },
    {
      "cell_type": "code",
      "source": [
        "subtracao = lambda num1, num2: num1 + num2\n",
        "\n",
        "num1 = float(input(\"Digite o primeiro número: \"))\n",
        "num2 = float(input(\"Digite o segundo número: \"))\n",
        "print(subtracao(num1,num2))"
      ],
      "metadata": {
        "id": "koRFowWgGpxn"
      },
      "execution_count": null,
      "outputs": []
    },
    {
      "cell_type": "markdown",
      "source": [
        "**4** - Crie uma função chamada `multiplicacao` que receba dois números como argumentos e retorne a multiplicação deles"
      ],
      "metadata": {
        "id": "3LAp34CdGw0c"
      }
    },
    {
      "cell_type": "code",
      "source": [
        "def multiplicacao(num1, num2):\n",
        "  resultado = num1 * num2\n",
        "  return resultado\n",
        "\n",
        "num1 = float(input(\"Digite o primeiro número: \"))\n",
        "num2 = float(input(\"Digite o segundo número: \"))\n",
        "multiplicacao(num1, num2)"
      ],
      "metadata": {
        "colab": {
          "base_uri": "https://localhost:8080/"
        },
        "id": "xU81AFG6G0yg",
        "outputId": "ba0a5fab-6256-4c13-fe74-d3ea96d61238"
      },
      "execution_count": null,
      "outputs": [
        {
          "name": "stdout",
          "output_type": "stream",
          "text": [
            "Digite o primeiro número: 23\n",
            "Digite o segundo número: 5\n"
          ]
        },
        {
          "output_type": "execute_result",
          "data": {
            "text/plain": [
              "115.0"
            ]
          },
          "metadata": {},
          "execution_count": 9
        }
      ]
    },
    {
      "cell_type": "code",
      "source": [
        "multiplicacaocao = lambda num1, num2: num1 + num2\n",
        "\n",
        "num1 = float(input(\"Digite o primeiro número: \"))\n",
        "num2 = float(input(\"Digite o segundo número: \"))\n",
        "print(multiplicacao(num1,num2))"
      ],
      "metadata": {
        "id": "XcdJU15hHAkl"
      },
      "execution_count": null,
      "outputs": []
    },
    {
      "cell_type": "markdown",
      "source": [
        "**5** - Crie uma função chamada `divisao` que receba dois números como argumentos e retorne a divisão do primeiro pelo segundo."
      ],
      "metadata": {
        "id": "einDzN6vHG2V"
      }
    },
    {
      "cell_type": "code",
      "source": [
        "def divisao(num1, num2):\n",
        "  resultado = num1 / num2\n",
        "  return resultado\n",
        "\n",
        "num1 = float(input(\"Digite o primeiro número: \"))\n",
        "num2 = float(input(\"Digite o segundo número: \"))\n",
        "divisao(num1, num2)"
      ],
      "metadata": {
        "id": "jX47hnCYHLC9"
      },
      "execution_count": null,
      "outputs": []
    },
    {
      "cell_type": "code",
      "source": [
        "divisao = lambda num1, num2: num1 + num2\n",
        "\n",
        "num1 = float(input(\"Digite o primeiro número: \"))\n",
        "num2 = float(input(\"Digite o segundo número: \"))\n",
        "print(divisao(num1,num2))"
      ],
      "metadata": {
        "id": "Rhj5Evk0HTmF"
      },
      "execution_count": null,
      "outputs": []
    },
    {
      "cell_type": "markdown",
      "source": [
        "**6** -  Crie uma função chamada `fatorial` que receba um número como argumento e retorne o fatorial desse número."
      ],
      "metadata": {
        "id": "ex5Gc8wvHa9O"
      }
    },
    {
      "cell_type": "code",
      "source": [
        "#função recursiva (código da aula)\n",
        "def fatorial(n: int) -> int:\n",
        "  if n == 0:\n",
        "    return 1\n",
        "  else:\n",
        "    return n * fatorial(n-1)\n",
        "\n",
        "print(fatorial(3))"
      ],
      "metadata": {
        "colab": {
          "base_uri": "https://localhost:8080/"
        },
        "id": "2keoy5jIHf6O",
        "outputId": "582fcdda-f4f6-47b7-f7f1-40ef638eba30"
      },
      "execution_count": null,
      "outputs": [
        {
          "output_type": "stream",
          "name": "stdout",
          "text": [
            "6\n"
          ]
        }
      ]
    },
    {
      "cell_type": "code",
      "source": [
        "def fatorial(n):\n",
        "  if n == 0 or n==1:\n",
        "    return 1\n",
        "\n",
        "  else:\n",
        "    fat = 1 #número inicial do fatorial n*1...\n",
        "    for i in range(1, n+1): #n*1+n*2+n*3+n*4+n*5 SEMPRE LEMBRAR DE COLOCAR O FINAL DO INTERVALO +1, PORQUE ELE NÃO PEGA O NÚMERO FINAL\n",
        "      fat *= i\n",
        "    return fat\n",
        "\n",
        "print(fatorial(7))\n"
      ],
      "metadata": {
        "colab": {
          "base_uri": "https://localhost:8080/"
        },
        "id": "x4WUXA0uJP7g",
        "outputId": "15293e40-455c-4b4f-8b95-84df0d65690c"
      },
      "execution_count": null,
      "outputs": [
        {
          "output_type": "stream",
          "name": "stdout",
          "text": [
            "5040\n"
          ]
        }
      ]
    },
    {
      "cell_type": "markdown",
      "source": [
        "**7** - Crie uma função chamada `ePrimo` que receba um número como argumento e retorne `true` se o número for primo e `false` caso contrário."
      ],
      "metadata": {
        "id": "92fjPQinLVyN"
      }
    },
    {
      "cell_type": "code",
      "source": [
        "# um número primo só é divisível por 1 e ele mesmo, ou seja, tem 2 divisores.\n",
        "def ePrimo(numero):\n",
        "  cont = 0\n",
        "  for i in range(1, numero + 1):\n",
        "\n",
        "    if numero % i == 0:\n",
        "      cont+=1\n",
        "\n",
        "  if cont > 2:\n",
        "    return False\n",
        "  else:\n",
        "    return True\n",
        "\n",
        "numero = int(input(\"Digite o número: \"))\n",
        "print(ePrimo(numero))"
      ],
      "metadata": {
        "colab": {
          "base_uri": "https://localhost:8080/"
        },
        "id": "5sOmkP-WLX63",
        "outputId": "4c83ad11-cc32-4bd4-daa9-9ba2d19dd4da"
      },
      "execution_count": null,
      "outputs": [
        {
          "output_type": "stream",
          "name": "stdout",
          "text": [
            "Digite o número: 5\n",
            "True\n"
          ]
        }
      ]
    },
    {
      "cell_type": "markdown",
      "source": [
        "**8** - Crie uma função chamada `media` que receba um array de números como argumento e retorne a média dos números."
      ],
      "metadata": {
        "id": "QI18_wAMNHFW"
      }
    },
    {
      "cell_type": "code",
      "source": [
        "def media(array_numeros):\n",
        "  resultado_media = sum(array_numeros)/len(array_numeros)\n",
        "  return resultado_media\n",
        "\n",
        "array_numeros = [2, 25, 13, 55]\n",
        "media(array_numeros)\n"
      ],
      "metadata": {
        "colab": {
          "base_uri": "https://localhost:8080/"
        },
        "id": "ozuhYtOANNc9",
        "outputId": "008a16e5-aa78-41ad-9b21-87c58b6f3280"
      },
      "execution_count": null,
      "outputs": [
        {
          "output_type": "execute_result",
          "data": {
            "text/plain": [
              "23.75"
            ]
          },
          "metadata": {},
          "execution_count": 2
        }
      ]
    },
    {
      "cell_type": "markdown",
      "source": [
        "**9** - - Crie uma função chamada `inverterString` que receba uma string como argumento e retorne a string invertida."
      ],
      "metadata": {
        "id": "TniAg9rcObiN"
      }
    },
    {
      "cell_type": "code",
      "source": [
        "import re\n",
        "\n",
        "def inverterString(palavra):\n",
        "  palavra2 = re.sub(r'[^a-zA-Z]', '', palavra).lower()\n",
        "  palavra_invertida = palavra2[::-1]\n",
        "  return palavra_invertida\n",
        "\n",
        "inverterString(\"amora33\")"
      ],
      "metadata": {
        "colab": {
          "base_uri": "https://localhost:8080/",
          "height": 35
        },
        "id": "icrDTiChRZY0",
        "outputId": "7244dd09-f7d7-42a4-ac87-8618b497b434"
      },
      "execution_count": null,
      "outputs": [
        {
          "output_type": "execute_result",
          "data": {
            "text/plain": [
              "'aroma'"
            ],
            "application/vnd.google.colaboratory.intrinsic+json": {
              "type": "string"
            }
          },
          "metadata": {},
          "execution_count": 38
        }
      ]
    },
    {
      "cell_type": "markdown",
      "source": [
        "**10** - Crie uma função chamada `contarCaracteres` que receba uma string e um caractere como argumentos e retorne o número de vezes que o caractere aparece na string."
      ],
      "metadata": {
        "id": "3Uv-70sMSlcV"
      }
    },
    {
      "cell_type": "code",
      "source": [
        "import re\n",
        "\n",
        "def contarCaracteres(string, caractere):\n",
        "  s = re.sub(r'[^a-zA-Z0-9]','', string).lower().strip()\n",
        "  cont = 0\n",
        "  for i in s:\n",
        "    if i == caractere:\n",
        "      cont+=1\n",
        "    else:\n",
        "      cont+=0\n",
        "\n",
        "  return cont\n",
        "\n",
        "string = str(input(\"Digite o texto: \"))\n",
        "caractere = str(input(\"Digite o caractere: \"))\n",
        "contarCaracteres(string, caractere)"
      ],
      "metadata": {
        "colab": {
          "base_uri": "https://localhost:8080/"
        },
        "id": "GcOPwBzYSpq0",
        "outputId": "2bae4c23-7c9e-4d03-b15a-fb3b9660fc70"
      },
      "execution_count": null,
      "outputs": [
        {
          "name": "stdout",
          "output_type": "stream",
          "text": [
            "Digite o texto: O gato dormiu cedo e esperou pelo dono.\n",
            "Digite o caractere: O\n"
          ]
        },
        {
          "output_type": "execute_result",
          "data": {
            "text/plain": [
              "8"
            ]
          },
          "metadata": {},
          "execution_count": 40
        }
      ]
    },
    {
      "cell_type": "markdown",
      "source": [
        "**11** - Crie uma função anônima e atribua-a a uma variável chamada `multiplicar`. A função deve receber dois números como argumentos e retornar a multiplicação deles."
      ],
      "metadata": {
        "id": "YXId72xGUFwM"
      }
    },
    {
      "cell_type": "code",
      "source": [
        "multiplicacao = lambda a,b: a*b\n",
        "print(multiplicacao(9,3))"
      ],
      "metadata": {
        "colab": {
          "base_uri": "https://localhost:8080/"
        },
        "id": "AIe01p3FUMiE",
        "outputId": "05754d9a-6388-40cd-eb0e-80a59c3bfefa"
      },
      "execution_count": null,
      "outputs": [
        {
          "output_type": "stream",
          "name": "stdout",
          "text": [
            "27\n"
          ]
        }
      ]
    },
    {
      "cell_type": "markdown",
      "source": [
        "**12** - Crie uma função chamada `operacao` que receba dois números e uma função como argumentos. A função deve aplicar a função fornecida aos dois números e retornar o resultado."
      ],
      "metadata": {
        "id": "lDX22VA6UkNG"
      }
    },
    {
      "cell_type": "code",
      "source": [
        "def operacao(func, num1, num2):\n",
        "  return func(num1, num2)\n",
        "\n",
        "def potenciacao(num1, num2):\n",
        "  if num2>= 0:\n",
        "    return num1**num2\n",
        "  else:\n",
        "    print(\"Digite um número maior ou igual a zero.\")\n",
        "\n",
        "num1 = int(input(\"Digite o primeiro número: \"))\n",
        "num2 = int(input(\"Digite o segundo número: \"))\n",
        "\n",
        "resultado = operacao(potenciacao, num1, num2)\n",
        "print(resultado)\n"
      ],
      "metadata": {
        "colab": {
          "base_uri": "https://localhost:8080/"
        },
        "id": "Fq_cPNI8Ujtu",
        "outputId": "d92bebbf-83f5-425c-881d-eff03ef40c04"
      },
      "execution_count": null,
      "outputs": [
        {
          "output_type": "stream",
          "name": "stdout",
          "text": [
            "Digite o primeiro número: 2\n",
            "Digite o segundo número: 0\n",
            "1\n"
          ]
        }
      ]
    },
    {
      "cell_type": "markdown",
      "source": [
        "**13** - Crie uma função chamada `criarSaudacao` que receba uma saudação como argumento e retorne uma nova função. A função retornada deve receber um nome como argumento e exibir a saudação seguida pelo nome."
      ],
      "metadata": {
        "id": "x8L0XI5zdrhU"
      }
    },
    {
      "cell_type": "code",
      "source": [
        "def criarSaudacao (saudacao, func):\n",
        "  return saudacao + func(nome)\n",
        "\n",
        "def nomear(nome):\n",
        "  return nome\n",
        "\n",
        "saudacao = \"Seja bem - vindo,  \"\n",
        "nome = input(\"Digite o seu nome: \")\n",
        "\n",
        "criarSaudacao(saudacao, nomear )\n",
        "\n"
      ],
      "metadata": {
        "colab": {
          "base_uri": "https://localhost:8080/",
          "height": 53
        },
        "id": "w2Y4wZ7pdvbs",
        "outputId": "0b6ea9fc-d0f6-4c49-d1b1-2e1066ea72f8"
      },
      "execution_count": null,
      "outputs": [
        {
          "name": "stdout",
          "output_type": "stream",
          "text": [
            "Digite o seu nome: Patrícia\n"
          ]
        },
        {
          "output_type": "execute_result",
          "data": {
            "text/plain": [
              "'Seja bem - vindo,  Patrícia'"
            ],
            "application/vnd.google.colaboratory.intrinsic+json": {
              "type": "string"
            }
          },
          "metadata": {},
          "execution_count": 48
        }
      ]
    },
    {
      "cell_type": "markdown",
      "source": [
        "**14** - Crie uma função chamada `contagemRegressiva` que receba um número como argumento e exiba uma contagem regressiva a partir desse número até 0, usando recursão."
      ],
      "metadata": {
        "id": "xYAIKx0JgZq1"
      }
    },
    {
      "cell_type": "code",
      "source": [
        "def contagemRegressiva (n: int) -> int:\n",
        "  print(n) #tem que mostrar primeiro o número e depois fazer n-1\n",
        "  if n <= 0:\n",
        "    return\n",
        "  return contagemRegressiva(n-1)\n",
        "\n",
        "\n",
        "numero = int(input(\"Digite o número para contagem regressiva: \"))\n",
        "contagemRegressiva(numero)"
      ],
      "metadata": {
        "colab": {
          "base_uri": "https://localhost:8080/"
        },
        "id": "jkGJ3rIDgeIv",
        "outputId": "ec35187c-109c-42b4-c50b-68eaba95378f"
      },
      "execution_count": null,
      "outputs": [
        {
          "output_type": "stream",
          "name": "stdout",
          "text": [
            "Digite o número para contagem regressiva: 3\n",
            "3\n",
            "2\n",
            "1\n",
            "0\n"
          ]
        }
      ]
    },
    {
      "cell_type": "markdown",
      "source": [
        "**15** - Crie uma função chamada `fibonacci` que receba um número `n` como argumento e retorne o `n`-ésimo número da sequência de Fibonacci."
      ],
      "metadata": {
        "id": "sJZgsi8ekT5m"
      }
    },
    {
      "cell_type": "code",
      "source": [
        "def fibonacci(n):\n",
        "  if n == 0:\n",
        "    return 0\n",
        "  elif n == 1:\n",
        "    return 1\n",
        "  else:\n",
        "    return fibonacci(n-1) + fibonacci(n-2)\n",
        "\n",
        "print(fibonacci(10))"
      ],
      "metadata": {
        "colab": {
          "base_uri": "https://localhost:8080/"
        },
        "id": "CLYvKJvSkSZT",
        "outputId": "b218d6e6-512a-4a48-f266-ebec647f07a0"
      },
      "execution_count": null,
      "outputs": [
        {
          "output_type": "stream",
          "name": "stdout",
          "text": [
            "55\n"
          ]
        }
      ]
    },
    {
      "cell_type": "markdown",
      "source": [
        "**16** -  Crie uma função chamada `celsiusParaFahrenheit` que receba uma temperatura em Celsius e retorne a temperatura convertida para Fahrenheit."
      ],
      "metadata": {
        "id": "yEukhH8bmNgs"
      }
    },
    {
      "cell_type": "code",
      "source": [
        "def celsiusParaFahrenheit (temperatura):\n",
        "  temp_convertida = temperatura * (9/5) + 32\n",
        "  return temp_convertida\n",
        "\n",
        "temperatura = float(input(\"Digite a temperatura para conversão: \"))\n",
        "celsiusParaFahrenheit(temperatura)\n",
        "print(f\"A tempertura convertida é {celsiusParaFahrenheit(temperatura)}°F\")"
      ],
      "metadata": {
        "colab": {
          "base_uri": "https://localhost:8080/"
        },
        "id": "5VhdgCRUmPtj",
        "outputId": "394c85e3-ce89-4009-b799-857fbf7664af"
      },
      "execution_count": null,
      "outputs": [
        {
          "output_type": "stream",
          "name": "stdout",
          "text": [
            "Digite a temperatura para conversão: 32\n",
            "A tempertura convertida é 89.6°F\n"
          ]
        }
      ]
    },
    {
      "cell_type": "markdown",
      "source": [
        "**17** - Crie uma função chamada `fahrenheitParaCelsius` que receba uma temperatura em Fahrenheit e retorne a temperatura convertida para Celsius."
      ],
      "metadata": {
        "id": "46IydvesooDb"
      }
    },
    {
      "cell_type": "code",
      "source": [
        "def fahrenheitParaCelsius (temperatura):\n",
        "  temp_convertida = round((temperatura  - 32 * (5/9)),2)\n",
        "  return temp_convertida\n",
        "\n",
        "temperatura = float(input(\"Digite a temperatura para conversão: \"))\n",
        "celsiusParaFahrenheit(temperatura)\n",
        "print(f\"A tempertura convertida é {fahrenheitParaCelsius(temperatura)}°C\")"
      ],
      "metadata": {
        "colab": {
          "base_uri": "https://localhost:8080/"
        },
        "id": "mtSun-qbosZy",
        "outputId": "13b17e52-30d1-4a46-df32-7a4a650f4639"
      },
      "execution_count": null,
      "outputs": [
        {
          "output_type": "stream",
          "name": "stdout",
          "text": [
            "Digite a temperatura para conversão: 100\n",
            "A tempertura convertida é 82.22°C\n"
          ]
        }
      ]
    },
    {
      "cell_type": "markdown",
      "source": [
        "**18** - Crie uma função chamada `ePar` que receba um número como argumento e retorne `true` se o número for par e `false` caso contrário."
      ],
      "metadata": {
        "id": "lSkPXpzLpblF"
      }
    },
    {
      "cell_type": "code",
      "source": [
        "def ePar(numero):\n",
        "  if numero>0:\n",
        "    if numero % 2 == 0:\n",
        "      return True\n",
        "    else:\n",
        "      return False\n",
        "  else:\n",
        "    print(\"Digite um número válido.\")\n",
        "\n",
        "numero = int(input(\"Digite um número para verificação: \"))\n",
        "ePar(numero)"
      ],
      "metadata": {
        "colab": {
          "base_uri": "https://localhost:8080/"
        },
        "id": "vf4mlOQYpfjy",
        "outputId": "ff2bda2d-fe6c-41a3-9cb7-0558d90bb5ed"
      },
      "execution_count": null,
      "outputs": [
        {
          "name": "stdout",
          "output_type": "stream",
          "text": [
            "Digite um número para verificação: 1\n"
          ]
        },
        {
          "output_type": "execute_result",
          "data": {
            "text/plain": [
              "False"
            ]
          },
          "metadata": {},
          "execution_count": 69
        }
      ]
    },
    {
      "cell_type": "markdown",
      "source": [
        "**19** - Crie uma função chamada `quadrado` que receba um número como argumento e retorne o quadrado desse número"
      ],
      "metadata": {
        "id": "4ME1i7O0p-Xf"
      }
    },
    {
      "cell_type": "code",
      "source": [
        "def quadrado(numero):\n",
        "  return numero*numero\n",
        "\n",
        "numero = int(input(\"Digite um número: \"))\n",
        "quadrado(numero)"
      ],
      "metadata": {
        "colab": {
          "base_uri": "https://localhost:8080/"
        },
        "id": "8uGV6efHqBqD",
        "outputId": "5c5edac1-5da2-4b2e-bd11-89193ddb67ef"
      },
      "execution_count": null,
      "outputs": [
        {
          "name": "stdout",
          "output_type": "stream",
          "text": [
            "Digite um número: 2\n"
          ]
        },
        {
          "output_type": "execute_result",
          "data": {
            "text/plain": [
              "4"
            ]
          },
          "metadata": {},
          "execution_count": 70
        }
      ]
    },
    {
      "cell_type": "markdown",
      "source": [
        "**20** - Crie uma função chamada `raizQuadrada` que receba um número como argumento e retorne a raiz quadrada desse número"
      ],
      "metadata": {
        "id": "_e7CtrALqXVP"
      }
    },
    {
      "cell_type": "code",
      "source": [
        "import math\n",
        "\n",
        "def raizQuadrada(numero):\n",
        "  if numero < 0:\n",
        "    print(\"Digite um número válido\")\n",
        "  else:\n",
        "    resultado = math.sqrt(numero)\n",
        "    return resultado\n",
        "\n",
        "numero = int(input(\"Digite um número: \"))\n",
        "raizQuadrada(numero)"
      ],
      "metadata": {
        "colab": {
          "base_uri": "https://localhost:8080/"
        },
        "id": "RjBuxEQ6qaj0",
        "outputId": "6ddccff8-88eb-4910-c1ff-c45a3f3ab534"
      },
      "execution_count": null,
      "outputs": [
        {
          "name": "stdout",
          "output_type": "stream",
          "text": [
            "Digite um número: 16\n"
          ]
        },
        {
          "output_type": "execute_result",
          "data": {
            "text/plain": [
              "4.0"
            ]
          },
          "metadata": {},
          "execution_count": 72
        }
      ]
    },
    {
      "cell_type": "markdown",
      "source": [
        "**21** -  Crie uma função chamada `contarVogais` que receba uma string como argumento e retorne o número de vogais na string."
      ],
      "metadata": {
        "id": "8KzbsCoOrO3c"
      }
    },
    {
      "cell_type": "code",
      "source": [
        "import re\n",
        "\n",
        "def contarVogais(string):\n",
        "   s = re.sub(r'[^a-zA-Z0-9]','', frase)\n",
        "   lista_vogais = [\"a\", \"e\", \"i\", \"o\", \"u\"]\n",
        "   cont_vogais = 0\n",
        "\n",
        "   for caractere in s:\n",
        "    for i in lista_vogais:\n",
        "      if caractere in lista_vogais:\n",
        "        cont_vogais +=1\n",
        "      else:\n",
        "        cont_vogais +=0\n",
        "\n",
        "    return cont_vogais\n",
        "\n",
        "frase = str(input(\"Digite uma frase: \")).lower().strip()\n",
        "resultado = contarVogais(frase)\n",
        "print(resultado)"
      ],
      "metadata": {
        "id": "3O4ndsJErQgU",
        "colab": {
          "base_uri": "https://localhost:8080/"
        },
        "outputId": "01ea33b8-5dbd-4cf8-ac34-077e048f3e0f"
      },
      "execution_count": null,
      "outputs": [
        {
          "output_type": "stream",
          "name": "stdout",
          "text": [
            "Digite uma frase: o $ gato dorme\n",
            "5\n"
          ]
        }
      ]
    },
    {
      "cell_type": "code",
      "source": [
        "#usando um dicionário para armarzenar o número de cada vogal na string\n",
        "\n",
        "import re\n",
        "\n",
        "def contarVogais(string):\n",
        "  s = re.sub(r'[^a-zA-Z0-9]','', frase)\n",
        "  contador = {\n",
        "      'a': 0,\n",
        "      'e': 0,\n",
        "      'i': 0,\n",
        "      'o': 0,\n",
        "      'u': 0}\n",
        "\n",
        "  for caractere in s:\n",
        "    if caractere in contador:\n",
        "      contador[caractere] +=1\n",
        "\n",
        "  total_de_vogais = sum(contador.values()) #soma o total de vogais no dicionário\n",
        "  print(f\"O total de vogais na frase é de {total_de_vogais}\")\n",
        "  for caractere, frequencia in contador.items(): #intera sobre cada chave e seu valor no dicionário para printar o resultado de cada uma\n",
        "    print(f\"A vogal {caractere} aparece {frequencia} vezes na frase\")\n",
        "\n",
        "  return contador\n",
        "\n",
        "\n",
        "frase = str(input(\"Digite uma frase: \")).lower()\n",
        "resultado = contarVogais(frase)"
      ],
      "metadata": {
        "colab": {
          "base_uri": "https://localhost:8080/"
        },
        "id": "ZU-qmldan94c",
        "outputId": "8b1016df-cc40-47ab-e726-57ef8ab9be5e"
      },
      "execution_count": null,
      "outputs": [
        {
          "output_type": "stream",
          "name": "stdout",
          "text": [
            "Digite uma frase: o gato dorme\n",
            "O total de vogais na frase é de 5\n",
            "A vogal a aparece 1 vezes na frase\n",
            "A vogal e aparece 1 vezes na frase\n",
            "A vogal i aparece 0 vezes na frase\n",
            "A vogal o aparece 3 vezes na frase\n",
            "A vogal u aparece 0 vezes na frase\n",
            "{'a': 1, 'e': 1, 'i': 0, 'o': 3, 'u': 0}\n"
          ]
        }
      ]
    },
    {
      "cell_type": "markdown",
      "source": [
        "**22** - Crie uma função chamada `ePalindromo` que receba uma string como argumento e retorne `true` se a string for um palíndromo e `false` caso contrário."
      ],
      "metadata": {
        "id": "f62hWyTDrQ5U"
      }
    },
    {
      "cell_type": "code",
      "source": [
        "import re\n",
        "def ePalindromo (string):\n",
        "  palavra = re.sub(r'[^a-zA-Z0-9]', '', string)\n",
        "  palavra_invertida = palavra[::-1]\n",
        "  if palavra_invertida == palavra:\n",
        "    return True\n",
        "  else:\n",
        "    return False\n",
        "\n",
        "string = str(input(\"Digite a palavra para verificar: \")).lower()\n",
        "ePalindromo(string)"
      ],
      "metadata": {
        "colab": {
          "base_uri": "https://localhost:8080/"
        },
        "id": "bDAvHkQ8rVLi",
        "outputId": "9cdd1694-9555-4556-abcf-296886b1f3df"
      },
      "execution_count": null,
      "outputs": [
        {
          "name": "stdout",
          "output_type": "stream",
          "text": [
            "Digite a palavra para verificar: roma\n"
          ]
        },
        {
          "output_type": "execute_result",
          "data": {
            "text/plain": [
              "False"
            ]
          },
          "metadata": {},
          "execution_count": 75
        }
      ]
    },
    {
      "cell_type": "markdown",
      "source": [
        "**23** - Crie uma função chamada `maiorNumero` que receba um array de números como argumento e retorne o maior número do array."
      ],
      "metadata": {
        "id": "fDkMDPDar5jO"
      }
    },
    {
      "cell_type": "code",
      "source": [
        "import math\n",
        "\n",
        "def maiorNumero (lista):\n",
        "  maximo = max(lista)\n",
        "  return maximo\n",
        "\n",
        "lista_numeros = [1,22,5,2,6]\n",
        "maiorNumero(lista_numeros)"
      ],
      "metadata": {
        "colab": {
          "base_uri": "https://localhost:8080/"
        },
        "id": "a8ztj5QAr9iL",
        "outputId": "124219d4-75d0-49c6-99e1-29a99131903a"
      },
      "execution_count": null,
      "outputs": [
        {
          "output_type": "execute_result",
          "data": {
            "text/plain": [
              "22"
            ]
          },
          "metadata": {},
          "execution_count": 76
        }
      ]
    },
    {
      "cell_type": "markdown",
      "source": [
        "**24** - Crie uma função chamada `ordenarArray` que receba um array de números como argumento e retorne o array ordenado em ordem crescente"
      ],
      "metadata": {
        "id": "zBb6Mz5sw3v7"
      }
    },
    {
      "cell_type": "code",
      "source": [
        "def ordenarArray(lista):\n",
        "  lista_ordenada = sorted(lista)\n",
        "  return lista_ordenada\n",
        "\n",
        "minha_lista = [2,1,25,8,18,3]\n",
        "ordenarArray(minha_lista)"
      ],
      "metadata": {
        "colab": {
          "base_uri": "https://localhost:8080/"
        },
        "id": "kQ0OrM9b0ApI",
        "outputId": "9cda0fcd-4884-42a0-9736-a49fc855fb71"
      },
      "execution_count": null,
      "outputs": [
        {
          "output_type": "execute_result",
          "data": {
            "text/plain": [
              "[1, 2, 3, 8, 18, 25]"
            ]
          },
          "metadata": {},
          "execution_count": 25
        }
      ]
    },
    {
      "cell_type": "markdown",
      "source": [
        "**25** -  Crie uma função chamada `filtrarPares` que receba um array de números como argumento e retorne um novo array contendo apenas os números pares"
      ],
      "metadata": {
        "id": "4YPzD6Pf0dXR"
      }
    },
    {
      "cell_type": "code",
      "source": [
        "def filtrarPares(lista):\n",
        "  lista_pares = []\n",
        "  for i in lista:\n",
        "    if i%2 ==0:\n",
        "      lista_pares.append(i)\n",
        "\n",
        "  return lista_pares\n",
        "\n",
        "minha_lista = [2,1,25,8,18,3]\n",
        "filtrarPares(minha_lista)"
      ],
      "metadata": {
        "colab": {
          "base_uri": "https://localhost:8080/"
        },
        "id": "Y2raa7Bp0kaR",
        "outputId": "f05fdb41-44f9-4836-e2d9-387f0d4b2f6f"
      },
      "execution_count": null,
      "outputs": [
        {
          "output_type": "execute_result",
          "data": {
            "text/plain": [
              "[2, 8, 18]"
            ]
          },
          "metadata": {},
          "execution_count": 26
        }
      ]
    },
    {
      "cell_type": "markdown",
      "source": [
        "**26** - Crie uma função chamada `concatenarArrays` que receba dois arrays como argumentos e retorne um novo array que seja a concatenação dos dois arrays."
      ],
      "metadata": {
        "id": "KmEY1N6I1IYN"
      }
    },
    {
      "cell_type": "code",
      "source": [
        "def concatenarArrays(lista1, lista2):\n",
        "  nova_lista = lista1 + lista2\n",
        "  return nova_lista\n",
        "\n",
        "lista1 = [2,3,9,5]\n",
        "lista2 = [1,15,23,8]\n",
        "concatenarArrays(lista1, lista2)"
      ],
      "metadata": {
        "colab": {
          "base_uri": "https://localhost:8080/"
        },
        "id": "Qji2ad7c1M7d",
        "outputId": "607d59d9-e20b-4d56-9774-6685237bfd29"
      },
      "execution_count": null,
      "outputs": [
        {
          "output_type": "execute_result",
          "data": {
            "text/plain": [
              "[2, 3, 9, 5, 1, 15, 23, 8]"
            ]
          },
          "metadata": {},
          "execution_count": 27
        }
      ]
    },
    {
      "cell_type": "markdown",
      "source": [
        "**27** - Crie uma função chamada `memoFatorial` que usa memoização para otimizar o cálculo do fatorial."
      ],
      "metadata": {
        "id": "jgW2qQ6O1lxC"
      }
    },
    {
      "cell_type": "markdown",
      "source": [
        "Outra técnica para otimizar o cálculo do fatorial em Python é utilizar a memoização. A memoização é uma técnica que consiste em armazenar os resultados intermediários de uma função para evitar recalcular os mesmos valores repetidamente. Vamos ver como podemos aplicar essa técnica ao cálculo do fatorial:\n",
        "\n",
        "1- Crie um dicionário para armazenar os resultados intermediários.\n",
        "2 - Antes de calcular o fatorial de um número, verifique se ele já foi calculado anteriormente.\n",
        "3- Se o resultado já estiver no dicionário, retorne-o. Caso contrário, faça o cálculo normalmente e armazene o resultado no dicionário."
      ],
      "metadata": {
        "id": "dBKsfQSl_irg"
      }
    },
    {
      "cell_type": "code",
      "source": [
        "def memoFatorial(n):\n",
        "  resultados = {} #passo 1 dicionário para adicionar os resultados\n",
        "\n",
        "  def fatorial(n): #função recursiva para calcular o fatorial\n",
        "    if n in resultados: # passo 2\n",
        "      return resultados[n] #passo 3\n",
        "    if n == 0 or n == 1:\n",
        "      return 1\n",
        "    if n not in resultados: #continuação do passo 3\n",
        "      fat= n * fatorial(n-1)\n",
        "      resultados[n] = fat\n",
        "      return resultados[n]\n",
        "  return fatorial\n",
        "\n",
        "n = int(input(\"Digite um número: \"))\n",
        "resultado = memoFatorial(n)\n",
        "print(f\"O fatorial de {n} é {fatorial(n)}\")\n"
      ],
      "metadata": {
        "colab": {
          "base_uri": "https://localhost:8080/"
        },
        "id": "EYKDf7PY1qfy",
        "outputId": "00c91aed-ce78-4869-917a-f0963e259651"
      },
      "execution_count": null,
      "outputs": [
        {
          "output_type": "stream",
          "name": "stdout",
          "text": [
            "Digite um número: 3\n",
            "O fatorial de 3 é 6\n"
          ]
        }
      ]
    },
    {
      "cell_type": "markdown",
      "source": [
        "**28** - Crie uma função chamada `contemSubstring` que receba duas strings como argumentos e retorne `true` se a primeira string contiver a segunda string, e `false` caso contrário."
      ],
      "metadata": {
        "id": "kR2OJ-U47CMz"
      }
    },
    {
      "cell_type": "code",
      "source": [
        "import re\n",
        "\n",
        "def contemSubstring(string1, string2):\n",
        "  s1 = re.sub(r'[^a-zA-Z0-9]', '', string1).lower()\n",
        "  s2 = re.sub(r'[^a-zA-Z0-9]', '', string2).lower()\n",
        "  if s2 in s1:\n",
        "    return True\n",
        "  else:\n",
        "    return False\n",
        "\n",
        "texto1 = str(input(\"Digite um texto: \"))\n",
        "texto2 = str(input(\"Digite a palavra que o texto deve conter: \"))\n",
        "contemSubstring(texto1, texto2)\n"
      ],
      "metadata": {
        "colab": {
          "base_uri": "https://localhost:8080/"
        },
        "id": "GMVjqfpv7Ea1",
        "outputId": "78158917-a9ea-442b-85cf-e651077dea90"
      },
      "execution_count": null,
      "outputs": [
        {
          "name": "stdout",
          "output_type": "stream",
          "text": [
            "Digite um texto: o gato dorme\n",
            "Digite a palavra que o texto deve conter: cachorro\n"
          ]
        },
        {
          "output_type": "execute_result",
          "data": {
            "text/plain": [
              "False"
            ]
          },
          "metadata": {},
          "execution_count": 50
        }
      ]
    },
    {
      "cell_type": "markdown",
      "source": [
        "**29** -  Crie uma função chamada `currySoma` que usa currying para somar três números. A função deve ser chamada assim: `currySoma(a)(b)(c)`."
      ],
      "metadata": {
        "id": "LChsuGeSCdtH"
      }
    },
    {
      "cell_type": "code",
      "source": [
        "def curry_soma(a):\n",
        "    def soma_b(b):\n",
        "        def soma_c(c):\n",
        "            soma = a + b + c\n",
        "            return soma\n",
        "        return soma_c\n",
        "    return soma_b\n",
        "\n",
        "a = int(input(\"Digite o primeiro número: \"))\n",
        "b = int(input(\"Digite o segundo número: \"))\n",
        "c = int(input(\"Digite o terceiro número: \"))\n",
        "resultado = curry_soma(a)(b)(c)\n",
        "print(resultado)"
      ],
      "metadata": {
        "colab": {
          "base_uri": "https://localhost:8080/"
        },
        "id": "zfMmjKoEF2Ny",
        "outputId": "d03dd477-12a8-4c41-8b0d-fcd118d64e80"
      },
      "execution_count": null,
      "outputs": [
        {
          "output_type": "stream",
          "name": "stdout",
          "text": [
            "Digite o primeiro número: 3\n",
            "Digite o segundo número: 6\n",
            "Digite o terceiro número: 9\n",
            "18\n"
          ]
        }
      ]
    },
    {
      "cell_type": "markdown",
      "source": [
        "**30** - Crie uma função chamada `reduzirArray` que receba um array de números e uma função de redução (callback) como argumentos e retorne o valor reduzido."
      ],
      "metadata": {
        "id": "gvnHxmNdINqJ"
      }
    },
    {
      "cell_type": "code",
      "source": [
        "def reduzirArray(lista, callback):\n",
        "  resultado = [callback(valor) for valor in lista]\n",
        "  return resultado\n",
        "\n",
        "def soma(x:int) -> int:\n",
        "  return x + x\n",
        "\n",
        "lista_numeros = [2,5,9,1,4]\n",
        "resposta = reduzirArray(lista_numeros, soma)\n",
        "print(resposta)\n"
      ],
      "metadata": {
        "colab": {
          "base_uri": "https://localhost:8080/"
        },
        "id": "Et6KTxl7UHm-",
        "outputId": "7126a070-8b05-46ca-fd7b-e519f4307b29"
      },
      "execution_count": null,
      "outputs": [
        {
          "output_type": "stream",
          "name": "stdout",
          "text": [
            "[4, 10, 18, 2, 8]\n"
          ]
        }
      ]
    },
    {
      "cell_type": "markdown",
      "source": [
        "**31** - Crie uma função chamada `removerDuplicatas` que receba um array como argumento e retorne um novo array sem duplicatas."
      ],
      "metadata": {
        "id": "O0IWmQ2vNalN"
      }
    },
    {
      "cell_type": "code",
      "source": [
        "def removerDuplicatas(lista):\n",
        "  lista_unicos = []\n",
        "  nova_lista = []\n",
        "  for i in lista:\n",
        "    if i not in lista_unicos:\n",
        "      lista_unicos.append(i)\n",
        "      nova_lista.append(i)\n",
        "  return nova_lista\n",
        "\n",
        "lista_numeros = [1,1,2,3,3]\n",
        "lista_semduplicata = removerDuplicatas(lista_numeros)\n",
        "print(lista_semduplicata)"
      ],
      "metadata": {
        "colab": {
          "base_uri": "https://localhost:8080/"
        },
        "id": "bboaAPviN7HC",
        "outputId": "8db05275-53bd-413e-be2f-947d37893c4e"
      },
      "execution_count": null,
      "outputs": [
        {
          "output_type": "stream",
          "name": "stdout",
          "text": [
            "[1, 2, 3]\n"
          ]
        }
      ]
    },
    {
      "cell_type": "markdown",
      "source": [
        "**32** - Crie uma função chamada `compor` que receba duas funções como argumentos e retorne uma nova função que é a composição das duas."
      ],
      "metadata": {
        "id": "Nsg4jOqcNewP"
      }
    },
    {
      "cell_type": "code",
      "source": [
        "def multiplicar(x:int, y: int) -> int:\n",
        "  return x * y\n",
        "\n",
        "def somar(x:int, y: int) -> int:\n",
        "  return x + y\n",
        "\n",
        "def compor(func1, func2):\n",
        "  return lambda x, y: func1((func2(x,y)), func2(x,y)) #vai primeiro em somar q vai dar (x=8,y=8) depois vai em multiplicar e faz 8*8\n",
        "\n",
        "nova_funcao = compor(multiplicar, somar)\n",
        "x = int(input(\"Digite o primeiro número: \"))\n",
        "y = int(input(\"Digite o segundo número: \"))\n",
        "resultado = nova_funcao(x,y)\n",
        "print(multiplicar(x,y))\n",
        "print(somar(x,y))\n",
        "print(resultado)"
      ],
      "metadata": {
        "colab": {
          "base_uri": "https://localhost:8080/"
        },
        "id": "QgTMgo_NQcT9",
        "outputId": "7d24c43c-f52f-4c2a-cf1c-2e11d8dba2cb"
      },
      "execution_count": null,
      "outputs": [
        {
          "output_type": "stream",
          "name": "stdout",
          "text": [
            "Digite o primeiro número: 3\n",
            "Digite o segundo número: 5\n",
            "15\n",
            "8\n",
            "64\n"
          ]
        }
      ]
    },
    {
      "cell_type": "markdown",
      "source": [
        "**33** - Crie uma função chamada `mapearArray` que receba um array e uma função de mapeamento (callback) como argumentos e retorne um novo array com os resultados da função de mapeamento aplicada a cada elemento."
      ],
      "metadata": {
        "id": "vZrrk_sWNj7d"
      }
    },
    {
      "cell_type": "code",
      "source": [
        "def mapearArray(lista, callback):\n",
        "  nova_lista = []\n",
        "  for i in lista:\n",
        "    resultado = callback(i)\n",
        "    nova_lista.append(resultado)\n",
        "  return nova_lista\n",
        "\n",
        "def triplo(i:int) -> int:\n",
        "  return i ** 3\n",
        "\n",
        "lista_numeros = [2,5,9,1,4]\n",
        "resposta = mapearArray(lista_numeros, triplo)\n",
        "print(resposta)\n"
      ],
      "metadata": {
        "colab": {
          "base_uri": "https://localhost:8080/"
        },
        "id": "kJfCZEw7TkKb",
        "outputId": "44ead7de-4693-4b79-80a7-2687852d23b7"
      },
      "execution_count": null,
      "outputs": [
        {
          "output_type": "stream",
          "name": "stdout",
          "text": [
            "[8, 125, 729, 1, 64]\n"
          ]
        }
      ]
    },
    {
      "cell_type": "markdown",
      "source": [
        "**34** - Crie uma função chamada `ordenarPersonalizado` que receba um array de objetos e uma função de comparação (callback) como argumentos e retorne o array ordenado."
      ],
      "metadata": {
        "id": "eUqwZPE5NobH"
      }
    },
    {
      "cell_type": "code",
      "source": [
        "def ordenarPersonalizado(array, callback):\n",
        "  return sorted(array, key=callback)\n",
        "\n",
        "def ordenar_temperatura(cidade):\n",
        "  return cidade[\"temperatura\"]\n",
        "\n",
        "cidades_temperatura =[{ \"nome\" : \"Curitiba\", \"temperatura\": 25},  {\"nome\" : \"Vitória\", \"temperatura\": 31},  {\"nome\" : \"Salvador\", \"temperatura\": 27}]\n",
        "\n",
        "array_ordenado= ordenarPersonalizado(cidades_temperatura, ordenar_temperatura)\n",
        "print(array_ordenado)"
      ],
      "metadata": {
        "colab": {
          "base_uri": "https://localhost:8080/"
        },
        "id": "qNofhUULclmd",
        "outputId": "0d8a0de8-862d-42ac-e8b0-1c125fd2ec06"
      },
      "execution_count": null,
      "outputs": [
        {
          "output_type": "stream",
          "name": "stdout",
          "text": [
            "[{'nome': 'Curitiba', 'temperatura': 25}, {'nome': 'Salvador', 'temperatura': 27}, {'nome': 'Vitória', 'temperatura': 31}]\n"
          ]
        }
      ]
    },
    {
      "cell_type": "code",
      "source": [
        "def ordenarPersonalizado(lista, callback, mensagem):\n",
        "  return callback (lista, mensagem)\n",
        "\n",
        "def ordenar(lista, mensagem):\n",
        "  if mensagem == \"0\":\n",
        "    return sorted(lista)\n",
        "  elif mensagem == \"1\":\n",
        "    return sorted(lista, reverse = True)\n",
        "  else:\n",
        "    print(\"Não foi possível ordenar a lista.\")\n",
        "\n",
        "lista_numeros = [2,5,9,1,4]\n",
        "mensagem = (input(\"Deseja ordenar a lista em ordem crescente(0) ou decrescente(1):\"))\n",
        "lista_ordenada = ordenarPersonalizado(lista_numeros, ordenar, mensagem)\n",
        "print(lista_ordenada)"
      ],
      "metadata": {
        "colab": {
          "base_uri": "https://localhost:8080/"
        },
        "id": "7xz3jSN5Nrlt",
        "outputId": "c52591de-eab1-44be-fe54-6032e8713482"
      },
      "execution_count": null,
      "outputs": [
        {
          "output_type": "stream",
          "name": "stdout",
          "text": [
            "Deseja ordenar a lista em ordem crescente(0) ou decrescente(1):1\n",
            "[9, 5, 4, 2, 1]\n"
          ]
        }
      ]
    }
  ]
}