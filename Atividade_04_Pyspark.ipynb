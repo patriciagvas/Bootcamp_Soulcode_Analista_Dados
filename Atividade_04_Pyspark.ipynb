{
  "nbformat": 4,
  "nbformat_minor": 0,
  "metadata": {
    "colab": {
      "provenance": [],
      "mount_file_id": "16TmARz3c6YrIu-CgqfU9xlfOe7o_yGh5",
      "authorship_tag": "ABX9TyPcNHpTa5yORSjbWbLEjpoa"
    },
    "kernelspec": {
      "name": "python3",
      "display_name": "Python 3"
    },
    "language_info": {
      "name": "python"
    }
  },
  "cells": [
    {
      "cell_type": "markdown",
      "source": [
        "**Iniciando os requisitos**"
      ],
      "metadata": {
        "id": "31fdZb-mvScL"
      }
    },
    {
      "cell_type": "code",
      "source": [
        "# Importação da biblioteca pandas\n",
        "import pandas as pd"
      ],
      "metadata": {
        "id": "FB_3PzRoBpAm"
      },
      "execution_count": null,
      "outputs": []
    },
    {
      "cell_type": "code",
      "execution_count": null,
      "metadata": {
        "id": "-XVoHP-TvOyl"
      },
      "outputs": [],
      "source": [
        "# Instalação dos requisitos para o PySpark\n",
        "!apt-get install openjdk-8-jdk-headless -qq > /dev/null\n",
        "!wget -q http://archive.apache.org/dist/spark/spark-3.1.1/spark-3.1.1-bin-hadoop3.2.tgz\n",
        "!tar xf spark-3.1.1-bin-hadoop3.2.tgz\n",
        "!pip install -q findspark"
      ]
    },
    {
      "cell_type": "code",
      "source": [
        "# Configurar as variáveis de ambiente\n",
        "import os\n",
        "os.environ[\"JAVA_HOME\"] = \"/usr/lib/jvm/java-8-openjdk-amd64\"\n",
        "os.environ[\"SPARK_HOME\"] = \"/content/spark-3.1.1-bin-hadoop3.2\"\n",
        "# Torna o pyspark \"importável\"\n",
        "import findspark\n",
        "findspark.init()"
      ],
      "metadata": {
        "id": "IERijB04vkcy"
      },
      "execution_count": null,
      "outputs": []
    },
    {
      "cell_type": "code",
      "source": [
        "# iniciar uma sessão local\n",
        "from pyspark.sql import SparkSession\n",
        "spark = SparkSession.builder.appName(\"Introducao\").getOrCreate()"
      ],
      "metadata": {
        "id": "kSY04D0jvk9C"
      },
      "execution_count": null,
      "outputs": []
    },
    {
      "cell_type": "code",
      "source": [
        "# Verifica o SparkContext\n",
        "print(spark)\n",
        "\n",
        "# Exibe a Spark version\n",
        "print(spark.version)"
      ],
      "metadata": {
        "colab": {
          "base_uri": "https://localhost:8080/"
        },
        "id": "EJcgk3ysvm9C",
        "outputId": "84182abc-59c6-4fb0-92a5-b7e472a809ee"
      },
      "execution_count": null,
      "outputs": [
        {
          "output_type": "stream",
          "name": "stdout",
          "text": [
            "<pyspark.sql.session.SparkSession object at 0x7ad036a84af0>\n",
            "3.1.1\n"
          ]
        }
      ]
    },
    {
      "cell_type": "code",
      "source": [
        "# Definir quais funcões sql pyspark vamos importar\n",
        "from pyspark.sql.functions import round, lit, col, collect_list, when, count, sum, max, min, avg, to_date, date_format, year, current_date, initcap, trim, isnull, mean, stddev\n",
        "from pyspark.sql import functions as F\n",
        "from IPython.display import display\n",
        "\n",
        "#Carregando um arquivo CSV em um DataFrame\n",
        "df = spark.read.csv(\"/content/drive/MyDrive/Colab Notebooks/Datasets/base_suja - Planilha1.csv\", header=True, inferSchema=True)\n",
        "\n",
        "# Mostrar as primeiras linhas do DataFrame\n",
        "#df.show()\n",
        "\n",
        "#Tratamento dos dados\n",
        "#df = df.dropna()\n",
        "\n",
        "#Verificar tipo de dados em cada coluna\n",
        "df.printSchema()\n",
        "\n",
        "#Arrumar formatação da data\n",
        "df = df.fillna({\n",
        "    \"Data de Contratação\": \"20/01/2020\"\n",
        "})\n",
        "df = df.withColumn(\n",
        "    \"Data Contratação\",\n",
        "    when(to_date(col(\"Data de Contratação\"), \"dd/MM/yyyy\").isNotNull(), to_date(col(\"Data de Contratação\"), \"dd/MM/yyyy\"))\n",
        "    .when(to_date(col(\"Data de Contratação\"), \"dd-MM-yyyy\").isNotNull(), to_date(col(\"Data de Contratação\"), \"dd-MM-yyyy\"))\n",
        "    .when(to_date(col(\"Data de Contratação\"), \"dd.MM.yyyy\").isNotNull(), to_date(col(\"Data de Contratação\"), \"dd.MM.yyyy\"))\n",
        "    .when(to_date(col(\"Data de Contratação\"), \"yyyy/MM/dd\").isNotNull(), to_date(col(\"Data de Contratação\"), \"yyyy/MM/dd\"))\n",
        "    .otherwise(None)\n",
        ")\n",
        "\n",
        "#Conversão final das datas para o formato dd/mm/yyyy\n",
        "\n",
        "df = df.withColumn(\"Data_Formatada\", date_format(col(\"Data Contratação\"), \"dd/MM/yyyy\"))\n",
        "\n",
        "#Extrair o ano de cada contratação\n",
        "df= df.withColumn(\"Ano de Contratação\", year(col(\"Data Contratação\")))\n",
        "\n",
        "#Total de anos trabalhados\n",
        "#df_ano= df.withColumn(\"Total de Anos Trabalhados\", year(current_date()) - year(col(\"Data Contratação\")))\n",
        "\n",
        "#Correção de finaceiro para financeiro\n",
        "\n",
        "df = df.withColumn(\n",
        "    \"Área\",\n",
        "    when(col(\"Área\") == \"Finaceiro\", \"Financeiro\")\n",
        "    .otherwise(col(\"Área\"))\n",
        ")\n",
        "\n",
        "df.show()\n"
      ],
      "metadata": {
        "colab": {
          "base_uri": "https://localhost:8080/"
        },
        "id": "l-hRJ2nqvo1J",
        "outputId": "0894c2fe-718e-440c-97d6-efa36b9bd149"
      },
      "execution_count": null,
      "outputs": [
        {
          "output_type": "stream",
          "name": "stdout",
          "text": [
            "root\n",
            " |-- ID: integer (nullable = true)\n",
            " |-- Nome: string (nullable = true)\n",
            " |-- Idade: integer (nullable = true)\n",
            " |-- Área: string (nullable = true)\n",
            " |-- Salário: string (nullable = true)\n",
            " |-- Data de Contratação: string (nullable = true)\n",
            " |-- Status de Emprego: string (nullable = true)\n",
            "\n",
            "+---+--------------+-----+----------+-------+-------------------+-----------------+----------------+--------------+------------------+\n",
            "| ID|          Nome|Idade|      Área|Salário|Data de Contratação|Status de Emprego|Data Contratação|Data_Formatada|Ano de Contratação|\n",
            "+---+--------------+-----+----------+-------+-------------------+-----------------+----------------+--------------+------------------+\n",
            "|  1|    João Silva|   29|Financeiro|   5500|         01/02/2020|            Ativo|      2020-02-01|    01/02/2020|              2020|\n",
            "|  2|   Maria Souza|   30|        RH|   4800|         15-03-2019|            ativo|      2019-03-15|    15/03/2019|              2019|\n",
            "|  3|Carlos Pereira| null|Financeiro|   6200|         2020/04/01|            Ativo|      2020-04-01|    01/04/2020|              2020|\n",
            "|  4|     Ana Clara|   27| Marketing|   4800|         12/06/2018|            Ativo|      2018-06-12|    12/06/2018|              2018|\n",
            "|  5|  Fabio Santos|   31|      null|   5500|         20-11-2017|            ativo|      2017-11-20|    20/11/2017|              2017|\n",
            "|  6|   Sandra Lima|   28|        RH|   null|         05-05-2020|            Ativo|      2020-05-05|    05/05/2020|              2020|\n",
            "|  7|    José Alves|   34| Marketing|   5400|         2018/02/01|          inativo|      2018-02-01|    01/02/2018|              2018|\n",
            "|  8| Luciana Costa|   30|Financeiro|R$ 5200|         01.01.2019|            Ativo|      2019-01-01|    01/01/2019|              2019|\n",
            "|  9| Paulo Ricardo| null|Financeiro|   6100|         12/12/2020|          Inativo|      2020-12-12|    12/12/2020|              2020|\n",
            "| 10| Fernanda Dias|   29|        RH|   4800|         20/01/2020|            Ativo|      2020-01-20|    20/01/2020|              2020|\n",
            "|  1|    João Silva|   29|Financeiro|   5500|         01/02/2020|            Ativo|      2020-02-01|    01/02/2020|              2020|\n",
            "+---+--------------+-----+----------+-------+-------------------+-----------------+----------------+--------------+------------------+\n",
            "\n"
          ]
        }
      ]
    },
    {
      "cell_type": "markdown",
      "source": [
        "**1** - Análise de Consistência de Dados: Identificar e corrigir inconsistências nos valores de &quot;Área&quot; e\n",
        "&quot;Status de Emprego&quot; (e.g., diferenças de maiúsculas/minúsculas)."
      ],
      "metadata": {
        "id": "Cm54EBFlHeeQ"
      }
    },
    {
      "cell_type": "code",
      "source": [
        "df = df.withColumn(\"Área\", trim(initcap(col(\"Área\")))) \\\n",
        "             .withColumn(\"Status de Emprego\", trim(initcap(col(\"Status de Emprego\"))))\n",
        "\n",
        "df.show()"
      ],
      "metadata": {
        "colab": {
          "base_uri": "https://localhost:8080/"
        },
        "id": "k2vV2Ro1Hp70",
        "outputId": "2329c905-d4db-47df-9779-00e5b51346b9"
      },
      "execution_count": null,
      "outputs": [
        {
          "output_type": "stream",
          "name": "stdout",
          "text": [
            "+---+--------------+-----+----------+-------+-------------------+-----------------+----------------+--------------+\n",
            "| ID|          Nome|Idade|      Área|Salário|Data de Contratação|Status de Emprego|Data Contratação|Data_Formatada|\n",
            "+---+--------------+-----+----------+-------+-------------------+-----------------+----------------+--------------+\n",
            "|  1|    João Silva|   29|Financeiro|   5500|         01/02/2020|            Ativo|      2020-02-01|    01/02/2020|\n",
            "|  2|   Maria Souza|   30|        Rh|   4800|         15-03-2019|            Ativo|      2019-03-15|    15/03/2019|\n",
            "|  3|Carlos Pereira| null|Financeiro|   6200|         2020/04/01|            Ativo|      2020-04-01|    01/04/2020|\n",
            "|  4|     Ana Clara|   27| Marketing|   4800|         12/06/2018|            Ativo|      2018-06-12|    12/06/2018|\n",
            "|  5|  Fabio Santos|   31|      null|   5500|         20-11-2017|            Ativo|      2017-11-20|    20/11/2017|\n",
            "|  6|   Sandra Lima|   28|        Rh|   null|         05-05-2020|            Ativo|      2020-05-05|    05/05/2020|\n",
            "|  7|    José Alves|   34| Marketing|   5400|         2018/02/01|          Inativo|      2018-02-01|    01/02/2018|\n",
            "|  8| Luciana Costa|   30|Financeiro|R$ 5200|         01.01.2019|            Ativo|      2019-01-01|    01/01/2019|\n",
            "|  9| Paulo Ricardo| null|Financeiro|   6100|         12/12/2020|          Inativo|      2020-12-12|    12/12/2020|\n",
            "| 10| Fernanda Dias|   29|        Rh|   4800|         20/01/2020|            Ativo|      2020-01-20|    20/01/2020|\n",
            "|  1|    João Silva|   29|Financeiro|   5500|         01/02/2020|            Ativo|      2020-02-01|    01/02/2020|\n",
            "+---+--------------+-----+----------+-------+-------------------+-----------------+----------------+--------------+\n",
            "\n"
          ]
        }
      ]
    },
    {
      "cell_type": "markdown",
      "source": [
        "**2** - Limpeza de Dados Faltantes: Detectar e tratar os valores ausentes na coluna &quot;Idade&quot; e &quot;Área&quot;."
      ],
      "metadata": {
        "id": "SpQmptFbYL2Y"
      }
    },
    {
      "cell_type": "code",
      "source": [
        "# Econtrar dados faltantes na coluna idade\n",
        "\n",
        "df.select(\"Idade\").where(col(\"Idade\").isNull()).count() # Tem dois valores ausentes\n",
        "\n",
        "# Preencher o dados ausentes com a média de idade dos funcionários\n",
        "idade_media = df.select(mean(col(\"Idade\"))).collect()[0][0]\n",
        "print(idade_media)\n",
        "df = df.na.fill({\"Idade\": idade_media})\n",
        "df.show()"
      ],
      "metadata": {
        "colab": {
          "base_uri": "https://localhost:8080/"
        },
        "id": "8h6IGZ7qYUTD",
        "outputId": "af2a6a14-ab35-44ca-9208-e75c9d003f52"
      },
      "execution_count": null,
      "outputs": [
        {
          "output_type": "stream",
          "name": "stdout",
          "text": [
            "29.666666666666668\n",
            "+---+--------------+-----+----------+-------+-------------------+-----------------+----------------+--------------+\n",
            "| ID|          Nome|Idade|      Área|Salário|Data de Contratação|Status de Emprego|Data Contratação|Data_Formatada|\n",
            "+---+--------------+-----+----------+-------+-------------------+-----------------+----------------+--------------+\n",
            "|  1|    João Silva|   29|Financeiro|   5500|         01/02/2020|            Ativo|      2020-02-01|    01/02/2020|\n",
            "|  2|   Maria Souza|   30|        Rh|   4800|         15-03-2019|            Ativo|      2019-03-15|    15/03/2019|\n",
            "|  3|Carlos Pereira|   29|Financeiro|   6200|         2020/04/01|            Ativo|      2020-04-01|    01/04/2020|\n",
            "|  4|     Ana Clara|   27| Marketing|   4800|         12/06/2018|            Ativo|      2018-06-12|    12/06/2018|\n",
            "|  5|  Fabio Santos|   31|      null|   5500|         20-11-2017|            Ativo|      2017-11-20|    20/11/2017|\n",
            "|  6|   Sandra Lima|   28|        Rh|   null|         05-05-2020|            Ativo|      2020-05-05|    05/05/2020|\n",
            "|  7|    José Alves|   34| Marketing|   5400|         2018/02/01|          Inativo|      2018-02-01|    01/02/2018|\n",
            "|  8| Luciana Costa|   30|Financeiro|R$ 5200|         01.01.2019|            Ativo|      2019-01-01|    01/01/2019|\n",
            "|  9| Paulo Ricardo|   29|Financeiro|   6100|         12/12/2020|          Inativo|      2020-12-12|    12/12/2020|\n",
            "| 10| Fernanda Dias|   29|        Rh|   4800|         20/01/2020|            Ativo|      2020-01-20|    20/01/2020|\n",
            "|  1|    João Silva|   29|Financeiro|   5500|         01/02/2020|            Ativo|      2020-02-01|    01/02/2020|\n",
            "+---+--------------+-----+----------+-------+-------------------+-----------------+----------------+--------------+\n",
            "\n"
          ]
        }
      ]
    },
    {
      "cell_type": "code",
      "source": [
        "# Encontrar dados faltantes na coluna área\n",
        "df.select(\"Área\").where(col(\"Área\").isNull()).count() # Tem um dado ausente\n",
        "\n",
        "#Preencher dado com \"Não Informado\":\n",
        "df = df.na.fill({\"Área\": \"Não Informado\"})\n",
        "df.show()"
      ],
      "metadata": {
        "colab": {
          "base_uri": "https://localhost:8080/"
        },
        "id": "s9Ue8NXoaHBX",
        "outputId": "1d8c17ae-1820-4d67-ae5a-d63f873e8d1c"
      },
      "execution_count": null,
      "outputs": [
        {
          "output_type": "stream",
          "name": "stdout",
          "text": [
            "+---+--------------+-----+-------------+-------+-------------------+-----------------+----------------+--------------+\n",
            "| ID|          Nome|Idade|         Área|Salário|Data de Contratação|Status de Emprego|Data Contratação|Data_Formatada|\n",
            "+---+--------------+-----+-------------+-------+-------------------+-----------------+----------------+--------------+\n",
            "|  1|    João Silva|   29|   Financeiro|   5500|         01/02/2020|            Ativo|      2020-02-01|    01/02/2020|\n",
            "|  2|   Maria Souza|   30|           Rh|   4800|         15-03-2019|            Ativo|      2019-03-15|    15/03/2019|\n",
            "|  3|Carlos Pereira|   29|   Financeiro|   6200|         2020/04/01|            Ativo|      2020-04-01|    01/04/2020|\n",
            "|  4|     Ana Clara|   27|    Marketing|   4800|         12/06/2018|            Ativo|      2018-06-12|    12/06/2018|\n",
            "|  5|  Fabio Santos|   31|Não Informado|   5500|         20-11-2017|            Ativo|      2017-11-20|    20/11/2017|\n",
            "|  6|   Sandra Lima|   28|           Rh|   null|         05-05-2020|            Ativo|      2020-05-05|    05/05/2020|\n",
            "|  7|    José Alves|   34|    Marketing|   5400|         2018/02/01|          Inativo|      2018-02-01|    01/02/2018|\n",
            "|  8| Luciana Costa|   30|   Financeiro|R$ 5200|         01.01.2019|            Ativo|      2019-01-01|    01/01/2019|\n",
            "|  9| Paulo Ricardo|   29|   Financeiro|   6100|         12/12/2020|          Inativo|      2020-12-12|    12/12/2020|\n",
            "| 10| Fernanda Dias|   29|           Rh|   4800|         20/01/2020|            Ativo|      2020-01-20|    20/01/2020|\n",
            "|  1|    João Silva|   29|   Financeiro|   5500|         01/02/2020|            Ativo|      2020-02-01|    01/02/2020|\n",
            "+---+--------------+-----+-------------+-------+-------------------+-----------------+----------------+--------------+\n",
            "\n"
          ]
        }
      ]
    },
    {
      "cell_type": "markdown",
      "source": [
        "**3** - Distribuição de Idade: Analisar a distribuição da idade dos funcionários por departamento."
      ],
      "metadata": {
        "id": "ImCvu1UgbeLQ"
      }
    },
    {
      "cell_type": "code",
      "source": [
        "df_idade_departamento = df.groupBy(\"Área\").agg(avg(\"Idade\").alias(\"Média de idade por departamento\"))\n",
        "df_idade_departamento = df_idade_departamento.withColumn(\"Média de idade por departamento\", round(\"Média de idade por departamento\",0))\n",
        "df_idade_departamento.show()"
      ],
      "metadata": {
        "colab": {
          "base_uri": "https://localhost:8080/"
        },
        "id": "nTL1Al21biw6",
        "outputId": "c68cb91b-3dcd-4cb1-c4af-4b86ea550ada"
      },
      "execution_count": null,
      "outputs": [
        {
          "output_type": "stream",
          "name": "stdout",
          "text": [
            "+-------------+-------------------------------+\n",
            "|         Área|Média de idade por departamento|\n",
            "+-------------+-------------------------------+\n",
            "|           Rh|                           29.0|\n",
            "|Não Informado|                           31.0|\n",
            "|   Financeiro|                           29.0|\n",
            "|    Marketing|                           31.0|\n",
            "+-------------+-------------------------------+\n",
            "\n"
          ]
        }
      ]
    },
    {
      "cell_type": "code",
      "source": [
        "#Idade mínima e idade máxima por departamento\n",
        "df_idade_departamento_min_max = df.groupBy(\"Área\").agg(min(\"Idade\").alias(\"Idade miníma\"), max(\"Idade\").alias(\"Idade máxima\"))\n",
        "df_idade_departamento_min_max.show()"
      ],
      "metadata": {
        "colab": {
          "base_uri": "https://localhost:8080/"
        },
        "id": "YbhZJ2LodtAN",
        "outputId": "d599d185-a7fc-4796-a59c-0b2e10707331"
      },
      "execution_count": null,
      "outputs": [
        {
          "output_type": "stream",
          "name": "stdout",
          "text": [
            "+-------------+------------+------------+\n",
            "|         Área|Idade miníma|Idade máxima|\n",
            "+-------------+------------+------------+\n",
            "|           Rh|          28|          30|\n",
            "|Não Informado|          31|          31|\n",
            "|   Financeiro|          29|          30|\n",
            "|    Marketing|          27|          34|\n",
            "+-------------+------------+------------+\n",
            "\n"
          ]
        }
      ]
    },
    {
      "cell_type": "markdown",
      "source": [
        "**4** - Salário por Departamento: Calcular a média, mediana e desvio padrão dos salários por departamento."
      ],
      "metadata": {
        "id": "8KjyoEMse3dj"
      }
    },
    {
      "cell_type": "code",
      "source": [
        "# Encontrar dados faltantes na coluna salário\n",
        "df.select(\"Salário\").where(col(\"Salário\").isNull()).count() # Tem um dado ausente\n",
        "\n",
        "# Preencher o dados ausentes com a média de salário\n",
        "salario_media = df.select(mean(col(\"Salário\"))).collect()[0][0]\n",
        "#print(salario_media)\n",
        "df = df.na.fill({\"Salário\": salario_media})\n",
        "#df.show()\n",
        "\n",
        "#Arrumar dados do salário: tem um valor com R$\n",
        "from pyspark.sql.functions import regexp_replace, col\n",
        "\n",
        "df= df.withColumn(\n",
        "    \"Salário\",\n",
        "    regexp_replace(col(\"Salário\"), \"R\\\\$\\\\s*\", \"\")  # Remove \"R$\" e espaços\n",
        ")\n",
        "\n",
        "#df.show()\n",
        "\n",
        "df = df.withColumn(\"Salário\", col(\"Salário\").cast(\"double\"))\n",
        "\n",
        "# Calcular a média, mediana e desvio padrão dos salários por departamento.\n",
        "\n",
        "df_departamento_salario = df.groupBy(\"Área\").agg(avg(\"Salário\").alias(\"Média Salarial\"), stddev(\"Salário\").alias(\"Desvio padrão\"))\n",
        "df_departamento_salario.show()\n",
        "\n",
        "# aparece null no não informado para desvio padrão, pois só há um valor\n",
        "\n",
        "#mediana\n",
        "mediana = df.approxQuantile(\"Salário\", [0.5], 0.01)[0]\n",
        "\n",
        "print(f\"A mediana dos salários é: {mediana}\")\n"
      ],
      "metadata": {
        "colab": {
          "base_uri": "https://localhost:8080/"
        },
        "id": "v3QTCfOie8z3",
        "outputId": "3d64ee89-ad94-45f0-bffb-a4d5bb271b8c"
      },
      "execution_count": null,
      "outputs": [
        {
          "output_type": "stream",
          "name": "stdout",
          "text": [
            "+-------------+--------------+------------------+\n",
            "|         Área|Média Salarial|     Desvio padrão|\n",
            "+-------------+--------------+------------------+\n",
            "|           Rh|        5000.0|346.41016151377545|\n",
            "|Não Informado|        5500.0|              null|\n",
            "|   Financeiro|        5700.0| 430.1162633521314|\n",
            "|    Marketing|        5100.0|424.26406871192853|\n",
            "+-------------+--------------+------------------+\n",
            "\n",
            "A mediana dos salários é: 5400.0\n"
          ]
        }
      ]
    },
    {
      "cell_type": "markdown",
      "source": [
        "**5** - Análise de Outliers: Identificar salários que estão fora do padrão (outliers) para cada\n",
        "departamento."
      ],
      "metadata": {
        "id": "O8fktj9Rlxdy"
      }
    },
    {
      "cell_type": "code",
      "source": [
        "df_metrica= df.groupBy(\"Área\").agg(avg(\"Salário\").alias(\"Salário Médio\"), stddev(\"Salário\").alias(\"Desvio Padrão\"))\n",
        "df_metrica.show()\n",
        "\n",
        "df_com_outliers = df.join(df_metrica, \"Área\").withColumn(\"Limite Inferior\", col(\"Salário Médio\") - 2 * col(\"Desvio Padrão\")).withColumn(\"Limite Superior\", col(\"Salário Médio\") + 2 * col(\"Desvio Padrão\"))\n",
        "\n",
        "df_outliers = df_com_outliers.filter((col(\"Salário\") < col(\"Limite Inferior\")) & (col(\"Salário\") > col(\"Limite Superior\")))\n",
        "\n",
        "df_outliers.show()"
      ],
      "metadata": {
        "id": "UMFyU71SmFTk",
        "colab": {
          "base_uri": "https://localhost:8080/"
        },
        "outputId": "22c8b4d7-fdf8-4b5a-85ef-0ab99d492390"
      },
      "execution_count": null,
      "outputs": [
        {
          "output_type": "stream",
          "name": "stdout",
          "text": [
            "+-------------+-------------+------------------+\n",
            "|         Área|Salário Médio|     Desvio Padrão|\n",
            "+-------------+-------------+------------------+\n",
            "|           Rh|       5000.0|346.41016151377545|\n",
            "|Não Informado|       5500.0|              null|\n",
            "|   Financeiro|       5700.0| 430.1162633521314|\n",
            "|    Marketing|       5100.0|424.26406871192853|\n",
            "+-------------+-------------+------------------+\n",
            "\n",
            "+----+---+----+-----+-------+-------------------+-----------------+----------------+--------------+-------------+-------------+---------------+---------------+\n",
            "|Área| ID|Nome|Idade|Salário|Data de Contratação|Status de Emprego|Data Contratação|Data_Formatada|Salário Médio|Desvio Padrão|Limite Inferior|Limite Superior|\n",
            "+----+---+----+-----+-------+-------------------+-----------------+----------------+--------------+-------------+-------------+---------------+---------------+\n",
            "+----+---+----+-----+-------+-------------------+-----------------+----------------+--------------+-------------+-------------+---------------+---------------+\n",
            "\n"
          ]
        }
      ]
    },
    {
      "cell_type": "markdown",
      "source": [
        "**6** - Correlação Idade-Salário: Analisar a correlação entre idade e salário dos funcionários."
      ],
      "metadata": {
        "id": "Wn3aH8LvqHMJ"
      }
    },
    {
      "cell_type": "code",
      "source": [
        "df = df.withColumn(\"Idade\", col(\"Idade\").cast(\"double\"))\n",
        "df = df.withColumn(\"Salário\", col(\"Salário\").cast(\"double\"))\n",
        "coeficiente_correlacao = df.corr(\"Idade\", \"Salário\")\n",
        "print(coeficiente_correlacao)\n"
      ],
      "metadata": {
        "colab": {
          "base_uri": "https://localhost:8080/"
        },
        "id": "BXFG5-rFqJpP",
        "outputId": "595dac45-579d-4f6c-bdfa-1e0f5230d79d"
      },
      "execution_count": null,
      "outputs": [
        {
          "output_type": "stream",
          "name": "stdout",
          "text": [
            "0.08215352261440326\n"
          ]
        }
      ]
    },
    {
      "cell_type": "markdown",
      "source": [
        "**7** - Tempo de Casa: Calcular o tempo de contratação dos funcionários e categorizá-los em grupos\n",
        "(e.g., 1-3 anos, 4-6 anos, etc.)."
      ],
      "metadata": {
        "id": "DG6bbODaqKCV"
      }
    },
    {
      "cell_type": "code",
      "source": [
        "df = df.dropna()\n",
        "#Extrair o ano de cada contratação\n",
        "df= df.withColumn(\"Ano de Contratação\", year(col(\"Data Contratação\")))\n",
        "#Total de anos trabalhados\n",
        "df= df.withColumn(\"Total de Anos Trabalhados\", year(current_date()) - year(col(\"Data Contratação\")))\n",
        "\n",
        "#df.show()\n",
        "\n",
        "df_anos_trabalhados= df.withColumn(\"Categoria Anos Trabalhados\",\n",
        "    when((col(\"Total de Anos Trabalhados\") >= 1) & (col(\"Total de Anos Trabalhados\") <= 3), \"1-3 anos\")\n",
        "    .when((col(\"Total de Anos Trabalhados\") >= 4) & (col(\"Total de Anos Trabalhados\") <= 6), \"3-4 anos\")\n",
        "    .when((col(\"Total de Anos Trabalhados\") >= 7) & (col(\"Total de Anos Trabalhados\") <= 10), \"7-10 anos\")\n",
        "    .otherwise(\"Mais de 10 anos\")\n",
        ")\n",
        "\n",
        "df_anos_trabalhados.show()\n"
      ],
      "metadata": {
        "colab": {
          "base_uri": "https://localhost:8080/"
        },
        "id": "kHetcw9tqOUk",
        "outputId": "7332076c-d237-4645-acd0-9b528e6b8dcc"
      },
      "execution_count": null,
      "outputs": [
        {
          "output_type": "stream",
          "name": "stdout",
          "text": [
            "+---+--------------+-----+-------------+-------+-------------------+-----------------+----------------+--------------+------------------+-------------------------+--------------------------+\n",
            "| ID|          Nome|Idade|         Área|Salário|Data de Contratação|Status de Emprego|Data Contratação|Data_Formatada|Ano de Contratação|Total de Anos Trabalhados|Categoria Anos Trabalhados|\n",
            "+---+--------------+-----+-------------+-------+-------------------+-----------------+----------------+--------------+------------------+-------------------------+--------------------------+\n",
            "|  1|    João Silva| 29.0|   Financeiro| 5500.0|         01/02/2020|            Ativo|      2020-02-01|    01/02/2020|              2020|                        4|                  3-4 anos|\n",
            "|  2|   Maria Souza| 30.0|           Rh| 4800.0|         15-03-2019|            Ativo|      2019-03-15|    15/03/2019|              2019|                        5|                  3-4 anos|\n",
            "|  3|Carlos Pereira| 29.0|   Financeiro| 6200.0|         2020/04/01|            Ativo|      2020-04-01|    01/04/2020|              2020|                        4|                  3-4 anos|\n",
            "|  4|     Ana Clara| 27.0|    Marketing| 4800.0|         12/06/2018|            Ativo|      2018-06-12|    12/06/2018|              2018|                        6|                  3-4 anos|\n",
            "|  5|  Fabio Santos| 31.0|Não Informado| 5500.0|         20-11-2017|            Ativo|      2017-11-20|    20/11/2017|              2017|                        7|                 7-10 anos|\n",
            "|  6|   Sandra Lima| 28.0|           Rh| 5400.0|         05-05-2020|            Ativo|      2020-05-05|    05/05/2020|              2020|                        4|                  3-4 anos|\n",
            "|  7|    José Alves| 34.0|    Marketing| 5400.0|         2018/02/01|          Inativo|      2018-02-01|    01/02/2018|              2018|                        6|                  3-4 anos|\n",
            "|  8| Luciana Costa| 30.0|   Financeiro| 5200.0|         01.01.2019|            Ativo|      2019-01-01|    01/01/2019|              2019|                        5|                  3-4 anos|\n",
            "|  9| Paulo Ricardo| 29.0|   Financeiro| 6100.0|         12/12/2020|          Inativo|      2020-12-12|    12/12/2020|              2020|                        4|                  3-4 anos|\n",
            "| 10| Fernanda Dias| 29.0|           Rh| 4800.0|         20/01/2020|            Ativo|      2020-01-20|    20/01/2020|              2020|                        4|                  3-4 anos|\n",
            "|  1|    João Silva| 29.0|   Financeiro| 5500.0|         01/02/2020|            Ativo|      2020-02-01|    01/02/2020|              2020|                        4|                  3-4 anos|\n",
            "+---+--------------+-----+-------------+-------+-------------------+-----------------+----------------+--------------+------------------+-------------------------+--------------------------+\n",
            "\n"
          ]
        }
      ]
    },
    {
      "cell_type": "markdown",
      "source": [
        "**8** - Análise de Rotatividade: Identificar padrões entre os funcionários que estão ativos versus os que\n",
        "não estão."
      ],
      "metadata": {
        "id": "1sI91LowyFta"
      }
    },
    {
      "cell_type": "code",
      "source": [
        "# Média salarial entre os funcionários ativos e inativos e Média de idade dos funcinários\n",
        "df_media_salarial_status = df.groupBy(\"Status de Emprego\").agg(avg(\"Salário\").alias(\"Média salarial\"), avg(\"Idade\").alias(\"Média de idade\"))\n",
        "df_media_salarial_status.show()\n",
        "\n",
        "#Departamento com o maior número de funcionários inativos\n",
        "df_inativos = df.filter(col(\"Status de Emprego\") == \"Inativo\")\n",
        "df_departamento_inativos = df_inativos.groupBy(\"Área\").agg(count(\"ID\").alias(\"Total\"))\n",
        "df_departamento_inativos.show()\n",
        "\n",
        "#Departamento com o maior número de funcionários ativos\n",
        "df_ativos = df.filter(col(\"Status de Emprego\") == \"Ativo\")\n",
        "df_departamento_ativos = df_ativos.groupBy(\"Área\").agg(count(\"ID\").alias(\"Total\"))\n",
        "df_departamento_ativos.show()"
      ],
      "metadata": {
        "colab": {
          "base_uri": "https://localhost:8080/"
        },
        "id": "DWG7fZjQyJfh",
        "outputId": "aacdfa78-2ec6-44ed-d433-3a85b4109a28"
      },
      "execution_count": null,
      "outputs": [
        {
          "output_type": "stream",
          "name": "stdout",
          "text": [
            "+-----------------+--------------+-----------------+\n",
            "|Status de Emprego|Média salarial|   Média de idade|\n",
            "+-----------------+--------------+-----------------+\n",
            "|          Inativo|        5750.0|             31.5|\n",
            "|            Ativo|        5300.0|29.11111111111111|\n",
            "+-----------------+--------------+-----------------+\n",
            "\n",
            "+----------+-----+\n",
            "|      Área|Total|\n",
            "+----------+-----+\n",
            "|Financeiro|    1|\n",
            "| Marketing|    1|\n",
            "+----------+-----+\n",
            "\n",
            "+-------------+-----+\n",
            "|         Área|Total|\n",
            "+-------------+-----+\n",
            "|           Rh|    3|\n",
            "|Não Informado|    1|\n",
            "|   Financeiro|    4|\n",
            "|    Marketing|    1|\n",
            "+-------------+-----+\n",
            "\n"
          ]
        }
      ]
    },
    {
      "cell_type": "markdown",
      "source": [
        "**9** - Análise de Desempenho por Data de Contratação: Verificar se existe uma correlação entre o ano\n",
        "de contratação e o nível de salário."
      ],
      "metadata": {
        "id": "JyxQV5Yg394I"
      }
    },
    {
      "cell_type": "code",
      "source": [
        "# Remover dado nulo\n",
        "df_anos_trabalhados = df.na.drop(subset=[\"Data Contratação\"])\n",
        "#df_anos_trabalhados.show()\n",
        "\n",
        "# Calcular a correlação\n",
        "coeficiente_correlacao = df.corr(\"Ano de Contratação\", \"Salário\")\n",
        "print(coeficiente_correlacao)\n",
        "\n",
        "# Coeficiente positivo indica que há correlação entre as variáveis, porém é uma correlação fraca pois está longe de 1"
      ],
      "metadata": {
        "colab": {
          "base_uri": "https://localhost:8080/"
        },
        "id": "sV6_DdtM4Bx8",
        "outputId": "758a354d-99ae-42e7-971a-2b8346c7f6a9"
      },
      "execution_count": null,
      "outputs": [
        {
          "output_type": "stream",
          "name": "stdout",
          "text": [
            "0.2985138993799236\n"
          ]
        }
      ]
    },
    {
      "cell_type": "markdown",
      "source": [
        "**10** - Histograma de Salário: Criar um histograma de salários para visualizar a distribuição geral."
      ],
      "metadata": {
        "id": "l2N4mIQe5reD"
      }
    },
    {
      "cell_type": "code",
      "source": [
        "import matplotlib.pyplot as plt\n",
        "df = df.withColumn(\"Salário\", col(\"Salário\").cast(\"double\"))\n",
        "\n",
        "# Remover valores nulos na coluna salario\n",
        "df = df.na.drop(subset=[\"Salário\"])\n",
        "\n",
        "# Converter o DataFrame para Pandas\n",
        "df_pd = df.toPandas()\n",
        "\n",
        "# Criar o histograma dos salários\n",
        "plt.figure(figsize=(10, 6))\n",
        "plt.hist(df_pd['Salário'], bins=10, edgecolor='black', alpha=0.7)\n",
        "plt.xlabel('Salário')\n",
        "plt.ylabel('Total de Funcionários')\n",
        "plt.title('Distribuição dos Salários')\n",
        "plt.grid(True)\n",
        "plt.show()"
      ],
      "metadata": {
        "id": "0uoBxIEU5uyG",
        "colab": {
          "base_uri": "https://localhost:8080/",
          "height": 565
        },
        "outputId": "cb297e82-186f-411c-b6db-35fbea8a95b1"
      },
      "execution_count": null,
      "outputs": [
        {
          "output_type": "display_data",
          "data": {
            "text/plain": [
              "<Figure size 1000x600 with 1 Axes>"
            ],
            "image/png": "[encoded data removed]"
          },
          "metadata": {}
        }
      ]
    },
    {
      "cell_type": "markdown",
      "source": [
        "**11** - Análise de Frequência: Quantificar a frequência dos nomes dos funcionários para identificar\n",
        "nomes comuns."
      ],
      "metadata": {
        "id": "19IZADbkWJmF"
      }
    },
    {
      "cell_type": "code",
      "source": [
        "df_funcionarios_freq_nome = df.groupBy(\"Nome\").agg(count(\"Nome\").alias(\"Frequência do nome\"))\n",
        "df_funcionarios_freq_nome.show() #Apenas João Silva se repete"
      ],
      "metadata": {
        "colab": {
          "base_uri": "https://localhost:8080/"
        },
        "id": "fv9sGMy1WOAC",
        "outputId": "ddcc5892-d026-416c-a55c-dc5f8e9ba075"
      },
      "execution_count": null,
      "outputs": [
        {
          "output_type": "stream",
          "name": "stdout",
          "text": [
            "+--------------+------------------+\n",
            "|          Nome|Frequência do nome|\n",
            "+--------------+------------------+\n",
            "|     Ana Clara|                 1|\n",
            "| Paulo Ricardo|                 1|\n",
            "| Fernanda Dias|                 1|\n",
            "|   Sandra Lima|                 1|\n",
            "|    José Alves|                 1|\n",
            "| Luciana Costa|                 1|\n",
            "|  Fabio Santos|                 1|\n",
            "|Carlos Pereira|                 1|\n",
            "|    João Silva|                 2|\n",
            "|   Maria Souza|                 1|\n",
            "+--------------+------------------+\n",
            "\n"
          ]
        }
      ]
    },
    {
      "cell_type": "markdown",
      "source": [
        "**12** - Agrupamento de Departamentos: Analisar o impacto do departamento na variação salarial e na\n",
        "distribuição de idade."
      ],
      "metadata": {
        "id": "h1tjfsCdWwvz"
      }
    },
    {
      "cell_type": "code",
      "source": [
        "# Agrupar por departamento e verificar a média salarial, depois agrupar por departamento e verificar a faixa etária dos funcionários\n",
        "df_departamento_salario_idade = df.groupBy(\"Área\").agg(avg(\"Salário\").alias(\"Média salarial\"), avg(\"Idade\").alias(\"Média de idade dos funcionários\"))\n",
        "df_departamento_salario_idade.show()\n",
        "\n",
        "# Definir salário máximo e mínimo por departamento e idade\n",
        "df_departamento_salario_idade2 = df.groupBy(\"Área\").agg(min(\"Salário\").alias(\"Salário mínimo\"), max(\"Salário\").alias(\"Salário máximo\"), min(\"Idade\").alias(\"Menor Idade\"), max(\"Idade\").alias(\"Maior Idade\"))\n",
        "df_departamento_salario_idade2.show()\n",
        "\n",
        "# definir o sálario médio por idade de acordo com o departamento\n",
        "df_departamento_salario_idade3 = df.groupBy(\"Área\", \"Idade\").agg(avg(\"Salário\").alias(\"Média salarial\"))\n",
        "df_departamento_salario_idade3.show()"
      ],
      "metadata": {
        "colab": {
          "base_uri": "https://localhost:8080/"
        },
        "id": "Y_WSIHyAW1rh",
        "outputId": "f6e6d15f-8db3-4086-df16-1a2ca0717389"
      },
      "execution_count": null,
      "outputs": [
        {
          "output_type": "stream",
          "name": "stdout",
          "text": [
            "+-------------+--------------+-------------------------------+\n",
            "|         Área|Média salarial|Média de idade dos funcionários|\n",
            "+-------------+--------------+-------------------------------+\n",
            "|           Rh|        5000.0|                           29.0|\n",
            "|Não Informado|        5500.0|                           31.0|\n",
            "|   Financeiro|        5700.0|                           29.2|\n",
            "|    Marketing|        5100.0|                           30.5|\n",
            "+-------------+--------------+-------------------------------+\n",
            "\n",
            "+-------------+--------------+--------------+-----------+-----------+\n",
            "|         Área|Salário mínimo|Salário máximo|Menor Idade|Maior Idade|\n",
            "+-------------+--------------+--------------+-----------+-----------+\n",
            "|           Rh|        4800.0|        5400.0|       28.0|       30.0|\n",
            "|Não Informado|        5500.0|        5500.0|       31.0|       31.0|\n",
            "|   Financeiro|        5200.0|        6200.0|       29.0|       30.0|\n",
            "|    Marketing|        4800.0|        5400.0|       27.0|       34.0|\n",
            "+-------------+--------------+--------------+-----------+-----------+\n",
            "\n",
            "+-------------+-----+--------------+\n",
            "|         Área|Idade|Média salarial|\n",
            "+-------------+-----+--------------+\n",
            "|Não Informado| 31.0|        5500.0|\n",
            "|   Financeiro| 30.0|        5200.0|\n",
            "|           Rh| 30.0|        4800.0|\n",
            "|    Marketing| 27.0|        4800.0|\n",
            "|   Financeiro| 29.0|        5825.0|\n",
            "|    Marketing| 34.0|        5400.0|\n",
            "|           Rh| 29.0|        4800.0|\n",
            "|           Rh| 28.0|        5400.0|\n",
            "+-------------+-----+--------------+\n",
            "\n"
          ]
        }
      ]
    },
    {
      "cell_type": "markdown",
      "source": [
        "**13** - Normalização de Dados: Normalizar o salário e idade para comparações entre diferentes\n",
        "departamentos."
      ],
      "metadata": {
        "id": "zomZJsEvauMX"
      }
    },
    {
      "cell_type": "code",
      "source": [
        "df_metrica = df.agg(\n",
        "    avg(\"Salário\").alias(\"Média Salário\"),\n",
        "    stddev(\"Salário\").alias(\"Desvio Padrão Salário\"),\n",
        "    avg(\"Idade\").alias(\"Média Idade\"),\n",
        "    stddev(\"Idade\").alias(\"Desvio Padrão Idade\")\n",
        ").collect()[0]\n",
        "\n",
        "media_salario = df_metrica[\"Média Salário\"]\n",
        "desvio_padrao_salario = df_metrica[\"Desvio Padrão Salário\"]\n",
        "media_idade = df_metrica[\"Média Idade\"]\n",
        "desvio_padrao_idade = df_metrica[\"Desvio Padrão Idade\"]\n",
        "\n",
        "df_normalizado = df.withColumn(\"Salário Normalizado\", (col(\"Salário\") - media_salario) / desvio_padrao_salario).withColumn(\"Idade Normalizada\", (col(\"Idade\") - media_idade) / desvio_padrao_idade)\n",
        "\n",
        "df_normalizado.show()"
      ],
      "metadata": {
        "id": "fvqFHED2ayrq",
        "colab": {
          "base_uri": "https://localhost:8080/"
        },
        "outputId": "db7f2731-f6e7-4d2a-9349-5db1894f5cd5"
      },
      "execution_count": null,
      "outputs": [
        {
          "output_type": "stream",
          "name": "stdout",
          "text": [
            "+---+--------------+-----+-------------+-------+-------------------+-----------------+----------------+--------------+------------------+-------------------------+-------------------+--------------------+\n",
            "| ID|          Nome|Idade|         Área|Salário|Data de Contratação|Status de Emprego|Data Contratação|Data_Formatada|Ano de Contratação|Total de Anos Trabalhados|Salário Normalizado|   Idade Normalizada|\n",
            "+---+--------------+-----+-------------+-------+-------------------+-----------------+----------------+--------------+------------------+-------------------------+-------------------+--------------------+\n",
            "|  1|    João Silva| 29.0|   Financeiro| 5500.0|         01/02/2020|            Ativo|      2020-02-01|    01/02/2020|              2020|                        4|0.24770219065268412|-0.30151134457776435|\n",
            "|  2|   Maria Souza| 30.0|           Rh| 4800.0|         15-03-2019|            Ativo|      2019-03-15|    15/03/2019|              2019|                        5|-1.2194569385978316|  0.2512594538148023|\n",
            "|  3|Carlos Pereira| 29.0|   Financeiro| 6200.0|         2020/04/01|            Ativo|      2020-04-01|    01/04/2020|              2020|                        4|    1.7148613199032|-0.30151134457776435|\n",
            "|  4|     Ana Clara| 27.0|    Marketing| 4800.0|         12/06/2018|            Ativo|      2018-06-12|    12/06/2018|              2018|                        6|-1.2194569385978316| -1.4070529413628978|\n",
            "|  5|  Fabio Santos| 31.0|Não Informado| 5500.0|         20-11-2017|            Ativo|      2017-11-20|    20/11/2017|              2017|                        7|0.24770219065268412|   0.804030252207369|\n",
            "|  6|   Sandra Lima| 28.0|           Rh| 5400.0|         05-05-2020|            Ativo|      2020-05-05|    05/05/2020|              2020|                        4|0.03810802933118188| -0.8542821429703311|\n",
            "|  7|    José Alves| 34.0|    Marketing| 5400.0|         2018/02/01|          Inativo|      2018-02-01|    01/02/2018|              2018|                        6|0.03810802933118188|   2.462342647385069|\n",
            "|  8| Luciana Costa| 30.0|   Financeiro| 5200.0|         01.01.2019|            Ativo|      2019-01-01|    01/01/2019|              2019|                        5|-0.3810802933118226|  0.2512594538148023|\n",
            "|  9| Paulo Ricardo| 29.0|   Financeiro| 6100.0|         12/12/2020|          Inativo|      2020-12-12|    12/12/2020|              2020|                        4| 1.5052671585816977|-0.30151134457776435|\n",
            "| 10| Fernanda Dias| 29.0|           Rh| 4800.0|         20/01/2020|            Ativo|      2020-01-20|    20/01/2020|              2020|                        4|-1.2194569385978316|-0.30151134457776435|\n",
            "|  1|    João Silva| 29.0|   Financeiro| 5500.0|         01/02/2020|            Ativo|      2020-02-01|    01/02/2020|              2020|                        4|0.24770219065268412|-0.30151134457776435|\n",
            "+---+--------------+-----+-------------+-------+-------------------+-----------------+----------------+--------------+------------------+-------------------------+-------------------+--------------------+\n",
            "\n"
          ]
        }
      ]
    },
    {
      "cell_type": "markdown",
      "source": [
        "**14** - Proporção de Gêneros: Analisar a proporção de gêneros entre os funcionários, caso houvesse\n",
        "uma coluna de gênero."
      ],
      "metadata": {
        "id": "OQNWHAdAbGJx"
      }
    },
    {
      "cell_type": "code",
      "source": [
        "# Criar um dicionários linkando os nomes dos funcionários aos gêneros e depois criar uma coluna no df\n",
        "\n",
        "generos = {\n",
        "    'João Silva' : 'M',\n",
        "    'Maria Souza' : 'F',\n",
        "    'Carlos Pereira' : 'M',\n",
        "    'Ana Clara' : 'F',\n",
        "    'Fabio Santos' : 'M',\n",
        "    'Sandra Lima' : 'F',\n",
        "    'José Alves' : 'M',\n",
        "    'Luciana Costa' :'F',\n",
        "    'Paulo Ricardo' : 'M',\n",
        "    'Fernanda Dias' : 'F',\n",
        "    'João Silva' : 'M'\n",
        "}\n",
        "\n",
        "df = df.withColumn(\n",
        "    \"Gênero\",\n",
        "    when(col(\"Nome\") == \"João Silva\", \"M\")\n",
        "    .when(col(\"Nome\") == \"Maria Souza\", \"F\")\n",
        "    .when(col(\"Nome\") == \"Carlos Pereira\", \"M\")\n",
        "    .when(col(\"Nome\") == \"Ana Clara\", \"F\")\n",
        "    .when(col(\"Nome\") == \"Fabio Santos\", \"M\")\n",
        "    .when(col(\"Nome\") == \"Sandra Lima\", \"F\")\n",
        "    .when(col(\"Nome\") == \"José Alves\", \"M\")\n",
        "    .when(col(\"Nome\") == \"Luciana Costa\", \"F\")\n",
        "    .when(col(\"Nome\") == \"Paulo Ricardo\", \"M\")\n",
        "    .when(col(\"Nome\") == \"Fernanda Dias\", \"F\")\n",
        "    .when(col(\"Nome\") == \"João Silva\", \"M\")\n",
        "    .otherwise(\"Desconhecido\")  # Caso algum nome não esteja no dicionário\n",
        ")\n",
        "\n",
        "#df.show()\n",
        "\n",
        "# Analisar proporção\n",
        "funcionarios_feminino = df.filter(col(\"Gênero\") == \"F\").count()\n",
        "print(f\"O total de funcionários do gênero feminino é {funcionarios_feminino}\")\n",
        "funcionarios_masculino = df.filter(col(\"Gênero\") == \"M\").count()\n",
        "print(f\"O total de funcionários do gênero masculino é {funcionarios_masculino}\")\n",
        "total_funcionarios = df.count()\n",
        "print(f\"O total de funcionários é {total_funcionarios}\")\n",
        "proporcao_feminino = funcionarios_feminino/total_funcionarios\n",
        "proporcao_masculino = funcionarios_masculino/total_funcionarios\n",
        "\n",
        "print(f\"A porporção de funcionários do gênero feminino é {proporcao_feminino} e a proporção de funcionários do gênero masculino é {proporcao_masculino}\")\n"
      ],
      "metadata": {
        "colab": {
          "base_uri": "https://localhost:8080/"
        },
        "id": "ZOBFFtf5bK5S",
        "outputId": "df89fd93-4d2a-4073-8581-9dcc210c11a4"
      },
      "execution_count": null,
      "outputs": [
        {
          "output_type": "stream",
          "name": "stdout",
          "text": [
            "O total de funcionários do gênero feminino é 5\n",
            "O total de funcionários do gênero masculino é 6\n",
            "O total de funcionários é 11\n",
            "A porporção de funcionários do gênero feminino é 0.45454545454545453 e a proporção de funcionários do gênero masculino é 0.5454545454545454\n"
          ]
        }
      ]
    },
    {
      "cell_type": "markdown",
      "source": [
        "**15** - Correção de Formato de Data: Uniformizar o formato das datas de contratação."
      ],
      "metadata": {
        "id": "na6DGJB9j6hn"
      }
    },
    {
      "cell_type": "code",
      "source": [
        "#FEITO NO INÍCIO DO CÓDIGO NA PARTE DE TRATAMENTO DE DADOS"
      ],
      "metadata": {
        "id": "9L634vYEkqEu"
      },
      "execution_count": null,
      "outputs": []
    },
    {
      "cell_type": "markdown",
      "source": [
        "**16** - Impacto de Status no Salário: Comparar salários médios entre funcionários ativos e não ativos."
      ],
      "metadata": {
        "id": "3Z04dvkRkt_m"
      }
    },
    {
      "cell_type": "code",
      "source": [
        "df_media_salarial_status = df.groupBy(\"Status de Emprego\").agg(avg(\"Salário\").alias(\"Média salarial\"))\n",
        "df_media_salarial_status.show()\n",
        "\n",
        "#Funcionário inativos tem maior média salarial do que os ativos"
      ],
      "metadata": {
        "colab": {
          "base_uri": "https://localhost:8080/"
        },
        "id": "F8tZkNQ8k8Sz",
        "outputId": "8851112a-13d5-4c47-8a23-b8bdb5f010a1"
      },
      "execution_count": null,
      "outputs": [
        {
          "output_type": "stream",
          "name": "stdout",
          "text": [
            "+-----------------+--------------+\n",
            "|Status de Emprego|Média salarial|\n",
            "+-----------------+--------------+\n",
            "|          Inativo|        5750.0|\n",
            "|            Ativo|        5300.0|\n",
            "+-----------------+--------------+\n",
            "\n"
          ]
        }
      ]
    },
    {
      "cell_type": "markdown",
      "source": [
        "**17** - Data de Contratação e Demografia: Relacionar a data de contratação com a idade dos\n",
        "funcionários na época da contratação."
      ],
      "metadata": {
        "id": "eDGaYt-snR3b"
      }
    },
    {
      "cell_type": "code",
      "source": [
        "# Descobrir a idade na contratação: diminuir a idade atual pelo total de anos trabalhados e criar nova coluna com resultado (\"Idade Contratação\")\n",
        "\n",
        "df_idade_contratacao = df.withColumn(\"Idade Contratação\", col(\"Idade\") - col(\"Total de Anos Trabalhados\"))\n",
        "df_idade_contratacao.show()\n",
        "\n",
        "df_relacionado_contratacao = df_idade_contratacao.groupBy(\"Data_Formatada\").agg(avg(\"Idade Contratação\").alias(\"Relação Idade\"))\n",
        "df_relacionado_contratacao.show()"
      ],
      "metadata": {
        "colab": {
          "base_uri": "https://localhost:8080/"
        },
        "id": "Wi1SMXbxnW4h",
        "outputId": "1b004206-9128-4784-a690-97d57fe1f62b"
      },
      "execution_count": null,
      "outputs": [
        {
          "output_type": "stream",
          "name": "stdout",
          "text": [
            "+---+--------------+-----+-------------+-------+-------------------+-----------------+----------------+--------------+------------------+-------------------------+------+-----------------+\n",
            "| ID|          Nome|Idade|         Área|Salário|Data de Contratação|Status de Emprego|Data Contratação|Data_Formatada|Ano de Contratação|Total de Anos Trabalhados|Gênero|Idade Contratação|\n",
            "+---+--------------+-----+-------------+-------+-------------------+-----------------+----------------+--------------+------------------+-------------------------+------+-----------------+\n",
            "|  1|    João Silva| 29.0|   Financeiro| 5500.0|         01/02/2020|            Ativo|      2020-02-01|    01/02/2020|              2020|                        4|     M|             25.0|\n",
            "|  2|   Maria Souza| 30.0|           Rh| 4800.0|         15-03-2019|            Ativo|      2019-03-15|    15/03/2019|              2019|                        5|     F|             25.0|\n",
            "|  3|Carlos Pereira| 29.0|   Financeiro| 6200.0|         2020/04/01|            Ativo|      2020-04-01|    01/04/2020|              2020|                        4|     M|             25.0|\n",
            "|  4|     Ana Clara| 27.0|    Marketing| 4800.0|         12/06/2018|            Ativo|      2018-06-12|    12/06/2018|              2018|                        6|     F|             21.0|\n",
            "|  5|  Fabio Santos| 31.0|Não Informado| 5500.0|         20-11-2017|            Ativo|      2017-11-20|    20/11/2017|              2017|                        7|     M|             24.0|\n",
            "|  6|   Sandra Lima| 28.0|           Rh| 5400.0|         05-05-2020|            Ativo|      2020-05-05|    05/05/2020|              2020|                        4|     F|             24.0|\n",
            "|  7|    José Alves| 34.0|    Marketing| 5400.0|         2018/02/01|          Inativo|      2018-02-01|    01/02/2018|              2018|                        6|     M|             28.0|\n",
            "|  8| Luciana Costa| 30.0|   Financeiro| 5200.0|         01.01.2019|            Ativo|      2019-01-01|    01/01/2019|              2019|                        5|     F|             25.0|\n",
            "|  9| Paulo Ricardo| 29.0|   Financeiro| 6100.0|         12/12/2020|          Inativo|      2020-12-12|    12/12/2020|              2020|                        4|     M|             25.0|\n",
            "| 10| Fernanda Dias| 29.0|           Rh| 4800.0|         20/01/2020|            Ativo|      2020-01-20|    20/01/2020|              2020|                        4|     F|             25.0|\n",
            "|  1|    João Silva| 29.0|   Financeiro| 5500.0|         01/02/2020|            Ativo|      2020-02-01|    01/02/2020|              2020|                        4|     M|             25.0|\n",
            "+---+--------------+-----+-------------+-------+-------------------+-----------------+----------------+--------------+------------------+-------------------------+------+-----------------+\n",
            "\n",
            "+--------------+-------------+\n",
            "|Data_Formatada|Relação Idade|\n",
            "+--------------+-------------+\n",
            "|    01/04/2020|         25.0|\n",
            "|    20/01/2020|         25.0|\n",
            "|    12/12/2020|         25.0|\n",
            "|    12/06/2018|         21.0|\n",
            "|    01/02/2018|         28.0|\n",
            "|    15/03/2019|         25.0|\n",
            "|    01/01/2019|         25.0|\n",
            "|    01/02/2020|         25.0|\n",
            "|    05/05/2020|         24.0|\n",
            "|    20/11/2017|         24.0|\n",
            "+--------------+-------------+\n",
            "\n"
          ]
        }
      ]
    },
    {
      "cell_type": "markdown",
      "source": [
        "**18** - Distribuição de Status de Emprego: Analisar a distribuição do status de emprego (ativo vs. não\n",
        "ativo)."
      ],
      "metadata": {
        "id": "mueCuKH4p6j8"
      }
    },
    {
      "cell_type": "code",
      "source": [
        "funcionarios_ativos = df.filter(col(\"Status de Emprego\") == \"Ativo\").count()\n",
        "print(f\"O total de funcionários ativos é {funcionarios_ativos}\")\n",
        "funcionarios_inativos = df.filter(col(\"Status de Emprego\") == \"Inativo\").count()\n",
        "print(f\"O total de funcionários inativos é {funcionarios_inativos}\")\n",
        "total_funcionarios = df.count()\n",
        "print(f\"O total de funcionários é {total_funcionarios}\")\n",
        "proporcao_ativos = funcionarios_ativos/total_funcionarios\n",
        "proporcao_inativos = funcionarios_inativos/total_funcionarios\n",
        "\n",
        "print(f\"A porporção de funcionários ativos é {proporcao_ativos} e a proporção de funcionários inativos é {proporcao_inativos}\")"
      ],
      "metadata": {
        "colab": {
          "base_uri": "https://localhost:8080/"
        },
        "id": "WtUtkPPRp-MC",
        "outputId": "0576a05a-4939-4db6-b710-baa97a2996f8"
      },
      "execution_count": null,
      "outputs": [
        {
          "output_type": "stream",
          "name": "stdout",
          "text": [
            "O total de funcionários ativos é 9\n",
            "O total de funcionários inativos é 2\n",
            "O total de funcionários é 11\n",
            "A porporção de funcionários ativos é 0.8181818181818182 e a proporção de funcionários inativos é 0.18181818181818182\n"
          ]
        }
      ]
    },
    {
      "cell_type": "markdown",
      "source": [
        "**19** - Criação de Coluna de Idade de Contratação: Criar uma coluna que calcule a idade do\n",
        "funcionário na época da contratação e analisar os dados."
      ],
      "metadata": {
        "id": "_CAwc8CQqzgD"
      }
    },
    {
      "cell_type": "code",
      "source": [
        "df = df.withColumn(\"Idade Contratação\", col(\"Idade\") - col(\"Total de Anos Trabalhados\"))\n",
        "df.show()\n",
        "\n",
        "#Idade média dos funcionários na contratação por departamento\n",
        "\n",
        "df_idade_analise = df.groupBy(\"Área\").agg(avg(\"Idade Contratação\").alias(\"Idade média de contratação\"), min(\"Idade Contratação\").alias(\"Idade Mínima de contratação\"), max(\"Idade Contratação\").alias(\"Idade máxima de contratação\"))\n",
        "df_idade_analise.show()\n",
        "\n",
        "#Salário médio por idade de contratação\n",
        "\n",
        "df_salario_idade = df.groupBy(\"Idade Contratação\").agg(avg(\"Salário\").alias(\"Salário médio\"))\n",
        "df_salario_idade.show()"
      ],
      "metadata": {
        "colab": {
          "base_uri": "https://localhost:8080/"
        },
        "id": "66raXUELq4JY",
        "outputId": "6e5c7096-bbd7-42b8-e696-3277ab1b219c"
      },
      "execution_count": null,
      "outputs": [
        {
          "output_type": "stream",
          "name": "stdout",
          "text": [
            "+---+--------------+-----+-------------+-------+-------------------+-----------------+----------------+--------------+------------------+-------------------------+------+-----------------+\n",
            "| ID|          Nome|Idade|         Área|Salário|Data de Contratação|Status de Emprego|Data Contratação|Data_Formatada|Ano de Contratação|Total de Anos Trabalhados|Gênero|Idade Contratação|\n",
            "+---+--------------+-----+-------------+-------+-------------------+-----------------+----------------+--------------+------------------+-------------------------+------+-----------------+\n",
            "|  1|    João Silva| 29.0|   Financeiro| 5500.0|         01/02/2020|            Ativo|      2020-02-01|    01/02/2020|              2020|                        4|     M|             25.0|\n",
            "|  2|   Maria Souza| 30.0|           Rh| 4800.0|         15-03-2019|            Ativo|      2019-03-15|    15/03/2019|              2019|                        5|     F|             25.0|\n",
            "|  3|Carlos Pereira| 29.0|   Financeiro| 6200.0|         2020/04/01|            Ativo|      2020-04-01|    01/04/2020|              2020|                        4|     M|             25.0|\n",
            "|  4|     Ana Clara| 27.0|    Marketing| 4800.0|         12/06/2018|            Ativo|      2018-06-12|    12/06/2018|              2018|                        6|     F|             21.0|\n",
            "|  5|  Fabio Santos| 31.0|Não Informado| 5500.0|         20-11-2017|            Ativo|      2017-11-20|    20/11/2017|              2017|                        7|     M|             24.0|\n",
            "|  6|   Sandra Lima| 28.0|           Rh| 5400.0|         05-05-2020|            Ativo|      2020-05-05|    05/05/2020|              2020|                        4|     F|             24.0|\n",
            "|  7|    José Alves| 34.0|    Marketing| 5400.0|         2018/02/01|          Inativo|      2018-02-01|    01/02/2018|              2018|                        6|     M|             28.0|\n",
            "|  8| Luciana Costa| 30.0|   Financeiro| 5200.0|         01.01.2019|            Ativo|      2019-01-01|    01/01/2019|              2019|                        5|     F|             25.0|\n",
            "|  9| Paulo Ricardo| 29.0|   Financeiro| 6100.0|         12/12/2020|          Inativo|      2020-12-12|    12/12/2020|              2020|                        4|     M|             25.0|\n",
            "| 10| Fernanda Dias| 29.0|           Rh| 4800.0|         20/01/2020|            Ativo|      2020-01-20|    20/01/2020|              2020|                        4|     F|             25.0|\n",
            "|  1|    João Silva| 29.0|   Financeiro| 5500.0|         01/02/2020|            Ativo|      2020-02-01|    01/02/2020|              2020|                        4|     M|             25.0|\n",
            "+---+--------------+-----+-------------+-------+-------------------+-----------------+----------------+--------------+------------------+-------------------------+------+-----------------+\n",
            "\n",
            "+-------------+--------------------------+---------------------------+---------------------------+\n",
            "|         Área|Idade média de contratação|Idade Mínima de contratação|Idade máxima de contratação|\n",
            "+-------------+--------------------------+---------------------------+---------------------------+\n",
            "|           Rh|        24.666666666666668|                       24.0|                       25.0|\n",
            "|Não Informado|                      24.0|                       24.0|                       24.0|\n",
            "|   Financeiro|                      25.0|                       25.0|                       25.0|\n",
            "|    Marketing|                      24.5|                       21.0|                       28.0|\n",
            "+-------------+--------------------------+---------------------------+---------------------------+\n",
            "\n",
            "+-----------------+-----------------+\n",
            "|Idade Contratação|    Salário médio|\n",
            "+-----------------+-----------------+\n",
            "|             25.0|5442.857142857143|\n",
            "|             21.0|           4800.0|\n",
            "|             28.0|           5400.0|\n",
            "|             24.0|           5450.0|\n",
            "+-----------------+-----------------+\n",
            "\n"
          ]
        }
      ]
    },
    {
      "cell_type": "markdown",
      "source": [
        "**20** - Análise de Promoções: Analisar possíveis promoções dentro da empresa ao comparar datas de\n",
        "contratação e aumentos salariais, se houvesse uma coluna histórica de salários."
      ],
      "metadata": {
        "id": "zh9mkaxVsNk2"
      }
    },
    {
      "cell_type": "code",
      "source": [
        "#Criar uma coluna com percentual de aumento de salário ao longo dos anos de trabalho\n",
        "\n",
        "aumento_salario = {\n",
        "    'João Silva' : 12.5,\n",
        "    'Maria Souza' : 15.5,\n",
        "    'Carlos Pereira' : 13.2,\n",
        "    'Ana Clara' : 18,\n",
        "    'Fabio Santos' : 14.5,\n",
        "    'Sandra Lima' : 8.9,\n",
        "    'José Alves' : 25,\n",
        "    'Luciana Costa' : 21,\n",
        "    'Paulo Ricardo' : 17.5,\n",
        "    'Fernanda Dias' : 13.5,\n",
        "    'João Silva' : 20\n",
        "}\n",
        "\n",
        "df = df.withColumn(\n",
        "    \"Percentual de Aumento\",\n",
        "    when(col(\"Nome\") == \"João Silva\", 12.5)\n",
        "    .when(col(\"Nome\") == \"Maria Souza\", 15.5)\n",
        "    .when(col(\"Nome\") == \"Carlos Pereira\", 13.2)\n",
        "    .when(col(\"Nome\") == \"Ana Clara\", 18)\n",
        "    .when(col(\"Nome\") == \"Fabio Santos\", 14.5)\n",
        "    .when(col(\"Nome\") == \"Sandra Lima\", 8.9)\n",
        "    .when(col(\"Nome\") == \"José Alves\", 25)\n",
        "    .when(col(\"Nome\") == \"Luciana Costa\", 21)\n",
        "    .when(col(\"Nome\") == \"Paulo Ricardo\", 17.5)\n",
        "    .when(col(\"Nome\") == \"Fernanda Dias\", 13.5)\n",
        "    .when(col(\"Nome\") == \"João Silva\", 20)\n",
        "    .otherwise(\"Desconhecido\")  # Caso algum nome não esteja no dicionário\n",
        ")\n",
        "\n",
        "df.show()\n",
        "\n",
        "\n",
        "# analisar quais funcionários devem ser promovidos de acordo com o total de anos trablhados e aumento, por exemplo, trabalhou 5 anos e teve aumento de 15%, vai ser promovido\n",
        "promocao = (col(\"Total de Anos Trabalhados\") >= 5) & (col(\"Percentual de Aumento\")> 13) &(col(\"Status de Emprego\") != \"Inativo\")\n",
        "df_funcionarios_promocao = df.filter(promocao)\n",
        "df_funcionarios_promocao.show()\n"
      ],
      "metadata": {
        "colab": {
          "base_uri": "https://localhost:8080/"
        },
        "id": "tZ2MuGzJsYZ6",
        "outputId": "9184779d-7a61-4fc3-a44d-60b53aeb0d02"
      },
      "execution_count": null,
      "outputs": [
        {
          "output_type": "stream",
          "name": "stdout",
          "text": [
            "+---+--------------+-----+-------------+-------+-------------------+-----------------+----------------+--------------+------------------+-------------------------+------+-----------------+---------------------+\n",
            "| ID|          Nome|Idade|         Área|Salário|Data de Contratação|Status de Emprego|Data Contratação|Data_Formatada|Ano de Contratação|Total de Anos Trabalhados|Gênero|Idade Contratação|Percentual de Aumento|\n",
            "+---+--------------+-----+-------------+-------+-------------------+-----------------+----------------+--------------+------------------+-------------------------+------+-----------------+---------------------+\n",
            "|  1|    João Silva| 29.0|   Financeiro| 5500.0|         01/02/2020|            Ativo|      2020-02-01|    01/02/2020|              2020|                        4|     M|             25.0|                 12.5|\n",
            "|  2|   Maria Souza| 30.0|           Rh| 4800.0|         15-03-2019|            Ativo|      2019-03-15|    15/03/2019|              2019|                        5|     F|             25.0|                 15.5|\n",
            "|  3|Carlos Pereira| 29.0|   Financeiro| 6200.0|         2020/04/01|            Ativo|      2020-04-01|    01/04/2020|              2020|                        4|     M|             25.0|                 13.2|\n",
            "|  4|     Ana Clara| 27.0|    Marketing| 4800.0|         12/06/2018|            Ativo|      2018-06-12|    12/06/2018|              2018|                        6|     F|             21.0|                   18|\n",
            "|  5|  Fabio Santos| 31.0|Não Informado| 5500.0|         20-11-2017|            Ativo|      2017-11-20|    20/11/2017|              2017|                        7|     M|             24.0|                 14.5|\n",
            "|  6|   Sandra Lima| 28.0|           Rh| 5400.0|         05-05-2020|            Ativo|      2020-05-05|    05/05/2020|              2020|                        4|     F|             24.0|                  8.9|\n",
            "|  7|    José Alves| 34.0|    Marketing| 5400.0|         2018/02/01|          Inativo|      2018-02-01|    01/02/2018|              2018|                        6|     M|             28.0|                   25|\n",
            "|  8| Luciana Costa| 30.0|   Financeiro| 5200.0|         01.01.2019|            Ativo|      2019-01-01|    01/01/2019|              2019|                        5|     F|             25.0|                   21|\n",
            "|  9| Paulo Ricardo| 29.0|   Financeiro| 6100.0|         12/12/2020|          Inativo|      2020-12-12|    12/12/2020|              2020|                        4|     M|             25.0|                 17.5|\n",
            "| 10| Fernanda Dias| 29.0|           Rh| 4800.0|         20/01/2020|            Ativo|      2020-01-20|    20/01/2020|              2020|                        4|     F|             25.0|                 13.5|\n",
            "|  1|    João Silva| 29.0|   Financeiro| 5500.0|         01/02/2020|            Ativo|      2020-02-01|    01/02/2020|              2020|                        4|     M|             25.0|                 12.5|\n",
            "+---+--------------+-----+-------------+-------+-------------------+-----------------+----------------+--------------+------------------+-------------------------+------+-----------------+---------------------+\n",
            "\n",
            "+---+-------------+-----+-------------+-------+-------------------+-----------------+----------------+--------------+------------------+-------------------------+------+-----------------+---------------------+\n",
            "| ID|         Nome|Idade|         Área|Salário|Data de Contratação|Status de Emprego|Data Contratação|Data_Formatada|Ano de Contratação|Total de Anos Trabalhados|Gênero|Idade Contratação|Percentual de Aumento|\n",
            "+---+-------------+-----+-------------+-------+-------------------+-----------------+----------------+--------------+------------------+-------------------------+------+-----------------+---------------------+\n",
            "|  2|  Maria Souza| 30.0|           Rh| 4800.0|         15-03-2019|            Ativo|      2019-03-15|    15/03/2019|              2019|                        5|     F|             25.0|                 15.5|\n",
            "|  4|    Ana Clara| 27.0|    Marketing| 4800.0|         12/06/2018|            Ativo|      2018-06-12|    12/06/2018|              2018|                        6|     F|             21.0|                   18|\n",
            "|  5| Fabio Santos| 31.0|Não Informado| 5500.0|         20-11-2017|            Ativo|      2017-11-20|    20/11/2017|              2017|                        7|     M|             24.0|                 14.5|\n",
            "|  8|Luciana Costa| 30.0|   Financeiro| 5200.0|         01.01.2019|            Ativo|      2019-01-01|    01/01/2019|              2019|                        5|     F|             25.0|                   21|\n",
            "+---+-------------+-----+-------------+-------+-------------------+-----------------+----------------+--------------+------------------+-------------------------+------+-----------------+---------------------+\n",
            "\n"
          ]
        }
      ]
    },
    {
      "cell_type": "markdown",
      "source": [
        "**21** - Análise de Desempenho Temporal: Verificar se o tempo de casa influencia o salário ou a\n",
        "permanência no emprego."
      ],
      "metadata": {
        "id": "eS0joWM2wpV1"
      }
    },
    {
      "cell_type": "code",
      "source": [
        "df_desempenho_temporal = df.groupBy(\"Total de Anos Trabalhados\").agg(avg(\"Salário\").alias(\"Salário médio\"))\n",
        "df_desempenho_temporal.show() #Não influencia, o funcionário com 4 anos de trabalho tem salário maior q o funcionário com 7 anos\n",
        "\n",
        "#correlação total de anos trabalhados/salário\n",
        "coeficiente_correlacao_salario = df.corr(\"Total de Anos Trabalhados\", \"Salário\")\n",
        "print(coeficiente_correlacao_salario) #correlação negativa, indicando que as duas variáveis são inversamente proporcionais e tem pouca correlação\n",
        "\n",
        "# Status de emprego\n",
        "\n",
        "df_status_anos_trabalho = df.select(\"Status de Emprego\", \"Total de Anos Trabalhados\")\n",
        "df_status_anos_trabalho.show()\n",
        "\n",
        "df_desempenho_status = df.groupBy(\"Status de Emprego\").agg(avg(\"Total de Anos Trabalhados\").alias(\"Média de anos trabalhados\"))\n",
        "df_desempenho_status.show()\n",
        "#Em geral funcionários ativos e inativos possuem média de anos trabalhados próximas\n"
      ],
      "metadata": {
        "colab": {
          "base_uri": "https://localhost:8080/"
        },
        "id": "OlMz5hH-wubf",
        "outputId": "ced3bf04-4f34-43d8-dc20-11b3b7b02c57"
      },
      "execution_count": null,
      "outputs": [
        {
          "output_type": "stream",
          "name": "stdout",
          "text": [
            "+-------------------------+-----------------+\n",
            "|Total de Anos Trabalhados|    Salário médio|\n",
            "+-------------------------+-----------------+\n",
            "|                        6|           5100.0|\n",
            "|                        5|           5000.0|\n",
            "|                        4|5583.333333333333|\n",
            "|                        7|           5500.0|\n",
            "+-------------------------+-----------------+\n",
            "\n",
            "-0.29851389937991696\n",
            "+-----------------+-------------------------+\n",
            "|Status de Emprego|Total de Anos Trabalhados|\n",
            "+-----------------+-------------------------+\n",
            "|            Ativo|                        4|\n",
            "|            Ativo|                        5|\n",
            "|            Ativo|                        4|\n",
            "|            Ativo|                        6|\n",
            "|            Ativo|                        7|\n",
            "|            Ativo|                        4|\n",
            "|          Inativo|                        6|\n",
            "|            Ativo|                        5|\n",
            "|          Inativo|                        4|\n",
            "|            Ativo|                        4|\n",
            "|            Ativo|                        4|\n",
            "+-----------------+-------------------------+\n",
            "\n",
            "+-----------------+-------------------------+\n",
            "|Status de Emprego|Média de anos trabalhados|\n",
            "+-----------------+-------------------------+\n",
            "|          Inativo|                      5.0|\n",
            "|            Ativo|        4.777777777777778|\n",
            "+-----------------+-------------------------+\n",
            "\n"
          ]
        }
      ]
    },
    {
      "cell_type": "markdown",
      "source": [
        "**22** - Filtragem por Data de Contratação: Identificar funcionários contratados em períodos específicos\n",
        "(e.g., antes de 2019, entre 2019-2020)."
      ],
      "metadata": {
        "id": "-_eZlD2WzkNi"
      }
    },
    {
      "cell_type": "code",
      "source": [
        "#2017 - 2020: anos de contratação\n",
        "\n",
        "df.dropna()\n",
        "\n",
        "data_limite = \"01/01/2019\"\n",
        "data_limite_conv = to_date(lit(data_limite), 'dd/MM/yyyy')\n",
        "df = df.withColumn(\"Data_Formatada\", to_date(col(\"Data_Formatada\"), 'dd/MM/yyyy'))\n",
        "\n",
        "df_funcionarios_2019 = df.filter(col('Data_Formatada') < data_limite_conv)\n",
        "df_funcionarios_2019.show()\n",
        "df_funcionarios_2020 = df.filter(col('Data_Formatada') >= data_limite_conv)\n",
        "df_funcionarios_2020.show()"
      ],
      "metadata": {
        "colab": {
          "base_uri": "https://localhost:8080/"
        },
        "id": "xh0j0_QpzoD7",
        "outputId": "a5e7bcd3-7743-41f5-ab56-eda258683cfc"
      },
      "execution_count": null,
      "outputs": [
        {
          "output_type": "stream",
          "name": "stdout",
          "text": [
            "+---+------------+-----+-------------+-------+-------------------+-----------------+----------------+--------------+------------------+-------------------------+------+-----------------+---------------------+\n",
            "| ID|        Nome|Idade|         Área|Salário|Data de Contratação|Status de Emprego|Data Contratação|Data_Formatada|Ano de Contratação|Total de Anos Trabalhados|Gênero|Idade Contratação|Percentual de Aumento|\n",
            "+---+------------+-----+-------------+-------+-------------------+-----------------+----------------+--------------+------------------+-------------------------+------+-----------------+---------------------+\n",
            "|  4|   Ana Clara| 27.0|    Marketing| 4800.0|         12/06/2018|            Ativo|      2018-06-12|    2018-06-12|              2018|                        6|     F|             21.0|                   18|\n",
            "|  5|Fabio Santos| 31.0|Não Informado| 5500.0|         20-11-2017|            Ativo|      2017-11-20|    2017-11-20|              2017|                        7|     M|             24.0|                 14.5|\n",
            "|  7|  José Alves| 34.0|    Marketing| 5400.0|         2018/02/01|          Inativo|      2018-02-01|    2018-02-01|              2018|                        6|     M|             28.0|                   25|\n",
            "+---+------------+-----+-------------+-------+-------------------+-----------------+----------------+--------------+------------------+-------------------------+------+-----------------+---------------------+\n",
            "\n",
            "+---+--------------+-----+----------+-------+-------------------+-----------------+----------------+--------------+------------------+-------------------------+------+-----------------+---------------------+\n",
            "| ID|          Nome|Idade|      Área|Salário|Data de Contratação|Status de Emprego|Data Contratação|Data_Formatada|Ano de Contratação|Total de Anos Trabalhados|Gênero|Idade Contratação|Percentual de Aumento|\n",
            "+---+--------------+-----+----------+-------+-------------------+-----------------+----------------+--------------+------------------+-------------------------+------+-----------------+---------------------+\n",
            "|  1|    João Silva| 29.0|Financeiro| 5500.0|         01/02/2020|            Ativo|      2020-02-01|    2020-02-01|              2020|                        4|     M|             25.0|                 12.5|\n",
            "|  2|   Maria Souza| 30.0|        Rh| 4800.0|         15-03-2019|            Ativo|      2019-03-15|    2019-03-15|              2019|                        5|     F|             25.0|                 15.5|\n",
            "|  3|Carlos Pereira| 29.0|Financeiro| 6200.0|         2020/04/01|            Ativo|      2020-04-01|    2020-04-01|              2020|                        4|     M|             25.0|                 13.2|\n",
            "|  6|   Sandra Lima| 28.0|        Rh| 5400.0|         05-05-2020|            Ativo|      2020-05-05|    2020-05-05|              2020|                        4|     F|             24.0|                  8.9|\n",
            "|  8| Luciana Costa| 30.0|Financeiro| 5200.0|         01.01.2019|            Ativo|      2019-01-01|    2019-01-01|              2019|                        5|     F|             25.0|                   21|\n",
            "|  9| Paulo Ricardo| 29.0|Financeiro| 6100.0|         12/12/2020|          Inativo|      2020-12-12|    2020-12-12|              2020|                        4|     M|             25.0|                 17.5|\n",
            "| 10| Fernanda Dias| 29.0|        Rh| 4800.0|         20/01/2020|            Ativo|      2020-01-20|    2020-01-20|              2020|                        4|     F|             25.0|                 13.5|\n",
            "|  1|    João Silva| 29.0|Financeiro| 5500.0|         01/02/2020|            Ativo|      2020-02-01|    2020-02-01|              2020|                        4|     M|             25.0|                 12.5|\n",
            "+---+--------------+-----+----------+-------+-------------------+-----------------+----------------+--------------+------------------+-------------------------+------+-----------------+---------------------+\n",
            "\n"
          ]
        }
      ]
    },
    {
      "cell_type": "markdown",
      "source": [
        "**23** - Análise de Status de Emprego e Tempo de Casa: Verificar a relação entre tempo de casa e status de emprego (ativo vs. não ativo)."
      ],
      "metadata": {
        "id": "G9Uov1PzLsoE"
      }
    },
    {
      "cell_type": "code",
      "source": [
        "df_trabalho_status = df.groupBy(\"Status de Emprego\").agg(avg(\"Total de Anos Trabalhados\").alias(\"Média de Anos Trabalhados\"), min(\"Total de Anos Trabalhados\").alias(\"Tempo mínimo de trabalho\"), max(\"Total de Anos Trabalhados\").alias(\"Máximo de anos trabalhados\"))\n",
        "df_trabalho_status.show()\n",
        "\n",
        "df_trabalho_status_area = df.groupBy(\"Status de Emprego\", \"Área\").agg(avg(\"Total de Anos Trabalhados\").alias(\"Média de Anos Trabalhados\"), min(\"Total de Anos Trabalhados\").alias(\"Tempo mínimo de trabalho\"), max(\"Total de Anos Trabalhados\").alias(\"Máximo de anos trabalhados\"))\n",
        "df_trabalho_status_area.show()"
      ],
      "metadata": {
        "colab": {
          "base_uri": "https://localhost:8080/"
        },
        "id": "O6siKKJSL3L4",
        "outputId": "ef5b3184-ad1e-411e-feb1-2fc01dcdf0e2"
      },
      "execution_count": null,
      "outputs": [
        {
          "output_type": "stream",
          "name": "stdout",
          "text": [
            "+-----------------+-------------------------+------------------------+--------------------------+\n",
            "|Status de Emprego|Média de Anos Trabalhados|Tempo mínimo de trabalho|Máximo de anos trabalhados|\n",
            "+-----------------+-------------------------+------------------------+--------------------------+\n",
            "|          Inativo|                      5.0|                       4|                         6|\n",
            "|            Ativo|        4.777777777777778|                       4|                         7|\n",
            "+-----------------+-------------------------+------------------------+--------------------------+\n",
            "\n",
            "+-----------------+-------------+-------------------------+------------------------+--------------------------+\n",
            "|Status de Emprego|         Área|Média de Anos Trabalhados|Tempo mínimo de trabalho|Máximo de anos trabalhados|\n",
            "+-----------------+-------------+-------------------------+------------------------+--------------------------+\n",
            "|            Ativo|   Financeiro|                     4.25|                       4|                         5|\n",
            "|          Inativo|   Financeiro|                      4.0|                       4|                         4|\n",
            "|            Ativo|Não Informado|                      7.0|                       7|                         7|\n",
            "|          Inativo|    Marketing|                      6.0|                       6|                         6|\n",
            "|            Ativo|           Rh|        4.333333333333333|                       4|                         5|\n",
            "|            Ativo|    Marketing|                      6.0|                       6|                         6|\n",
            "+-----------------+-------------+-------------------------+------------------------+--------------------------+\n",
            "\n"
          ]
        }
      ]
    },
    {
      "cell_type": "markdown",
      "source": [
        "**24** - . Identificação de Funcionários Veteranos: Encontrar os funcionários com maior tempo de casa e analisar seu impacto na empresa."
      ],
      "metadata": {
        "id": "fF8E3bfVNjT6"
      }
    },
    {
      "cell_type": "code",
      "source": [
        "df_funcionarios_veteranos = df.filter(col(\"Total de Anos Trabalhados\") >= 5).select((\"Nome\"), (\"Área\"), (\"Salário\"), (\"Status de Emprego\"))\n",
        "df_funcionarios_veteranos.show()\n",
        "\n",
        "# Verificar média do sálario desses funcionários\n",
        "df_veteranos_salario = df_funcionarios_veteranos.agg(avg(\"Salário\").alias(\"Salário médio\"))\n",
        "df_veteranos_gastototal = df_funcionarios_veteranos.agg(sum(\"Salário\").alias(\"Gasto total\"))\n",
        "df_veteranos_salario.show()\n",
        "df_veteranos_gastototal.show()"
      ],
      "metadata": {
        "colab": {
          "base_uri": "https://localhost:8080/"
        },
        "id": "_XfGTgE_NnEw",
        "outputId": "1218ba53-9111-41f0-cc51-e3ea750441e6"
      },
      "execution_count": null,
      "outputs": [
        {
          "output_type": "stream",
          "name": "stdout",
          "text": [
            "+-------------+-------------+-------+-----------------+\n",
            "|         Nome|         Área|Salário|Status de Emprego|\n",
            "+-------------+-------------+-------+-----------------+\n",
            "|  Maria Souza|           Rh| 4800.0|            Ativo|\n",
            "|    Ana Clara|    Marketing| 4800.0|            Ativo|\n",
            "| Fabio Santos|Não Informado| 5500.0|            Ativo|\n",
            "|   José Alves|    Marketing| 5400.0|          Inativo|\n",
            "|Luciana Costa|   Financeiro| 5200.0|            Ativo|\n",
            "+-------------+-------------+-------+-----------------+\n",
            "\n",
            "+-------------+\n",
            "|Salário médio|\n",
            "+-------------+\n",
            "|       5140.0|\n",
            "+-------------+\n",
            "\n",
            "+-----------+\n",
            "|Gasto total|\n",
            "+-----------+\n",
            "|    25700.0|\n",
            "+-----------+\n",
            "\n"
          ]
        }
      ]
    },
    {
      "cell_type": "markdown",
      "source": [
        "**25** - Análise de Tendências de Contratação: Identificar padrões de contratação ao longo do tempo, como sazonalidade."
      ],
      "metadata": {
        "id": "yGbDpp07PnIx"
      }
    },
    {
      "cell_type": "code",
      "source": [
        "# Extrair o mês de contratação de cada funcionário\n",
        "from pyspark.sql.functions import month\n",
        "\n",
        "df = df.withColumn(\"Mês de Contratação\", month(col(\"Data_Formatada\")))\n",
        "df.show()\n",
        "\n",
        "# Definir o número de contratações por determinado mês e ano\n",
        "df_sazonalidade_contratacao_ano = df.groupBy(\"Ano de Contratação\").agg(count(\"Nome\").alias(\"Número de Contratações\"))\n",
        "df_sazonalidade_contratacao_ano.show()\n",
        "\n",
        "df_sazonalidade_contratacao_mes = df.groupBy(\"Mês de Contratação\").agg(count(\"Nome\").alias(\"Número de Contratações\"))\n",
        "df_sazonalidade_contratacao_mes = df_sazonalidade_contratacao_mes.orderBy(\"Mês de Contratação\")\n",
        "df_sazonalidade_contratacao_mes.show()"
      ],
      "metadata": {
        "colab": {
          "base_uri": "https://localhost:8080/"
        },
        "id": "4oKZOBNgPq2S",
        "outputId": "5670954a-fa9c-4afc-a1be-51170249bdad"
      },
      "execution_count": null,
      "outputs": [
        {
          "output_type": "stream",
          "name": "stdout",
          "text": [
            "+---+--------------+-----+-------------+-------+-------------------+-----------------+----------------+--------------+------------------+-------------------------+------+-----------------+---------------------+------------------+\n",
            "| ID|          Nome|Idade|         Área|Salário|Data de Contratação|Status de Emprego|Data Contratação|Data_Formatada|Ano de Contratação|Total de Anos Trabalhados|Gênero|Idade Contratação|Percentual de Aumento|Mês de Contratação|\n",
            "+---+--------------+-----+-------------+-------+-------------------+-----------------+----------------+--------------+------------------+-------------------------+------+-----------------+---------------------+------------------+\n",
            "|  1|    João Silva| 29.0|   Financeiro| 5500.0|         01/02/2020|            Ativo|      2020-02-01|    2020-02-01|              2020|                        4|     M|             25.0|                 12.5|                 2|\n",
            "|  2|   Maria Souza| 30.0|           Rh| 4800.0|         15-03-2019|            Ativo|      2019-03-15|    2019-03-15|              2019|                        5|     F|             25.0|                 15.5|                 3|\n",
            "|  3|Carlos Pereira| 29.0|   Financeiro| 6200.0|         2020/04/01|            Ativo|      2020-04-01|    2020-04-01|              2020|                        4|     M|             25.0|                 13.2|                 4|\n",
            "|  4|     Ana Clara| 27.0|    Marketing| 4800.0|         12/06/2018|            Ativo|      2018-06-12|    2018-06-12|              2018|                        6|     F|             21.0|                   18|                 6|\n",
            "|  5|  Fabio Santos| 31.0|Não Informado| 5500.0|         20-11-2017|            Ativo|      2017-11-20|    2017-11-20|              2017|                        7|     M|             24.0|                 14.5|                11|\n",
            "|  6|   Sandra Lima| 28.0|           Rh| 5400.0|         05-05-2020|            Ativo|      2020-05-05|    2020-05-05|              2020|                        4|     F|             24.0|                  8.9|                 5|\n",
            "|  7|    José Alves| 34.0|    Marketing| 5400.0|         2018/02/01|          Inativo|      2018-02-01|    2018-02-01|              2018|                        6|     M|             28.0|                   25|                 2|\n",
            "|  8| Luciana Costa| 30.0|   Financeiro| 5200.0|         01.01.2019|            Ativo|      2019-01-01|    2019-01-01|              2019|                        5|     F|             25.0|                   21|                 1|\n",
            "|  9| Paulo Ricardo| 29.0|   Financeiro| 6100.0|         12/12/2020|          Inativo|      2020-12-12|    2020-12-12|              2020|                        4|     M|             25.0|                 17.5|                12|\n",
            "| 10| Fernanda Dias| 29.0|           Rh| 4800.0|         20/01/2020|            Ativo|      2020-01-20|    2020-01-20|              2020|                        4|     F|             25.0|                 13.5|                 1|\n",
            "|  1|    João Silva| 29.0|   Financeiro| 5500.0|         01/02/2020|            Ativo|      2020-02-01|    2020-02-01|              2020|                        4|     M|             25.0|                 12.5|                 2|\n",
            "+---+--------------+-----+-------------+-------+-------------------+-----------------+----------------+--------------+------------------+-------------------------+------+-----------------+---------------------+------------------+\n",
            "\n",
            "+------------------+----------------------+\n",
            "|Ano de Contratação|Número de Contratações|\n",
            "+------------------+----------------------+\n",
            "|              2018|                     2|\n",
            "|              2019|                     2|\n",
            "|              2020|                     6|\n",
            "|              2017|                     1|\n",
            "+------------------+----------------------+\n",
            "\n",
            "+------------------+----------------------+\n",
            "|Mês de Contratação|Número de Contratações|\n",
            "+------------------+----------------------+\n",
            "|                 1|                     2|\n",
            "|                 2|                     3|\n",
            "|                 3|                     1|\n",
            "|                 4|                     1|\n",
            "|                 5|                     1|\n",
            "|                 6|                     1|\n",
            "|                11|                     1|\n",
            "|                12|                     1|\n",
            "+------------------+----------------------+\n",
            "\n"
          ]
        }
      ]
    },
    {
      "cell_type": "markdown",
      "source": [
        "**26** - Salário Máximo e Mínimo por Departamento: Determinar os salários mais altos e mais baixos dentro de cada departamento"
      ],
      "metadata": {
        "id": "RbggdYAmRzew"
      }
    },
    {
      "cell_type": "code",
      "source": [
        "df_salario_area = df.groupBy(\"Área\").agg(max(\"Salário\").alias(\"Salário máximo\"), min(\"Salário\").alias(\"Salário Mínimo\"))\n",
        "df_salario_area.show()"
      ],
      "metadata": {
        "colab": {
          "base_uri": "https://localhost:8080/"
        },
        "id": "8fnvDK8MR2io",
        "outputId": "df725fb9-019c-42d2-96a3-d1e2f88c024e"
      },
      "execution_count": null,
      "outputs": [
        {
          "output_type": "stream",
          "name": "stdout",
          "text": [
            "+-------------+--------------+--------------+\n",
            "|         Área|Salário máximo|Salário Mínimo|\n",
            "+-------------+--------------+--------------+\n",
            "|           Rh|        5400.0|        4800.0|\n",
            "|Não Informado|        5500.0|        5500.0|\n",
            "|   Financeiro|        6200.0|        5200.0|\n",
            "|    Marketing|        5400.0|        4800.0|\n",
            "+-------------+--------------+--------------+\n",
            "\n"
          ]
        }
      ]
    },
    {
      "cell_type": "markdown",
      "source": [
        "**27** - Classificação de Funcionários por Salário: Criar rankings de funcionários por salário dentro de cada departamento."
      ],
      "metadata": {
        "id": "jrlA0Dm9SteI"
      }
    },
    {
      "cell_type": "code",
      "source": [
        "# Salário 2000 - 4000 --> Funcionário nível 1\n",
        "# Salário 4001 - 6000 --> Funcionário nível 2\n",
        "# Salário 6001 - 10000 --> Funcionário nível 3\n",
        "\n",
        "df = df.withColumn(\n",
        "    \"Nível do Funcionário\",\n",
        "    when((col(\"Salário\") >= 2000) & (col(\"Salário\") <= 4000), \"Funcionário Nível 1\")\n",
        "    .when((col(\"Salário\") >= 4001) & (col(\"Salário\") <= 6000), \"Funcionário Nível 2\")\n",
        "    .when((col(\"Salário\") >= 6001) & (col(\"Salário\") <= 10000), \"Funcionário Nível 3\")\n",
        "    .otherwise(\"Não classificado\")\n",
        ")\n",
        "\n",
        "df.show()\n",
        "df.select(\"Nome\", \"Salário\", \"Nível do Funcionário\").show()\n"
      ],
      "metadata": {
        "colab": {
          "base_uri": "https://localhost:8080/"
        },
        "id": "mDilO0nNSxD0",
        "outputId": "8668b66a-3894-4101-aebf-0ca8529489f2"
      },
      "execution_count": null,
      "outputs": [
        {
          "output_type": "stream",
          "name": "stdout",
          "text": [
            "+---+--------------+-----+-------------+-------+-------------------+-----------------+----------------+--------------+------------------+-------------------------+------+-----------------+---------------------+------------------+--------------------+\n",
            "| ID|          Nome|Idade|         Área|Salário|Data de Contratação|Status de Emprego|Data Contratação|Data_Formatada|Ano de Contratação|Total de Anos Trabalhados|Gênero|Idade Contratação|Percentual de Aumento|Mês de Contratação|Nível do Funcionário|\n",
            "+---+--------------+-----+-------------+-------+-------------------+-----------------+----------------+--------------+------------------+-------------------------+------+-----------------+---------------------+------------------+--------------------+\n",
            "|  1|    João Silva| 29.0|   Financeiro| 5500.0|         01/02/2020|            Ativo|      2020-02-01|    2020-02-01|              2020|                        4|     M|             25.0|                 12.5|                 2| Funcionário Nível 2|\n",
            "|  2|   Maria Souza| 30.0|           Rh| 4800.0|         15-03-2019|            Ativo|      2019-03-15|    2019-03-15|              2019|                        5|     F|             25.0|                 15.5|                 3| Funcionário Nível 2|\n",
            "|  3|Carlos Pereira| 29.0|   Financeiro| 6200.0|         2020/04/01|            Ativo|      2020-04-01|    2020-04-01|              2020|                        4|     M|             25.0|                 13.2|                 4| Funcionário Nível 3|\n",
            "|  4|     Ana Clara| 27.0|    Marketing| 4800.0|         12/06/2018|            Ativo|      2018-06-12|    2018-06-12|              2018|                        6|     F|             21.0|                   18|                 6| Funcionário Nível 2|\n",
            "|  5|  Fabio Santos| 31.0|Não Informado| 5500.0|         20-11-2017|            Ativo|      2017-11-20|    2017-11-20|              2017|                        7|     M|             24.0|                 14.5|                11| Funcionário Nível 2|\n",
            "|  6|   Sandra Lima| 28.0|           Rh| 5400.0|         05-05-2020|            Ativo|      2020-05-05|    2020-05-05|              2020|                        4|     F|             24.0|                  8.9|                 5| Funcionário Nível 2|\n",
            "|  7|    José Alves| 34.0|    Marketing| 5400.0|         2018/02/01|          Inativo|      2018-02-01|    2018-02-01|              2018|                        6|     M|             28.0|                   25|                 2| Funcionário Nível 2|\n",
            "|  8| Luciana Costa| 30.0|   Financeiro| 5200.0|         01.01.2019|            Ativo|      2019-01-01|    2019-01-01|              2019|                        5|     F|             25.0|                   21|                 1| Funcionário Nível 2|\n",
            "|  9| Paulo Ricardo| 29.0|   Financeiro| 6100.0|         12/12/2020|          Inativo|      2020-12-12|    2020-12-12|              2020|                        4|     M|             25.0|                 17.5|                12| Funcionário Nível 3|\n",
            "| 10| Fernanda Dias| 29.0|           Rh| 4800.0|         20/01/2020|            Ativo|      2020-01-20|    2020-01-20|              2020|                        4|     F|             25.0|                 13.5|                 1| Funcionário Nível 2|\n",
            "|  1|    João Silva| 29.0|   Financeiro| 5500.0|         01/02/2020|            Ativo|      2020-02-01|    2020-02-01|              2020|                        4|     M|             25.0|                 12.5|                 2| Funcionário Nível 2|\n",
            "+---+--------------+-----+-------------+-------+-------------------+-----------------+----------------+--------------+------------------+-------------------------+------+-----------------+---------------------+------------------+--------------------+\n",
            "\n",
            "+--------------+-------+--------------------+\n",
            "|          Nome|Salário|Nível do Funcionário|\n",
            "+--------------+-------+--------------------+\n",
            "|    João Silva| 5500.0| Funcionário Nível 2|\n",
            "|   Maria Souza| 4800.0| Funcionário Nível 2|\n",
            "|Carlos Pereira| 6200.0| Funcionário Nível 3|\n",
            "|     Ana Clara| 4800.0| Funcionário Nível 2|\n",
            "|  Fabio Santos| 5500.0| Funcionário Nível 2|\n",
            "|   Sandra Lima| 5400.0| Funcionário Nível 2|\n",
            "|    José Alves| 5400.0| Funcionário Nível 2|\n",
            "| Luciana Costa| 5200.0| Funcionário Nível 2|\n",
            "| Paulo Ricardo| 6100.0| Funcionário Nível 3|\n",
            "| Fernanda Dias| 4800.0| Funcionário Nível 2|\n",
            "|    João Silva| 5500.0| Funcionário Nível 2|\n",
            "+--------------+-------+--------------------+\n",
            "\n"
          ]
        }
      ]
    },
    {
      "cell_type": "markdown",
      "source": [
        "**28** - Projeção de Aposentadoria: Estimar o número de funcionários que podem se aposentar em breve com base na idade."
      ],
      "metadata": {
        "id": "zYM1FG5wUggK"
      }
    },
    {
      "cell_type": "code",
      "source": [
        "#Criar uma coluna com o total de anos até a aposentadoria, considerando que seja 60 anos\n",
        "from pyspark.sql.functions import expr\n",
        "\n",
        "idade_aposentadoria = 60\n",
        "\n",
        "df = df.withColumn(\n",
        "    \"Total de Anos Até Aposentadoria\",\n",
        "    expr(f\"{idade_aposentadoria} - Idade\")\n",
        ")\n",
        "\n",
        "df.show()\n",
        "\n",
        "df_aposentadoria = df.filter(col(\"Total de Anos Até Aposentadoria\") <= 10)\n",
        "df_aposentadoria.select(\"Nome\", \"Idade\", \"Total de Anos Até Aposentadoria\").show() #Ninguém"
      ],
      "metadata": {
        "colab": {
          "base_uri": "https://localhost:8080/"
        },
        "id": "YfteJyLlUj_4",
        "outputId": "d9dc34d9-ca98-45de-eb3b-0ab3948a4be7"
      },
      "execution_count": null,
      "outputs": [
        {
          "output_type": "stream",
          "name": "stdout",
          "text": [
            "+---+--------------+-----+-------------+-------+-------------------+-----------------+----------------+--------------+------------------+-------------------------+------+-----------------+---------------------+------------------+--------------------+-------------------------------+\n",
            "| ID|          Nome|Idade|         Área|Salário|Data de Contratação|Status de Emprego|Data Contratação|Data_Formatada|Ano de Contratação|Total de Anos Trabalhados|Gênero|Idade Contratação|Percentual de Aumento|Mês de Contratação|Nível do Funcionário|Total de Anos Até Aposentadoria|\n",
            "+---+--------------+-----+-------------+-------+-------------------+-----------------+----------------+--------------+------------------+-------------------------+------+-----------------+---------------------+------------------+--------------------+-------------------------------+\n",
            "|  1|    João Silva| 29.0|   Financeiro| 5500.0|         01/02/2020|            Ativo|      2020-02-01|    2020-02-01|              2020|                        4|     M|             25.0|                 12.5|                 2| Funcionário Nível 2|                           31.0|\n",
            "|  2|   Maria Souza| 30.0|           Rh| 4800.0|         15-03-2019|            Ativo|      2019-03-15|    2019-03-15|              2019|                        5|     F|             25.0|                 15.5|                 3| Funcionário Nível 2|                           30.0|\n",
            "|  3|Carlos Pereira| 29.0|   Financeiro| 6200.0|         2020/04/01|            Ativo|      2020-04-01|    2020-04-01|              2020|                        4|     M|             25.0|                 13.2|                 4| Funcionário Nível 3|                           31.0|\n",
            "|  4|     Ana Clara| 27.0|    Marketing| 4800.0|         12/06/2018|            Ativo|      2018-06-12|    2018-06-12|              2018|                        6|     F|             21.0|                   18|                 6| Funcionário Nível 2|                           33.0|\n",
            "|  5|  Fabio Santos| 31.0|Não Informado| 5500.0|         20-11-2017|            Ativo|      2017-11-20|    2017-11-20|              2017|                        7|     M|             24.0|                 14.5|                11| Funcionário Nível 2|                           29.0|\n",
            "|  6|   Sandra Lima| 28.0|           Rh| 5400.0|         05-05-2020|            Ativo|      2020-05-05|    2020-05-05|              2020|                        4|     F|             24.0|                  8.9|                 5| Funcionário Nível 2|                           32.0|\n",
            "|  7|    José Alves| 34.0|    Marketing| 5400.0|         2018/02/01|          Inativo|      2018-02-01|    2018-02-01|              2018|                        6|     M|             28.0|                   25|                 2| Funcionário Nível 2|                           26.0|\n",
            "|  8| Luciana Costa| 30.0|   Financeiro| 5200.0|         01.01.2019|            Ativo|      2019-01-01|    2019-01-01|              2019|                        5|     F|             25.0|                   21|                 1| Funcionário Nível 2|                           30.0|\n",
            "|  9| Paulo Ricardo| 29.0|   Financeiro| 6100.0|         12/12/2020|          Inativo|      2020-12-12|    2020-12-12|              2020|                        4|     M|             25.0|                 17.5|                12| Funcionário Nível 3|                           31.0|\n",
            "| 10| Fernanda Dias| 29.0|           Rh| 4800.0|         20/01/2020|            Ativo|      2020-01-20|    2020-01-20|              2020|                        4|     F|             25.0|                 13.5|                 1| Funcionário Nível 2|                           31.0|\n",
            "|  1|    João Silva| 29.0|   Financeiro| 5500.0|         01/02/2020|            Ativo|      2020-02-01|    2020-02-01|              2020|                        4|     M|             25.0|                 12.5|                 2| Funcionário Nível 2|                           31.0|\n",
            "+---+--------------+-----+-------------+-------+-------------------+-----------------+----------------+--------------+------------------+-------------------------+------+-----------------+---------------------+------------------+--------------------+-------------------------------+\n",
            "\n",
            "+----+-----+-------------------------------+\n",
            "|Nome|Idade|Total de Anos Até Aposentadoria|\n",
            "+----+-----+-------------------------------+\n",
            "+----+-----+-------------------------------+\n",
            "\n"
          ]
        }
      ]
    },
    {
      "cell_type": "markdown",
      "source": [
        "**29** - Segmentação de Funcionários por Faixa Salarial: Agrupar funcionários em faixas salariais (e.g., 2000-3000, 3001-4000) e analisar a distribuição."
      ],
      "metadata": {
        "id": "JvQKDHlJV4Nv"
      }
    },
    {
      "cell_type": "code",
      "source": [
        "df = df.withColumn(\n",
        "    \"Faixa Salarial\",\n",
        "    when((col(\"Salário\") >= 2000) & (col(\"Salário\") <= 3000), \"Faixa 2000 - 3000\")\n",
        "    .when((col(\"Salário\") >= 3001) & (col(\"Salário\") <= 4000), \"Faixa 3001 - 4000\")\n",
        "    .when((col(\"Salário\") >= 4001) & (col(\"Salário\") <= 5000), \"Faixa 4001 - 5000\")\n",
        "    .when((col(\"Salário\") >= 5001) & (col(\"Salário\") <= 6000), \"Faixa 5001 - 6000\")\n",
        "    .when((col(\"Salário\") >= 6001) & (col(\"Salário\") <= 7000), \"Faixa 6001 - 7000\")\n",
        "    .otherwise(\"Não classificado\")\n",
        ")\n",
        "\n",
        "df.show()\n",
        "\n",
        "#Contar a quantidade cada funcionarios em cada faixa\n",
        "\n",
        "df_faixa_funcionarios = df.groupBy(\"Faixa Salarial\").agg(count(\"Nome\").alias(\"Total de Funcionários\"))\n",
        "df_faixa_funcionarios.show()"
      ],
      "metadata": {
        "colab": {
          "base_uri": "https://localhost:8080/"
        },
        "id": "0sigTqH-V8aE",
        "outputId": "63642cd6-8394-41d7-ecac-09f049fe3f39"
      },
      "execution_count": null,
      "outputs": [
        {
          "output_type": "stream",
          "name": "stdout",
          "text": [
            "+---+--------------+-----+-------------+-------+-------------------+-----------------+----------------+--------------+------------------+-------------------------+------+-----------------+---------------------+------------------+--------------------+-------------------------------+-----------------+\n",
            "| ID|          Nome|Idade|         Área|Salário|Data de Contratação|Status de Emprego|Data Contratação|Data_Formatada|Ano de Contratação|Total de Anos Trabalhados|Gênero|Idade Contratação|Percentual de Aumento|Mês de Contratação|Nível do Funcionário|Total de Anos Até Aposentadoria|   Faixa Salarial|\n",
            "+---+--------------+-----+-------------+-------+-------------------+-----------------+----------------+--------------+------------------+-------------------------+------+-----------------+---------------------+------------------+--------------------+-------------------------------+-----------------+\n",
            "|  1|    João Silva| 29.0|   Financeiro| 5500.0|         01/02/2020|            Ativo|      2020-02-01|    2020-02-01|              2020|                        4|     M|             25.0|                 12.5|                 2| Funcionário Nível 2|                           31.0|Faixa 5001 - 6000|\n",
            "|  2|   Maria Souza| 30.0|           Rh| 4800.0|         15-03-2019|            Ativo|      2019-03-15|    2019-03-15|              2019|                        5|     F|             25.0|                 15.5|                 3| Funcionário Nível 2|                           30.0|Faixa 4001 - 5000|\n",
            "|  3|Carlos Pereira| 29.0|   Financeiro| 6200.0|         2020/04/01|            Ativo|      2020-04-01|    2020-04-01|              2020|                        4|     M|             25.0|                 13.2|                 4| Funcionário Nível 3|                           31.0|Faixa 6001 - 7000|\n",
            "|  4|     Ana Clara| 27.0|    Marketing| 4800.0|         12/06/2018|            Ativo|      2018-06-12|    2018-06-12|              2018|                        6|     F|             21.0|                   18|                 6| Funcionário Nível 2|                           33.0|Faixa 4001 - 5000|\n",
            "|  5|  Fabio Santos| 31.0|Não Informado| 5500.0|         20-11-2017|            Ativo|      2017-11-20|    2017-11-20|              2017|                        7|     M|             24.0|                 14.5|                11| Funcionário Nível 2|                           29.0|Faixa 5001 - 6000|\n",
            "|  6|   Sandra Lima| 28.0|           Rh| 5400.0|         05-05-2020|            Ativo|      2020-05-05|    2020-05-05|              2020|                        4|     F|             24.0|                  8.9|                 5| Funcionário Nível 2|                           32.0|Faixa 5001 - 6000|\n",
            "|  7|    José Alves| 34.0|    Marketing| 5400.0|         2018/02/01|          Inativo|      2018-02-01|    2018-02-01|              2018|                        6|     M|             28.0|                   25|                 2| Funcionário Nível 2|                           26.0|Faixa 5001 - 6000|\n",
            "|  8| Luciana Costa| 30.0|   Financeiro| 5200.0|         01.01.2019|            Ativo|      2019-01-01|    2019-01-01|              2019|                        5|     F|             25.0|                   21|                 1| Funcionário Nível 2|                           30.0|Faixa 5001 - 6000|\n",
            "|  9| Paulo Ricardo| 29.0|   Financeiro| 6100.0|         12/12/2020|          Inativo|      2020-12-12|    2020-12-12|              2020|                        4|     M|             25.0|                 17.5|                12| Funcionário Nível 3|                           31.0|Faixa 6001 - 7000|\n",
            "| 10| Fernanda Dias| 29.0|           Rh| 4800.0|         20/01/2020|            Ativo|      2020-01-20|    2020-01-20|              2020|                        4|     F|             25.0|                 13.5|                 1| Funcionário Nível 2|                           31.0|Faixa 4001 - 5000|\n",
            "|  1|    João Silva| 29.0|   Financeiro| 5500.0|         01/02/2020|            Ativo|      2020-02-01|    2020-02-01|              2020|                        4|     M|             25.0|                 12.5|                 2| Funcionário Nível 2|                           31.0|Faixa 5001 - 6000|\n",
            "+---+--------------+-----+-------------+-------+-------------------+-----------------+----------------+--------------+------------------+-------------------------+------+-----------------+---------------------+------------------+--------------------+-------------------------------+-----------------+\n",
            "\n",
            "+-----------------+---------------------+\n",
            "|   Faixa Salarial|Total de Funcionários|\n",
            "+-----------------+---------------------+\n",
            "|Faixa 6001 - 7000|                    2|\n",
            "|Faixa 4001 - 5000|                    3|\n",
            "|Faixa 5001 - 6000|                    6|\n",
            "+-----------------+---------------------+\n",
            "\n"
          ]
        }
      ]
    },
    {
      "cell_type": "markdown",
      "source": [
        "**30** - . Análise de Equidade Salarial: Verificar se há desigualdade salarial dentro de departamentos específicos."
      ],
      "metadata": {
        "id": "2w3a92Nacg0F"
      }
    },
    {
      "cell_type": "code",
      "source": [
        "# equidade salarial entre os departamentos de marketing e financeiro\n",
        "\n",
        "df_financeiro_marketing = df.filter(col(\"Área\").isin(\"Financeiro\", \"Marketing\"))\n",
        "df_financeiro_marketing.show()\n",
        "df_equiadade_salarial = df_financeiro_marketing.groupBy(\"Área\").agg(avg(\"Salário\").alias(\"Média Salarial\"), min(\"Salário\").alias(\"Salário Mínimo\"), max(\"Salário\").alias(\"Salário Máximo\"))\n",
        "df_equiadade_salarial.show()"
      ],
      "metadata": {
        "colab": {
          "base_uri": "https://localhost:8080/"
        },
        "id": "jkd4TPGXckrt",
        "outputId": "69680a25-2d83-48ce-fbd6-a64d8d0fdd73"
      },
      "execution_count": null,
      "outputs": [
        {
          "output_type": "stream",
          "name": "stdout",
          "text": [
            "+---+--------------+-----+----------+-------+-------------------+-----------------+----------------+--------------+------------------+-------------------------+------+-----------------+---------------------+------------------+--------------------+-------------------------------+-----------------+\n",
            "| ID|          Nome|Idade|      Área|Salário|Data de Contratação|Status de Emprego|Data Contratação|Data_Formatada|Ano de Contratação|Total de Anos Trabalhados|Gênero|Idade Contratação|Percentual de Aumento|Mês de Contratação|Nível do Funcionário|Total de Anos Até Aposentadoria|   Faixa Salarial|\n",
            "+---+--------------+-----+----------+-------+-------------------+-----------------+----------------+--------------+------------------+-------------------------+------+-----------------+---------------------+------------------+--------------------+-------------------------------+-----------------+\n",
            "|  1|    João Silva| 29.0|Financeiro| 5500.0|         01/02/2020|            Ativo|      2020-02-01|    2020-02-01|              2020|                        4|     M|             25.0|                 12.5|                 2| Funcionário Nível 2|                           31.0|Faixa 5001 - 6000|\n",
            "|  3|Carlos Pereira| 29.0|Financeiro| 6200.0|         2020/04/01|            Ativo|      2020-04-01|    2020-04-01|              2020|                        4|     M|             25.0|                 13.2|                 4| Funcionário Nível 3|                           31.0|Faixa 6001 - 7000|\n",
            "|  4|     Ana Clara| 27.0| Marketing| 4800.0|         12/06/2018|            Ativo|      2018-06-12|    2018-06-12|              2018|                        6|     F|             21.0|                   18|                 6| Funcionário Nível 2|                           33.0|Faixa 4001 - 5000|\n",
            "|  7|    José Alves| 34.0| Marketing| 5400.0|         2018/02/01|          Inativo|      2018-02-01|    2018-02-01|              2018|                        6|     M|             28.0|                   25|                 2| Funcionário Nível 2|                           26.0|Faixa 5001 - 6000|\n",
            "|  8| Luciana Costa| 30.0|Financeiro| 5200.0|         01.01.2019|            Ativo|      2019-01-01|    2019-01-01|              2019|                        5|     F|             25.0|                   21|                 1| Funcionário Nível 2|                           30.0|Faixa 5001 - 6000|\n",
            "|  9| Paulo Ricardo| 29.0|Financeiro| 6100.0|         12/12/2020|          Inativo|      2020-12-12|    2020-12-12|              2020|                        4|     M|             25.0|                 17.5|                12| Funcionário Nível 3|                           31.0|Faixa 6001 - 7000|\n",
            "|  1|    João Silva| 29.0|Financeiro| 5500.0|         01/02/2020|            Ativo|      2020-02-01|    2020-02-01|              2020|                        4|     M|             25.0|                 12.5|                 2| Funcionário Nível 2|                           31.0|Faixa 5001 - 6000|\n",
            "+---+--------------+-----+----------+-------+-------------------+-----------------+----------------+--------------+------------------+-------------------------+------+-----------------+---------------------+------------------+--------------------+-------------------------------+-----------------+\n",
            "\n",
            "+----------+--------------+--------------+--------------+\n",
            "|      Área|Média Salarial|Salário Mínimo|Salário Máximo|\n",
            "+----------+--------------+--------------+--------------+\n",
            "|Financeiro|        5700.0|        5200.0|        6200.0|\n",
            "| Marketing|        5100.0|        4800.0|        5400.0|\n",
            "+----------+--------------+--------------+--------------+\n",
            "\n"
          ]
        }
      ]
    },
    {
      "cell_type": "markdown",
      "source": [
        "**31** - Comparação de Salários por Período de Contratação: Comparar os salários de funcionários contratados em diferentes anos para identificar tendências de aumento salarial."
      ],
      "metadata": {
        "id": "8xfwbeDmfs3U"
      }
    },
    {
      "cell_type": "code",
      "source": [
        "df_comparar_salarios = df.groupBy(\"Ano de Contratação\").agg(avg(\"Salário\").alias(\"Média Salarial\"), min(\"Salário\").alias(\"Salário Mínimo\"), max(\"Salário\").alias(\"Salário Máximo\"))\n",
        "df_comparar_salarios.show()\n"
      ],
      "metadata": {
        "colab": {
          "base_uri": "https://localhost:8080/"
        },
        "id": "EAREYkE3gDjE",
        "outputId": "37c4e37c-b175-451f-f21a-36ce26efac1b"
      },
      "execution_count": null,
      "outputs": [
        {
          "output_type": "stream",
          "name": "stdout",
          "text": [
            "+------------------+-----------------+--------------+--------------+\n",
            "|Ano de Contratação|   Média Salarial|Salário Mínimo|Salário Máximo|\n",
            "+------------------+-----------------+--------------+--------------+\n",
            "|              2018|           5100.0|        4800.0|        5400.0|\n",
            "|              2019|           5000.0|        4800.0|        5200.0|\n",
            "|              2020|5583.333333333333|        4800.0|        6200.0|\n",
            "|              2017|           5500.0|        5500.0|        5500.0|\n",
            "+------------------+-----------------+--------------+--------------+\n",
            "\n"
          ]
        }
      ]
    },
    {
      "cell_type": "markdown",
      "source": [
        "**32** - Criação de Coluna de Faixa Etária: Agrupar os funcionários em faixas etárias (e.g., 20-30 anos, 31-40 anos) e analisar diferenças entre elas."
      ],
      "metadata": {
        "id": "mVeTceesgsLM"
      }
    },
    {
      "cell_type": "code",
      "source": [
        "df = df.withColumn(\n",
        "    \"Faixa Etária\",\n",
        "    when((col(\"Idade\") >= 20) & (col(\"Idade\") <= 3000), \"Faixa 20 - 30 anos\")\n",
        "    .when((col(\"Idade\") >= 31) & (col(\"Idade\") <= 40), \"Faixa 31 - 40 anos\")\n",
        "    .when((col(\"Idade\") >= 41) & (col(\"Idade\") <= 50), \"Faixa 41 - 50 anos\")\n",
        "    .when((col(\"Idade\") >= 51) & (col(\"Idade\") <= 60), \"Faixa 51 - 60 anos\")\n",
        "    .otherwise(\"Não classificado\")\n",
        ")\n",
        "\n",
        "df.show()\n",
        "\n",
        "#Diferença salarial entre as faixas etárias\n",
        "\n",
        "df_salario_faixa_etaria = df.groupBy(\"Faixa Etária\").agg(avg(\"Salário\").alias(\"Média Salarial\"), min(\"Salário\").alias(\"Salário Mínimo\"), max(\"Salário\").alias(\"Salário Máximo\"))\n",
        "df_salario_faixa_etaria.show()\n",
        "\n",
        "#Diferença etária entre departamentos\n",
        "\n",
        "df_area_faixa_etaria = df.groupBy(\"Área\", \"Faixa Etária\").agg(count(\"Nome\").alias(\"Total de funcionários\")).show()"
      ],
      "metadata": {
        "colab": {
          "base_uri": "https://localhost:8080/"
        },
        "id": "9715d5Ingva7",
        "outputId": "507612df-6410-4937-a37c-8c4cfa5b0438"
      },
      "execution_count": null,
      "outputs": [
        {
          "output_type": "stream",
          "name": "stdout",
          "text": [
            "+---+--------------+-----+-------------+-------+-------------------+-----------------+----------------+--------------+------------------+-------------------------+------+-----------------+---------------------+------------------+--------------------+-------------------------------+-----------------+------------------+\n",
            "| ID|          Nome|Idade|         Área|Salário|Data de Contratação|Status de Emprego|Data Contratação|Data_Formatada|Ano de Contratação|Total de Anos Trabalhados|Gênero|Idade Contratação|Percentual de Aumento|Mês de Contratação|Nível do Funcionário|Total de Anos Até Aposentadoria|   Faixa Salarial|      Faixa Etária|\n",
            "+---+--------------+-----+-------------+-------+-------------------+-----------------+----------------+--------------+------------------+-------------------------+------+-----------------+---------------------+------------------+--------------------+-------------------------------+-----------------+------------------+\n",
            "|  1|    João Silva| 29.0|   Financeiro| 5500.0|         01/02/2020|            Ativo|      2020-02-01|    2020-02-01|              2020|                        4|     M|             25.0|                 12.5|                 2| Funcionário Nível 2|                           31.0|Faixa 5001 - 6000|Faixa 20 - 30 anos|\n",
            "|  2|   Maria Souza| 30.0|           Rh| 4800.0|         15-03-2019|            Ativo|      2019-03-15|    2019-03-15|              2019|                        5|     F|             25.0|                 15.5|                 3| Funcionário Nível 2|                           30.0|Faixa 4001 - 5000|Faixa 20 - 30 anos|\n",
            "|  3|Carlos Pereira| 29.0|   Financeiro| 6200.0|         2020/04/01|            Ativo|      2020-04-01|    2020-04-01|              2020|                        4|     M|             25.0|                 13.2|                 4| Funcionário Nível 3|                           31.0|Faixa 6001 - 7000|Faixa 20 - 30 anos|\n",
            "|  4|     Ana Clara| 27.0|    Marketing| 4800.0|         12/06/2018|            Ativo|      2018-06-12|    2018-06-12|              2018|                        6|     F|             21.0|                   18|                 6| Funcionário Nível 2|                           33.0|Faixa 4001 - 5000|Faixa 20 - 30 anos|\n",
            "|  5|  Fabio Santos| 31.0|Não Informado| 5500.0|         20-11-2017|            Ativo|      2017-11-20|    2017-11-20|              2017|                        7|     M|             24.0|                 14.5|                11| Funcionário Nível 2|                           29.0|Faixa 5001 - 6000|Faixa 20 - 30 anos|\n",
            "|  6|   Sandra Lima| 28.0|           Rh| 5400.0|         05-05-2020|            Ativo|      2020-05-05|    2020-05-05|              2020|                        4|     F|             24.0|                  8.9|                 5| Funcionário Nível 2|                           32.0|Faixa 5001 - 6000|Faixa 20 - 30 anos|\n",
            "|  7|    José Alves| 34.0|    Marketing| 5400.0|         2018/02/01|          Inativo|      2018-02-01|    2018-02-01|              2018|                        6|     M|             28.0|                   25|                 2| Funcionário Nível 2|                           26.0|Faixa 5001 - 6000|Faixa 20 - 30 anos|\n",
            "|  8| Luciana Costa| 30.0|   Financeiro| 5200.0|         01.01.2019|            Ativo|      2019-01-01|    2019-01-01|              2019|                        5|     F|             25.0|                   21|                 1| Funcionário Nível 2|                           30.0|Faixa 5001 - 6000|Faixa 20 - 30 anos|\n",
            "|  9| Paulo Ricardo| 29.0|   Financeiro| 6100.0|         12/12/2020|          Inativo|      2020-12-12|    2020-12-12|              2020|                        4|     M|             25.0|                 17.5|                12| Funcionário Nível 3|                           31.0|Faixa 6001 - 7000|Faixa 20 - 30 anos|\n",
            "| 10| Fernanda Dias| 29.0|           Rh| 4800.0|         20/01/2020|            Ativo|      2020-01-20|    2020-01-20|              2020|                        4|     F|             25.0|                 13.5|                 1| Funcionário Nível 2|                           31.0|Faixa 4001 - 5000|Faixa 20 - 30 anos|\n",
            "|  1|    João Silva| 29.0|   Financeiro| 5500.0|         01/02/2020|            Ativo|      2020-02-01|    2020-02-01|              2020|                        4|     M|             25.0|                 12.5|                 2| Funcionário Nível 2|                           31.0|Faixa 5001 - 6000|Faixa 20 - 30 anos|\n",
            "+---+--------------+-----+-------------+-------+-------------------+-----------------+----------------+--------------+------------------+-------------------------+------+-----------------+---------------------+------------------+--------------------+-------------------------------+-----------------+------------------+\n",
            "\n",
            "+------------------+-----------------+--------------+--------------+\n",
            "|      Faixa Etária|   Média Salarial|Salário Mínimo|Salário Máximo|\n",
            "+------------------+-----------------+--------------+--------------+\n",
            "|Faixa 20 - 30 anos|5381.818181818182|        4800.0|        6200.0|\n",
            "+------------------+-----------------+--------------+--------------+\n",
            "\n",
            "+-------------+------------------+---------------------+\n",
            "|         Área|      Faixa Etária|Total de funcionários|\n",
            "+-------------+------------------+---------------------+\n",
            "|    Marketing|Faixa 20 - 30 anos|                    2|\n",
            "|   Financeiro|Faixa 20 - 30 anos|                    5|\n",
            "|Não Informado|Faixa 20 - 30 anos|                    1|\n",
            "|           Rh|Faixa 20 - 30 anos|                    3|\n",
            "+-------------+------------------+---------------------+\n",
            "\n"
          ]
        }
      ]
    },
    {
      "cell_type": "markdown",
      "source": [
        "**33** - Relação Entre Área e Tempo de Contratação: Identificar se alguns departamentos tendem a manter seus funcionários por mais tempo do que outros."
      ],
      "metadata": {
        "id": "krpxyzu6vDhX"
      }
    },
    {
      "cell_type": "code",
      "source": [
        "df_area_tempo_contrato = df.groupBy(\"Área\").agg(avg(\"Total de Anos Trabalhados\").alias(\"Média de Anos Trabalhados\"))\n",
        "df_area_tempo_contrato.show()"
      ],
      "metadata": {
        "colab": {
          "base_uri": "https://localhost:8080/"
        },
        "id": "xLzuOeCxvIqe",
        "outputId": "9cac5c28-ff60-4795-fbf4-59c48d27a4ba"
      },
      "execution_count": null,
      "outputs": [
        {
          "output_type": "stream",
          "name": "stdout",
          "text": [
            "+-------------+-------------------------+\n",
            "|         Área|Média de Anos Trabalhados|\n",
            "+-------------+-------------------------+\n",
            "|           Rh|        4.333333333333333|\n",
            "|Não Informado|                      7.0|\n",
            "|   Financeiro|                      4.2|\n",
            "|    Marketing|                      6.0|\n",
            "+-------------+-------------------------+\n",
            "\n"
          ]
        }
      ]
    },
    {
      "cell_type": "markdown",
      "source": [
        "**34** - Previsão de Turnover: Usar dados históricos para prever quais funcionários têm maior probabilidade de deixar a empresa."
      ],
      "metadata": {
        "id": "_MqEBN2Jw8t4"
      }
    },
    {
      "cell_type": "code",
      "source": [
        "df_turnover = df.groupBy(\"Status de Emprego\").agg(avg(\"Total de Anos Trabalhados\").alias(\"Média de Anos Trabalhados\")).show()\n",
        "\n",
        "#Média de anos trabalhados de funcionários inativos é de 5 anos\n",
        "\n",
        "#Determinar funcionários que tem mais de 5 anos de casa\n",
        "\n",
        "df_funcionarios_previsao = df.filter(col(\"Total de Anos Trabalhados\") >= 5).select(\"Nome\", \"Área\", \"Ano de Contratação\")\n",
        "df_funcionarios_previsao.show()\n"
      ],
      "metadata": {
        "colab": {
          "base_uri": "https://localhost:8080/"
        },
        "id": "3PGEeG5kxBJN",
        "outputId": "61c757fa-ac22-4a44-a179-d956999e7c81"
      },
      "execution_count": null,
      "outputs": [
        {
          "output_type": "stream",
          "name": "stdout",
          "text": [
            "+-----------------+-------------------------+\n",
            "|Status de Emprego|Média de Anos Trabalhados|\n",
            "+-----------------+-------------------------+\n",
            "|          Inativo|                      5.0|\n",
            "|            Ativo|        4.777777777777778|\n",
            "+-----------------+-------------------------+\n",
            "\n",
            "+-------------+-------------+------------------+\n",
            "|         Nome|         Área|Ano de Contratação|\n",
            "+-------------+-------------+------------------+\n",
            "|  Maria Souza|           Rh|              2019|\n",
            "|    Ana Clara|    Marketing|              2018|\n",
            "| Fabio Santos|Não Informado|              2017|\n",
            "|   José Alves|    Marketing|              2018|\n",
            "|Luciana Costa|   Financeiro|              2019|\n",
            "+-------------+-------------+------------------+\n",
            "\n"
          ]
        }
      ]
    },
    {
      "cell_type": "markdown",
      "source": [
        "**35** - Análise de Homogeneidade Salarial: Verificar a homogeneidade dos salários dentro de cada departamento."
      ],
      "metadata": {
        "id": "bqymbsv30tpd"
      }
    },
    {
      "cell_type": "code",
      "source": [
        "df_homogeneidade_salarial = df.groupBy(\"Área\").agg(avg(\"Salário\").alias(\"Média Salarial\"), min(\"Salário\").alias(\"Salário Mínimo\"), max(\"Salário\").alias(\"Salário Máximo\"), stddev(\"Salário\").alias(\"Desvio Padrão\"))\n",
        "df_homogeneidade_salarial.show()"
      ],
      "metadata": {
        "colab": {
          "base_uri": "https://localhost:8080/"
        },
        "id": "GCkcJUEc0xgN",
        "outputId": "f6ed2217-0843-4cc6-bbc3-4e35af4c8a4d"
      },
      "execution_count": null,
      "outputs": [
        {
          "output_type": "stream",
          "name": "stdout",
          "text": [
            "+-------------+--------------+--------------+--------------+------------------+\n",
            "|         Área|Média Salarial|Salário Mínimo|Salário Máximo|     Desvio Padrão|\n",
            "+-------------+--------------+--------------+--------------+------------------+\n",
            "|           Rh|        5000.0|        4800.0|        5400.0|346.41016151377545|\n",
            "|Não Informado|        5500.0|        5500.0|        5500.0|              null|\n",
            "|   Financeiro|        5700.0|        5200.0|        6200.0| 430.1162633521314|\n",
            "|    Marketing|        5100.0|        4800.0|        5400.0|424.26406871192853|\n",
            "+-------------+--------------+--------------+--------------+------------------+\n",
            "\n"
          ]
        }
      ]
    },
    {
      "cell_type": "markdown",
      "source": [
        "**36** - Detecção de Funcionários Com Anomalias: Identificar funcionários com salários e idades que destoam significativamente dos outros no mesmo departamento."
      ],
      "metadata": {
        "id": "gjNX1iK_2hJv"
      }
    },
    {
      "cell_type": "code",
      "source": [
        "from pyspark.sql.functions import col, avg, stddev\n",
        "\n",
        "df_metrica_salario= df.groupBy(\"Área\").agg(avg(\"Salário\").alias(\"Média\"), stddev(\"Salário\").alias(\"Desvio Padrão\"))\n",
        "df_metrica_salario.show()\n",
        "\n",
        "df_com_outliers_salario = df.join(df_metrica_salario, \"Área\").withColumn(\"Limite Inferior\", col(\"Média\") - 2 * col(\"Desvio Padrão\")).withColumn(\"Limite Superior\", col(\"Média\") + 2 * col(\"Desvio Padrão\"))\n",
        "\n",
        "df_outliers_salario = df_com_outliers_salario.filter((col(\"Salário\") < col(\"Limite Inferior\")) & (col(\"Salário\") > col(\"Limite Superior\")))\n",
        "\n",
        "df_outliers_salario.show()"
      ],
      "metadata": {
        "colab": {
          "base_uri": "https://localhost:8080/"
        },
        "id": "vfWLBd_r7dMe",
        "outputId": "031b1082-c6b6-4c20-e1cd-953a9a63679d"
      },
      "execution_count": null,
      "outputs": [
        {
          "output_type": "stream",
          "name": "stdout",
          "text": [
            "+-------------+------+------------------+\n",
            "|         Área| Média|     Desvio Padrão|\n",
            "+-------------+------+------------------+\n",
            "|           Rh|5000.0|346.41016151377545|\n",
            "|Não Informado|5500.0|              null|\n",
            "|   Financeiro|5700.0| 430.1162633521314|\n",
            "|    Marketing|5100.0|424.26406871192853|\n",
            "+-------------+------+------------------+\n",
            "\n",
            "+----+---+----+-----+-------+-------------------+-----------------+----------------+--------------+------------------+-------------------------+------+-----------------+---------------------+------------------+--------------------+-------------------------------+--------------+------------+-----+-------------+---------------+---------------+\n",
            "|Área| ID|Nome|Idade|Salário|Data de Contratação|Status de Emprego|Data Contratação|Data_Formatada|Ano de Contratação|Total de Anos Trabalhados|Gênero|Idade Contratação|Percentual de Aumento|Mês de Contratação|Nível do Funcionário|Total de Anos Até Aposentadoria|Faixa Salarial|Faixa Etária|Média|Desvio Padrão|Limite Inferior|Limite Superior|\n",
            "+----+---+----+-----+-------+-------------------+-----------------+----------------+--------------+------------------+-------------------------+------+-----------------+---------------------+------------------+--------------------+-------------------------------+--------------+------------+-----+-------------+---------------+---------------+\n",
            "+----+---+----+-----+-------+-------------------+-----------------+----------------+--------------+------------------+-------------------------+------+-----------------+---------------------+------------------+--------------------+-------------------------------+--------------+------------+-----+-------------+---------------+---------------+\n",
            "\n"
          ]
        }
      ]
    },
    {
      "cell_type": "code",
      "source": [
        "df_metrica_idade= df.groupBy(\"Área\").agg(avg(\"Idade\").alias(\"Média\"), stddev(\"Idade\").alias(\"Desvio Padrão\"))\n",
        "df_metrica_idade.show()\n",
        "\n",
        "df_com_outliers_idade = df.join(df_metrica_idade, \"Área\").withColumn(\"Limite Inferior\", col(\"Média\") - 2 * col(\"Desvio Padrão\")).withColumn(\"Limite Superior\", col(\"Média\") + 2 * col(\"Desvio Padrão\"))\n",
        "\n",
        "df_outliers_idade = df_com_outliers_idade.filter((col(\"Idade\") < col(\"Limite Inferior\")) & (col(\"Idade\") > col(\"Limite Superior\")))\n",
        "\n",
        "df_outliers_idade.show()"
      ],
      "metadata": {
        "colab": {
          "base_uri": "https://localhost:8080/"
        },
        "id": "WXy3bYcL7e1r",
        "outputId": "76c2a506-4d88-4379-abcc-c81e9c115d8b"
      },
      "execution_count": null,
      "outputs": [
        {
          "output_type": "stream",
          "name": "stdout",
          "text": [
            "+-------------+-----+------------------+\n",
            "|         Área|Média|     Desvio Padrão|\n",
            "+-------------+-----+------------------+\n",
            "|           Rh| 29.0|               1.0|\n",
            "|Não Informado| 31.0|              null|\n",
            "|   Financeiro| 29.2|0.4472135954999578|\n",
            "|    Marketing| 30.5| 4.949747468305833|\n",
            "+-------------+-----+------------------+\n",
            "\n",
            "+----+---+----+-----+-------+-------------------+-----------------+----------------+--------------+------------------+-------------------------+------+-----------------+---------------------+------------------+--------------------+-------------------------------+--------------+------------+-----+-------------+---------------+---------------+\n",
            "|Área| ID|Nome|Idade|Salário|Data de Contratação|Status de Emprego|Data Contratação|Data_Formatada|Ano de Contratação|Total de Anos Trabalhados|Gênero|Idade Contratação|Percentual de Aumento|Mês de Contratação|Nível do Funcionário|Total de Anos Até Aposentadoria|Faixa Salarial|Faixa Etária|Média|Desvio Padrão|Limite Inferior|Limite Superior|\n",
            "+----+---+----+-----+-------+-------------------+-----------------+----------------+--------------+------------------+-------------------------+------+-----------------+---------------------+------------------+--------------------+-------------------------------+--------------+------------+-----+-------------+---------------+---------------+\n",
            "+----+---+----+-----+-------+-------------------+-----------------+----------------+--------------+------------------+-------------------------+------+-----------------+---------------------+------------------+--------------------+-------------------------------+--------------+------------+-----+-------------+---------------+---------------+\n",
            "\n"
          ]
        }
      ]
    },
    {
      "cell_type": "markdown",
      "source": [
        "**37** - Comparação de Salários por Região: Se houvesse uma coluna de localização, comparar os salários entre diferentes regiões."
      ],
      "metadata": {
        "id": "XZM8p8m68bk9"
      }
    },
    {
      "cell_type": "code",
      "source": [
        "#Criar coluna com dados de região\n",
        "\n",
        "regiao_funcionarios = {\n",
        "    'João Silva' : 'Sudeste',\n",
        "    'Maria Souza' : 'Centro-oeste',\n",
        "    'Carlos Pereira' : 'Sul',\n",
        "    'Ana Clara' : 'Nordeste',\n",
        "    'Fabio Santos' : 'Sudeste',\n",
        "    'Sandra Lima' : 'Norte',\n",
        "    'José Alves' : 'Nordeste',\n",
        "    'Luciana Costa' : 'Centro-oeste',\n",
        "    'Paulo Ricardo' : 'Sudeste',\n",
        "    'Fernanda Dias' : 'Sudeste',\n",
        "    'João Silva' : 'Norte'\n",
        "}\n",
        "\n",
        "df = df.withColumn(\n",
        "    \"Região\",\n",
        "    when(col(\"Nome\") == \"João Silva\", 'Sudeste')\n",
        "    .when(col(\"Nome\") == \"Maria Souza\", 'Centro-oeste')\n",
        "    .when(col(\"Nome\") == \"Carlos Pereira\", 'Sul')\n",
        "    .when(col(\"Nome\") == \"Ana Clara\", 'Nordeste')\n",
        "    .when(col(\"Nome\") == \"Fabio Santos\", 'Sudeste')\n",
        "    .when(col(\"Nome\") == \"Sandra Lima\", 'Norte')\n",
        "    .when(col(\"Nome\") == \"José Alves\", 'Nordeste')\n",
        "    .when(col(\"Nome\") == \"Luciana Costa\",'Centro-oeste')\n",
        "    .when(col(\"Nome\") == \"Paulo Ricardo\", 'Sudeste')\n",
        "    .when(col(\"Nome\") == \"Fernanda Dias\", 'Sudeste')\n",
        "    .when(col(\"Nome\") == \"João Silva\",'Norte')\n",
        "    .otherwise(\"Desconhecido\")  # Caso algum nome não esteja no dicionário\n",
        ")\n",
        "\n",
        "df.show()\n"
      ],
      "metadata": {
        "colab": {
          "base_uri": "https://localhost:8080/"
        },
        "id": "KrXv1Jyo8dYj",
        "outputId": "08475273-7204-46f7-ab09-5d3c9f4f4667"
      },
      "execution_count": null,
      "outputs": [
        {
          "output_type": "stream",
          "name": "stdout",
          "text": [
            "+---+--------------+-----+-------------+-------+-------------------+-----------------+----------------+--------------+------------------+-------------------------+------+-----------------+---------------------+------------------+--------------------+-------------------------------+-----------------+------------------+------------+\n",
            "| ID|          Nome|Idade|         Área|Salário|Data de Contratação|Status de Emprego|Data Contratação|Data_Formatada|Ano de Contratação|Total de Anos Trabalhados|Gênero|Idade Contratação|Percentual de Aumento|Mês de Contratação|Nível do Funcionário|Total de Anos Até Aposentadoria|   Faixa Salarial|      Faixa Etária|      Região|\n",
            "+---+--------------+-----+-------------+-------+-------------------+-----------------+----------------+--------------+------------------+-------------------------+------+-----------------+---------------------+------------------+--------------------+-------------------------------+-----------------+------------------+------------+\n",
            "|  1|    João Silva| 29.0|   Financeiro| 5500.0|         01/02/2020|            Ativo|      2020-02-01|    2020-02-01|              2020|                        4|     M|             25.0|                 12.5|                 2| Funcionário Nível 2|                           31.0|Faixa 5001 - 6000|Faixa 20 - 30 anos|     Sudeste|\n",
            "|  2|   Maria Souza| 30.0|           Rh| 4800.0|         15-03-2019|            Ativo|      2019-03-15|    2019-03-15|              2019|                        5|     F|             25.0|                 15.5|                 3| Funcionário Nível 2|                           30.0|Faixa 4001 - 5000|Faixa 20 - 30 anos|Centro-oeste|\n",
            "|  3|Carlos Pereira| 29.0|   Financeiro| 6200.0|         2020/04/01|            Ativo|      2020-04-01|    2020-04-01|              2020|                        4|     M|             25.0|                 13.2|                 4| Funcionário Nível 3|                           31.0|Faixa 6001 - 7000|Faixa 20 - 30 anos|         Sul|\n",
            "|  4|     Ana Clara| 27.0|    Marketing| 4800.0|         12/06/2018|            Ativo|      2018-06-12|    2018-06-12|              2018|                        6|     F|             21.0|                   18|                 6| Funcionário Nível 2|                           33.0|Faixa 4001 - 5000|Faixa 20 - 30 anos|    Nordeste|\n",
            "|  5|  Fabio Santos| 31.0|Não Informado| 5500.0|         20-11-2017|            Ativo|      2017-11-20|    2017-11-20|              2017|                        7|     M|             24.0|                 14.5|                11| Funcionário Nível 2|                           29.0|Faixa 5001 - 6000|Faixa 20 - 30 anos|     Sudeste|\n",
            "|  6|   Sandra Lima| 28.0|           Rh| 5400.0|         05-05-2020|            Ativo|      2020-05-05|    2020-05-05|              2020|                        4|     F|             24.0|                  8.9|                 5| Funcionário Nível 2|                           32.0|Faixa 5001 - 6000|Faixa 20 - 30 anos|       Norte|\n",
            "|  7|    José Alves| 34.0|    Marketing| 5400.0|         2018/02/01|          Inativo|      2018-02-01|    2018-02-01|              2018|                        6|     M|             28.0|                   25|                 2| Funcionário Nível 2|                           26.0|Faixa 5001 - 6000|Faixa 20 - 30 anos|    Nordeste|\n",
            "|  8| Luciana Costa| 30.0|   Financeiro| 5200.0|         01.01.2019|            Ativo|      2019-01-01|    2019-01-01|              2019|                        5|     F|             25.0|                   21|                 1| Funcionário Nível 2|                           30.0|Faixa 5001 - 6000|Faixa 20 - 30 anos|Centro-oeste|\n",
            "|  9| Paulo Ricardo| 29.0|   Financeiro| 6100.0|         12/12/2020|          Inativo|      2020-12-12|    2020-12-12|              2020|                        4|     M|             25.0|                 17.5|                12| Funcionário Nível 3|                           31.0|Faixa 6001 - 7000|Faixa 20 - 30 anos|     Sudeste|\n",
            "| 10| Fernanda Dias| 29.0|           Rh| 4800.0|         20/01/2020|            Ativo|      2020-01-20|    2020-01-20|              2020|                        4|     F|             25.0|                 13.5|                 1| Funcionário Nível 2|                           31.0|Faixa 4001 - 5000|Faixa 20 - 30 anos|     Sudeste|\n",
            "|  1|    João Silva| 29.0|   Financeiro| 5500.0|         01/02/2020|            Ativo|      2020-02-01|    2020-02-01|              2020|                        4|     M|             25.0|                 12.5|                 2| Funcionário Nível 2|                           31.0|Faixa 5001 - 6000|Faixa 20 - 30 anos|     Sudeste|\n",
            "+---+--------------+-----+-------------+-------+-------------------+-----------------+----------------+--------------+------------------+-------------------------+------+-----------------+---------------------+------------------+--------------------+-------------------------------+-----------------+------------------+------------+\n",
            "\n"
          ]
        }
      ]
    },
    {
      "cell_type": "code",
      "source": [
        "df_salario_regiao = df.groupBy(\"Região\").agg(avg(\"Salário\").alias(\"Média Salarial\"), min(\"Salário\").alias(\"Salário Mínimo\"), max(\"Salário\").alias(\"Salário Máximo\")).show()"
      ],
      "metadata": {
        "colab": {
          "base_uri": "https://localhost:8080/"
        },
        "id": "gdLFh4ua9f4d",
        "outputId": "de4bb310-21ec-4f5b-f04d-f0abecffbbf6"
      },
      "execution_count": null,
      "outputs": [
        {
          "output_type": "stream",
          "name": "stdout",
          "text": [
            "+------------+--------------+--------------+--------------+\n",
            "|      Região|Média Salarial|Salário Mínimo|Salário Máximo|\n",
            "+------------+--------------+--------------+--------------+\n",
            "|    Nordeste|        5100.0|        4800.0|        5400.0|\n",
            "|         Sul|        6200.0|        6200.0|        6200.0|\n",
            "|     Sudeste|        5480.0|        4800.0|        6100.0|\n",
            "|Centro-oeste|        5000.0|        4800.0|        5200.0|\n",
            "|       Norte|        5400.0|        5400.0|        5400.0|\n",
            "+------------+--------------+--------------+--------------+\n",
            "\n"
          ]
        }
      ]
    },
    {
      "cell_type": "markdown",
      "source": [
        "**38** - Criação de Métricas Personalizadas: Desenvolver novas métricas como \"salário ajustado pela idade\" ou \"tempo de casa ajustado pela idade\"."
      ],
      "metadata": {
        "id": "nf3GnYjh940E"
      }
    },
    {
      "cell_type": "code",
      "source": [
        "df_metricas_personalizadas = df.withColumn(\n",
        "    \"Salário Ajustado pela Idade\",\n",
        "    col(\"Salário\") / col(\"Idade\")\n",
        ").withColumn(\n",
        "    \"Tempo de Casa Ajustado Pela Idade\",\n",
        "    col(\"Total de Anos Trabalhados\") / col(\"Idade\")\n",
        ").show()\n"
      ],
      "metadata": {
        "colab": {
          "base_uri": "https://localhost:8080/"
        },
        "id": "rOHy28g098-K",
        "outputId": "7f0390d2-6e09-472b-d8dd-296f2e5f76db"
      },
      "execution_count": null,
      "outputs": [
        {
          "output_type": "stream",
          "name": "stdout",
          "text": [
            "+---+--------------+-----+-------------+-------+-------------------+-----------------+----------------+--------------+------------------+-------------------------+------+-----------------+---------------------+------------------+--------------------+-------------------------------+-----------------+------------------+------------+---------------------------+---------------------------------+\n",
            "| ID|          Nome|Idade|         Área|Salário|Data de Contratação|Status de Emprego|Data Contratação|Data_Formatada|Ano de Contratação|Total de Anos Trabalhados|Gênero|Idade Contratação|Percentual de Aumento|Mês de Contratação|Nível do Funcionário|Total de Anos Até Aposentadoria|   Faixa Salarial|      Faixa Etária|      Região|Salário Ajustado pela Idade|Tempo de Casa Ajustado Pela Idade|\n",
            "+---+--------------+-----+-------------+-------+-------------------+-----------------+----------------+--------------+------------------+-------------------------+------+-----------------+---------------------+------------------+--------------------+-------------------------------+-----------------+------------------+------------+---------------------------+---------------------------------+\n",
            "|  1|    João Silva| 29.0|   Financeiro| 5500.0|         01/02/2020|            Ativo|      2020-02-01|    2020-02-01|              2020|                        4|     M|             25.0|                 12.5|                 2| Funcionário Nível 2|                           31.0|Faixa 5001 - 6000|Faixa 20 - 30 anos|     Sudeste|          189.6551724137931|              0.13793103448275862|\n",
            "|  2|   Maria Souza| 30.0|           Rh| 4800.0|         15-03-2019|            Ativo|      2019-03-15|    2019-03-15|              2019|                        5|     F|             25.0|                 15.5|                 3| Funcionário Nível 2|                           30.0|Faixa 4001 - 5000|Faixa 20 - 30 anos|Centro-oeste|                      160.0|              0.16666666666666666|\n",
            "|  3|Carlos Pereira| 29.0|   Financeiro| 6200.0|         2020/04/01|            Ativo|      2020-04-01|    2020-04-01|              2020|                        4|     M|             25.0|                 13.2|                 4| Funcionário Nível 3|                           31.0|Faixa 6001 - 7000|Faixa 20 - 30 anos|         Sul|         213.79310344827587|              0.13793103448275862|\n",
            "|  4|     Ana Clara| 27.0|    Marketing| 4800.0|         12/06/2018|            Ativo|      2018-06-12|    2018-06-12|              2018|                        6|     F|             21.0|                   18|                 6| Funcionário Nível 2|                           33.0|Faixa 4001 - 5000|Faixa 20 - 30 anos|    Nordeste|         177.77777777777777|               0.2222222222222222|\n",
            "|  5|  Fabio Santos| 31.0|Não Informado| 5500.0|         20-11-2017|            Ativo|      2017-11-20|    2017-11-20|              2017|                        7|     M|             24.0|                 14.5|                11| Funcionário Nível 2|                           29.0|Faixa 5001 - 6000|Faixa 20 - 30 anos|     Sudeste|         177.41935483870967|              0.22580645161290322|\n",
            "|  6|   Sandra Lima| 28.0|           Rh| 5400.0|         05-05-2020|            Ativo|      2020-05-05|    2020-05-05|              2020|                        4|     F|             24.0|                  8.9|                 5| Funcionário Nível 2|                           32.0|Faixa 5001 - 6000|Faixa 20 - 30 anos|       Norte|         192.85714285714286|              0.14285714285714285|\n",
            "|  7|    José Alves| 34.0|    Marketing| 5400.0|         2018/02/01|          Inativo|      2018-02-01|    2018-02-01|              2018|                        6|     M|             28.0|                   25|                 2| Funcionário Nível 2|                           26.0|Faixa 5001 - 6000|Faixa 20 - 30 anos|    Nordeste|          158.8235294117647|              0.17647058823529413|\n",
            "|  8| Luciana Costa| 30.0|   Financeiro| 5200.0|         01.01.2019|            Ativo|      2019-01-01|    2019-01-01|              2019|                        5|     F|             25.0|                   21|                 1| Funcionário Nível 2|                           30.0|Faixa 5001 - 6000|Faixa 20 - 30 anos|Centro-oeste|         173.33333333333334|              0.16666666666666666|\n",
            "|  9| Paulo Ricardo| 29.0|   Financeiro| 6100.0|         12/12/2020|          Inativo|      2020-12-12|    2020-12-12|              2020|                        4|     M|             25.0|                 17.5|                12| Funcionário Nível 3|                           31.0|Faixa 6001 - 7000|Faixa 20 - 30 anos|     Sudeste|          210.3448275862069|              0.13793103448275862|\n",
            "| 10| Fernanda Dias| 29.0|           Rh| 4800.0|         20/01/2020|            Ativo|      2020-01-20|    2020-01-20|              2020|                        4|     F|             25.0|                 13.5|                 1| Funcionário Nível 2|                           31.0|Faixa 4001 - 5000|Faixa 20 - 30 anos|     Sudeste|         165.51724137931035|              0.13793103448275862|\n",
            "|  1|    João Silva| 29.0|   Financeiro| 5500.0|         01/02/2020|            Ativo|      2020-02-01|    2020-02-01|              2020|                        4|     M|             25.0|                 12.5|                 2| Funcionário Nível 2|                           31.0|Faixa 5001 - 6000|Faixa 20 - 30 anos|     Sudeste|          189.6551724137931|              0.13793103448275862|\n",
            "+---+--------------+-----+-------------+-------+-------------------+-----------------+----------------+--------------+------------------+-------------------------+------+-----------------+---------------------+------------------+--------------------+-------------------------------+-----------------+------------------+------------+---------------------------+---------------------------------+\n",
            "\n"
          ]
        }
      ]
    },
    {
      "cell_type": "code",
      "source": [
        "# Situação hipotética: aumento de salário com base na idade e tempo de casa do funcionário\n",
        "#criar  uma coluna que receba o salário ajustado, e colunas que contenham o percentual de aumento por idade e anos de trabalhao, e uma q some os dois percentuais\n",
        "df_personalizado= df.withColumn(\n",
        "    \"Aumento Conforme Idade\",\n",
        "    col(\"Idade\") * 0.005 * col(\"Salário\")\n",
        ").withColumn(\n",
        "    \"Aumento Conforme Total de Anos Trabalhados\",\n",
        "    col(\"Total de Anos Trabalhados\") * 0.01 * col(\"Salário\")\n",
        ").withColumn(\n",
        "    \"Total de Aumentos\",\n",
        "    col(\"Aumento Conforme Idade\") + col(\"Aumento conforme Total de Anos Trabalhados\")\n",
        ").withColumn(\n",
        "    \"Salário Ajustado\",\n",
        "    col(\"Salário\") + col(\"Total de Aumentos\")\n",
        ").show()"
      ],
      "metadata": {
        "colab": {
          "base_uri": "https://localhost:8080/"
        },
        "id": "mMr9UmIQBl7P",
        "outputId": "63a68b30-f112-43c9-fc22-25a67d137875"
      },
      "execution_count": null,
      "outputs": [
        {
          "output_type": "stream",
          "name": "stdout",
          "text": [
            "+---+--------------+-----+-------------+-------+-------------------+-----------------+----------------+--------------+------------------+-------------------------+------+-----------------+---------------------+------------------+--------------------+-------------------------------+-----------------+------------------+------------+----------------------+------------------------------------------+-----------------+----------------+\n",
            "| ID|          Nome|Idade|         Área|Salário|Data de Contratação|Status de Emprego|Data Contratação|Data_Formatada|Ano de Contratação|Total de Anos Trabalhados|Gênero|Idade Contratação|Percentual de Aumento|Mês de Contratação|Nível do Funcionário|Total de Anos Até Aposentadoria|   Faixa Salarial|      Faixa Etária|      Região|Aumento Conforme Idade|Aumento Conforme Total de Anos Trabalhados|Total de Aumentos|Salário Ajustado|\n",
            "+---+--------------+-----+-------------+-------+-------------------+-----------------+----------------+--------------+------------------+-------------------------+------+-----------------+---------------------+------------------+--------------------+-------------------------------+-----------------+------------------+------------+----------------------+------------------------------------------+-----------------+----------------+\n",
            "|  1|    João Silva| 29.0|   Financeiro| 5500.0|         01/02/2020|            Ativo|      2020-02-01|    2020-02-01|              2020|                        4|     M|             25.0|                 12.5|                 2| Funcionário Nível 2|                           31.0|Faixa 5001 - 6000|Faixa 20 - 30 anos|     Sudeste|                 797.5|                                     220.0|           1017.5|          6517.5|\n",
            "|  2|   Maria Souza| 30.0|           Rh| 4800.0|         15-03-2019|            Ativo|      2019-03-15|    2019-03-15|              2019|                        5|     F|             25.0|                 15.5|                 3| Funcionário Nível 2|                           30.0|Faixa 4001 - 5000|Faixa 20 - 30 anos|Centro-oeste|                 720.0|                                     240.0|            960.0|          5760.0|\n",
            "|  3|Carlos Pereira| 29.0|   Financeiro| 6200.0|         2020/04/01|            Ativo|      2020-04-01|    2020-04-01|              2020|                        4|     M|             25.0|                 13.2|                 4| Funcionário Nível 3|                           31.0|Faixa 6001 - 7000|Faixa 20 - 30 anos|         Sul|     898.9999999999999|                                     248.0|           1147.0|          7347.0|\n",
            "|  4|     Ana Clara| 27.0|    Marketing| 4800.0|         12/06/2018|            Ativo|      2018-06-12|    2018-06-12|              2018|                        6|     F|             21.0|                   18|                 6| Funcionário Nível 2|                           33.0|Faixa 4001 - 5000|Faixa 20 - 30 anos|    Nordeste|                 648.0|                                     288.0|            936.0|          5736.0|\n",
            "|  5|  Fabio Santos| 31.0|Não Informado| 5500.0|         20-11-2017|            Ativo|      2017-11-20|    2017-11-20|              2017|                        7|     M|             24.0|                 14.5|                11| Funcionário Nível 2|                           29.0|Faixa 5001 - 6000|Faixa 20 - 30 anos|     Sudeste|                 852.5|                        385.00000000000006|           1237.5|          6737.5|\n",
            "|  6|   Sandra Lima| 28.0|           Rh| 5400.0|         05-05-2020|            Ativo|      2020-05-05|    2020-05-05|              2020|                        4|     F|             24.0|                  8.9|                 5| Funcionário Nível 2|                           32.0|Faixa 5001 - 6000|Faixa 20 - 30 anos|       Norte|     756.0000000000001|                                     216.0|972.0000000000001|          6372.0|\n",
            "|  7|    José Alves| 34.0|    Marketing| 5400.0|         2018/02/01|          Inativo|      2018-02-01|    2018-02-01|              2018|                        6|     M|             28.0|                   25|                 2| Funcionário Nível 2|                           26.0|Faixa 5001 - 6000|Faixa 20 - 30 anos|    Nordeste|     918.0000000000001|                                     324.0|           1242.0|          6642.0|\n",
            "|  8| Luciana Costa| 30.0|   Financeiro| 5200.0|         01.01.2019|            Ativo|      2019-01-01|    2019-01-01|              2019|                        5|     F|             25.0|                   21|                 1| Funcionário Nível 2|                           30.0|Faixa 5001 - 6000|Faixa 20 - 30 anos|Centro-oeste|                 780.0|                                     260.0|           1040.0|          6240.0|\n",
            "|  9| Paulo Ricardo| 29.0|   Financeiro| 6100.0|         12/12/2020|          Inativo|      2020-12-12|    2020-12-12|              2020|                        4|     M|             25.0|                 17.5|                12| Funcionário Nível 3|                           31.0|Faixa 6001 - 7000|Faixa 20 - 30 anos|     Sudeste|     884.4999999999999|                                     244.0|           1128.5|          7228.5|\n",
            "| 10| Fernanda Dias| 29.0|           Rh| 4800.0|         20/01/2020|            Ativo|      2020-01-20|    2020-01-20|              2020|                        4|     F|             25.0|                 13.5|                 1| Funcionário Nível 2|                           31.0|Faixa 4001 - 5000|Faixa 20 - 30 anos|     Sudeste|                 696.0|                                     192.0|            888.0|          5688.0|\n",
            "|  1|    João Silva| 29.0|   Financeiro| 5500.0|         01/02/2020|            Ativo|      2020-02-01|    2020-02-01|              2020|                        4|     M|             25.0|                 12.5|                 2| Funcionário Nível 2|                           31.0|Faixa 5001 - 6000|Faixa 20 - 30 anos|     Sudeste|                 797.5|                                     220.0|           1017.5|          6517.5|\n",
            "+---+--------------+-----+-------------+-------+-------------------+-----------------+----------------+--------------+------------------+-------------------------+------+-----------------+---------------------+------------------+--------------------+-------------------------------+-----------------+------------------+------------+----------------------+------------------------------------------+-----------------+----------------+\n",
            "\n"
          ]
        }
      ]
    },
    {
      "cell_type": "markdown",
      "source": [
        "**39** - Análise de Recrutamento Recente: Focar na análise dos funcionários contratados nos últimos 12 meses para ver tendências."
      ],
      "metadata": {
        "id": "GMV1TJoGCs-R"
      }
    },
    {
      "cell_type": "code",
      "source": [
        "from datetime import datetime\n",
        "\n",
        "#data_atual = datetime.today().strftime('%d/%m/%Y')\n",
        "#print(data_atual)\n",
        "\n",
        "#supondo que seja 2021...\n",
        "data_inicial = \"26/08/2020\"\n",
        "data_inicial = to_date(lit(data_inicial), 'dd/MM/yyyy')\n",
        "data_atual = \"26/08/2021\"\n",
        "data_atual = to_date(lit(data_atual), 'dd/MM/yyyy')\n",
        "df_ultimas_contratacoes = df.filter((col(\"Data_Formatada\") >= data_inicial) & (col(\"Data_Formatada\") <= data_atual) )\n",
        "df_ultimas_contratacoes.show()\n"
      ],
      "metadata": {
        "colab": {
          "base_uri": "https://localhost:8080/"
        },
        "id": "G8U5D8eTCxeI",
        "outputId": "61450b6a-9ee6-4206-bf9b-72998e5958dc"
      },
      "execution_count": null,
      "outputs": [
        {
          "output_type": "stream",
          "name": "stdout",
          "text": [
            "+---+-------------+-----+----------+-------+-------------------+-----------------+----------------+--------------+------------------+-------------------------+------+-----------------+---------------------+------------------+--------------------+-------------------------------+-----------------+------------------+-------+\n",
            "| ID|         Nome|Idade|      Área|Salário|Data de Contratação|Status de Emprego|Data Contratação|Data_Formatada|Ano de Contratação|Total de Anos Trabalhados|Gênero|Idade Contratação|Percentual de Aumento|Mês de Contratação|Nível do Funcionário|Total de Anos Até Aposentadoria|   Faixa Salarial|      Faixa Etária| Região|\n",
            "+---+-------------+-----+----------+-------+-------------------+-----------------+----------------+--------------+------------------+-------------------------+------+-----------------+---------------------+------------------+--------------------+-------------------------------+-----------------+------------------+-------+\n",
            "|  9|Paulo Ricardo| 29.0|Financeiro| 6100.0|         12/12/2020|          Inativo|      2020-12-12|    2020-12-12|              2020|                        4|     M|             25.0|                 17.5|                12| Funcionário Nível 3|                           31.0|Faixa 6001 - 7000|Faixa 20 - 30 anos|Sudeste|\n",
            "+---+-------------+-----+----------+-------+-------------------+-----------------+----------------+--------------+------------------+-------------------------+------+-----------------+---------------------+------------------+--------------------+-------------------------------+-----------------+------------------+-------+\n",
            "\n"
          ]
        }
      ]
    },
    {
      "cell_type": "markdown",
      "source": [
        "**40** - Distribuição de Funcionários por Departamento: Quantificar o número de funcionários por departamento e comparar com a média salarial."
      ],
      "metadata": {
        "id": "NAUBeTZ6V1jc"
      }
    },
    {
      "cell_type": "code",
      "source": [
        "df_area_funcionarios = df.groupBy(\"Área\").agg(count(\"ID\").alias(\"Total de Funcionários\"), avg(\"Salário\").alias(\"Média Salarial\")).show()"
      ],
      "metadata": {
        "colab": {
          "base_uri": "https://localhost:8080/"
        },
        "id": "3RvMXnv_V6xe",
        "outputId": "7fcbb282-f03e-4fdf-eae3-9d10730292ad"
      },
      "execution_count": null,
      "outputs": [
        {
          "output_type": "stream",
          "name": "stdout",
          "text": [
            "+-------------+---------------------+--------------+\n",
            "|         Área|Total de Funcionários|Média Salarial|\n",
            "+-------------+---------------------+--------------+\n",
            "|           Rh|                    3|        5000.0|\n",
            "|Não Informado|                    1|        5500.0|\n",
            "|   Financeiro|                    5|        5700.0|\n",
            "|    Marketing|                    2|        5100.0|\n",
            "+-------------+---------------------+--------------+\n",
            "\n"
          ]
        }
      ]
    },
    {
      "cell_type": "markdown",
      "source": [
        "**41** - Análise de Rotatividade por Departamento: Verificar se há departamentos com alta rotatividade de funcionários."
      ],
      "metadata": {
        "id": "sPCaNMSPWVoC"
      }
    },
    {
      "cell_type": "code",
      "source": [
        "df_rotatividade = df.groupBy(\"Área\").agg(count(when(col(\"Status de Emprego\") == \"Inativo\", True)).alias(\"Total de Funcionários Inativos\"), count(\"ID\").alias(\"Total de Funcionários\"))\n",
        "df_rotatividade = df_rotatividade.withColumn(\"Rotatividade\", col(\"Total de Funcionários Inativos\") / col(\"Total de Funcionários\")).show()"
      ],
      "metadata": {
        "colab": {
          "base_uri": "https://localhost:8080/"
        },
        "id": "m374Sf2qWZOC",
        "outputId": "f5298f84-53c0-46f2-f3c6-d445bf1d7163"
      },
      "execution_count": null,
      "outputs": [
        {
          "output_type": "stream",
          "name": "stdout",
          "text": [
            "+-------------+------------------------------+---------------------+------------+\n",
            "|         Área|Total de Funcionários Inativos|Total de Funcionários|Rotatividade|\n",
            "+-------------+------------------------------+---------------------+------------+\n",
            "|           Rh|                             0|                    3|         0.0|\n",
            "|Não Informado|                             0|                    1|         0.0|\n",
            "|   Financeiro|                             1|                    5|         0.2|\n",
            "|    Marketing|                             1|                    2|         0.5|\n",
            "+-------------+------------------------------+---------------------+------------+\n",
            "\n"
          ]
        }
      ]
    },
    {
      "cell_type": "markdown",
      "source": [
        "**42** - Comparação de Salários por Gênero: Se houvesse uma coluna de gênero, comparar os salários médios entre homens e mulheres."
      ],
      "metadata": {
        "id": "UWBAgfs0aTXI"
      }
    },
    {
      "cell_type": "code",
      "source": [
        "#df.show()\n",
        "\n",
        "df_salario_genero = df.groupBy(\"Gênero\").agg(avg(\"Salário\").alias(\"Média Salarial\"), min(\"Salário\").alias(\"Salário Mínimo\"), max(\"Salário\").alias(\"Salário Máximo\")).show()\n"
      ],
      "metadata": {
        "colab": {
          "base_uri": "https://localhost:8080/"
        },
        "id": "K3fcoMrnaWys",
        "outputId": "7a2c0693-0ab3-4f89-eac6-bfbc517801f2"
      },
      "execution_count": null,
      "outputs": [
        {
          "output_type": "stream",
          "name": "stdout",
          "text": [
            "+------+--------------+--------------+--------------+\n",
            "|Gênero|Média Salarial|Salário Mínimo|Salário Máximo|\n",
            "+------+--------------+--------------+--------------+\n",
            "|     F|        5000.0|        4800.0|        5400.0|\n",
            "|     M|        5700.0|        5400.0|        6200.0|\n",
            "+------+--------------+--------------+--------------+\n",
            "\n"
          ]
        }
      ]
    },
    {
      "cell_type": "markdown",
      "source": [
        "**43** - Correlação Entre Status de Emprego e Desempenho Salarial: Avaliar se há diferença significativa de salários entre diferentes status de emprego."
      ],
      "metadata": {
        "id": "E0pJXEgNa1md"
      }
    },
    {
      "cell_type": "code",
      "source": [
        "df_desempenho_salarial = df.groupBy(\"Status de Emprego\").agg(avg(\"Salário\").alias(\"Média Salarial\")).show()\n"
      ],
      "metadata": {
        "colab": {
          "base_uri": "https://localhost:8080/"
        },
        "id": "ad9mmSnLa5qB",
        "outputId": "ff277b7f-fc12-4d4a-e891-4745ffd50761"
      },
      "execution_count": null,
      "outputs": [
        {
          "output_type": "stream",
          "name": "stdout",
          "text": [
            "+-----------------+--------------+\n",
            "|Status de Emprego|Média Salarial|\n",
            "+-----------------+--------------+\n",
            "|          Inativo|        5750.0|\n",
            "|            Ativo|        5300.0|\n",
            "+-----------------+--------------+\n",
            "\n"
          ]
        }
      ]
    },
    {
      "cell_type": "markdown",
      "source": [
        "**44** - Análise de Impacto de Promoções: Se houvesse dados de promoções, analisar o impacto das promoções no salário ao longo do tempo."
      ],
      "metadata": {
        "id": "mY8qDwRkcE42"
      }
    },
    {
      "cell_type": "code",
      "source": [
        "#Criar colunas com dados de promoções e uma com um salário inicial, outra coluna com total de promoções\n",
        "\n",
        "promocao = {\n",
        "    'João Silva' : ['Sim', 2800,3],\n",
        "    'Maria Souza' : ['Sim', 1200, 2],\n",
        "    'Carlos Pereira' : ['Sim', 2000, 3],\n",
        "    'Ana Clara' : ['Sim', 1800, 4],\n",
        "    'Fabio Santos' : ['Sim', 3200, 2],\n",
        "    'Sandra Lima' : ['Não', 5400, 0],\n",
        "    'José Alves' : ['Não', 5400, 0],\n",
        "    'Luciana Costa' : ['Sim', 2500, 2],\n",
        "    'Paulo Ricardo' : ['Sim', 3500, 1],\n",
        "    'Fernanda Dias' : ['Não', 4800, 0],\n",
        "    'João Silva' : ['Sim', 2200, 3]\n",
        "}\n",
        "\n",
        "colunas = [\"Promoção\", \"Salário Inicial\", \"Total de Promoções\"]\n",
        "\n",
        "df = df.withColumn(\n",
        "    \"Promoção\",\n",
        "    when(col(\"Nome\") == \"João Silva\", 'Sim')\n",
        "    .when(col(\"Nome\") == \"Maria Souza\", 'Sim')\n",
        "    .when(col(\"Nome\") == \"Carlos Pereira\", 'Sim')\n",
        "    .when(col(\"Nome\") == \"Ana Clara\", 'Sim')\n",
        "    .when(col(\"Nome\") == \"Fabio Santos\", 'Sim')\n",
        "    .when(col(\"Nome\") == \"Sandra Lima\", 'Não')\n",
        "    .when(col(\"Nome\") == \"José Alves\", 'Não')\n",
        "    .when(col(\"Nome\") == \"Luciana Costa\",'Sim')\n",
        "    .when(col(\"Nome\") == \"Paulo Ricardo\", 'Sim')\n",
        "    .when(col(\"Nome\") == \"Fernanda Dias\", 'Não')\n",
        "    .when(col(\"Nome\") == \"João Silva\",'Sim')\n",
        "    .otherwise(\"Desconhecido\")   # Caso algum nome não esteja no dicionário\n",
        ")\n",
        "\n",
        "df = df.withColumn(\n",
        "    \"Salário Inicial\",\n",
        "    when(col(\"Nome\") == \"João Silva\", 2800)\n",
        "    .when(col(\"Nome\") == \"Maria Souza\", 1200)\n",
        "    .when(col(\"Nome\") == \"Carlos Pereira\", 2000)\n",
        "    .when(col(\"Nome\") == \"Ana Clara\", 1800)\n",
        "    .when(col(\"Nome\") == \"Fabio Santos\", 3200)\n",
        "    .when(col(\"Nome\") == \"Sandra Lima\", 5400)\n",
        "    .when(col(\"Nome\") == \"José Alves\", 5400)\n",
        "    .when(col(\"Nome\") == \"Luciana Costa\",2500)\n",
        "    .when(col(\"Nome\") == \"Paulo Ricardo\", 3500)\n",
        "    .when(col(\"Nome\") == \"Fernanda Dias\", 4800)\n",
        "    .when(col(\"Nome\") == \"João Silva\",2200)\n",
        "    .otherwise(\"Desconhecido\")\n",
        ")\n",
        "\n",
        "df = df.withColumn(\n",
        "    \"Total de Promoções\",\n",
        "    when(col(\"Nome\") == \"João Silva\", 3)\n",
        "    .when(col(\"Nome\") == \"Maria Souza\", 2)\n",
        "    .when(col(\"Nome\") == \"Carlos Pereira\", 3)\n",
        "    .when(col(\"Nome\") == \"Ana Clara\", 4)\n",
        "    .when(col(\"Nome\") == \"Fabio Santos\", 2)\n",
        "    .when(col(\"Nome\") == \"Sandra Lima\", 0)\n",
        "    .when(col(\"Nome\") == \"José Alves\", 0)\n",
        "    .when(col(\"Nome\") == \"Luciana Costa\",2)\n",
        "    .when(col(\"Nome\") == \"Paulo Ricardo\", 1)\n",
        "    .when(col(\"Nome\") == \"Fernanda Dias\", 0)\n",
        "    .when(col(\"Nome\") == \"João Silva\",3)\n",
        "    .otherwise(\"Desconhecido\")\n",
        ")\n",
        "\n",
        "df.show()\n",
        "\n",
        "df_impacto_promocoes = df.groupBy(\"Total de Anos Trabalhados\", \"Área\").agg(count(\"Total de Promoções\").alias(\"Número de promoções\"), avg(\"Salário\").alias(\"Média Salarial Atual\"), avg(\"Salário Inicial\").alias(\"Média Salarial Inicial\"))\n",
        "df_impacto_promocoes.orderBy(\"Total de Anos Trabalhados\").show()\n"
      ],
      "metadata": {
        "colab": {
          "base_uri": "https://localhost:8080/"
        },
        "id": "F1EzPW-LcJHt",
        "outputId": "6730d701-7688-410b-c832-d55ca4033225"
      },
      "execution_count": null,
      "outputs": [
        {
          "output_type": "stream",
          "name": "stdout",
          "text": [
            "+---+--------------+-----+-------------+-------+-------------------+-----------------+----------------+--------------+------------------+-------------------------+------+-----------------+---------------------+------------------+--------------------+-------------------------------+-----------------+------------------+------------+--------+---------------+------------------+\n",
            "| ID|          Nome|Idade|         Área|Salário|Data de Contratação|Status de Emprego|Data Contratação|Data_Formatada|Ano de Contratação|Total de Anos Trabalhados|Gênero|Idade Contratação|Percentual de Aumento|Mês de Contratação|Nível do Funcionário|Total de Anos Até Aposentadoria|   Faixa Salarial|      Faixa Etária|      Região|Promoção|Salário Inicial|Total de Promoções|\n",
            "+---+--------------+-----+-------------+-------+-------------------+-----------------+----------------+--------------+------------------+-------------------------+------+-----------------+---------------------+------------------+--------------------+-------------------------------+-----------------+------------------+------------+--------+---------------+------------------+\n",
            "|  1|    João Silva| 29.0|   Financeiro| 5500.0|         01/02/2020|            Ativo|      2020-02-01|    2020-02-01|              2020|                        4|     M|             25.0|                 12.5|                 2| Funcionário Nível 2|                           31.0|Faixa 5001 - 6000|Faixa 20 - 30 anos|     Sudeste|     Sim|           2800|                 3|\n",
            "|  2|   Maria Souza| 30.0|           Rh| 4800.0|         15-03-2019|            Ativo|      2019-03-15|    2019-03-15|              2019|                        5|     F|             25.0|                 15.5|                 3| Funcionário Nível 2|                           30.0|Faixa 4001 - 5000|Faixa 20 - 30 anos|Centro-oeste|     Sim|           1200|                 2|\n",
            "|  3|Carlos Pereira| 29.0|   Financeiro| 6200.0|         2020/04/01|            Ativo|      2020-04-01|    2020-04-01|              2020|                        4|     M|             25.0|                 13.2|                 4| Funcionário Nível 3|                           31.0|Faixa 6001 - 7000|Faixa 20 - 30 anos|         Sul|     Sim|           2000|                 3|\n",
            "|  4|     Ana Clara| 27.0|    Marketing| 4800.0|         12/06/2018|            Ativo|      2018-06-12|    2018-06-12|              2018|                        6|     F|             21.0|                   18|                 6| Funcionário Nível 2|                           33.0|Faixa 4001 - 5000|Faixa 20 - 30 anos|    Nordeste|     Sim|           1800|                 4|\n",
            "|  5|  Fabio Santos| 31.0|Não Informado| 5500.0|         20-11-2017|            Ativo|      2017-11-20|    2017-11-20|              2017|                        7|     M|             24.0|                 14.5|                11| Funcionário Nível 2|                           29.0|Faixa 5001 - 6000|Faixa 20 - 30 anos|     Sudeste|     Sim|           3200|                 2|\n",
            "|  6|   Sandra Lima| 28.0|           Rh| 5400.0|         05-05-2020|            Ativo|      2020-05-05|    2020-05-05|              2020|                        4|     F|             24.0|                  8.9|                 5| Funcionário Nível 2|                           32.0|Faixa 5001 - 6000|Faixa 20 - 30 anos|       Norte|     Não|           5400|                 0|\n",
            "|  7|    José Alves| 34.0|    Marketing| 5400.0|         2018/02/01|          Inativo|      2018-02-01|    2018-02-01|              2018|                        6|     M|             28.0|                   25|                 2| Funcionário Nível 2|                           26.0|Faixa 5001 - 6000|Faixa 20 - 30 anos|    Nordeste|     Não|           5400|                 0|\n",
            "|  8| Luciana Costa| 30.0|   Financeiro| 5200.0|         01.01.2019|            Ativo|      2019-01-01|    2019-01-01|              2019|                        5|     F|             25.0|                   21|                 1| Funcionário Nível 2|                           30.0|Faixa 5001 - 6000|Faixa 20 - 30 anos|Centro-oeste|     Sim|           2500|                 2|\n",
            "|  9| Paulo Ricardo| 29.0|   Financeiro| 6100.0|         12/12/2020|          Inativo|      2020-12-12|    2020-12-12|              2020|                        4|     M|             25.0|                 17.5|                12| Funcionário Nível 3|                           31.0|Faixa 6001 - 7000|Faixa 20 - 30 anos|     Sudeste|     Sim|           3500|                 1|\n",
            "| 10| Fernanda Dias| 29.0|           Rh| 4800.0|         20/01/2020|            Ativo|      2020-01-20|    2020-01-20|              2020|                        4|     F|             25.0|                 13.5|                 1| Funcionário Nível 2|                           31.0|Faixa 4001 - 5000|Faixa 20 - 30 anos|     Sudeste|     Não|           4800|                 0|\n",
            "|  1|    João Silva| 29.0|   Financeiro| 5500.0|         01/02/2020|            Ativo|      2020-02-01|    2020-02-01|              2020|                        4|     M|             25.0|                 12.5|                 2| Funcionário Nível 2|                           31.0|Faixa 5001 - 6000|Faixa 20 - 30 anos|     Sudeste|     Sim|           2800|                 3|\n",
            "+---+--------------+-----+-------------+-------+-------------------+-----------------+----------------+--------------+------------------+-------------------------+------+-----------------+---------------------+------------------+--------------------+-------------------------------+-----------------+------------------+------------+--------+---------------+------------------+\n",
            "\n",
            "+-------------------------+-------------+-------------------+--------------------+----------------------+\n",
            "|Total de Anos Trabalhados|         Área|Número de promoções|Média Salarial Atual|Média Salarial Inicial|\n",
            "+-------------------------+-------------+-------------------+--------------------+----------------------+\n",
            "|                        4|   Financeiro|                  4|              5825.0|                2775.0|\n",
            "|                        4|           Rh|                  2|              5100.0|                5100.0|\n",
            "|                        5|           Rh|                  1|              4800.0|                1200.0|\n",
            "|                        5|   Financeiro|                  1|              5200.0|                2500.0|\n",
            "|                        6|    Marketing|                  2|              5100.0|                3600.0|\n",
            "|                        7|Não Informado|                  1|              5500.0|                3200.0|\n",
            "+-------------------------+-------------+-------------------+--------------------+----------------------+\n",
            "\n"
          ]
        }
      ]
    },
    {
      "cell_type": "markdown",
      "source": [
        "**45** - Projeção de Custos Salariais: Calcular o custo projetado para a empresa em termos de salários nos próximos anos."
      ],
      "metadata": {
        "id": "5Ir5GbFei-v9"
      }
    },
    {
      "cell_type": "code",
      "source": [
        "#criar uma coluna com o percentual de aumento anual para cada funcionários\n",
        "\n",
        "percentual_aumento = {\n",
        "    'João Silva' : 0.05,\n",
        "    'Maria Souza' : 0.03,\n",
        "    'Carlos Pereira' : 0.05,\n",
        "    'Ana Clara' : 0.02,\n",
        "    'Fabio Santos' : 0.06,\n",
        "    'Sandra Lima' : 0.03,\n",
        "    'José Alves' : 0,\n",
        "    'Luciana Costa' : 0.07,\n",
        "    'Paulo Ricardo' : 0,\n",
        "    'Fernanda Dias' : 0,\n",
        "    'João Silva' : 0.05\n",
        "}\n",
        "\n",
        "df = df.withColumn(\n",
        "    \"Aumento Anual\",\n",
        "    when(col(\"Nome\") == \"João Silva\", 0.05)\n",
        "    .when(col(\"Nome\") == \"Maria Souza\", 0.03)\n",
        "    .when(col(\"Nome\") == \"Carlos Pereira\", 0.05)\n",
        "    .when(col(\"Nome\") == \"Ana Clara\", 0.02)\n",
        "    .when(col(\"Nome\") == \"Fabio Santos\", 0.06)\n",
        "    .when(col(\"Nome\") == \"Sandra Lima\", 0.03)\n",
        "    .when(col(\"Nome\") == \"José Alves\", 0.00)\n",
        "    .when(col(\"Nome\") == \"Luciana Costa\", 0.07)\n",
        "    .when(col(\"Nome\") == \"Paulo Ricardo\", 0.00)\n",
        "    .when(col(\"Nome\") == \"Fernanda Dias\", 0.00)\n",
        "    .otherwise(None)\n",
        ")\n",
        "\n",
        "df.show()\n",
        "\n",
        "\n",
        "#Avaliar o custo com salário nos próximos 2 anos, apenas para funcionários ativos\n",
        "total_anos = 2\n",
        "df_ativos = df.filter(col(\"Status de Emprego\") == \"Ativo\")\n",
        "df_ativos.show()\n",
        "\n",
        "# Fazer uma for para calcular o salario ao longo do tempo\n",
        "for ano in range(1, total_anos + 1):\n",
        "    df_ativos = df_ativos.withColumn(\n",
        "        f\"Salário {ano} Ano\",\n",
        "        col(\"Salário\") * (1 + col(\"Aumento Anual\")) ** ano\n",
        "    )\n",
        "df_ativos.show()\n"
      ],
      "metadata": {
        "colab": {
          "base_uri": "https://localhost:8080/"
        },
        "id": "P4FyScgNjDZS",
        "outputId": "7133d7c5-349d-4f9c-9c86-6f6727261370"
      },
      "execution_count": null,
      "outputs": [
        {
          "output_type": "stream",
          "name": "stdout",
          "text": [
            "+---+--------------+-----+-------------+-------+-------------------+-----------------+----------------+--------------+------------------+-------------------------+------+-----------------+---------------------+------------------+--------------------+-------------------------------+-----------------+------------------+------------+--------+---------------+------------------+-------------+\n",
            "| ID|          Nome|Idade|         Área|Salário|Data de Contratação|Status de Emprego|Data Contratação|Data_Formatada|Ano de Contratação|Total de Anos Trabalhados|Gênero|Idade Contratação|Percentual de Aumento|Mês de Contratação|Nível do Funcionário|Total de Anos Até Aposentadoria|   Faixa Salarial|      Faixa Etária|      Região|Promoção|Salário Inicial|Total de Promoções|Aumento Anual|\n",
            "+---+--------------+-----+-------------+-------+-------------------+-----------------+----------------+--------------+------------------+-------------------------+------+-----------------+---------------------+------------------+--------------------+-------------------------------+-----------------+------------------+------------+--------+---------------+------------------+-------------+\n",
            "|  1|    João Silva| 29.0|   Financeiro| 5500.0|         01/02/2020|            Ativo|      2020-02-01|    2020-02-01|              2020|                        4|     M|             25.0|                 12.5|                 2| Funcionário Nível 2|                           31.0|Faixa 5001 - 6000|Faixa 20 - 30 anos|     Sudeste|     Sim|           2800|                 3|         0.05|\n",
            "|  2|   Maria Souza| 30.0|           Rh| 4800.0|         15-03-2019|            Ativo|      2019-03-15|    2019-03-15|              2019|                        5|     F|             25.0|                 15.5|                 3| Funcionário Nível 2|                           30.0|Faixa 4001 - 5000|Faixa 20 - 30 anos|Centro-oeste|     Sim|           1200|                 2|         0.03|\n",
            "|  3|Carlos Pereira| 29.0|   Financeiro| 6200.0|         2020/04/01|            Ativo|      2020-04-01|    2020-04-01|              2020|                        4|     M|             25.0|                 13.2|                 4| Funcionário Nível 3|                           31.0|Faixa 6001 - 7000|Faixa 20 - 30 anos|         Sul|     Sim|           2000|                 3|         0.05|\n",
            "|  4|     Ana Clara| 27.0|    Marketing| 4800.0|         12/06/2018|            Ativo|      2018-06-12|    2018-06-12|              2018|                        6|     F|             21.0|                   18|                 6| Funcionário Nível 2|                           33.0|Faixa 4001 - 5000|Faixa 20 - 30 anos|    Nordeste|     Sim|           1800|                 4|         0.02|\n",
            "|  5|  Fabio Santos| 31.0|Não Informado| 5500.0|         20-11-2017|            Ativo|      2017-11-20|    2017-11-20|              2017|                        7|     M|             24.0|                 14.5|                11| Funcionário Nível 2|                           29.0|Faixa 5001 - 6000|Faixa 20 - 30 anos|     Sudeste|     Sim|           3200|                 2|         0.06|\n",
            "|  6|   Sandra Lima| 28.0|           Rh| 5400.0|         05-05-2020|            Ativo|      2020-05-05|    2020-05-05|              2020|                        4|     F|             24.0|                  8.9|                 5| Funcionário Nível 2|                           32.0|Faixa 5001 - 6000|Faixa 20 - 30 anos|       Norte|     Não|           5400|                 0|         0.03|\n",
            "|  7|    José Alves| 34.0|    Marketing| 5400.0|         2018/02/01|          Inativo|      2018-02-01|    2018-02-01|              2018|                        6|     M|             28.0|                   25|                 2| Funcionário Nível 2|                           26.0|Faixa 5001 - 6000|Faixa 20 - 30 anos|    Nordeste|     Não|           5400|                 0|          0.0|\n",
            "|  8| Luciana Costa| 30.0|   Financeiro| 5200.0|         01.01.2019|            Ativo|      2019-01-01|    2019-01-01|              2019|                        5|     F|             25.0|                   21|                 1| Funcionário Nível 2|                           30.0|Faixa 5001 - 6000|Faixa 20 - 30 anos|Centro-oeste|     Sim|           2500|                 2|         0.07|\n",
            "|  9| Paulo Ricardo| 29.0|   Financeiro| 6100.0|         12/12/2020|          Inativo|      2020-12-12|    2020-12-12|              2020|                        4|     M|             25.0|                 17.5|                12| Funcionário Nível 3|                           31.0|Faixa 6001 - 7000|Faixa 20 - 30 anos|     Sudeste|     Sim|           3500|                 1|          0.0|\n",
            "| 10| Fernanda Dias| 29.0|           Rh| 4800.0|         20/01/2020|            Ativo|      2020-01-20|    2020-01-20|              2020|                        4|     F|             25.0|                 13.5|                 1| Funcionário Nível 2|                           31.0|Faixa 4001 - 5000|Faixa 20 - 30 anos|     Sudeste|     Não|           4800|                 0|          0.0|\n",
            "|  1|    João Silva| 29.0|   Financeiro| 5500.0|         01/02/2020|            Ativo|      2020-02-01|    2020-02-01|              2020|                        4|     M|             25.0|                 12.5|                 2| Funcionário Nível 2|                           31.0|Faixa 5001 - 6000|Faixa 20 - 30 anos|     Sudeste|     Sim|           2800|                 3|         0.05|\n",
            "+---+--------------+-----+-------------+-------+-------------------+-----------------+----------------+--------------+------------------+-------------------------+------+-----------------+---------------------+------------------+--------------------+-------------------------------+-----------------+------------------+------------+--------+---------------+------------------+-------------+\n",
            "\n",
            "+---+--------------+-----+-------------+-------+-------------------+-----------------+----------------+--------------+------------------+-------------------------+------+-----------------+---------------------+------------------+--------------------+-------------------------------+-----------------+------------------+------------+--------+---------------+------------------+-------------+\n",
            "| ID|          Nome|Idade|         Área|Salário|Data de Contratação|Status de Emprego|Data Contratação|Data_Formatada|Ano de Contratação|Total de Anos Trabalhados|Gênero|Idade Contratação|Percentual de Aumento|Mês de Contratação|Nível do Funcionário|Total de Anos Até Aposentadoria|   Faixa Salarial|      Faixa Etária|      Região|Promoção|Salário Inicial|Total de Promoções|Aumento Anual|\n",
            "+---+--------------+-----+-------------+-------+-------------------+-----------------+----------------+--------------+------------------+-------------------------+------+-----------------+---------------------+------------------+--------------------+-------------------------------+-----------------+------------------+------------+--------+---------------+------------------+-------------+\n",
            "|  1|    João Silva| 29.0|   Financeiro| 5500.0|         01/02/2020|            Ativo|      2020-02-01|    2020-02-01|              2020|                        4|     M|             25.0|                 12.5|                 2| Funcionário Nível 2|                           31.0|Faixa 5001 - 6000|Faixa 20 - 30 anos|     Sudeste|     Sim|           2800|                 3|         0.05|\n",
            "|  2|   Maria Souza| 30.0|           Rh| 4800.0|         15-03-2019|            Ativo|      2019-03-15|    2019-03-15|              2019|                        5|     F|             25.0|                 15.5|                 3| Funcionário Nível 2|                           30.0|Faixa 4001 - 5000|Faixa 20 - 30 anos|Centro-oeste|     Sim|           1200|                 2|         0.03|\n",
            "|  3|Carlos Pereira| 29.0|   Financeiro| 6200.0|         2020/04/01|            Ativo|      2020-04-01|    2020-04-01|              2020|                        4|     M|             25.0|                 13.2|                 4| Funcionário Nível 3|                           31.0|Faixa 6001 - 7000|Faixa 20 - 30 anos|         Sul|     Sim|           2000|                 3|         0.05|\n",
            "|  4|     Ana Clara| 27.0|    Marketing| 4800.0|         12/06/2018|            Ativo|      2018-06-12|    2018-06-12|              2018|                        6|     F|             21.0|                   18|                 6| Funcionário Nível 2|                           33.0|Faixa 4001 - 5000|Faixa 20 - 30 anos|    Nordeste|     Sim|           1800|                 4|         0.02|\n",
            "|  5|  Fabio Santos| 31.0|Não Informado| 5500.0|         20-11-2017|            Ativo|      2017-11-20|    2017-11-20|              2017|                        7|     M|             24.0|                 14.5|                11| Funcionário Nível 2|                           29.0|Faixa 5001 - 6000|Faixa 20 - 30 anos|     Sudeste|     Sim|           3200|                 2|         0.06|\n",
            "|  6|   Sandra Lima| 28.0|           Rh| 5400.0|         05-05-2020|            Ativo|      2020-05-05|    2020-05-05|              2020|                        4|     F|             24.0|                  8.9|                 5| Funcionário Nível 2|                           32.0|Faixa 5001 - 6000|Faixa 20 - 30 anos|       Norte|     Não|           5400|                 0|         0.03|\n",
            "|  8| Luciana Costa| 30.0|   Financeiro| 5200.0|         01.01.2019|            Ativo|      2019-01-01|    2019-01-01|              2019|                        5|     F|             25.0|                   21|                 1| Funcionário Nível 2|                           30.0|Faixa 5001 - 6000|Faixa 20 - 30 anos|Centro-oeste|     Sim|           2500|                 2|         0.07|\n",
            "| 10| Fernanda Dias| 29.0|           Rh| 4800.0|         20/01/2020|            Ativo|      2020-01-20|    2020-01-20|              2020|                        4|     F|             25.0|                 13.5|                 1| Funcionário Nível 2|                           31.0|Faixa 4001 - 5000|Faixa 20 - 30 anos|     Sudeste|     Não|           4800|                 0|          0.0|\n",
            "|  1|    João Silva| 29.0|   Financeiro| 5500.0|         01/02/2020|            Ativo|      2020-02-01|    2020-02-01|              2020|                        4|     M|             25.0|                 12.5|                 2| Funcionário Nível 2|                           31.0|Faixa 5001 - 6000|Faixa 20 - 30 anos|     Sudeste|     Sim|           2800|                 3|         0.05|\n",
            "+---+--------------+-----+-------------+-------+-------------------+-----------------+----------------+--------------+------------------+-------------------------+------+-----------------+---------------------+------------------+--------------------+-------------------------------+-----------------+------------------+------------+--------+---------------+------------------+-------------+\n",
            "\n",
            "+---+--------------+-----+-------------+-------+-------------------+-----------------+----------------+--------------+------------------+-------------------------+------+-----------------+---------------------+------------------+--------------------+-------------------------------+-----------------+------------------+------------+--------+---------------+------------------+-------------+-------------+------------------+\n",
            "| ID|          Nome|Idade|         Área|Salário|Data de Contratação|Status de Emprego|Data Contratação|Data_Formatada|Ano de Contratação|Total de Anos Trabalhados|Gênero|Idade Contratação|Percentual de Aumento|Mês de Contratação|Nível do Funcionário|Total de Anos Até Aposentadoria|   Faixa Salarial|      Faixa Etária|      Região|Promoção|Salário Inicial|Total de Promoções|Aumento Anual|Salário 1 Ano|     Salário 2 Ano|\n",
            "+---+--------------+-----+-------------+-------+-------------------+-----------------+----------------+--------------+------------------+-------------------------+------+-----------------+---------------------+------------------+--------------------+-------------------------------+-----------------+------------------+------------+--------+---------------+------------------+-------------+-------------+------------------+\n",
            "|  1|    João Silva| 29.0|   Financeiro| 5500.0|         01/02/2020|            Ativo|      2020-02-01|    2020-02-01|              2020|                        4|     M|             25.0|                 12.5|                 2| Funcionário Nível 2|                           31.0|Faixa 5001 - 6000|Faixa 20 - 30 anos|     Sudeste|     Sim|           2800|                 3|         0.05|       5775.0|           6063.75|\n",
            "|  2|   Maria Souza| 30.0|           Rh| 4800.0|         15-03-2019|            Ativo|      2019-03-15|    2019-03-15|              2019|                        5|     F|             25.0|                 15.5|                 3| Funcionário Nível 2|                           30.0|Faixa 4001 - 5000|Faixa 20 - 30 anos|Centro-oeste|     Sim|           1200|                 2|         0.03|       4944.0|           5092.32|\n",
            "|  3|Carlos Pereira| 29.0|   Financeiro| 6200.0|         2020/04/01|            Ativo|      2020-04-01|    2020-04-01|              2020|                        4|     M|             25.0|                 13.2|                 4| Funcionário Nível 3|                           31.0|Faixa 6001 - 7000|Faixa 20 - 30 anos|         Sul|     Sim|           2000|                 3|         0.05|       6510.0|            6835.5|\n",
            "|  4|     Ana Clara| 27.0|    Marketing| 4800.0|         12/06/2018|            Ativo|      2018-06-12|    2018-06-12|              2018|                        6|     F|             21.0|                   18|                 6| Funcionário Nível 2|                           33.0|Faixa 4001 - 5000|Faixa 20 - 30 anos|    Nordeste|     Sim|           1800|                 4|         0.02|       4896.0|           4993.92|\n",
            "|  5|  Fabio Santos| 31.0|Não Informado| 5500.0|         20-11-2017|            Ativo|      2017-11-20|    2017-11-20|              2017|                        7|     M|             24.0|                 14.5|                11| Funcionário Nível 2|                           29.0|Faixa 5001 - 6000|Faixa 20 - 30 anos|     Sudeste|     Sim|           3200|                 2|         0.06|       5830.0| 6179.800000000001|\n",
            "|  6|   Sandra Lima| 28.0|           Rh| 5400.0|         05-05-2020|            Ativo|      2020-05-05|    2020-05-05|              2020|                        4|     F|             24.0|                  8.9|                 5| Funcionário Nível 2|                           32.0|Faixa 5001 - 6000|Faixa 20 - 30 anos|       Norte|     Não|           5400|                 0|         0.03|       5562.0|           5728.86|\n",
            "|  8| Luciana Costa| 30.0|   Financeiro| 5200.0|         01.01.2019|            Ativo|      2019-01-01|    2019-01-01|              2019|                        5|     F|             25.0|                   21|                 1| Funcionário Nível 2|                           30.0|Faixa 5001 - 6000|Faixa 20 - 30 anos|Centro-oeste|     Sim|           2500|                 2|         0.07|       5564.0|5953.4800000000005|\n",
            "| 10| Fernanda Dias| 29.0|           Rh| 4800.0|         20/01/2020|            Ativo|      2020-01-20|    2020-01-20|              2020|                        4|     F|             25.0|                 13.5|                 1| Funcionário Nível 2|                           31.0|Faixa 4001 - 5000|Faixa 20 - 30 anos|     Sudeste|     Não|           4800|                 0|          0.0|       4800.0|            4800.0|\n",
            "|  1|    João Silva| 29.0|   Financeiro| 5500.0|         01/02/2020|            Ativo|      2020-02-01|    2020-02-01|              2020|                        4|     M|             25.0|                 12.5|                 2| Funcionário Nível 2|                           31.0|Faixa 5001 - 6000|Faixa 20 - 30 anos|     Sudeste|     Sim|           2800|                 3|         0.05|       5775.0|           6063.75|\n",
            "+---+--------------+-----+-------------+-------+-------------------+-----------------+----------------+--------------+------------------+-------------------------+------+-----------------+---------------------+------------------+--------------------+-------------------------------+-----------------+------------------+------------+--------+---------------+------------------+-------------+-------------+------------------+\n",
            "\n"
          ]
        }
      ]
    },
    {
      "cell_type": "markdown",
      "source": [
        "**46** - Análise de Desempenho por Escolaridade: Se houvesse uma coluna de escolaridade, analisar o impacto da escolaridade no salário."
      ],
      "metadata": {
        "id": "WjS5nSoLpcE4"
      }
    },
    {
      "cell_type": "code",
      "source": [
        "escolaridade = {\n",
        "    'João Silva' : 'Mestrado',\n",
        "    'Maria Souza' :'Ensino Médio',\n",
        "    'Carlos Pereira' : 'Mestrado',\n",
        "    'Ana Clara' : 'Bacharelado',\n",
        "    'Fabio Santos' : 'Bacharelado',\n",
        "    'Sandra Lima' : 'Ensino Técnico',\n",
        "    'José Alves' : 'Bacharelado',\n",
        "    'Luciana Costa' : 'Doutorado',\n",
        "    'Paulo Ricardo' : 'Mestrado',\n",
        "    'Fernanda Dias' : 'Ensino Técnico',\n",
        "    'João Silva' : 'Mestrado'\n",
        "}\n",
        "\n",
        "df = df.withColumn(\n",
        "    \"Escolaridade\",\n",
        "    when(col(\"Nome\") == \"João Silva\", 'Mestrado')\n",
        "    .when(col(\"Nome\") == \"Maria Souza\", 'Ensino Médio')\n",
        "    .when(col(\"Nome\") == \"Carlos Pereira\", 'Mestrado')\n",
        "    .when(col(\"Nome\") == \"Ana Clara\", 'Bacharelado')\n",
        "    .when(col(\"Nome\") == \"Fabio Santos\", 'Bacharelado')\n",
        "    .when(col(\"Nome\") == \"Sandra Lima\", 'Ensino Técnico')\n",
        "    .when(col(\"Nome\") == \"José Alves\", 'Bacharelado')\n",
        "    .when(col(\"Nome\") == \"Luciana Costa\", 'Doutorado')\n",
        "    .when(col(\"Nome\") == \"Paulo Ricardo\", 'Mestrado')\n",
        "    .when(col(\"Nome\") == \"Fernanda Dias\", \"Ensino Técnico\")\n",
        "    .otherwise(None)\n",
        ")\n",
        "\n",
        "df.show()\n",
        "\n",
        "df_escolaridade_salario = df.groupBy(\"Escolaridade\").agg(avg(\"Salário\").alias(\"Média Salarial\"), min(\"Salário\").alias(\"Salário Mínimo\"), max(\"Salário\").alias(\"Salário Máximo\")).show()"
      ],
      "metadata": {
        "colab": {
          "base_uri": "https://localhost:8080/"
        },
        "id": "n6VrywuOpgiU",
        "outputId": "3c7fb04b-032d-4099-b434-30e6f52a8619"
      },
      "execution_count": null,
      "outputs": [
        {
          "output_type": "stream",
          "name": "stdout",
          "text": [
            "+---+--------------+-----+-------------+-------+-------------------+-----------------+----------------+--------------+------------------+-------------------------+------+-----------------+---------------------+------------------+--------------------+-------------------------------+-----------------+------------------+------------+--------+---------------+------------------+-------------+--------------+\n",
            "| ID|          Nome|Idade|         Área|Salário|Data de Contratação|Status de Emprego|Data Contratação|Data_Formatada|Ano de Contratação|Total de Anos Trabalhados|Gênero|Idade Contratação|Percentual de Aumento|Mês de Contratação|Nível do Funcionário|Total de Anos Até Aposentadoria|   Faixa Salarial|      Faixa Etária|      Região|Promoção|Salário Inicial|Total de Promoções|Aumento Anual|  Escolaridade|\n",
            "+---+--------------+-----+-------------+-------+-------------------+-----------------+----------------+--------------+------------------+-------------------------+------+-----------------+---------------------+------------------+--------------------+-------------------------------+-----------------+------------------+------------+--------+---------------+------------------+-------------+--------------+\n",
            "|  1|    João Silva| 29.0|   Financeiro| 5500.0|         01/02/2020|            Ativo|      2020-02-01|    2020-02-01|              2020|                        4|     M|             25.0|                 12.5|                 2| Funcionário Nível 2|                           31.0|Faixa 5001 - 6000|Faixa 20 - 30 anos|     Sudeste|     Sim|           2800|                 3|         0.05|      Mestrado|\n",
            "|  2|   Maria Souza| 30.0|           Rh| 4800.0|         15-03-2019|            Ativo|      2019-03-15|    2019-03-15|              2019|                        5|     F|             25.0|                 15.5|                 3| Funcionário Nível 2|                           30.0|Faixa 4001 - 5000|Faixa 20 - 30 anos|Centro-oeste|     Sim|           1200|                 2|         0.03|  Ensino Médio|\n",
            "|  3|Carlos Pereira| 29.0|   Financeiro| 6200.0|         2020/04/01|            Ativo|      2020-04-01|    2020-04-01|              2020|                        4|     M|             25.0|                 13.2|                 4| Funcionário Nível 3|                           31.0|Faixa 6001 - 7000|Faixa 20 - 30 anos|         Sul|     Sim|           2000|                 3|         0.05|      Mestrado|\n",
            "|  4|     Ana Clara| 27.0|    Marketing| 4800.0|         12/06/2018|            Ativo|      2018-06-12|    2018-06-12|              2018|                        6|     F|             21.0|                   18|                 6| Funcionário Nível 2|                           33.0|Faixa 4001 - 5000|Faixa 20 - 30 anos|    Nordeste|     Sim|           1800|                 4|         0.02|   Bacharelado|\n",
            "|  5|  Fabio Santos| 31.0|Não Informado| 5500.0|         20-11-2017|            Ativo|      2017-11-20|    2017-11-20|              2017|                        7|     M|             24.0|                 14.5|                11| Funcionário Nível 2|                           29.0|Faixa 5001 - 6000|Faixa 20 - 30 anos|     Sudeste|     Sim|           3200|                 2|         0.06|   Bacharelado|\n",
            "|  6|   Sandra Lima| 28.0|           Rh| 5400.0|         05-05-2020|            Ativo|      2020-05-05|    2020-05-05|              2020|                        4|     F|             24.0|                  8.9|                 5| Funcionário Nível 2|                           32.0|Faixa 5001 - 6000|Faixa 20 - 30 anos|       Norte|     Não|           5400|                 0|         0.03|Ensino Técnico|\n",
            "|  7|    José Alves| 34.0|    Marketing| 5400.0|         2018/02/01|          Inativo|      2018-02-01|    2018-02-01|              2018|                        6|     M|             28.0|                   25|                 2| Funcionário Nível 2|                           26.0|Faixa 5001 - 6000|Faixa 20 - 30 anos|    Nordeste|     Não|           5400|                 0|          0.0|   Bacharelado|\n",
            "|  8| Luciana Costa| 30.0|   Financeiro| 5200.0|         01.01.2019|            Ativo|      2019-01-01|    2019-01-01|              2019|                        5|     F|             25.0|                   21|                 1| Funcionário Nível 2|                           30.0|Faixa 5001 - 6000|Faixa 20 - 30 anos|Centro-oeste|     Sim|           2500|                 2|         0.07|     Doutorado|\n",
            "|  9| Paulo Ricardo| 29.0|   Financeiro| 6100.0|         12/12/2020|          Inativo|      2020-12-12|    2020-12-12|              2020|                        4|     M|             25.0|                 17.5|                12| Funcionário Nível 3|                           31.0|Faixa 6001 - 7000|Faixa 20 - 30 anos|     Sudeste|     Sim|           3500|                 1|          0.0|      Mestrado|\n",
            "| 10| Fernanda Dias| 29.0|           Rh| 4800.0|         20/01/2020|            Ativo|      2020-01-20|    2020-01-20|              2020|                        4|     F|             25.0|                 13.5|                 1| Funcionário Nível 2|                           31.0|Faixa 4001 - 5000|Faixa 20 - 30 anos|     Sudeste|     Não|           4800|                 0|          0.0|Ensino Técnico|\n",
            "|  1|    João Silva| 29.0|   Financeiro| 5500.0|         01/02/2020|            Ativo|      2020-02-01|    2020-02-01|              2020|                        4|     M|             25.0|                 12.5|                 2| Funcionário Nível 2|                           31.0|Faixa 5001 - 6000|Faixa 20 - 30 anos|     Sudeste|     Sim|           2800|                 3|         0.05|      Mestrado|\n",
            "+---+--------------+-----+-------------+-------+-------------------+-----------------+----------------+--------------+------------------+-------------------------+------+-----------------+---------------------+------------------+--------------------+-------------------------------+-----------------+------------------+------------+--------+---------------+------------------+-------------+--------------+\n",
            "\n",
            "+--------------+-----------------+--------------+--------------+\n",
            "|  Escolaridade|   Média Salarial|Salário Mínimo|Salário Máximo|\n",
            "+--------------+-----------------+--------------+--------------+\n",
            "|Ensino Técnico|           5100.0|        4800.0|        5400.0|\n",
            "|     Doutorado|           5200.0|        5200.0|        5200.0|\n",
            "|  Ensino Médio|           4800.0|        4800.0|        4800.0|\n",
            "|   Bacharelado|5233.333333333333|        4800.0|        5500.0|\n",
            "|      Mestrado|           5825.0|        5500.0|        6200.0|\n",
            "+--------------+-----------------+--------------+--------------+\n",
            "\n"
          ]
        }
      ]
    },
    {
      "cell_type": "markdown",
      "source": [
        "**47** - Comparação Entre Funcionários com Benefícios: Se houvesse dados de benefícios, comparar o salário entre funcionários que recebem ou não benefícios."
      ],
      "metadata": {
        "id": "06j76WsnrPk-"
      }
    },
    {
      "cell_type": "code",
      "source": [
        "beneficios = {\n",
        "    'João Silva' : 'Sim',\n",
        "    'Maria Souza' :'Sim',\n",
        "    'Carlos Pereira' : 'Não',\n",
        "    'Ana Clara' : 'Sim',\n",
        "    'Fabio Santos' : 'Não',\n",
        "    'Sandra Lima' : 'Não',\n",
        "    'José Alves' : 'Não',\n",
        "    'Luciana Costa' : 'Sim',\n",
        "    'Paulo Ricardo' : 'Não',\n",
        "    'Fernanda Dias' : 'Sim',\n",
        "    'João Silva' : 'Sim'\n",
        "}\n",
        "\n",
        "df = df.withColumn(\n",
        "    \"Benefícios\",\n",
        "    when(col(\"Nome\") == \"João Silva\", 'Sim')\n",
        "    .when(col(\"Nome\") == \"Maria Souza\", 'Sim')\n",
        "    .when(col(\"Nome\") == \"Carlos Pereira\", 'Não')\n",
        "    .when(col(\"Nome\") == \"Ana Clara\", 'Sim')\n",
        "    .when(col(\"Nome\") == \"Fabio Santos\", 'Não')\n",
        "    .when(col(\"Nome\") == \"Sandra Lima\", 'Não')\n",
        "    .when(col(\"Nome\") == \"José Alves\", 'Não')\n",
        "    .when(col(\"Nome\") == \"Luciana Costa\", 'Sim')\n",
        "    .when(col(\"Nome\") == \"Paulo Ricardo\", 'Não')\n",
        "    .when(col(\"Nome\") == \"Fernanda Dias\", \"Sim\")\n",
        "    .otherwise(None)\n",
        ")\n",
        "\n",
        "df.show()\n",
        "\n",
        "df_beneficios_salario = df.groupBy(\"Benefícios\").agg(avg(\"Salário\").alias(\"Média Salarial\"), min(\"Salário\").alias(\"Salário Mínimo\"), max(\"Salário\").alias(\"Salário Máximo\")).show()"
      ],
      "metadata": {
        "colab": {
          "base_uri": "https://localhost:8080/"
        },
        "id": "CafMyAMqrTLr",
        "outputId": "8c185724-9a1b-4b0b-cc2e-09f52d174fc7"
      },
      "execution_count": null,
      "outputs": [
        {
          "output_type": "stream",
          "name": "stdout",
          "text": [
            "+---+--------------+-----+-------------+-------+-------------------+-----------------+----------------+--------------+------------------+-------------------------+------+-----------------+---------------------+------------------+--------------------+-------------------------------+-----------------+------------------+------------+--------+---------------+------------------+-------------+--------------+----------+\n",
            "| ID|          Nome|Idade|         Área|Salário|Data de Contratação|Status de Emprego|Data Contratação|Data_Formatada|Ano de Contratação|Total de Anos Trabalhados|Gênero|Idade Contratação|Percentual de Aumento|Mês de Contratação|Nível do Funcionário|Total de Anos Até Aposentadoria|   Faixa Salarial|      Faixa Etária|      Região|Promoção|Salário Inicial|Total de Promoções|Aumento Anual|  Escolaridade|Benefícios|\n",
            "+---+--------------+-----+-------------+-------+-------------------+-----------------+----------------+--------------+------------------+-------------------------+------+-----------------+---------------------+------------------+--------------------+-------------------------------+-----------------+------------------+------------+--------+---------------+------------------+-------------+--------------+----------+\n",
            "|  1|    João Silva| 29.0|   Financeiro| 5500.0|         01/02/2020|            Ativo|      2020-02-01|    2020-02-01|              2020|                        4|     M|             25.0|                 12.5|                 2| Funcionário Nível 2|                           31.0|Faixa 5001 - 6000|Faixa 20 - 30 anos|     Sudeste|     Sim|           2800|                 3|         0.05|      Mestrado|       Sim|\n",
            "|  2|   Maria Souza| 30.0|           Rh| 4800.0|         15-03-2019|            Ativo|      2019-03-15|    2019-03-15|              2019|                        5|     F|             25.0|                 15.5|                 3| Funcionário Nível 2|                           30.0|Faixa 4001 - 5000|Faixa 20 - 30 anos|Centro-oeste|     Sim|           1200|                 2|         0.03|  Ensino Médio|       Sim|\n",
            "|  3|Carlos Pereira| 29.0|   Financeiro| 6200.0|         2020/04/01|            Ativo|      2020-04-01|    2020-04-01|              2020|                        4|     M|             25.0|                 13.2|                 4| Funcionário Nível 3|                           31.0|Faixa 6001 - 7000|Faixa 20 - 30 anos|         Sul|     Sim|           2000|                 3|         0.05|      Mestrado|       Não|\n",
            "|  4|     Ana Clara| 27.0|    Marketing| 4800.0|         12/06/2018|            Ativo|      2018-06-12|    2018-06-12|              2018|                        6|     F|             21.0|                   18|                 6| Funcionário Nível 2|                           33.0|Faixa 4001 - 5000|Faixa 20 - 30 anos|    Nordeste|     Sim|           1800|                 4|         0.02|   Bacharelado|       Sim|\n",
            "|  5|  Fabio Santos| 31.0|Não Informado| 5500.0|         20-11-2017|            Ativo|      2017-11-20|    2017-11-20|              2017|                        7|     M|             24.0|                 14.5|                11| Funcionário Nível 2|                           29.0|Faixa 5001 - 6000|Faixa 20 - 30 anos|     Sudeste|     Sim|           3200|                 2|         0.06|   Bacharelado|       Não|\n",
            "|  6|   Sandra Lima| 28.0|           Rh| 5400.0|         05-05-2020|            Ativo|      2020-05-05|    2020-05-05|              2020|                        4|     F|             24.0|                  8.9|                 5| Funcionário Nível 2|                           32.0|Faixa 5001 - 6000|Faixa 20 - 30 anos|       Norte|     Não|           5400|                 0|         0.03|Ensino Técnico|       Não|\n",
            "|  7|    José Alves| 34.0|    Marketing| 5400.0|         2018/02/01|          Inativo|      2018-02-01|    2018-02-01|              2018|                        6|     M|             28.0|                   25|                 2| Funcionário Nível 2|                           26.0|Faixa 5001 - 6000|Faixa 20 - 30 anos|    Nordeste|     Não|           5400|                 0|          0.0|   Bacharelado|       Não|\n",
            "|  8| Luciana Costa| 30.0|   Financeiro| 5200.0|         01.01.2019|            Ativo|      2019-01-01|    2019-01-01|              2019|                        5|     F|             25.0|                   21|                 1| Funcionário Nível 2|                           30.0|Faixa 5001 - 6000|Faixa 20 - 30 anos|Centro-oeste|     Sim|           2500|                 2|         0.07|     Doutorado|       Sim|\n",
            "|  9| Paulo Ricardo| 29.0|   Financeiro| 6100.0|         12/12/2020|          Inativo|      2020-12-12|    2020-12-12|              2020|                        4|     M|             25.0|                 17.5|                12| Funcionário Nível 3|                           31.0|Faixa 6001 - 7000|Faixa 20 - 30 anos|     Sudeste|     Sim|           3500|                 1|          0.0|      Mestrado|       Não|\n",
            "| 10| Fernanda Dias| 29.0|           Rh| 4800.0|         20/01/2020|            Ativo|      2020-01-20|    2020-01-20|              2020|                        4|     F|             25.0|                 13.5|                 1| Funcionário Nível 2|                           31.0|Faixa 4001 - 5000|Faixa 20 - 30 anos|     Sudeste|     Não|           4800|                 0|          0.0|Ensino Técnico|       Sim|\n",
            "|  1|    João Silva| 29.0|   Financeiro| 5500.0|         01/02/2020|            Ativo|      2020-02-01|    2020-02-01|              2020|                        4|     M|             25.0|                 12.5|                 2| Funcionário Nível 2|                           31.0|Faixa 5001 - 6000|Faixa 20 - 30 anos|     Sudeste|     Sim|           2800|                 3|         0.05|      Mestrado|       Sim|\n",
            "+---+--------------+-----+-------------+-------+-------------------+-----------------+----------------+--------------+------------------+-------------------------+------+-----------------+---------------------+------------------+--------------------+-------------------------------+-----------------+------------------+------------+--------+---------------+------------------+-------------+--------------+----------+\n",
            "\n",
            "+----------+--------------+--------------+--------------+\n",
            "|Benefícios|Média Salarial|Salário Mínimo|Salário Máximo|\n",
            "+----------+--------------+--------------+--------------+\n",
            "|       Não|        5720.0|        5400.0|        6200.0|\n",
            "|       Sim|        5100.0|        4800.0|        5500.0|\n",
            "+----------+--------------+--------------+--------------+\n",
            "\n"
          ]
        }
      ]
    },
    {
      "cell_type": "markdown",
      "source": [
        "**48** - Análise de Desempenho por Formação Acadêmica: Se houvesse uma coluna de formação, analisar como diferentes formações afetam o salário e tempo de casa."
      ],
      "metadata": {
        "id": "vPTosnH3sbBd"
      }
    },
    {
      "cell_type": "code",
      "source": [
        "df_escolaridade_tempo = df.groupBy(\"Escolaridade\").agg(avg(\"Total de Anos Trabalhados\").alias(\"Média de Anos Trabalhados\"), avg(\"Salário\").alias(\"Média Salarial\")).show()"
      ],
      "metadata": {
        "colab": {
          "base_uri": "https://localhost:8080/"
        },
        "id": "yhvmu_YAseKU",
        "outputId": "a1e80ff4-01c6-4b45-cdf0-27b9ece180f3"
      },
      "execution_count": null,
      "outputs": [
        {
          "output_type": "stream",
          "name": "stdout",
          "text": [
            "+--------------+-------------------------+-----------------+\n",
            "|  Escolaridade|Média de Anos Trabalhados|   Média Salarial|\n",
            "+--------------+-------------------------+-----------------+\n",
            "|Ensino Técnico|                      4.0|           5100.0|\n",
            "|     Doutorado|                      5.0|           5200.0|\n",
            "|  Ensino Médio|                      5.0|           4800.0|\n",
            "|   Bacharelado|        6.333333333333333|5233.333333333333|\n",
            "|      Mestrado|                      4.0|           5825.0|\n",
            "+--------------+-------------------------+-----------------+\n",
            "\n"
          ]
        }
      ]
    },
    {
      "cell_type": "markdown",
      "source": [
        "**49** - Previsão de Salários Futuros: Usar regressão linear ou outros modelos para prever o crescimento salarial futuro."
      ],
      "metadata": {
        "id": "oMgUJxCVtajK"
      }
    },
    {
      "cell_type": "code",
      "source": [
        "from pyspark.sql import SparkSession\n",
        "from pyspark.sql.functions import col\n",
        "from pyspark.ml.feature import VectorAssembler\n",
        "from pyspark.ml.regression import LinearRegression\n",
        "\n",
        "dados_regressao= [\n",
        "    (2021, 42800),\n",
        "    (2022, 69000),\n",
        "    (2023, 70000),\n",
        "    (2024, 81000),\n",
        "    (2025, 82000)\n",
        "]\n",
        "\n",
        "df_regressao = spark.createDataFrame(dados_regressao, ['Ano', 'Gasto Salarial Anual'])\n",
        "df_regressao.show()\n",
        "assembler = VectorAssembler(inputCols=[\"Ano\"], outputCol=\"features\")\n",
        "df_features = assembler.transform(df_regressao)\n",
        "lr = LinearRegression(featuresCol=\"features\", labelCol=\"Gasto Salarial Anual\")\n",
        "modelo = lr.fit(df_features)\n",
        "print(\"Coeficiente:\", modelo.coefficients)\n",
        "print(\"Intercepto:\", modelo.intercept)\n",
        "previsoes = modelo.transform(df_features)\n",
        "previsoes.select(\"Ano\", \"Gasto Salarial Anual\", \"prediction\").show()\n",
        "anos_futuros = [(2026,), (2027,), (2028,)]\n",
        "df_futuros = spark.createDataFrame(anos_futuros, ['Ano'])\n",
        "df_futuros_features = assembler.transform(df_futuros)\n",
        "previsoes_futuras = modelo.transform(df_futuros_features)\n",
        "previsoes_futuras.select(\"Ano\", \"prediction\").show()\n"
      ],
      "metadata": {
        "id": "yE6i-Pewtdu-",
        "colab": {
          "base_uri": "https://localhost:8080/"
        },
        "outputId": "4b6ad9cd-0a31-4b60-9a0a-86c2a1623a66"
      },
      "execution_count": null,
      "outputs": [
        {
          "output_type": "stream",
          "name": "stdout",
          "text": [
            "+----+--------------------+\n",
            "| Ano|Gasto Salarial Anual|\n",
            "+----+--------------------+\n",
            "|2021|               42800|\n",
            "|2022|               69000|\n",
            "|2023|               70000|\n",
            "|2024|               81000|\n",
            "|2025|               82000|\n",
            "+----+--------------------+\n",
            "\n",
            "Coeficiente: [9039.99999752855]\n",
            "Intercepto: -18218959.995000258\n",
            "+----+--------------------+------------------+\n",
            "| Ano|Gasto Salarial Anual|        prediction|\n",
            "+----+--------------------+------------------+\n",
            "|2021|               42800|50880.000004939735|\n",
            "|2022|               69000| 59920.00000246987|\n",
            "|2023|               70000|           68960.0|\n",
            "|2024|               81000|  77999.9999975264|\n",
            "|2025|               82000| 87039.99999505654|\n",
            "+----+--------------------+------------------+\n",
            "\n",
            "+----+------------------+\n",
            "| Ano|        prediction|\n",
            "+----+------------------+\n",
            "|2026| 96079.99999258295|\n",
            "|2027|105119.99999011308|\n",
            "|2028|114159.99998763949|\n",
            "+----+------------------+\n",
            "\n"
          ]
        }
      ]
    },
    {
      "cell_type": "markdown",
      "source": [
        "**50** - Identificação de Padrões de Promoção Interna: Analisar os padrões de promoção dentro da empresa ao longo dos anos."
      ],
      "metadata": {
        "id": "hu5r-Lgxtw4z"
      }
    },
    {
      "cell_type": "code",
      "source": [
        "#Média de prOmoções por departamento, escolaridade, total de anos trabalhados\n",
        "\n",
        "df_promocoes = df.groupBy(\"Área\", \"Escolaridade\", \"Total de Anos Trabalhados\").agg(avg(\"Total de Promoções\").alias(\"Média de Promoções\")).show()"
      ],
      "metadata": {
        "colab": {
          "base_uri": "https://localhost:8080/"
        },
        "id": "VKgmxUKWt0mc",
        "outputId": "f6c53e8b-48e2-4261-d41c-45bbbfd02a82"
      },
      "execution_count": null,
      "outputs": [
        {
          "output_type": "stream",
          "name": "stdout",
          "text": [
            "+-------------+--------------+-------------------------+------------------+\n",
            "|         Área|  Escolaridade|Total de Anos Trabalhados|Média de Promoções|\n",
            "+-------------+--------------+-------------------------+------------------+\n",
            "|           Rh|  Ensino Médio|                        5|               2.0|\n",
            "|           Rh|Ensino Técnico|                        4|               0.0|\n",
            "|    Marketing|   Bacharelado|                        6|               2.0|\n",
            "|   Financeiro|      Mestrado|                        4|               2.5|\n",
            "|   Financeiro|     Doutorado|                        5|               2.0|\n",
            "|Não Informado|   Bacharelado|                        7|               2.0|\n",
            "+-------------+--------------+-------------------------+------------------+\n",
            "\n"
          ]
        }
      ]
    }
  ]
}