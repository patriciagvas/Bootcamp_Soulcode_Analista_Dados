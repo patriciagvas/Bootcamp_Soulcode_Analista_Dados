{
  "nbformat": 4,
  "nbformat_minor": 0,
  "metadata": {
    "colab": {
      "provenance": [],
      "mount_file_id": "1VCCTmzIBmckuQamPEOTrt-wMjrSilXxF",
      "authorship_tag": "ABX9TyOiV90oJIYTimz379n6cx45"
    },
    "kernelspec": {
      "name": "python3",
      "display_name": "Python 3"
    },
    "language_info": {
      "name": "python"
    }
  },
  "cells": [
    {
      "cell_type": "markdown",
      "source": [
        "**Link da base de dados** - https://www.kaggle.com/datasets/thedevastator/books-sales-and-ratings"
      ],
      "metadata": {
        "id": "Upnf3KI3onwx"
      }
    },
    {
      "cell_type": "code",
      "execution_count": null,
      "metadata": {
        "id": "zSdpZbaZxIlf"
      },
      "outputs": [],
      "source": [
        "# Importação da biblioteca pandas\n",
        "import pandas as pd"
      ]
    },
    {
      "cell_type": "code",
      "source": [
        "# Instalação dos requisitos para o PySpark\n",
        "!apt-get install openjdk-8-jdk-headless -qq > /dev/null\n",
        "!wget -q http://archive.apache.org/dist/spark/spark-3.1.1/spark-3.1.1-bin-hadoop3.2.tgz\n",
        "!tar xf spark-3.1.1-bin-hadoop3.2.tgz\n",
        "!pip install -q findspark"
      ],
      "metadata": {
        "id": "fl1EGnhKx5tU"
      },
      "execution_count": null,
      "outputs": []
    },
    {
      "cell_type": "code",
      "source": [
        "# Configurar as variáveis de ambiente\n",
        "import os\n",
        "os.environ[\"JAVA_HOME\"] = \"/usr/lib/jvm/java-8-openjdk-amd64\"\n",
        "os.environ[\"SPARK_HOME\"] = \"/content/spark-3.1.1-bin-hadoop3.2\"\n",
        "# Torna o pyspark \"importável\"\n",
        "import findspark\n",
        "findspark.init()"
      ],
      "metadata": {
        "id": "eeAeY46ex7fU"
      },
      "execution_count": null,
      "outputs": []
    },
    {
      "cell_type": "code",
      "source": [
        "# iniciar uma sessão local\n",
        "from pyspark.sql import SparkSession\n",
        "spark = SparkSession.builder.appName(\"Introducao\").getOrCreate()"
      ],
      "metadata": {
        "id": "hJEWT4Yrx_5h"
      },
      "execution_count": null,
      "outputs": []
    },
    {
      "cell_type": "code",
      "source": [
        "# Verifica o SparkContext\n",
        "print(spark)\n",
        "\n",
        "# Exibe a Spark version\n",
        "print(spark.version)"
      ],
      "metadata": {
        "colab": {
          "base_uri": "https://localhost:8080/"
        },
        "id": "fMmXI3JHyAvb",
        "outputId": "d1de1f50-7e59-4120-e21b-ba6250e1f657"
      },
      "execution_count": null,
      "outputs": [
        {
          "output_type": "stream",
          "name": "stdout",
          "text": [
            "<pyspark.sql.session.SparkSession object at 0x7dd3dff1a650>\n",
            "3.1.1\n"
          ]
        }
      ]
    },
    {
      "cell_type": "markdown",
      "source": [
        "**INSTRUÇÕES** - 4 - Elabore Análises com filtros e agrupamentos aprendidos em PySpark na aula de ontem; 5 - Cada filtro ou agrupamento que você realizar deve estar acompanhado (no bloco de código do respectivo colab) de um comentário sobre qual pergunta essas dados filtrados ou agrupados tentam responder sobre essa base; 6 - Cada filtro ou agrupamento deverá ser salvo em um objeto PySpark e depois convertido em um objeto Pandas, ao longo do dia você deverá realizar no mínimo 20 tabelas resultantes dessas análises; 7 - Após isso, as tabelas pandas deverão ser enviadas diretamente do colab para arquivos csv."
      ],
      "metadata": {
        "id": "Xs3tcth2yClY"
      }
    },
    {
      "cell_type": "code",
      "source": [
        "# Definir quais funcões sql pyspark vamos importar\n",
        "from pyspark.sql.functions import round, col, collect_list, when, count, sum, max, avg\n",
        "from pyspark.sql import functions as F\n",
        "from IPython.display import display\n",
        "\n",
        "#Carregando um arquivo CSV em um DataFrame\n",
        "df = spark.read.csv(\"/content/drive/MyDrive/Colab Notebooks/Datasets/Books_Data_Clean.csv\", header=True, inferSchema=True)\n",
        "df = df.dropna()\n",
        "# Mostrar as primeiras linhas do DataFrame\n",
        "#df.show()"
      ],
      "metadata": {
        "id": "09lyw4z5yG-4"
      },
      "execution_count": null,
      "outputs": []
    },
    {
      "cell_type": "code",
      "source": [
        "# 1 - Quantidade de livros publicados por cada ano\n",
        "\n",
        "df_livros_ano = df.groupBy(\"Publishing Year\").agg(count(\"Book Name\").alias(\"Total de livros publicados por ano\"))\n",
        "df_livros_ano.orderBy(col(\"Publishing Year\").desc()).show() #ordenar do ano mais recente\n",
        "df_livros_ano_pd = df_livros_ano.toPandas() #Converte para pandas\n",
        "df_livros_ano_pd.to_csv(\"livros_publicados_ano.csv\", index=False) #Salva em csv"
      ],
      "metadata": {
        "colab": {
          "base_uri": "https://localhost:8080/"
        },
        "id": "jZ_FlRfmyt9U",
        "outputId": "955ec096-20d7-4a47-ab6c-144e55719f90"
      },
      "execution_count": null,
      "outputs": [
        {
          "output_type": "stream",
          "name": "stdout",
          "text": [
            "+---------------+----------------------------------+\n",
            "|Publishing Year|Total de livros publicados por ano|\n",
            "+---------------+----------------------------------+\n",
            "|         2016.0|                                10|\n",
            "|         2015.0|                                25|\n",
            "|         2014.0|                                33|\n",
            "|         2013.0|                                31|\n",
            "|         2012.0|                                59|\n",
            "|         2011.0|                                54|\n",
            "|         2010.0|                                41|\n",
            "|         2009.0|                                45|\n",
            "|         2008.0|                                37|\n",
            "|         2007.0|                                32|\n",
            "|         2006.0|                                40|\n",
            "|         2005.0|                                34|\n",
            "|         2004.0|                                29|\n",
            "|         2003.0|                                38|\n",
            "|         2002.0|                                17|\n",
            "|         2001.0|                                26|\n",
            "|         2000.0|                                19|\n",
            "|         1999.0|                                25|\n",
            "|         1998.0|                                20|\n",
            "|         1997.0|                                12|\n",
            "+---------------+----------------------------------+\n",
            "only showing top 20 rows\n",
            "\n"
          ]
        }
      ]
    },
    {
      "cell_type": "code",
      "source": [
        "# 2 - Quantidade de livros publicados por editora\n",
        "\n",
        "df_livros_editora = df.groupBy(\"Publisher \").agg(count(\"Book Name\").alias(\"Total de livros publicados por editora\"))\n",
        "df_livros_editora.orderBy(\"Total de livros publicados por editora\").show()\n",
        "df_livros_editora_pd = df_livros_editora.toPandas() #Converte para pandas\n",
        "df_livros_editora_pd.to_csv(\"livros_publicados_editora.csv\", index=False) #Salva em csv"
      ],
      "metadata": {
        "colab": {
          "base_uri": "https://localhost:8080/"
        },
        "id": "5z278O_xzNN1",
        "outputId": "dd37c0db-d757-45c5-fd7c-5ea56fba1935"
      },
      "execution_count": null,
      "outputs": [
        {
          "output_type": "stream",
          "name": "stdout",
          "text": [
            "+--------------------+--------------------------------------+\n",
            "|          Publisher |Total de livros publicados por editora|\n",
            "+--------------------+--------------------------------------+\n",
            "|HarperCollins Pub...|                                     4|\n",
            "|HarperCollins Chr...|                                     4|\n",
            "|           Macmillan|                                    40|\n",
            "|Simon and Schuste...|                                    55|\n",
            "| Hachette Book Group|                                    56|\n",
            "|HarperCollins Pub...|                                    65|\n",
            "|Penguin Group (US...|                                    97|\n",
            "|    Random House LLC|                                   111|\n",
            "|Amazon Digital Se...|                                   566|\n",
            "+--------------------+--------------------------------------+\n",
            "\n"
          ]
        }
      ]
    },
    {
      "cell_type": "code",
      "source": [
        "# 3 - Quantidade de livros publicados por gênero\n",
        "\n",
        "df_livros_genero = df.groupBy(\"genre\").agg(count(\"Book Name\").alias(\"Total de livros publicados por gênero\"))\n",
        "df_livros_genero.orderBy(\"Total de livros publicados por gênero\").show()\n",
        "df_livros_genero_pd = df_livros_genero.toPandas() #Converte para pandas\n",
        "df_livros_genero_pd.to_csv(\"livros_publicados_genero.csv\", index=False) #Salva em csv"
      ],
      "metadata": {
        "colab": {
          "base_uri": "https://localhost:8080/"
        },
        "id": "RqVjG2kNzRVr",
        "outputId": "0d21304d-76c9-46e2-85d5-ae2a45537e54"
      },
      "execution_count": null,
      "outputs": [
        {
          "output_type": "stream",
          "name": "stdout",
          "text": [
            "+-------------+-------------------------------------+\n",
            "|        genre|Total de livros publicados por gênero|\n",
            "+-------------+-------------------------------------+\n",
            "|     children|                                   15|\n",
            "|      fiction|                                   55|\n",
            "|   nonfiction|                                  156|\n",
            "|genre fiction|                                  772|\n",
            "+-------------+-------------------------------------+\n",
            "\n"
          ]
        }
      ]
    },
    {
      "cell_type": "code",
      "source": [
        "#4 - Autor com o maior número de livros publicados\n",
        "\n",
        "df_autor_livro = df.groupBy(\"Author\").agg(count(\"Book Name\").alias(\"Total de livros publicados por autor\"))\n",
        "autor_mais_publicado = df_autor_livro.orderBy(col(\"Total de livros publicados por autor\").desc()).first()\n",
        "#df_autor_livro.orderBy(\"Total de livros publicados por autor\").show()\n",
        "print(f\"O autor com o maior número de livros publicados é {autor_mais_publicado['Author']} com {autor_mais_publicado['Total de livros publicados por autor']} títulos.\")\n",
        "df_autor_livro_pd = df_autor_livro.toPandas() #Converte para pandas\n",
        "df_autor_livro_pd.to_csv(\"livros_publicados_autor.csv\", index=False)"
      ],
      "metadata": {
        "colab": {
          "base_uri": "https://localhost:8080/"
        },
        "id": "Cqq0sulPziFz",
        "outputId": "55c3b97e-a1a7-411c-8682-bf9f3bb7c8e1"
      },
      "execution_count": null,
      "outputs": [
        {
          "output_type": "stream",
          "name": "stdout",
          "text": [
            "O autor com o maior número de livros publicados é Stephen King com 27 títulos.\n"
          ]
        }
      ]
    },
    {
      "cell_type": "code",
      "source": [
        "#5 - Autor com menor número e autor com o maior número de livros vendidos\n",
        "\n",
        "df_autor_vendas = df.groupBy(\"Author\").agg(sum(\"units sold\").alias(\"Total de vendas por autor\"))\n",
        "autor_maior_vendas = df_autor_vendas.orderBy(col(\"Total de vendas por autor\").desc()).first()\n",
        "autor_menor_vendas = df_autor_vendas.orderBy(col(\"Total de vendas por autor\").asc()).first()\n",
        "print(f\"O autor com o maior número de livros vendidos é {autor_maior_vendas['Author']} com {autor_maior_vendas['Total de vendas por autor']} livros vendidos.\")\n",
        "print(f\"O autor com o menor número de livros vendidos é {autor_menor_vendas['Author']} com {autor_menor_vendas['Total de vendas por autor']} livros vendidos.\")\n",
        "df_autor_vendas_pd = df_autor_vendas.toPandas() #Converte para pandas\n",
        "df_autor_vendas_pd.to_csv(\"livros_vendas_autor.csv\", index=False)"
      ],
      "metadata": {
        "colab": {
          "base_uri": "https://localhost:8080/"
        },
        "id": "BQd_RhAFzz3B",
        "outputId": "11763ce9-9081-4921-faa9-351c222f3ce4"
      },
      "execution_count": null,
      "outputs": [
        {
          "output_type": "stream",
          "name": "stdout",
          "text": [
            "O autor com o maior número de livros vendidos é Stephen King com 270824 livros vendidos.\n",
            "O autor com o menor número de livros vendidos é Bryce Courtenay com 106 livros vendidos.\n"
          ]
        }
      ]
    },
    {
      "cell_type": "code",
      "source": [
        "# 6 - Total de vendas por editora\n",
        "\n",
        "df_editora_vendas = df.groupBy(\"Publisher \").agg(sum(\"units sold\").alias(\"Total de vendas por editora\"))\n",
        "df_editora_vendas.orderBy(\"Total de vendas por editora\").show()\n",
        "df_editora_vendas_pd = df_editora_vendas.toPandas() #Converte para pandas\n",
        "df_editora_vendas_pd.to_csv(\"livros_vendas_editora.csv\", index=False)"
      ],
      "metadata": {
        "colab": {
          "base_uri": "https://localhost:8080/"
        },
        "id": "9brmrl-Kzv5s",
        "outputId": "cab9dca8-d4b1-431e-cfec-136de0a3425b"
      },
      "execution_count": null,
      "outputs": [
        {
          "output_type": "stream",
          "name": "stdout",
          "text": [
            "+--------------------+---------------------------+\n",
            "|          Publisher |Total de vendas por editora|\n",
            "+--------------------+---------------------------+\n",
            "|HarperCollins Chr...|                      41527|\n",
            "|HarperCollins Pub...|                      44358|\n",
            "|           Macmillan|                     303177|\n",
            "| Hachette Book Group|                     457760|\n",
            "|Simon and Schuste...|                     501573|\n",
            "|HarperCollins Pub...|                     540643|\n",
            "|Penguin Group (US...|                     841540|\n",
            "|    Random House LLC|                    1255080|\n",
            "|Amazon Digital Se...|                    5797050|\n",
            "+--------------------+---------------------------+\n",
            "\n"
          ]
        }
      ]
    },
    {
      "cell_type": "code",
      "source": [
        "#7 - Total de livros vendidos por gênero\n",
        "\n",
        "df_vendas_genero = df.groupBy(\"genre\").agg(sum(\"units sold\").alias(\"Total de livros vendidos por gênero\"))\n",
        "df_vendas_genero.orderBy(\"Total de livros vendidos por gênero\").show()\n",
        "df_vendas_genero_pd = df_vendas_genero.toPandas() #Converte para pandas\n",
        "df_vendas_genero_pd.to_csv(\"livros_vendas_genero.csv\", index=False) #Salva em csv"
      ],
      "metadata": {
        "colab": {
          "base_uri": "https://localhost:8080/"
        },
        "id": "_Wokc1d7z4bZ",
        "outputId": "4ac123f4-ccad-42d2-df60-112afb67d858"
      },
      "execution_count": null,
      "outputs": [
        {
          "output_type": "stream",
          "name": "stdout",
          "text": [
            "+-------------+-----------------------------------+\n",
            "|        genre|Total de livros vendidos por gênero|\n",
            "+-------------+-----------------------------------+\n",
            "|     children|                             298118|\n",
            "|      fiction|                             450025|\n",
            "|   nonfiction|                            1558281|\n",
            "|genre fiction|                            7476284|\n",
            "+-------------+-----------------------------------+\n",
            "\n"
          ]
        }
      ]
    },
    {
      "cell_type": "code",
      "source": [
        "#8 - Livros com maior avaliação (ordenando do maior para o menor)\n",
        "\n",
        "df_livros_avaliacao = df.groupBy(\"Book Name\").agg(max(\"Book_average_rating\").alias(\"Avaliação do livro\"))\n",
        "df_livros_avaliacao = df_livros_avaliacao.orderBy(col(\"Avaliação do livro\").desc())\n",
        "df_livros_avaliacao.show()\n",
        "df_livros_avaliacao_pd = df_livros_avaliacao.toPandas() #Converte para pandas\n",
        "df_livros_avaliacao_pd.to_csv(\"livros_avaliacao.csv\", index=False) #Salva em csv"
      ],
      "metadata": {
        "colab": {
          "base_uri": "https://localhost:8080/"
        },
        "id": "AHqcpQ-Q0AvF",
        "outputId": "f6fafcf1-9e80-4118-e883-e0f55754fbc9"
      },
      "execution_count": null,
      "outputs": [
        {
          "output_type": "stream",
          "name": "stdout",
          "text": [
            "+--------------------+------------------+\n",
            "|           Book Name|Avaliação do livro|\n",
            "+--------------------+------------------+\n",
            "|   Words of Radiance|              4.77|\n",
            "|A Court of Mist a...|              4.72|\n",
            "|The Essential Cal...|              4.65|\n",
            "|    The Way of Kings|              4.64|\n",
            "|   Calvin and Hobbes|              4.61|\n",
            "|    Queen of Shadows|               4.6|\n",
            "|The Hobbit and Th...|              4.59|\n",
            "|A Storm of Swords...|              4.56|\n",
            "|  The House of Hades|              4.54|\n",
            "|   The Complete Maus|              4.53|\n",
            "|        Heir of Fire|              4.53|\n",
            "|   A Memory of Light|               4.5|\n",
            "|The Complete Sher...|               4.5|\n",
            "|   Crown of Midnight|              4.49|\n",
            "|é‹¼ã®éŒ¬é‡‘è¡“å¸« 1|              4.49|\n",
            "|              Winter|              4.49|\n",
            "|City of Heavenly ...|              4.48|\n",
            "|       Lonesome Dove|              4.47|\n",
            "|         Night Watch|              4.47|\n",
            "|               Cress|              4.46|\n",
            "+--------------------+------------------+\n",
            "only showing top 20 rows\n",
            "\n"
          ]
        }
      ]
    },
    {
      "cell_type": "code",
      "source": [
        "#9 - Avaliação média dos livros publicados por editora\n",
        "\n",
        "df_editora_avaliacao = df.groupBy(\"Publisher \").agg(avg(\"Book_average_rating\").alias(\"Avaliação média dos livros publicados\"))\n",
        "df_editora_avaliacao = df_editora_avaliacao.orderBy(col(\"Avaliação média dos livros publicados\").desc())\n",
        "df_editora_avaliacao= df_editora_avaliacao.withColumn(\"Avaliação média dos livros publicados\", round(\"Avaliação média dos livros publicados\",2))\n",
        "df_editora_avaliacao.show()\n",
        "df_editora_avaliacao_pd = df_editora_avaliacao.toPandas() #Converte para pandas\n",
        "df_editora_avaliacao_pd.to_csv(\"livros_avaliacao_editora.csv\", index=False) #Salva em csv\n"
      ],
      "metadata": {
        "colab": {
          "base_uri": "https://localhost:8080/"
        },
        "id": "GFUGsPK90KOj",
        "outputId": "870d1093-d4a5-4ab0-b268-f24cdaf87428"
      },
      "execution_count": null,
      "outputs": [
        {
          "output_type": "stream",
          "name": "stdout",
          "text": [
            "+--------------------+-------------------------------------+\n",
            "|          Publisher |Avaliação média dos livros publicados|\n",
            "+--------------------+-------------------------------------+\n",
            "|HarperCollins Chr...|                                 4.17|\n",
            "|HarperCollins Pub...|                                 4.13|\n",
            "|Penguin Group (US...|                                 4.04|\n",
            "|Simon and Schuste...|                                 4.04|\n",
            "|Amazon Digital Se...|                                  4.0|\n",
            "|           Macmillan|                                  4.0|\n",
            "|HarperCollins Pub...|                                  4.0|\n",
            "|    Random House LLC|                                 3.98|\n",
            "| Hachette Book Group|                                 3.94|\n",
            "+--------------------+-------------------------------------+\n",
            "\n"
          ]
        }
      ]
    },
    {
      "cell_type": "code",
      "source": [
        "#10 - Quantidade de autores de acordo com a classificação - Novice, Famous, Intermidiate\n",
        "\n",
        "df_classificacao_autores = df.groupBy(\"Author_Rating\").agg(count(\"Author\").alias(\"Total de autores\"))\n",
        "df_classificacao_autores = df_classificacao_autores.orderBy(col(\"Total de autores\").desc())\n",
        "df_classificacao_autores.show()\n",
        "df_classificacao_autores_pd = df_classificacao_autores.toPandas() #Converte para pandas\n",
        "df_classificacao_autores_pd.to_csv(\"classificacao_autores.csv\", index=False) #Salva em csv"
      ],
      "metadata": {
        "colab": {
          "base_uri": "https://localhost:8080/"
        },
        "id": "subH8TdR0TML",
        "outputId": "b71bd686-b22e-49b5-ef69-e6dc73899bad"
      },
      "execution_count": null,
      "outputs": [
        {
          "output_type": "stream",
          "name": "stdout",
          "text": [
            "+-------------+----------------+\n",
            "|Author_Rating|Total de autores|\n",
            "+-------------+----------------+\n",
            "| Intermediate|             589|\n",
            "|    Excellent|             333|\n",
            "|       Famous|              47|\n",
            "|       Novice|              29|\n",
            "+-------------+----------------+\n",
            "\n"
          ]
        }
      ]
    },
    {
      "cell_type": "code",
      "source": [
        "#11 - Livros de acordo com sale price\n",
        "\n",
        "cortes = [0, 5, 10, 15, 20]\n",
        "rotulos = ['0-4.99', '5-9.99', '10-14.99', '15-19.99']\n",
        "\n",
        "df = df.withColumn(\n",
        "    'Faixa_Preco',\n",
        "    when(col('sale price').between(cortes[0], cortes[1] - 1), rotulos[0])\n",
        "    .when(col('sale price').between(cortes[1], cortes[2] - 1), rotulos[1])\n",
        "    .when(col('sale price').between(cortes[2], cortes[3] - 1), rotulos[2])\n",
        "    .when(col('sale price').between(cortes[3], cortes[4] - 1), rotulos[3])\n",
        "    .otherwise(None)  # Para valores fora do intervalo de preço\n",
        ")\n",
        "\n",
        "df_preco_livros = df.groupBy(\"Faixa_Preco\").agg(count(\"Book Name\").alias(\"Total de livros\"))\n",
        "df_preco_livros.orderBy(col(\"Faixa_Preco\")).show()\n",
        "df_preco_livros_pd = df_preco_livros.toPandas() #Converte para pandas\n",
        "df_preco_livros_pd.to_csv(\"classificacao_livros_preco.csv\", index=False) #Salva em csv"
      ],
      "metadata": {
        "colab": {
          "base_uri": "https://localhost:8080/"
        },
        "id": "ns_p7oCY0eSr",
        "outputId": "c84f0a53-bd2d-42ab-9b1b-8dd64a3baa61"
      },
      "execution_count": null,
      "outputs": [
        {
          "output_type": "stream",
          "name": "stdout",
          "text": [
            "+-----------+---------------+\n",
            "|Faixa_Preco|Total de livros|\n",
            "+-----------+---------------+\n",
            "|       null|            132|\n",
            "|     0-4.99|            550|\n",
            "|   10-14.99|             87|\n",
            "|   15-19.99|              3|\n",
            "|     5-9.99|            226|\n",
            "+-----------+---------------+\n",
            "\n"
          ]
        }
      ]
    },
    {
      "cell_type": "code",
      "source": [
        "#12 - Autor com o maior número de avaliações\n",
        "\n",
        "df_autor_mais_avaliado = df.groupBy(\"Author\").agg(sum(\"Book_ratings_count\").alias(\"Total de avaliações\"))\n",
        "#df_autor_mais_avaliado.show()\n",
        "autor_mais_avaliado = df_autor_mais_avaliado.orderBy((col(\"Total de avaliações\").desc())).first()\n",
        "print(f\"O autor com o maior número de avaliações é {autor_mais_avaliado['Author']} com {autor_mais_avaliado['Total de avaliações']} avaliações.\")\n",
        "df_autor_mais_avaliado_pd = df_autor_mais_avaliado.toPandas() #Converte para pandas\n",
        "df_autor_mais_avaliado_pd.to_csv(\"avaliacoes_autores.csv\", index=False) #Salva em csv"
      ],
      "metadata": {
        "colab": {
          "base_uri": "https://localhost:8080/"
        },
        "id": "YryOKs2e0pm6",
        "outputId": "f65c4ff7-c296-400f-a138-3075680618db"
      },
      "execution_count": null,
      "outputs": [
        {
          "output_type": "stream",
          "name": "stdout",
          "text": [
            "O autor com o maior número de avaliações é Stephen King com 2588612 avaliações.\n"
          ]
        }
      ]
    },
    {
      "cell_type": "code",
      "source": [
        "#13 - Total de vendas por gênero\n",
        "\n",
        "df_vendas_genero = df.groupBy(\"genre\").agg(sum(\"gross sales\").alias(\"Total de vendas\"))\n",
        "df_vendas_genero = df_vendas_genero.orderBy(col(\"Total de vendas\").desc())\n",
        "df_vendas_genero= df_vendas_genero.withColumn(\"Total de vendas\", round(\"Total de vendas\",2))\n",
        "df_vendas_genero.show()\n",
        "df_vendas_genero_pd = df_vendas_genero.toPandas() #Converte para pandas\n",
        "df_vendas_genero_pd.to_csv(\"vendas_genero.csv\", index=False) #Salva em csv"
      ],
      "metadata": {
        "colab": {
          "base_uri": "https://localhost:8080/"
        },
        "id": "YHhLrqFe0zNj",
        "outputId": "73027204-1068-48b3-9ea5-b51e474e62af"
      },
      "execution_count": null,
      "outputs": [
        {
          "output_type": "stream",
          "name": "stdout",
          "text": [
            "+-------------+---------------+\n",
            "|        genre|Total de vendas|\n",
            "+-------------+---------------+\n",
            "|genre fiction|     1535794.78|\n",
            "|   nonfiction|      215894.42|\n",
            "|      fiction|      115723.56|\n",
            "|     children|       13902.22|\n",
            "+-------------+---------------+\n",
            "\n"
          ]
        }
      ]
    },
    {
      "cell_type": "code",
      "source": [
        "#14 - Média de preço de venda por gênero\n",
        "\n",
        "df_media_preco_genero = df.groupBy(\"genre\").agg(avg(\"sale price\").alias(\"Preço média de vendas\"))\n",
        "df_media_preco_genero = df_media_preco_genero.orderBy(col(\"Preço média de vendas\").desc())\n",
        "df_media_preco_genero= df_media_preco_genero.withColumn(\"Preço média de vendas\", round(\"Preço média de vendas\",2))\n",
        "df_media_preco_genero.show()\n",
        "df_media_preco_genero_pd = df_media_preco_genero.toPandas() #Converte para pandas\n",
        "df_media_preco_genero_pd.to_csv(\"media_preco_genero.csv\", index=False) #Salva em csv"
      ],
      "metadata": {
        "colab": {
          "base_uri": "https://localhost:8080/"
        },
        "id": "umpDq2FK1gmN",
        "outputId": "a3e967fb-942f-4009-bb92-1b0f1804a43d"
      },
      "execution_count": null,
      "outputs": [
        {
          "output_type": "stream",
          "name": "stdout",
          "text": [
            "+-------------+---------------------+\n",
            "|        genre|Preço média de vendas|\n",
            "+-------------+---------------------+\n",
            "|     children|                 6.13|\n",
            "|   nonfiction|                 5.53|\n",
            "|      fiction|                 5.12|\n",
            "|genre fiction|                 4.66|\n",
            "+-------------+---------------------+\n",
            "\n"
          ]
        }
      ]
    },
    {
      "cell_type": "code",
      "source": [
        "#15 - Autor Novice/Novato com maior número de vendas\n",
        "\n",
        "df_autor_novatos = df.filter(col(\"Author_Rating\") == \"Novice\")\n",
        "#df_autor_novatos.show()\n",
        "df_autor_novatos_vendas = df_autor_novatos.groupBy(\"Author\").agg(sum(\"units sold\").alias(\"Total de vendas\"))\n",
        "autor_novato_maior_venda = df_autor_novatos_vendas.orderBy((col(\"Total de vendas\").desc())).first()\n",
        "print(f\"O autor novato com o maior número de vendas é {autor_novato_maior_venda['Author']} com {autor_novato_maior_venda['Total de vendas']} livros vendidos.\")\n",
        "df_autor_novatos_vendas_pd = df_autor_novatos_vendas.toPandas() #Converte para pandas\n",
        "df_autor_novatos_vendas_pd.to_csv(\"autor_novatos_vendas.csv\", index=False) #Salva em csv\n"
      ],
      "metadata": {
        "colab": {
          "base_uri": "https://localhost:8080/"
        },
        "id": "fg7ts7PC1mlj",
        "outputId": "1c96997d-c8d7-46d1-a414-71722b10c19c"
      },
      "execution_count": null,
      "outputs": [
        {
          "output_type": "stream",
          "name": "stdout",
          "text": [
            "O autor novato com o maior número de vendas é Jane Green com 61128 livros vendidos.\n"
          ]
        }
      ]
    },
    {
      "cell_type": "code",
      "source": [
        "#16 - Média de avaliação dos livros de Autores Famous\n",
        "\n",
        "df_autores_famous = df.filter(col(\"Author_Rating\") == \"Famous\")\n",
        "#df_autores_famous.show()\n",
        "df_famous_media = df_autores_famous.groupBy(\"Author\").agg(avg(\"Book_average_rating\").alias(\"Média de avaliação dos livros\"))\n",
        "df_famous_media = df_famous_media.withColumn(\"Média de avaliação dos livros\", round(\"Média de avaliação dos livros\",2))\n",
        "df_famous_media = df_famous_media.orderBy((col(\"Média de avaliação dos livros\").desc()))\n",
        "df_famous_media.show()\n",
        "df_famous_media_pd = df_famous_media.toPandas()\n",
        "df_famous_media_pd.to_csv(\"autores_famosos_avaliacao.csv\", index=False)"
      ],
      "metadata": {
        "colab": {
          "base_uri": "https://localhost:8080/"
        },
        "id": "-I1PVIoX1-UC",
        "outputId": "39bc8945-913f-4be7-f208-1370741cf12e"
      },
      "execution_count": null,
      "outputs": [
        {
          "output_type": "stream",
          "name": "stdout",
          "text": [
            "+--------------------+-----------------------------+\n",
            "|              Author|Média de avaliação dos livros|\n",
            "+--------------------+-----------------------------+\n",
            "|      Bill Watterson|                         4.65|\n",
            "|   Brandon Sanderson|                         4.62|\n",
            "|Bill Watterson, G...|                         4.61|\n",
            "|       Sarah J. Maas|                         4.59|\n",
            "|      J.R.R. Tolkien|                         4.59|\n",
            "|  George R.R. Martin|                         4.56|\n",
            "|  Arthur Conan Doyle|                          4.5|\n",
            "|Hiromu Arakawa, A...|                         4.49|\n",
            "|       Marissa Meyer|                         4.48|\n",
            "|        Rick Riordan|                         4.48|\n",
            "|     Cassandra Clare|                         4.48|\n",
            "|      Art Spiegelman|                         4.47|\n",
            "|      Larry McMurtry|                         4.47|\n",
            "|     Terry Pratchett|                         4.47|\n",
            "|Robert Jordan, Br...|                         4.46|\n",
            "|        Pierce Brown|                         4.46|\n",
            "|Jon Stone, Michae...|                         4.45|\n",
            "|      Colleen Hoover|                         4.44|\n",
            "|      Robert Kirkman|                         4.43|\n",
            "|      Diana Gabaldon|                         4.43|\n",
            "+--------------------+-----------------------------+\n",
            "only showing top 20 rows\n",
            "\n"
          ]
        }
      ]
    },
    {
      "cell_type": "code",
      "source": [
        "#17 - Editora com o maior número de autores Famous\n",
        "\n",
        "df_autores_famous = df.filter(col(\"Author_Rating\") == \"Famous\")\n",
        "#df_autores_famous.show()\n",
        "df_famous_editora = df_autores_famous.groupBy(\"Publisher \").agg(count(\"Author\").alias(\"Total de autores famosos\"))\n",
        "df_famous_editora = df_famous_editora.orderBy((col(\"Total de autores famosos\").desc()))\n",
        "df_famous_editora.show()\n",
        "df_famous_editora_pd = df_famous_editora.toPandas()\n",
        "df_famous_editora_pd.to_csv(\"autores_famosos_editora.csv\", index=False)"
      ],
      "metadata": {
        "colab": {
          "base_uri": "https://localhost:8080/"
        },
        "id": "DWWG6hLx2FfV",
        "outputId": "c178f558-c7d7-45a7-ea84-cead94ce4543"
      },
      "execution_count": null,
      "outputs": [
        {
          "output_type": "stream",
          "name": "stdout",
          "text": [
            "+--------------------+------------------------+\n",
            "|          Publisher |Total de autores famosos|\n",
            "+--------------------+------------------------+\n",
            "|Amazon Digital Se...|                      32|\n",
            "|Penguin Group (US...|                       4|\n",
            "|Simon and Schuste...|                       4|\n",
            "|           Macmillan|                       3|\n",
            "| Hachette Book Group|                       2|\n",
            "|    Random House LLC|                       1|\n",
            "|HarperCollins Pub...|                       1|\n",
            "+--------------------+------------------------+\n",
            "\n"
          ]
        }
      ]
    },
    {
      "cell_type": "code",
      "source": [
        "#18 - Editora com o maior número de autores Novice\n",
        "\n",
        "df_autor_novatos = df.filter(col(\"Author_Rating\") == \"Novice\")\n",
        "#df_autor_novatos.show()\n",
        "df_autor_novatos_editora = df_autor_novatos.groupBy(\"Publisher \").agg(count(\"Author\").alias(\"Total de autores novatos\"))\n",
        "df_autor_novatos_editora = df_autor_novatos_editora.orderBy((col(\"Total de autores novatos\").desc()))\n",
        "df_autor_novatos_editora.show()\n",
        "df_autor_novatos_editora_pd = df_autor_novatos_editora.toPandas() #Converte para pandas\n",
        "df_autor_novatos_editora_pd.to_csv(\"autor_novatos_editora.csv\", index=False) #Salva em csv"
      ],
      "metadata": {
        "colab": {
          "base_uri": "https://localhost:8080/"
        },
        "id": "bVnzcOLt2LZT",
        "outputId": "207834a6-4d47-470f-e81d-0511208e3152"
      },
      "execution_count": null,
      "outputs": [
        {
          "output_type": "stream",
          "name": "stdout",
          "text": [
            "+--------------------+------------------------+\n",
            "|          Publisher |Total de autores novatos|\n",
            "+--------------------+------------------------+\n",
            "|Amazon Digital Se...|                      15|\n",
            "|Penguin Group (US...|                       4|\n",
            "|    Random House LLC|                       4|\n",
            "|HarperCollins Pub...|                       3|\n",
            "| Hachette Book Group|                       1|\n",
            "|           Macmillan|                       1|\n",
            "|Simon and Schuste...|                       1|\n",
            "+--------------------+------------------------+\n",
            "\n"
          ]
        }
      ]
    },
    {
      "cell_type": "code",
      "source": [
        "#19 - Média de preço de livros por editora\n",
        "\n",
        "df_media_preco_editora = df.groupBy(\"Publisher \").agg(avg(\"sale price\").alias(\"Média de preço de venda\"))\n",
        "df_media_preco_editora = df_media_preco_editora.withColumn(\"Média de preço de venda\", round(\"Média de preço de venda\",2))\n",
        "df_media_preco_editora = df_media_preco_editora.orderBy((col(\"Média de preço de venda\").desc()))\n",
        "df_media_preco_editora.show()\n",
        "df_media_preco_editora_pd = df_media_preco_editora.toPandas()\n",
        "df_media_preco_editora_pd.to_csv(\"media_preco_venda_editora.csv\", index=False)"
      ],
      "metadata": {
        "colab": {
          "base_uri": "https://localhost:8080/"
        },
        "id": "Z5Z-TM_42Tql",
        "outputId": "a963639b-29d9-4edf-c664-3bb7144540c9"
      },
      "execution_count": null,
      "outputs": [
        {
          "output_type": "stream",
          "name": "stdout",
          "text": [
            "+--------------------+-----------------------+\n",
            "|          Publisher |Média de preço de venda|\n",
            "+--------------------+-----------------------+\n",
            "|Penguin Group (US...|                   8.61|\n",
            "|    Random House LLC|                   7.26|\n",
            "|HarperCollins Pub...|                   6.51|\n",
            "| Hachette Book Group|                   6.45|\n",
            "|Simon and Schuste...|                   5.94|\n",
            "|HarperCollins Pub...|                    5.7|\n",
            "|           Macmillan|                   5.36|\n",
            "|HarperCollins Chr...|                   5.24|\n",
            "|Amazon Digital Se...|                   3.21|\n",
            "+--------------------+-----------------------+\n",
            "\n"
          ]
        }
      ]
    },
    {
      "cell_type": "code",
      "source": [
        "#20 - Média de gross sales por editora\n",
        "\n",
        "df_media_sales_editora = df.groupBy(\"Publisher \").agg(avg(\"gross sales\").alias(\"Média de vendas brutas\"))\n",
        "df_media_sales_editora = df_media_sales_editora.withColumn(\"Média de vendas brutas\", round(\"Média de vendas brutas\",2))\n",
        "df_media_sales_editora = df_media_sales_editora.orderBy((col(\"Média de vendas brutas\").desc()))\n",
        "df_media_sales_editora.show()\n",
        "df_media_sales_editora_pd = df_media_sales_editora.toPandas()\n",
        "df_media_sales_editora_pd.to_csv(\"media_preco_vendabrutas_editora.csv\", index=False)"
      ],
      "metadata": {
        "colab": {
          "base_uri": "https://localhost:8080/"
        },
        "id": "ucGz--HT2Uqf",
        "outputId": "85b43169-5368-4f00-f509-3a5bd64b9677"
      },
      "execution_count": null,
      "outputs": [
        {
          "output_type": "stream",
          "name": "stdout",
          "text": [
            "+--------------------+----------------------+\n",
            "|          Publisher |Média de vendas brutas|\n",
            "+--------------------+----------------------+\n",
            "| Hachette Book Group|                3828.7|\n",
            "|Penguin Group (US...|               3388.35|\n",
            "|HarperCollins Pub...|               3212.82|\n",
            "|    Random House LLC|               2573.22|\n",
            "|Simon and Schuste...|               1411.04|\n",
            "|           Macmillan|                1328.2|\n",
            "|Amazon Digital Se...|               1245.17|\n",
            "|HarperCollins Pub...|                1179.5|\n",
            "|HarperCollins Chr...|                889.86|\n",
            "+--------------------+----------------------+\n",
            "\n"
          ]
        }
      ]
    },
    {
      "cell_type": "code",
      "source": [
        "#21 - Média de gross sales por autores Famous\n",
        "\n",
        "df_autores_famous = df.filter(col(\"Author_Rating\") == \"Famous\")\n",
        "#df_autores_famous.show()\n",
        "df_famous_editora_vendas = df_autores_famous.groupBy(\"Author\").agg(avg(\"gross sales\").alias(\"Média de vendas brutas\"))\n",
        "df_famous_editora_vendas = df_famous_editora_vendas.withColumn(\"Média de vendas brutas\", round(\"Média de vendas brutas\",2))\n",
        "df_famous_editora_vendas = df_famous_editora_vendas.orderBy((col(\"Média de vendas brutas\").desc()))\n",
        "df_famous_editora_vendas.show()\n",
        "df_famous_editora_vendas_pd = df_famous_editora_vendas.toPandas()\n",
        "df_famous_editora_vendas_pd.to_csv(\"autores_famosos_editora_vendasbrutas.csv\", index=False)"
      ],
      "metadata": {
        "colab": {
          "base_uri": "https://localhost:8080/"
        },
        "id": "z1bLX8KE2lQD",
        "outputId": "37b5d14a-f2da-4905-f4df-7f5b055d2e2e"
      },
      "execution_count": null,
      "outputs": [
        {
          "output_type": "stream",
          "name": "stdout",
          "text": [
            "+--------------------+----------------------+\n",
            "|              Author|Média de vendas brutas|\n",
            "+--------------------+----------------------+\n",
            "|Tsugumi Ohba, Tak...|               6687.24|\n",
            "|     Cassandra Clare|               6676.62|\n",
            "|       Richelle Mead|               3431.34|\n",
            "|  Arthur Conan Doyle|               3180.02|\n",
            "|   Brandon Sanderson|               2915.39|\n",
            "|Bill Watterson, G...|               1886.22|\n",
            "|      Larry McMurtry|               1687.77|\n",
            "|      Diana Gabaldon|               1568.87|\n",
            "|           J.R. Ward|                978.04|\n",
            "|     Terry Pratchett|                910.86|\n",
            "|       Marissa Meyer|                 776.0|\n",
            "|      Colleen Hoover|                747.93|\n",
            "|         Jim Butcher|                669.81|\n",
            "|        Stephen King|                612.25|\n",
            "|       Sarah J. Maas|                524.68|\n",
            "|    Ta-Nehisi Coates|                523.25|\n",
            "|          Alex Haley|                460.35|\n",
            "|EiichirÅ Oda, An...|                458.85|\n",
            "|Hiro Mashima, Wil...|                434.91|\n",
            "|        Rick Riordan|                415.31|\n",
            "+--------------------+----------------------+\n",
            "only showing top 20 rows\n",
            "\n"
          ]
        }
      ]
    },
    {
      "cell_type": "code",
      "source": [
        "#22 - Média de receita do editor por editora\n",
        "\n",
        "df_media_receita = df.groupBy(\"Publisher \").agg(avg(\"publisher revenue\").alias(\"Média de receita para editor\"))\n",
        "df_media_receita = df_media_receita.withColumn(\"Média de receita para editor\", round(\"Média de receita para editor\",2))\n",
        "df_media_receita = df_media_receita.orderBy((col(\"Média de receita para editor\").desc()))\n",
        "df_media_receita.show()\n",
        "df_media_receita_pd = df_media_receita.toPandas()\n",
        "df_media_receita_pd.to_csv(\"media_receita_editor.csv\", index=False)"
      ],
      "metadata": {
        "colab": {
          "base_uri": "https://localhost:8080/"
        },
        "id": "aSDx6sg4rj0z",
        "outputId": "d21938a0-1279-46f8-d334-488e85fcda85"
      },
      "execution_count": null,
      "outputs": [
        {
          "output_type": "stream",
          "name": "stdout",
          "text": [
            "+--------------------+----------------------------+\n",
            "|          Publisher |Média de receita para editor|\n",
            "+--------------------+----------------------------+\n",
            "| Hachette Book Group|                     2297.22|\n",
            "|Penguin Group (US...|                     2033.01|\n",
            "|HarperCollins Pub...|                     1927.69|\n",
            "|    Random House LLC|                     1543.93|\n",
            "|Simon and Schuste...|                      846.63|\n",
            "|           Macmillan|                      796.92|\n",
            "|HarperCollins Pub...|                       707.7|\n",
            "|HarperCollins Chr...|                      533.92|\n",
            "|Amazon Digital Se...|                      249.59|\n",
            "+--------------------+----------------------------+\n",
            "\n"
          ]
        }
      ]
    },
    {
      "cell_type": "code",
      "source": [
        "#23 - Livro que obteve a maior receita para o editor\n",
        "\n",
        "df_livro_maior_receita = df.groupBy(\"Book Name\", \"Author\", \"Publisher \").agg(sum(\"publisher revenue\").alias(\"Total de receitas\"))\n",
        "livro_maior_receita = df_livro_maior_receita.orderBy((col(\"Total de receitas\").desc())).first()\n",
        "print(f\"O livro com maior receita para o editor é {livro_maior_receita['Book Name']} publicado pela autora {livro_maior_receita['Author']} na editora {livro_maior_receita['Publisher ']}, com uma receita de {livro_maior_receita['Total de receitas']}.\")\n",
        "df_livro_maior_receita_pd = df_livro_maior_receita.toPandas() #Converte para pandas\n",
        "df_livro_maior_receita_pd.to_csv(\"livros_receita_editor.csv\", index=False) #Salva em csv"
      ],
      "metadata": {
        "colab": {
          "base_uri": "https://localhost:8080/"
        },
        "id": "FapkbSySsbCD",
        "outputId": "ff4228e7-fe9d-43d8-d138-c406ab90618d"
      },
      "execution_count": null,
      "outputs": [
        {
          "output_type": "stream",
          "name": "stdout",
          "text": [
            "O livro com maior receita para o editor é Go Set a Watchman publicado pela autora Harper Lee na editora Amazon Digital Services,  Inc., com uma receita de 28677.0.\n"
          ]
        }
      ]
    }
  ]
}