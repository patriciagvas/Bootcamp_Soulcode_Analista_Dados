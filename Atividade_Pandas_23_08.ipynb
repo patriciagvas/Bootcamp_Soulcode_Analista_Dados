{
  "nbformat": 4,
  "nbformat_minor": 0,
  "metadata": {
    "colab": {
      "provenance": [],
      "mount_file_id": "1mCD5m13W0uY8tKosGsPouHgsUjj99Iit",
      "authorship_tag": "ABX9TyOxlTErZN0nRrNtpcQhqeW/"
    },
    "kernelspec": {
      "name": "python3",
      "display_name": "Python 3"
    },
    "language_info": {
      "name": "python"
    }
  },
  "cells": [
    {
      "cell_type": "markdown",
      "source": [
        "No colab faça a leitura desse arquivo em anexo e a partir dele crie 20 arquivos diferentes com os resultados de agrupamentos e salve esses arquivos como csv."
      ],
      "metadata": {
        "id": "WwOecO0SPEdv"
      }
    },
    {
      "cell_type": "code",
      "execution_count": null,
      "metadata": {
        "colab": {
          "base_uri": "https://localhost:8080/",
          "height": 446
        },
        "id": "-WicGVuzPCdM",
        "outputId": "7a31c180-5765-45e2-c201-c6b24aa034b5"
      },
      "outputs": [
        {
          "output_type": "stream",
          "name": "stdout",
          "text": [
            "Drive already mounted at /content/drive; to attempt to forcibly remount, call drive.mount(\"/content/drive\", force_remount=True).\n"
          ]
        },
        {
          "output_type": "execute_result",
          "data": {
            "text/plain": [
              "   Idade Demissão    Viagem De Negócios  Diárias Recebidas  \\\n",
              "0     41      Sim       Viaja raramente               1102   \n",
              "1     49      Não  Viaja frequentemente                279   \n",
              "2     37      Sim       Viaja raramente               1373   \n",
              "3     33      Não  Viaja frequentemente               1392   \n",
              "4     27      Não       Viaja raramente                591   \n",
              "\n",
              "                 Departamento  Distância De Casa  Escolaridade  \\\n",
              "0                      Vendas                  1             2   \n",
              "1  Pesquisa e Desenvolvimento                  8             1   \n",
              "2  Pesquisa e Desenvolvimento                  2             2   \n",
              "3  Pesquisa e Desenvolvimento                  3             4   \n",
              "4  Pesquisa e Desenvolvimento                  2             1   \n",
              "\n",
              "   Área De Formação  Número De Contratos De Trabalho Na Empresa  \\\n",
              "0  Ciências Humanas                                           1   \n",
              "1  Ciências Humanas                                           1   \n",
              "2            Outras                                           1   \n",
              "3  Ciências Humanas                                           1   \n",
              "4  Ciências Médicas                                           1   \n",
              "\n",
              "   Id Funcionário  ...  Satisfação Nas Relações Não Trabalho  \\\n",
              "0               1  ...                                     1   \n",
              "1               2  ...                                     4   \n",
              "2               4  ...                                     2   \n",
              "3               5  ...                                     3   \n",
              "4               7  ...                                     4   \n",
              "\n",
              "  Jornada Padrão De Trabalho  Opção De Remaunração Variável Em Ações  \\\n",
              "0                         80                                       0   \n",
              "1                         80                                       1   \n",
              "2                         80                                       0   \n",
              "3                         80                                       0   \n",
              "4                         80                                       1   \n",
              "\n",
              "   Total De Anos Trabalhados  Qtde De Treinamentos Realizados No Último Ano  \\\n",
              "0                          8                                              0   \n",
              "1                         10                                              3   \n",
              "2                          7                                              3   \n",
              "3                          8                                              3   \n",
              "4                          6                                              3   \n",
              "\n",
              "  Equilíbrio Vida Trabalho  Total De Anos Trabalhados Na Empresa  \\\n",
              "0                        1                                     6   \n",
              "1                        3                                    10   \n",
              "2                        3                                     0   \n",
              "3                        3                                     8   \n",
              "4                        3                                     2   \n",
              "\n",
              "  Anos Trabalhados Na Função Atual  Anos Desde A Última Promoção  \\\n",
              "0                                4                             0   \n",
              "1                                7                             1   \n",
              "2                                0                             0   \n",
              "3                                7                             3   \n",
              "4                                2                             2   \n",
              "\n",
              "   Anos Trabalhando Com O Atual Gestor  \n",
              "0                                    5  \n",
              "1                                    7  \n",
              "2                                    0  \n",
              "3                                    0  \n",
              "4                                    2  \n",
              "\n",
              "[5 rows x 35 columns]"
            ],
            "text/html": [
              "\n",
              "  <div id=\"df-4934fc64-e194-4542-858f-b1ad1669ce46\" class=\"colab-df-container\">\n",
              "    <div>\n",
              "<style scoped>\n",
              "    .dataframe tbody tr th:only-of-type {\n",
              "        vertical-align: middle;\n",
              "    }\n",
              "\n",
              "    .dataframe tbody tr th {\n",
              "        vertical-align: top;\n",
              "    }\n",
              "\n",
              "    .dataframe thead th {\n",
              "        text-align: right;\n",
              "    }\n",
              "</style>\n",
              "<table border=\"1\" class=\"dataframe\">\n",
              "  <thead>\n",
              "    <tr style=\"text-align: right;\">\n",
              "      <th></th>\n",
              "      <th>Idade</th>\n",
              "      <th>Demissão</th>\n",
              "      <th>Viagem De Negócios</th>\n",
              "      <th>Diárias Recebidas</th>\n",
              "      <th>Departamento</th>\n",
              "      <th>Distância De Casa</th>\n",
              "      <th>Escolaridade</th>\n",
              "      <th>Área De Formação</th>\n",
              "      <th>Número De Contratos De Trabalho Na Empresa</th>\n",
              "      <th>Id Funcionário</th>\n",
              "      <th>...</th>\n",
              "      <th>Satisfação Nas Relações Não Trabalho</th>\n",
              "      <th>Jornada Padrão De Trabalho</th>\n",
              "      <th>Opção De Remaunração Variável Em Ações</th>\n",
              "      <th>Total De Anos Trabalhados</th>\n",
              "      <th>Qtde De Treinamentos Realizados No Último Ano</th>\n",
              "      <th>Equilíbrio Vida Trabalho</th>\n",
              "      <th>Total De Anos Trabalhados Na Empresa</th>\n",
              "      <th>Anos Trabalhados Na Função Atual</th>\n",
              "      <th>Anos Desde A Última Promoção</th>\n",
              "      <th>Anos Trabalhando Com O Atual Gestor</th>\n",
              "    </tr>\n",
              "  </thead>\n",
              "  <tbody>\n",
              "    <tr>\n",
              "      <th>0</th>\n",
              "      <td>41</td>\n",
              "      <td>Sim</td>\n",
              "      <td>Viaja raramente</td>\n",
              "      <td>1102</td>\n",
              "      <td>Vendas</td>\n",
              "      <td>1</td>\n",
              "      <td>2</td>\n",
              "      <td>Ciências Humanas</td>\n",
              "      <td>1</td>\n",
              "      <td>1</td>\n",
              "      <td>...</td>\n",
              "      <td>1</td>\n",
              "      <td>80</td>\n",
              "      <td>0</td>\n",
              "      <td>8</td>\n",
              "      <td>0</td>\n",
              "      <td>1</td>\n",
              "      <td>6</td>\n",
              "      <td>4</td>\n",
              "      <td>0</td>\n",
              "      <td>5</td>\n",
              "    </tr>\n",
              "    <tr>\n",
              "      <th>1</th>\n",
              "      <td>49</td>\n",
              "      <td>Não</td>\n",
              "      <td>Viaja frequentemente</td>\n",
              "      <td>279</td>\n",
              "      <td>Pesquisa e Desenvolvimento</td>\n",
              "      <td>8</td>\n",
              "      <td>1</td>\n",
              "      <td>Ciências Humanas</td>\n",
              "      <td>1</td>\n",
              "      <td>2</td>\n",
              "      <td>...</td>\n",
              "      <td>4</td>\n",
              "      <td>80</td>\n",
              "      <td>1</td>\n",
              "      <td>10</td>\n",
              "      <td>3</td>\n",
              "      <td>3</td>\n",
              "      <td>10</td>\n",
              "      <td>7</td>\n",
              "      <td>1</td>\n",
              "      <td>7</td>\n",
              "    </tr>\n",
              "    <tr>\n",
              "      <th>2</th>\n",
              "      <td>37</td>\n",
              "      <td>Sim</td>\n",
              "      <td>Viaja raramente</td>\n",
              "      <td>1373</td>\n",
              "      <td>Pesquisa e Desenvolvimento</td>\n",
              "      <td>2</td>\n",
              "      <td>2</td>\n",
              "      <td>Outras</td>\n",
              "      <td>1</td>\n",
              "      <td>4</td>\n",
              "      <td>...</td>\n",
              "      <td>2</td>\n",
              "      <td>80</td>\n",
              "      <td>0</td>\n",
              "      <td>7</td>\n",
              "      <td>3</td>\n",
              "      <td>3</td>\n",
              "      <td>0</td>\n",
              "      <td>0</td>\n",
              "      <td>0</td>\n",
              "      <td>0</td>\n",
              "    </tr>\n",
              "    <tr>\n",
              "      <th>3</th>\n",
              "      <td>33</td>\n",
              "      <td>Não</td>\n",
              "      <td>Viaja frequentemente</td>\n",
              "      <td>1392</td>\n",
              "      <td>Pesquisa e Desenvolvimento</td>\n",
              "      <td>3</td>\n",
              "      <td>4</td>\n",
              "      <td>Ciências Humanas</td>\n",
              "      <td>1</td>\n",
              "      <td>5</td>\n",
              "      <td>...</td>\n",
              "      <td>3</td>\n",
              "      <td>80</td>\n",
              "      <td>0</td>\n",
              "      <td>8</td>\n",
              "      <td>3</td>\n",
              "      <td>3</td>\n",
              "      <td>8</td>\n",
              "      <td>7</td>\n",
              "      <td>3</td>\n",
              "      <td>0</td>\n",
              "    </tr>\n",
              "    <tr>\n",
              "      <th>4</th>\n",
              "      <td>27</td>\n",
              "      <td>Não</td>\n",
              "      <td>Viaja raramente</td>\n",
              "      <td>591</td>\n",
              "      <td>Pesquisa e Desenvolvimento</td>\n",
              "      <td>2</td>\n",
              "      <td>1</td>\n",
              "      <td>Ciências Médicas</td>\n",
              "      <td>1</td>\n",
              "      <td>7</td>\n",
              "      <td>...</td>\n",
              "      <td>4</td>\n",
              "      <td>80</td>\n",
              "      <td>1</td>\n",
              "      <td>6</td>\n",
              "      <td>3</td>\n",
              "      <td>3</td>\n",
              "      <td>2</td>\n",
              "      <td>2</td>\n",
              "      <td>2</td>\n",
              "      <td>2</td>\n",
              "    </tr>\n",
              "  </tbody>\n",
              "</table>\n",
              "<p>5 rows × 35 columns</p>\n",
              "</div>\n",
              "    <div class=\"colab-df-buttons\">\n",
              "\n",
              "  <div class=\"colab-df-container\">\n",
              "    <button class=\"colab-df-convert\" onclick=\"convertToInteractive('df-4934fc64-e194-4542-858f-b1ad1669ce46')\"\n",
              "            title=\"Convert this dataframe to an interactive table.\"\n",
              "            style=\"display:none;\">\n",
              "\n",
              "  <svg xmlns=\"http://www.w3.org/2000/svg\" height=\"24px\" viewBox=\"0 -960 960 960\">\n",
              "    <path d=\"M120-120v-720h720v720H120Zm60-500h600v-160H180v160Zm220 220h160v-160H400v160Zm0 220h160v-160H400v160ZM180-400h160v-160H180v160Zm440 0h160v-160H620v160ZM180-180h160v-160H180v160Zm440 0h160v-160H620v160Z\"/>\n",
              "  </svg>\n",
              "    </button>\n",
              "\n",
              "  <style>\n",
              "    .colab-df-container {\n",
              "      display:flex;\n",
              "      gap: 12px;\n",
              "    }\n",
              "\n",
              "    .colab-df-convert {\n",
              "      background-color: #E8F0FE;\n",
              "      border: none;\n",
              "      border-radius: 50%;\n",
              "      cursor: pointer;\n",
              "      display: none;\n",
              "      fill: #1967D2;\n",
              "      height: 32px;\n",
              "      padding: 0 0 0 0;\n",
              "      width: 32px;\n",
              "    }\n",
              "\n",
              "    .colab-df-convert:hover {\n",
              "      background-color: #E2EBFA;\n",
              "      box-shadow: 0px 1px 2px rgba(60, 64, 67, 0.3), 0px 1px 3px 1px rgba(60, 64, 67, 0.15);\n",
              "      fill: #174EA6;\n",
              "    }\n",
              "\n",
              "    .colab-df-buttons div {\n",
              "      margin-bottom: 4px;\n",
              "    }\n",
              "\n",
              "    [theme=dark] .colab-df-convert {\n",
              "      background-color: #3B4455;\n",
              "      fill: #D2E3FC;\n",
              "    }\n",
              "\n",
              "    [theme=dark] .colab-df-convert:hover {\n",
              "      background-color: #434B5C;\n",
              "      box-shadow: 0px 1px 3px 1px rgba(0, 0, 0, 0.15);\n",
              "      filter: drop-shadow(0px 1px 2px rgba(0, 0, 0, 0.3));\n",
              "      fill: #FFFFFF;\n",
              "    }\n",
              "  </style>\n",
              "\n",
              "    <script>\n",
              "      const buttonEl =\n",
              "        document.querySelector('#df-4934fc64-e194-4542-858f-b1ad1669ce46 button.colab-df-convert');\n",
              "      buttonEl.style.display =\n",
              "        google.colab.kernel.accessAllowed ? 'block' : 'none';\n",
              "\n",
              "      async function convertToInteractive(key) {\n",
              "        const element = document.querySelector('#df-4934fc64-e194-4542-858f-b1ad1669ce46');\n",
              "        const dataTable =\n",
              "          await google.colab.kernel.invokeFunction('convertToInteractive',\n",
              "                                                    [key], {});\n",
              "        if (!dataTable) return;\n",
              "\n",
              "        const docLinkHtml = 'Like what you see? Visit the ' +\n",
              "          '<a target=\"_blank\" href=https://colab.research.google.com/notebooks/data_table.ipynb>data table notebook</a>'\n",
              "          + ' to learn more about interactive tables.';\n",
              "        element.innerHTML = '';\n",
              "        dataTable['output_type'] = 'display_data';\n",
              "        await google.colab.output.renderOutput(dataTable, element);\n",
              "        const docLink = document.createElement('div');\n",
              "        docLink.innerHTML = docLinkHtml;\n",
              "        element.appendChild(docLink);\n",
              "      }\n",
              "    </script>\n",
              "  </div>\n",
              "\n",
              "\n",
              "<div id=\"df-b2318c14-a6c9-4fa9-a1d1-ada9dd056cc0\">\n",
              "  <button class=\"colab-df-quickchart\" onclick=\"quickchart('df-b2318c14-a6c9-4fa9-a1d1-ada9dd056cc0')\"\n",
              "            title=\"Suggest charts\"\n",
              "            style=\"display:none;\">\n",
              "\n",
              "<svg xmlns=\"http://www.w3.org/2000/svg\" height=\"24px\"viewBox=\"0 0 24 24\"\n",
              "     width=\"24px\">\n",
              "    <g>\n",
              "        <path d=\"M19 3H5c-1.1 0-2 .9-2 2v14c0 1.1.9 2 2 2h14c1.1 0 2-.9 2-2V5c0-1.1-.9-2-2-2zM9 17H7v-7h2v7zm4 0h-2V7h2v10zm4 0h-2v-4h2v4z\"/>\n",
              "    </g>\n",
              "</svg>\n",
              "  </button>\n",
              "\n",
              "<style>\n",
              "  .colab-df-quickchart {\n",
              "      --bg-color: #E8F0FE;\n",
              "      --fill-color: #1967D2;\n",
              "      --hover-bg-color: #E2EBFA;\n",
              "      --hover-fill-color: #174EA6;\n",
              "      --disabled-fill-color: #AAA;\n",
              "      --disabled-bg-color: #DDD;\n",
              "  }\n",
              "\n",
              "  [theme=dark] .colab-df-quickchart {\n",
              "      --bg-color: #3B4455;\n",
              "      --fill-color: #D2E3FC;\n",
              "      --hover-bg-color: #434B5C;\n",
              "      --hover-fill-color: #FFFFFF;\n",
              "      --disabled-bg-color: #3B4455;\n",
              "      --disabled-fill-color: #666;\n",
              "  }\n",
              "\n",
              "  .colab-df-quickchart {\n",
              "    background-color: var(--bg-color);\n",
              "    border: none;\n",
              "    border-radius: 50%;\n",
              "    cursor: pointer;\n",
              "    display: none;\n",
              "    fill: var(--fill-color);\n",
              "    height: 32px;\n",
              "    padding: 0;\n",
              "    width: 32px;\n",
              "  }\n",
              "\n",
              "  .colab-df-quickchart:hover {\n",
              "    background-color: var(--hover-bg-color);\n",
              "    box-shadow: 0 1px 2px rgba(60, 64, 67, 0.3), 0 1px 3px 1px rgba(60, 64, 67, 0.15);\n",
              "    fill: var(--button-hover-fill-color);\n",
              "  }\n",
              "\n",
              "  .colab-df-quickchart-complete:disabled,\n",
              "  .colab-df-quickchart-complete:disabled:hover {\n",
              "    background-color: var(--disabled-bg-color);\n",
              "    fill: var(--disabled-fill-color);\n",
              "    box-shadow: none;\n",
              "  }\n",
              "\n",
              "  .colab-df-spinner {\n",
              "    border: 2px solid var(--fill-color);\n",
              "    border-color: transparent;\n",
              "    border-bottom-color: var(--fill-color);\n",
              "    animation:\n",
              "      spin 1s steps(1) infinite;\n",
              "  }\n",
              "\n",
              "  @keyframes spin {\n",
              "    0% {\n",
              "      border-color: transparent;\n",
              "      border-bottom-color: var(--fill-color);\n",
              "      border-left-color: var(--fill-color);\n",
              "    }\n",
              "    20% {\n",
              "      border-color: transparent;\n",
              "      border-left-color: var(--fill-color);\n",
              "      border-top-color: var(--fill-color);\n",
              "    }\n",
              "    30% {\n",
              "      border-color: transparent;\n",
              "      border-left-color: var(--fill-color);\n",
              "      border-top-color: var(--fill-color);\n",
              "      border-right-color: var(--fill-color);\n",
              "    }\n",
              "    40% {\n",
              "      border-color: transparent;\n",
              "      border-right-color: var(--fill-color);\n",
              "      border-top-color: var(--fill-color);\n",
              "    }\n",
              "    60% {\n",
              "      border-color: transparent;\n",
              "      border-right-color: var(--fill-color);\n",
              "    }\n",
              "    80% {\n",
              "      border-color: transparent;\n",
              "      border-right-color: var(--fill-color);\n",
              "      border-bottom-color: var(--fill-color);\n",
              "    }\n",
              "    90% {\n",
              "      border-color: transparent;\n",
              "      border-bottom-color: var(--fill-color);\n",
              "    }\n",
              "  }\n",
              "</style>\n",
              "\n",
              "  <script>\n",
              "    async function quickchart(key) {\n",
              "      const quickchartButtonEl =\n",
              "        document.querySelector('#' + key + ' button');\n",
              "      quickchartButtonEl.disabled = true;  // To prevent multiple clicks.\n",
              "      quickchartButtonEl.classList.add('colab-df-spinner');\n",
              "      try {\n",
              "        const charts = await google.colab.kernel.invokeFunction(\n",
              "            'suggestCharts', [key], {});\n",
              "      } catch (error) {\n",
              "        console.error('Error during call to suggestCharts:', error);\n",
              "      }\n",
              "      quickchartButtonEl.classList.remove('colab-df-spinner');\n",
              "      quickchartButtonEl.classList.add('colab-df-quickchart-complete');\n",
              "    }\n",
              "    (() => {\n",
              "      let quickchartButtonEl =\n",
              "        document.querySelector('#df-b2318c14-a6c9-4fa9-a1d1-ada9dd056cc0 button');\n",
              "      quickchartButtonEl.style.display =\n",
              "        google.colab.kernel.accessAllowed ? 'block' : 'none';\n",
              "    })();\n",
              "  </script>\n",
              "</div>\n",
              "\n",
              "    </div>\n",
              "  </div>\n"
            ],
            "application/vnd.google.colaboratory.intrinsic+json": {
              "type": "dataframe",
              "variable_name": "df"
            }
          },
          "metadata": {},
          "execution_count": 1
        }
      ],
      "source": [
        "import pandas as pd\n",
        "from google.colab import drive\n",
        "\n",
        "drive.mount('/content/drive')\n",
        "\n",
        "arquivo = '/content/drive/MyDrive/Colab Notebooks/Base de dados - Dados sobre desgaste de funcionarios.csv'\n",
        "df = pd.read_csv(arquivo)\n",
        "\n",
        "df = df.drop_duplicates()\n",
        "df.isnull().sum() #Não falta nenhum dado em nenhuma coluna\n",
        "df.columns = df.columns.str.title()\n",
        "df = df.dropna()\n",
        "df.head()\n"
      ]
    },
    {
      "cell_type": "markdown",
      "source": [
        "**1** - Média de idade dos funcionários por departamento"
      ],
      "metadata": {
        "id": "FjIc66HPSJ8I"
      }
    },
    {
      "cell_type": "code",
      "source": [
        "media_idade_departamento = df.groupby('Departamento')['Idade'].mean().reset_index(name = \"Média idade\")\n",
        "resultado = round(media_idade_departamento, 0)\n",
        "print(resultado)\n",
        "media_idade_departamento.to_csv('media_idade_departamento.csv', index=False)"
      ],
      "metadata": {
        "colab": {
          "base_uri": "https://localhost:8080/"
        },
        "id": "lIE6yO7dSNt2",
        "outputId": "f2f1d517-9cd0-4f02-eb41-f2e2504d5352"
      },
      "execution_count": null,
      "outputs": [
        {
          "output_type": "stream",
          "name": "stdout",
          "text": [
            "                 Departamento  Média idade\n",
            "0  Pesquisa e Desenvolvimento         37.0\n",
            "1           Recursos HumaNãos         38.0\n",
            "2                      Vendas         37.0\n"
          ]
        }
      ]
    },
    {
      "cell_type": "markdown",
      "source": [
        "**2** - Quantidade de funcionários por departamento (com exceção dos demitidos)"
      ],
      "metadata": {
        "id": "D89HvggXSewl"
      }
    },
    {
      "cell_type": "code",
      "source": [
        "funcionarios_ativos = df[df['Demissão'] == 'Não']\n",
        "quantidade_funcionarios = funcionarios_ativos.groupby('Departamento')['Departamento'].count().reset_index(name = \"Quantidade de funcionários ativos\")\n",
        "print(quantidade_funcionarios)\n",
        "quantidade_funcionarios.to_csv('quantidade_funcionario.csv', index=False)"
      ],
      "metadata": {
        "colab": {
          "base_uri": "https://localhost:8080/"
        },
        "id": "nSQGaD8bSkOP",
        "outputId": "e1ebfb15-c226-4e43-9379-40d8023f3b06"
      },
      "execution_count": null,
      "outputs": [
        {
          "output_type": "stream",
          "name": "stdout",
          "text": [
            "                 Departamento  Quantidade de funcionários ativos\n",
            "0  Pesquisa e Desenvolvimento                                828\n",
            "1           Recursos HumaNãos                                 51\n",
            "2                      Vendas                                354\n"
          ]
        }
      ]
    },
    {
      "cell_type": "markdown",
      "source": [
        "**3** - Média de salário por faixa de idade"
      ],
      "metadata": {
        "id": "nmmrZP2rTRHN"
      }
    },
    {
      "cell_type": "code",
      "source": [
        "cortes = [20, 30, 40, 50, 60]\n",
        "rotulos = ['20-29', '30-39', '40-49', '50-59']\n",
        "df['faixa_etaria'] = pd.cut(df['Idade'], bins=cortes, labels=rotulos, right=False)\n",
        "faixa_etaria_salario = round(df.groupby('faixa_etaria')['Salário Mensal'].mean(),2).reset_index(name = \"Média salarial\")\n",
        "print(faixa_etaria_salario)\n",
        "faixa_etaria_salario.to_csv('faixa_etaria_salario.csv', index=False)"
      ],
      "metadata": {
        "colab": {
          "base_uri": "https://localhost:8080/"
        },
        "id": "GaUDssnLVd3A",
        "outputId": "47c0a470-ef78-4514-f8c1-042267e155a5"
      },
      "execution_count": null,
      "outputs": [
        {
          "output_type": "stream",
          "name": "stdout",
          "text": [
            "  faixa_etaria  Média salarial\n",
            "0        20-29        14252.52\n",
            "1        30-39        14100.12\n",
            "2        40-49        14066.25\n",
            "3        50-59        15803.38\n"
          ]
        },
        {
          "output_type": "stream",
          "name": "stderr",
          "text": [
            "<ipython-input-4-56bbd2832448>:4: FutureWarning: The default of observed=False is deprecated and will be changed to True in a future version of pandas. Pass observed=False to retain current behavior or observed=True to adopt the future default and silence this warning.\n",
            "  faixa_etaria_salario = round(df.groupby('faixa_etaria')['Salário Mensal'].mean(),2).reset_index(name = \"Média salarial\")\n"
          ]
        }
      ]
    },
    {
      "cell_type": "markdown",
      "source": [
        "**4** - Média de anos trabalhados por departamento"
      ],
      "metadata": {
        "id": "N8APlIkYVtCR"
      }
    },
    {
      "cell_type": "code",
      "source": [
        "media_anostrabalhados = round(df.groupby('Departamento')['Total De Anos Trabalhados'].mean(),0).reset_index(name = \"Média de anos de trabalho\")\n",
        "print(media_anostrabalhados)\n",
        "media_anostrabalhados.to_csv('media_anostrabalhados.csv', index=False)"
      ],
      "metadata": {
        "colab": {
          "base_uri": "https://localhost:8080/"
        },
        "id": "d4DL8_loVw-V",
        "outputId": "94408974-9a17-40b5-c0bc-487f5368aed0"
      },
      "execution_count": null,
      "outputs": [
        {
          "output_type": "stream",
          "name": "stdout",
          "text": [
            "                 Departamento  Média de anos de trabalho\n",
            "0  Pesquisa e Desenvolvimento                       11.0\n",
            "1           Recursos HumaNãos                       12.0\n",
            "2                      Vendas                       11.0\n"
          ]
        }
      ]
    },
    {
      "cell_type": "markdown",
      "source": [
        "**5** - Média de satisfação no ambiente de trabalho por departament"
      ],
      "metadata": {
        "id": "0RhmtDykV4KF"
      }
    },
    {
      "cell_type": "code",
      "source": [
        "media_satisfacao = round(df.groupby('Departamento')['Nível De Satisfação Com O Ambiente De Trabalho'].mean(),2).reset_index(name = \"Média de satisfação no trabalho\")\n",
        "print(media_satisfacao)\n",
        "media_satisfacao.to_csv('media_satisfacao.csv', index=False)"
      ],
      "metadata": {
        "colab": {
          "base_uri": "https://localhost:8080/"
        },
        "id": "kRMvjX7iV7-G",
        "outputId": "793d025e-5db8-4806-9102-b5c2090ff7bd"
      },
      "execution_count": null,
      "outputs": [
        {
          "output_type": "stream",
          "name": "stdout",
          "text": [
            "                 Departamento  Média de satisfação no trabalho\n",
            "0  Pesquisa e Desenvolvimento                             2.74\n",
            "1           Recursos HumaNãos                             2.68\n",
            "2                      Vendas                             2.68\n"
          ]
        }
      ]
    },
    {
      "cell_type": "markdown",
      "source": [
        "**6** - Média de satisfação no ambiente de trabalho por faixa etária"
      ],
      "metadata": {
        "id": "p7Opx1xXWGAu"
      }
    },
    {
      "cell_type": "code",
      "source": [
        "media_satisfacao_idade = round(df.groupby('faixa_etaria')['Nível De Satisfação Com O Ambiente De Trabalho'].mean(),2).reset_index(name = \"Média de satisfação no trabalho\")\n",
        "print(media_satisfacao_idade)\n",
        "media_satisfacao_idade.to_csv('media_satisfacao_idade.csv', index=False)"
      ],
      "metadata": {
        "colab": {
          "base_uri": "https://localhost:8080/"
        },
        "id": "b28P8sHnWJzz",
        "outputId": "4d7abb13-b1f8-4078-d782-6ba30925199f"
      },
      "execution_count": null,
      "outputs": [
        {
          "output_type": "stream",
          "name": "stdout",
          "text": [
            "  faixa_etaria  Média de satisfação no trabalho\n",
            "0        20-29                             2.70\n",
            "1        30-39                             2.74\n",
            "2        40-49                             2.68\n",
            "3        50-59                             2.80\n"
          ]
        },
        {
          "output_type": "stream",
          "name": "stderr",
          "text": [
            "<ipython-input-7-e68f3efc477c>:1: FutureWarning: The default of observed=False is deprecated and will be changed to True in a future version of pandas. Pass observed=False to retain current behavior or observed=True to adopt the future default and silence this warning.\n",
            "  media_satisfacao_idade = round(df.groupby('faixa_etaria')['Nível De Satisfação Com O Ambiente De Trabalho'].mean(),2).reset_index(name = \"Média de satisfação no trabalho\")\n"
          ]
        }
      ]
    },
    {
      "cell_type": "markdown",
      "source": [
        "**7** - Total de demissões em cada departamento"
      ],
      "metadata": {
        "id": "MGuokhjiWR-m"
      }
    },
    {
      "cell_type": "code",
      "source": [
        "demitidos = df[df['Demissão'] == 'Sim']\n",
        "demissoes_departamento = demitidos.groupby('Departamento')['Departamento'].count().reset_index(name = \"Total de demissões\")\n",
        "print(demissoes_departamento)\n",
        "demissoes_departamento.to_csv('demissoes_departamento.csv', index=False)"
      ],
      "metadata": {
        "colab": {
          "base_uri": "https://localhost:8080/"
        },
        "id": "UGoSgDt6WWvh",
        "outputId": "fa3aef3b-4104-4ebe-a64c-52401ec9214f"
      },
      "execution_count": null,
      "outputs": [
        {
          "output_type": "stream",
          "name": "stdout",
          "text": [
            "                 Departamento  Total de demissões\n",
            "0  Pesquisa e Desenvolvimento                 133\n",
            "1           Recursos HumaNãos                  12\n",
            "2                      Vendas                  92\n"
          ]
        }
      ]
    },
    {
      "cell_type": "markdown",
      "source": [
        "**8** - Média de anos trabalhados antes da demissão por departamento"
      ],
      "metadata": {
        "id": "Ep3mD6yQWdEd"
      }
    },
    {
      "cell_type": "code",
      "source": [
        "anos_trabalhados_demissoes = round(demitidos.groupby('Departamento')['Total De Anos Trabalhados'].mean(), 0).reset_index(name = \"Média de anos trabalhados\")\n",
        "print(anos_trabalhados_demissoes)\n",
        "anos_trabalhados_demissoes.to_csv('anos_trabalhados_demissoes.csv', index=False)"
      ],
      "metadata": {
        "colab": {
          "base_uri": "https://localhost:8080/"
        },
        "id": "uCkz9qULWe8O",
        "outputId": "37853eb8-56e4-4bfc-d45a-a0d488549872"
      },
      "execution_count": null,
      "outputs": [
        {
          "output_type": "stream",
          "name": "stdout",
          "text": [
            "                 Departamento  Média de anos trabalhados\n",
            "0  Pesquisa e Desenvolvimento                        8.0\n",
            "1           Recursos HumaNãos                        6.0\n",
            "2                      Vendas                        9.0\n"
          ]
        }
      ]
    },
    {
      "cell_type": "markdown",
      "source": [
        "**9** - Total de demissões por faixa etária"
      ],
      "metadata": {
        "id": "m6gu0Tz7XDp0"
      }
    },
    {
      "cell_type": "code",
      "source": [
        "demissoes_faixa_etaria = demitidos.groupby('faixa_etaria')['faixa_etaria'].count().reset_index(name = \"Total de demissões\")\n",
        "print(demissoes_faixa_etaria)\n",
        "demissoes_faixa_etaria.to_csv('demissoes_faixa_etaria.csv', index=False)"
      ],
      "metadata": {
        "colab": {
          "base_uri": "https://localhost:8080/"
        },
        "id": "uLl9-ztzXIDk",
        "outputId": "8f0c96fd-4bec-4048-9e9a-c9985071cccf"
      },
      "execution_count": null,
      "outputs": [
        {
          "output_type": "stream",
          "name": "stdout",
          "text": [
            "  faixa_etaria  Total de demissões\n",
            "0        20-29                  81\n",
            "1        30-39                  89\n",
            "2        40-49                  34\n",
            "3        50-59                  23\n"
          ]
        },
        {
          "output_type": "stream",
          "name": "stderr",
          "text": [
            "<ipython-input-10-c94c26bd9d4a>:1: FutureWarning: The default of observed=False is deprecated and will be changed to True in a future version of pandas. Pass observed=False to retain current behavior or observed=True to adopt the future default and silence this warning.\n",
            "  demissoes_faixa_etaria = demitidos.groupby('faixa_etaria')['faixa_etaria'].count().reset_index(name = \"Total de demissões\")\n"
          ]
        }
      ]
    },
    {
      "cell_type": "markdown",
      "source": [
        "**10** - Total de funcionários por escolaridade"
      ],
      "metadata": {
        "id": "TGwcq1IbXPOQ"
      }
    },
    {
      "cell_type": "code",
      "source": [
        "escolaridade_funcionario = df['Escolaridade'].value_counts().reset_index(name = \"Total de funcionários\")\n",
        "print(escolaridade_funcionario)\n",
        "escolaridade_funcionario.to_csv('escolaridade_funcionario.csv', index=False)"
      ],
      "metadata": {
        "id": "6Ht3SxH7XTfG"
      },
      "execution_count": null,
      "outputs": []
    },
    {
      "cell_type": "markdown",
      "source": [
        "**11** - Média salarial por departamento"
      ],
      "metadata": {
        "id": "z2e5-ZsvXW2H"
      }
    },
    {
      "cell_type": "code",
      "source": [
        "media_salarial_departamento = round(df.groupby('Departamento')['Salário Mensal'].mean(), 2).reset_index(name = \"Média salarial\")\n",
        "print(media_salarial_departamento)\n",
        "media_salarial_departamento.to_csv('media_salarial_departamento.csv', index=False)"
      ],
      "metadata": {
        "colab": {
          "base_uri": "https://localhost:8080/"
        },
        "id": "ROmEWXpHXaq8",
        "outputId": "98a6c99d-5400-4bbd-d40b-cdd376f691e9"
      },
      "execution_count": null,
      "outputs": [
        {
          "output_type": "stream",
          "name": "stdout",
          "text": [
            "                 Departamento  Média salarial\n",
            "0  Pesquisa e Desenvolvimento        14284.87\n",
            "1           Recursos HumaNãos        13492.98\n",
            "2                      Vendas        14489.79\n"
          ]
        }
      ]
    },
    {
      "cell_type": "markdown",
      "source": [
        "**12** - Total de funcionários de cada gênero por departamento"
      ],
      "metadata": {
        "id": "5ZGlgWPBXeL5"
      }
    },
    {
      "cell_type": "code",
      "source": [
        "quantidade_genero = df.groupby(['Departamento', 'Gênero'])['Gênero'].count().reset_index(name = \"Total de funcionários\")\n",
        "print(quantidade_genero)\n",
        "quantidade_genero.to_csv('quantidade_genero.csv', index=False)"
      ],
      "metadata": {
        "colab": {
          "base_uri": "https://localhost:8080/"
        },
        "id": "Y_ZPqemYXiRG",
        "outputId": "59f907c7-2520-47e7-dc60-c493b25ef18c"
      },
      "execution_count": null,
      "outputs": [
        {
          "output_type": "stream",
          "name": "stdout",
          "text": [
            "                 Departamento     Gênero  Total de funcionários\n",
            "0  Pesquisa e Desenvolvimento   Feminino                    379\n",
            "1  Pesquisa e Desenvolvimento  Masculino                    582\n",
            "2           Recursos HumaNãos   Feminino                     20\n",
            "3           Recursos HumaNãos  Masculino                     43\n",
            "4                      Vendas   Feminino                    189\n",
            "5                      Vendas  Masculino                    257\n"
          ]
        }
      ]
    },
    {
      "cell_type": "markdown",
      "source": [
        "**13** - Total de diárias recebidas por faixa etária"
      ],
      "metadata": {
        "id": "ykFuSgkSXo1Q"
      }
    },
    {
      "cell_type": "code",
      "source": [
        "diarias_faixaetaria = df.groupby('faixa_etaria')['Diárias Recebidas'].count().reset_index(name = \"Total de diárias\")\n",
        "print(diarias_faixaetaria)\n",
        "diarias_faixaetaria.to_csv('diarias_faixaetaria.csv', index=False)"
      ],
      "metadata": {
        "colab": {
          "base_uri": "https://localhost:8080/"
        },
        "id": "kOni8de0X3zx",
        "outputId": "48396076-0b4b-499d-a2f5-9c47d4a72300"
      },
      "execution_count": null,
      "outputs": [
        {
          "output_type": "stream",
          "name": "stdout",
          "text": [
            "  faixa_etaria  Total de diárias\n",
            "0        20-29               309\n",
            "1        30-39               622\n",
            "2        40-49               349\n",
            "3        50-59               168\n"
          ]
        },
        {
          "output_type": "stream",
          "name": "stderr",
          "text": [
            "<ipython-input-13-cfdbd03e3653>:1: FutureWarning: The default of observed=False is deprecated and will be changed to True in a future version of pandas. Pass observed=False to retain current behavior or observed=True to adopt the future default and silence this warning.\n",
            "  diarias_faixaetaria = df.groupby('faixa_etaria')['Diárias Recebidas'].count().reset_index(name = \"Total de diárias\")\n"
          ]
        }
      ]
    },
    {
      "cell_type": "markdown",
      "source": [
        "**14** - Total de funcionários por área de formação"
      ],
      "metadata": {
        "id": "evV7RMPlX9rX"
      }
    },
    {
      "cell_type": "code",
      "source": [
        "funcionarios_areaformacao = df.groupby(['Departamento', 'Área De Formação'])['Área De Formação'].count().reset_index(name = \"Total de funcionários\")\n",
        "print(funcionarios_areaformacao)\n",
        "funcionarios_areaformacao.to_csv('funcionarios_areaformacao.csv', index=False)"
      ],
      "metadata": {
        "colab": {
          "base_uri": "https://localhost:8080/"
        },
        "id": "pMkl27BfYCDu",
        "outputId": "aaf45ff1-10d7-4f06-f42b-c3938dce347b"
      },
      "execution_count": null,
      "outputs": [
        {
          "output_type": "stream",
          "name": "stdout",
          "text": [
            "                  Departamento   Área De Formação  Total de funcionários\n",
            "0   Pesquisa e Desenvolvimento   Ciências Humanas                    440\n",
            "1   Pesquisa e Desenvolvimento   Ciências Médicas                    363\n",
            "2   Pesquisa e Desenvolvimento    EnsiNão técnico                     94\n",
            "3   Pesquisa e Desenvolvimento             Outras                     64\n",
            "4            Recursos HumaNãos   Ciências Humanas                     16\n",
            "5            Recursos HumaNãos   Ciências Médicas                     13\n",
            "6            Recursos HumaNãos    EnsiNão técnico                      4\n",
            "7            Recursos HumaNãos             Outras                      3\n",
            "8            Recursos HumaNãos  Recursos HumaNãos                     27\n",
            "9                       Vendas   Ciências Humanas                    150\n",
            "10                      Vendas   Ciências Médicas                     88\n",
            "11                      Vendas    EnsiNão técnico                     34\n",
            "12                      Vendas          Marketing                    159\n",
            "13                      Vendas             Outras                     15\n"
          ]
        }
      ]
    },
    {
      "cell_type": "markdown",
      "source": [
        "**15** - Média salarial por área de formação"
      ],
      "metadata": {
        "id": "yelW9s_xYQ-S"
      }
    },
    {
      "cell_type": "code",
      "source": [
        "media_salarial_areaformacao = round(df.groupby('Área De Formação')['Salário Mensal'].mean(),2).reset_index(name = \"Média salarial\")\n",
        "print(media_salarial_areaformacao)\n",
        "media_salarial_areaformacao.to_csv('media_salarialareadeformacao.csv', index=False)"
      ],
      "metadata": {
        "colab": {
          "base_uri": "https://localhost:8080/"
        },
        "id": "9J8MT_qnYS36",
        "outputId": "a2f2f83f-e40d-49b4-f152-0dc01278b617"
      },
      "execution_count": null,
      "outputs": [
        {
          "output_type": "stream",
          "name": "stdout",
          "text": [
            "    Área De Formação  Média salarial\n",
            "0   Ciências Humanas        14530.13\n",
            "1   Ciências Médicas        14295.06\n",
            "2    EnsiNão técnico        14210.36\n",
            "3          Marketing        14076.94\n",
            "4             Outras        13270.78\n",
            "5  Recursos HumaNãos        14810.74\n"
          ]
        }
      ]
    },
    {
      "cell_type": "markdown",
      "source": [
        "**16** -Média de anos trabalhados com o gestor por faixa etária"
      ],
      "metadata": {
        "id": "7RS6jAo3YZx-"
      }
    },
    {
      "cell_type": "code",
      "source": [
        "anos_trabalhados_gestor = round(df.groupby('faixa_etaria')['Anos Trabalhando Com O Atual Gestor'].mean(),0).reset_index(name = \"Média de anos de trabalho\")\n",
        "print(anos_trabalhados_gestor)\n",
        "media_salarial_areaformacao.to_csv('media_salarialareadeformacao.csv', index=False)"
      ],
      "metadata": {
        "colab": {
          "base_uri": "https://localhost:8080/"
        },
        "id": "7oo3sI_FYoYr",
        "outputId": "f873d50c-739d-46a4-aceb-7aeb8ec40089"
      },
      "execution_count": null,
      "outputs": [
        {
          "output_type": "stream",
          "name": "stdout",
          "text": [
            "  faixa_etaria  Média de anos de trabalho\n",
            "0        20-29                        3.0\n",
            "1        30-39                        4.0\n",
            "2        40-49                        5.0\n",
            "3        50-59                        5.0\n"
          ]
        },
        {
          "output_type": "stream",
          "name": "stderr",
          "text": [
            "<ipython-input-16-f3f418ec49a2>:1: FutureWarning: The default of observed=False is deprecated and will be changed to True in a future version of pandas. Pass observed=False to retain current behavior or observed=True to adopt the future default and silence this warning.\n",
            "  anos_trabalhados_gestor = round(df.groupby('faixa_etaria')['Anos Trabalhando Com O Atual Gestor'].mean(),0).reset_index(name = \"Média de anos de trabalho\")\n"
          ]
        }
      ]
    },
    {
      "cell_type": "markdown",
      "source": [
        "**17** - Média do nível de performance por departamento e faixa etária"
      ],
      "metadata": {
        "id": "aqppdIpfYsmy"
      }
    },
    {
      "cell_type": "code",
      "source": [
        "perfomance_departamento_idade = round(df.groupby(['Departamento', 'faixa_etaria'])['Score De Performance'].mean(),2).reset_index(name = \"Média do nível de perfomance\")\n",
        "print(perfomance_departamento_idade)\n",
        "perfomance_departamento_idade.to_csv('performance_departamento_idade.csv', index=False)"
      ],
      "metadata": {
        "colab": {
          "base_uri": "https://localhost:8080/"
        },
        "id": "HIT8qXSeYsH8",
        "outputId": "5c0ad6b3-e007-41a3-ec98-a70b425b0767"
      },
      "execution_count": null,
      "outputs": [
        {
          "output_type": "stream",
          "name": "stdout",
          "text": [
            "                  Departamento faixa_etaria  Média do nível de perfomance\n",
            "0   Pesquisa e Desenvolvimento        20-29                          3.14\n",
            "1   Pesquisa e Desenvolvimento        30-39                          3.17\n",
            "2   Pesquisa e Desenvolvimento        40-49                          3.17\n",
            "3   Pesquisa e Desenvolvimento        50-59                          3.15\n",
            "4            Recursos HumaNãos        20-29                          3.08\n",
            "5            Recursos HumaNãos        30-39                          3.16\n",
            "6            Recursos HumaNãos        40-49                          3.18\n",
            "7            Recursos HumaNãos        50-59                          3.12\n",
            "8                       Vendas        20-29                          3.14\n",
            "9                       Vendas        30-39                          3.12\n",
            "10                      Vendas        40-49                          3.15\n",
            "11                      Vendas        50-59                          3.16\n"
          ]
        },
        {
          "output_type": "stream",
          "name": "stderr",
          "text": [
            "<ipython-input-17-7781705f1956>:1: FutureWarning: The default of observed=False is deprecated and will be changed to True in a future version of pandas. Pass observed=False to retain current behavior or observed=True to adopt the future default and silence this warning.\n",
            "  perfomance_departamento_idade = round(df.groupby(['Departamento', 'faixa_etaria'])['Score De Performance'].mean(),2).reset_index(name = \"Média do nível de perfomance\")\n"
          ]
        }
      ]
    },
    {
      "cell_type": "markdown",
      "source": [
        "**18** - Média de percentual de aumento salarial por área de formação"
      ],
      "metadata": {
        "id": "zrdSqBiuY562"
      }
    },
    {
      "cell_type": "code",
      "source": [
        "aumento_salario_area = round(df.groupby('Área De Formação')['Percentual De Aumento De Salário'].mean(),2).reset_index(name = \"Média de percentual de aumento\")\n",
        "print(aumento_salario_area)\n",
        "aumento_salario_area.to_csv('aumento_salario_area.csv', index=False)"
      ],
      "metadata": {
        "colab": {
          "base_uri": "https://localhost:8080/"
        },
        "id": "xfbxoT88Y78d",
        "outputId": "e240b8a7-816e-482e-edc8-9443d8ff86a8"
      },
      "execution_count": null,
      "outputs": [
        {
          "output_type": "stream",
          "name": "stdout",
          "text": [
            "    Área De Formação  Média de percentual de aumento\n",
            "0   Ciências Humanas                           15.25\n",
            "1   Ciências Médicas                           15.37\n",
            "2    EnsiNão técnico                           14.71\n",
            "3          Marketing                           14.92\n",
            "4             Outras                           15.50\n",
            "5  Recursos HumaNãos                           14.78\n"
          ]
        }
      ]
    },
    {
      "cell_type": "markdown",
      "source": [
        "**19** - Média da distância de casa ao trabalho por nível de escolaridade"
      ],
      "metadata": {
        "id": "W6SCO-D4ZAb4"
      }
    },
    {
      "cell_type": "code",
      "source": [
        "distancia_casa = round(df.groupby('Escolaridade')['Distância De Casa'].mean(),2).reset_index(name = \"Média de distância de casa - trabalho\")\n",
        "print(distancia_casa)\n",
        "distancia_casa.to_csv('distancia_casa.csv', index=False)"
      ],
      "metadata": {
        "colab": {
          "base_uri": "https://localhost:8080/"
        },
        "id": "t4nIVeBsZGCo",
        "outputId": "21cfbfa7-ea3b-4319-9c28-5cfc098748e9"
      },
      "execution_count": null,
      "outputs": [
        {
          "output_type": "stream",
          "name": "stdout",
          "text": [
            "   Escolaridade  Média de distância de casa - trabalho\n",
            "0             1                                   8.74\n",
            "1             2                                   9.21\n",
            "2             3                                   9.24\n",
            "3             4                                   9.15\n",
            "4             5                                  10.50\n"
          ]
        }
      ]
    },
    {
      "cell_type": "markdown",
      "source": [
        "**20** - Média salarial por gênero e escolaridade"
      ],
      "metadata": {
        "id": "TFxi_QrCZNit"
      }
    },
    {
      "cell_type": "code",
      "source": [
        "salario_genero_escolaridade = round(df.groupby(['Escolaridade', 'Gênero'])['Salário Mensal'].mean(), 2).reset_index(name = \"Média salarial\")\n",
        "print(salario_genero_escolaridade)\n",
        "salario_genero_escolaridade.to_csv('salario_genero_escolaridade.csv', index=False)"
      ],
      "metadata": {
        "colab": {
          "base_uri": "https://localhost:8080/"
        },
        "id": "LSjNsUIbZPJ1",
        "outputId": "fdd93c91-e56e-4596-9c00-d55770d0ed07"
      },
      "execution_count": null,
      "outputs": [
        {
          "output_type": "stream",
          "name": "stdout",
          "text": [
            "   Escolaridade     Gênero  Média salarial\n",
            "0             1   Feminino        15529.42\n",
            "1             1  Masculino        15032.84\n",
            "2             2   Feminino        14960.87\n",
            "3             2  Masculino        13745.84\n",
            "4             3   Feminino        14527.99\n",
            "5             3  Masculino        13772.37\n",
            "6             4   Feminino        14417.53\n",
            "7             4  Masculino        14196.45\n",
            "8             5   Feminino        14186.41\n",
            "9             5  Masculino        14796.15\n"
          ]
        }
      ]
    },
    {
      "cell_type": "markdown",
      "source": [
        "**21** - Quantidade de funcionários que fazem hora extras por cargo"
      ],
      "metadata": {
        "id": "03DVUUhaZb7V"
      }
    },
    {
      "cell_type": "code",
      "source": [
        "funcionarios_hora_extra = df[df['Faz Hora Extra'] == 'Sim']\n",
        "cargo_horas_extras = funcionarios_hora_extra.groupby('Cargo')['Faz Hora Extra'].count()\n",
        "cargo_horas_extras_ordenado = cargo_horas_extras.sort_values(ascending = False)\n",
        "print(cargo_horas_extras_ordenado)\n",
        "cargo_horas_extras_ordenado.to_csv('cargo_horas_extras_ordenado.csv', index=False)"
      ],
      "metadata": {
        "colab": {
          "base_uri": "https://localhost:8080/"
        },
        "id": "C2oVR3_9Zdu8",
        "outputId": "cf572354-2b20-4e52-9746-8ba4c4868c7d"
      },
      "execution_count": null,
      "outputs": [
        {
          "output_type": "stream",
          "name": "stdout",
          "text": [
            "Cargo\n",
            "Pesquisador cientista      97\n",
            "Executivo de vendas        94\n",
            "Técnico de Laboratório     62\n",
            "Diretor de manufatura      39\n",
            "Reprentante de saúde       37\n",
            "Gerente                    27\n",
            "Representante de vendas    24\n",
            "Diretor de pesquisa        23\n",
            "Recursos HumaNãos          13\n",
            "Name: Faz Hora Extra, dtype: int64\n"
          ]
        }
      ]
    },
    {
      "cell_type": "markdown",
      "source": [
        "**22** - Número de demissões por gênero e cargo"
      ],
      "metadata": {
        "id": "lq28y0CAZipY"
      }
    },
    {
      "cell_type": "code",
      "source": [
        "demissoes_genero_cargo = demitidos.groupby(['Gênero', 'Cargo'])['Cargo'].count()\n",
        "demissoes_genero_cargo_ordenado = demissoes_genero_cargo.sort_values(ascending = True).unstack()\n",
        "print(demissoes_genero_cargo_ordenado)\n",
        "demissoes_genero_cargo_ordenado.to_csv('demissoes_genero_cargo_ordenado.csv', index=False)"
      ],
      "metadata": {
        "colab": {
          "base_uri": "https://localhost:8080/"
        },
        "id": "o4tI-UsNZmIR",
        "outputId": "c1c3b11c-c204-4b5f-d945-67bf8e6cc20c"
      },
      "execution_count": null,
      "outputs": [
        {
          "output_type": "stream",
          "name": "stdout",
          "text": [
            "Cargo      Diretor de manufatura  Diretor de pesquisa  Executivo de vendas  \\\n",
            "Gênero                                                                       \n",
            "Feminino                       4                    1                   20   \n",
            "Masculino                      6                    1                   37   \n",
            "\n",
            "Cargo      Gerente  Pesquisador cientista  Recursos HumaNãos  \\\n",
            "Gênero                                                         \n",
            "Feminino         2                     17                  6   \n",
            "Masculino        3                     30                  6   \n",
            "\n",
            "Cargo      Reprentante de saúde  Representante de vendas  \\\n",
            "Gênero                                                     \n",
            "Feminino                      5                       16   \n",
            "Masculino                     4                       17   \n",
            "\n",
            "Cargo      Técnico de Laboratório  \n",
            "Gênero                             \n",
            "Feminino                       16  \n",
            "Masculino                      46  \n"
          ]
        }
      ]
    },
    {
      "cell_type": "markdown",
      "source": [
        "**23** - Número de funcionários de acordo com o total de anos trabalhados"
      ],
      "metadata": {
        "id": "fkdbXSHhcNZQ"
      }
    },
    {
      "cell_type": "code",
      "source": [
        "funcionarios_anos_trabalhados = df.groupby('Total De Anos Trabalhados')['Total De Anos Trabalhados'].count().reset_index(name = \"Número de funcionários\")\n",
        "print(funcionarios_anos_trabalhados)\n",
        "funcionarios_anos_trabalhados.to_csv('funcionarios_anos_trabalhados.csv', index=False)"
      ],
      "metadata": {
        "colab": {
          "base_uri": "https://localhost:8080/"
        },
        "collapsed": true,
        "id": "k_Zw-vx8cWc3",
        "outputId": "73e272ef-d856-4254-e725-5e860a0447a7"
      },
      "execution_count": null,
      "outputs": [
        {
          "output_type": "stream",
          "name": "stdout",
          "text": [
            "    Total De Anos Trabalhados  Número de funcionários\n",
            "0                           0                      11\n",
            "1                           1                      81\n",
            "2                           2                      31\n",
            "3                           3                      42\n",
            "4                           4                      63\n",
            "5                           5                      88\n",
            "6                           6                     125\n",
            "7                           7                      81\n",
            "8                           8                     103\n",
            "9                           9                      96\n",
            "10                         10                     202\n",
            "11                         11                      36\n",
            "12                         12                      48\n",
            "13                         13                      36\n",
            "14                         14                      31\n",
            "15                         15                      40\n",
            "16                         16                      37\n",
            "17                         17                      33\n",
            "18                         18                      27\n",
            "19                         19                      22\n",
            "20                         20                      30\n",
            "21                         21                      34\n",
            "22                         22                      21\n",
            "23                         23                      22\n",
            "24                         24                      18\n",
            "25                         25                      14\n",
            "26                         26                      14\n",
            "27                         27                       7\n",
            "28                         28                      14\n",
            "29                         29                      10\n",
            "30                         30                       7\n",
            "31                         31                       9\n",
            "32                         32                       9\n",
            "33                         33                       7\n",
            "34                         34                       5\n",
            "35                         35                       3\n",
            "36                         36                       6\n",
            "37                         37                       4\n",
            "38                         38                       1\n",
            "39                         40                       2\n"
          ]
        }
      ]
    }
  ]
}