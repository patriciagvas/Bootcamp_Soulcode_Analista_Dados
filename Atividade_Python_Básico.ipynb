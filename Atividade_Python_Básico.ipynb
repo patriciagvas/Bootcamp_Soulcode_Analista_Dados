{
  "nbformat": 4,
  "nbformat_minor": 0,
  "metadata": {
    "colab": {
      "provenance": [],
      "authorship_tag": "ABX9TyPxLp5/POJMoO10iG1mydHg"
    },
    "kernelspec": {
      "name": "python3",
      "display_name": "Python 3"
    },
    "language_info": {
      "name": "python"
    }
  },
  "cells": [
    {
      "cell_type": "markdown",
      "source": [
        "**Exercício 1** - Cálculo de Despesa com Desconto Progressivo\n",
        "\n",
        "**Problema:** Crie um programa que receba o custo de três produtos e calcule o valor total. Se o total exceder R$ 500, aplique um desconto progressivo: 10% se o total for entre R$ 500 e R$ 1.000, e 15% se for acima de R$ 1.000. Mostre o valor final após o desconto."
      ],
      "metadata": {
        "id": "Awxebub8C7FB"
      }
    },
    {
      "cell_type": "code",
      "source": [
        "P1 = int(input(\"Digite o valor do primeiro produto: \"))\n",
        "P2 = int(input(\"Digite o valor do segundo produto: \"))\n",
        "P3 = int(input(\"Digite o valor do terceiro produto: \"))\n",
        "ValorTotal = P1 + P2 + P3\n",
        "if(500 <= ValorTotal <=1000):\n",
        "  ValorDesconto = ValorTotal - (ValorTotal*0.10)\n",
        "  print(\"O valor total da sua compra é: \", ValorDesconto)\n",
        "elif(ValorTotal > 1000):\n",
        "  ValorDesconto = ValorTotal - (ValorTotal*0.15)\n",
        "  print(\"O valor total da sua compra é: \", ValorDesconto)\n",
        "else:\n",
        "  print(\"O valor total da sua compra é: \", ValorTotal)"
      ],
      "metadata": {
        "colab": {
          "base_uri": "https://localhost:8080/"
        },
        "id": "lOviImQqC9zE",
        "outputId": "001fe0b2-1aff-4bea-e402-aa9388d57c38"
      },
      "execution_count": null,
      "outputs": [
        {
          "output_type": "stream",
          "name": "stdout",
          "text": [
            "Digite o valor do primeiro produto: 23\n",
            "Digite o valor do segundo produto: 250\n",
            "Digite o valor do terceiro produto: 700\n",
            "O valor total da sua compra é:  875.7\n"
          ]
        }
      ]
    },
    {
      "cell_type": "markdown",
      "source": [
        "**Exercício 2**. Classificação de Idade com Mensagens Personalizadas\n",
        "\n",
        "   **Problema:** Desenvolva um programa que receba a idade de uma pessoa e determine sua categoria: \"Criança\" (0-12 anos), \"Adolescente\" (13-17 anos), \"Adulto\" (18-64 anos) ou \"Idoso\" (65 anos ou mais). Exiba uma mensagem personalizada para cada faixa etária, como \"Você é uma criança cheia de energia!\" ou \"Você tem muita sabedoria como idoso!\"."
      ],
      "metadata": {
        "id": "2QcCYwPmFn1B"
      }
    },
    {
      "cell_type": "code",
      "source": [
        "idade = int(input(\"Digite a sua idade: \"))\n",
        "if ((idade >=0) and (idade <= 12)):\n",
        "  print(\"Você é uma criança cheia de energia!\")\n",
        "elif((idade >=12) and (idade<=17)): #elif é a junção de else e if, é o se não se\n",
        "  print(\"Você é um adolescente curioso!\")\n",
        "elif((idade >=18) and (idade<=64)):\n",
        "  print(\"Você é um adulto trabalhador!\")\n",
        "elif((idade >=64) and (idade<=130)):\n",
        "  print(\"Você tem muita sabedoria como idoso!\")\n",
        "else:\n",
        "  print(\"Idade inválida\")"
      ],
      "metadata": {
        "colab": {
          "base_uri": "https://localhost:8080/"
        },
        "id": "kycHEDQ5FsXJ",
        "outputId": "dce603ea-976a-4c3b-c40d-7d7e189dfe71"
      },
      "execution_count": null,
      "outputs": [
        {
          "output_type": "stream",
          "name": "stdout",
          "text": [
            "Digite a sua idade: 25\n",
            "Você é um adulto trabalhador\n"
          ]
        }
      ]
    },
    {
      "cell_type": "markdown",
      "source": [
        "**Exercício 3**. Verificação de Número Par, Ímpar e Positivo/Negativo\n",
        "\n",
        "   **Problema:** Crie um programa que receba um número inteiro e informe se ele é par ou ímpar e, adicionalmente, se é positivo, negativo ou zero. Inclua uma mensagem especial para números que sejam múltiplos de 10."
      ],
      "metadata": {
        "id": "EXRSAC0CGQJX"
      }
    },
    {
      "cell_type": "code",
      "source": [
        "Numero = int(input(\"Digite um número: \"))\n",
        "if((Numero%2 == 0)):\n",
        "  print(\"O número \", Numero, \"é par!\")\n",
        "else:\n",
        "  print(\"O número \", Numero, \"é ímpar!\")\n",
        "if((Numero>0)):\n",
        "  print(\"O número \", Numero, \"é positivo!\")\n",
        "elif((Numero == 0)):\n",
        "  print(\"O número \", Numero, \"é zero!\")\n",
        "else:\n",
        "  print(\"O número \", Numero, \"é negativo!\")\n"
      ],
      "metadata": {
        "colab": {
          "base_uri": "https://localhost:8080/"
        },
        "id": "wKsljgorGTGI",
        "outputId": "c84d6525-490e-4312-be2c-674fae3956e3"
      },
      "execution_count": null,
      "outputs": [
        {
          "output_type": "stream",
          "name": "stdout",
          "text": [
            "Digite um número: 23\n",
            "O número  23 é ímpar!\n",
            "O número  23 é positivo!\n"
          ]
        }
      ]
    },
    {
      "cell_type": "markdown",
      "source": [
        "**Exercício 4**. Cálculo de Média com Condição de Recuperação\n",
        "\n",
        "   **Problema:** Desenvolva um programa que receba as notas de quatro provas e calcule a média. Se a média for menor que 5, informe que o aluno está reprovado. Se estiver entre 5 e 7, informe que o aluno está em recuperação, e se for maior ou igual a 7, informe que o aluno está aprovado."
      ],
      "metadata": {
        "id": "y-vBdFBgKMkr"
      }
    },
    {
      "cell_type": "code",
      "source": [
        "Nome = str(input(\"Digite o nome do aluno(a): \"))\n",
        "P1 = int(input(\"Digite a nota da primeira prova: \"))\n",
        "P2 = int(input(\"Digite a nota da segunda prova: \"))\n",
        "P3 = int(input(\"Digite a nota da terceira prova: \"))\n",
        "P4 = int(input(\"Digite a nota da quarta prova: \"))\n",
        "Media = (P1+P2+P3+P4)/4\n",
        "if(0<= Media < 5):\n",
        "  print(Nome, \", infelizmente, você foi reprovado com  média igual a\", Media)\n",
        "elif(5 <= Media < 7):\n",
        "  print(Nome, \", infelizmente, você está de recuperação com  média igual a\", Media)\n",
        "elif (7<= Media <= 10):\n",
        "  print(Nome, \", parabéns foi aprovado na disciplina com média igual a \", Media)\n",
        "else:\n",
        "  print(\"Digite valores válidos\")"
      ],
      "metadata": {
        "colab": {
          "base_uri": "https://localhost:8080/"
        },
        "id": "JD__ZCuzKPkR",
        "outputId": "b8e09b78-8b1e-4ce5-871f-6150c32d4eaa"
      },
      "execution_count": null,
      "outputs": [
        {
          "output_type": "stream",
          "name": "stdout",
          "text": [
            "Digite o nome do aluno(a): Patricia\n",
            "Digite a nota da primeira prova: 2\n",
            "Digite a nota da segunda prova: 7\n",
            "Digite a nota da terceira prova: 8\n",
            "Digite a nota da quarta prova: 1\n",
            "Patricia , infelizmente, você foi reprovado com  média igual a 4.5\n"
          ]
        }
      ]
    },
    {
      "cell_type": "markdown",
      "source": [
        "**Exercício 5**. Classificação e Ajuste de Salário com Reajuste\n",
        "\n",
        "   **Problema:** Crie um programa que receba o salário de um funcionário e determine sua faixa salarial: \"Baixa\" (até R$ 2.500), \"Média\" (de R$ 2.501 a R$ 5.000) ou \"Alta\" (acima de R$ 5.000). Aplique um reajuste de 7% para a faixa baixa, 5% para a faixa média e 3% para a faixa alta. Mostre o salário reajustado."
      ],
      "metadata": {
        "id": "LFYEBibgMcY3"
      }
    },
    {
      "cell_type": "code",
      "source": [
        "Nome = str(input(\"Digite o nome do funcionário(a): \"))\n",
        "Salario = int(input(\"Por favor, digite o seu salário atual: \"))\n",
        "if(0<= Salario <= 2500):\n",
        "  Reajuste = Salario + Salario*0.07\n",
        "  print(Nome, \"seu salário está na faixa baixa. Portanto, você receberá um reajuste de 7% e seu salário agora será de: R$ \", Reajuste)\n",
        "elif(2501<= Salario <= 5000):\n",
        "  Reajuste = Salario + Salario*0.05\n",
        "  print(Nome, \"seu salário está na faixa média. Portanto, você receberá um reajuste de 5% e seu salário agora será de: R$ \", Reajuste)\n",
        "elif(Salario >= 5000):\n",
        "  Reajuste = Salario + Salario*0.03\n",
        "  print(Nome, \"seu salário está na faixa baixa. Portanto, você receberá um reajuste de 3% e seu salário agora será de: R$\", Reajuste)\n",
        "else:\n",
        "  print(\"Seu salário não pode ser classificado para o reajuste\")\n"
      ],
      "metadata": {
        "colab": {
          "base_uri": "https://localhost:8080/"
        },
        "id": "D5bNEQFTMfft",
        "outputId": "005355d8-1649-4ab3-df22-224ff5b8379d"
      },
      "execution_count": 2,
      "outputs": [
        {
          "output_type": "stream",
          "name": "stdout",
          "text": [
            "Digite o nome do funcionário(a): Patrícia\n",
            "Por favor, digite o seu salário atual: 8500\n",
            "Patrícia seu salário está na faixa baixa. Portanto, você receberá um reajuste de 3% e seu salário agora será de: R$ 8755.0\n"
          ]
        }
      ]
    },
    {
      "cell_type": "markdown",
      "source": [
        "**Exercício 6**. Verificação de Ano Bissexto com Mensagens\n",
        "\n",
        "   **Problema:** Desenvolva um programa que receba um ano e determine se ele é bissexto. Se for, informe que \"O ano é bissexto e possui 366 dias.\" Caso contrário, informe que \"O ano não é bissexto e possui 365 dias.\""
      ],
      "metadata": {
        "id": "rDj9td8qOZe5"
      }
    },
    {
      "cell_type": "code",
      "source": [
        "Ano = int(input(\"Por favor, digite um ano: \"))\n",
        "if((Ano % 4 == 0) and (Ano % 100 ==0) and (Ano % 400 ==0)):\n",
        "  print(\"O ano é bissexto e possui 366 dias\")\n",
        "elif((Ano %4 ==0) and (Ano % 100 !=0)):\n",
        "  print(\"O ano é bissexto e possui 366 dias\")\n",
        "else:\n",
        "  print(\"O ano não é bissexto e possui 365 dias\")"
      ],
      "metadata": {
        "colab": {
          "base_uri": "https://localhost:8080/"
        },
        "id": "VHwySP0vOcma",
        "outputId": "373be17a-73ac-4c12-d86d-40b015a6102c"
      },
      "execution_count": null,
      "outputs": [
        {
          "output_type": "stream",
          "name": "stdout",
          "text": [
            "Por favor, digite um ano: 1923\n",
            "O ano não é bissexto e possui 365 dias\n"
          ]
        }
      ]
    },
    {
      "cell_type": "markdown",
      "source": [
        "**Exercício 7**. Conversão e Comparação de Temperatura\n",
        "\n",
        "   **Problema:** Crie um programa que receba uma temperatura em graus Celsius e a converta para Fahrenheit. Em seguida, verifique se a temperatura em Fahrenheit é inferior a 32°F (fria), entre 32°F e 68°F (amena), ou superior a 68°F (quente). Mostre a classificação junto com a temperatura convertida."
      ],
      "metadata": {
        "id": "cQQuWFLlQLd9"
      }
    },
    {
      "cell_type": "code",
      "source": [
        "Temp = int(input(\"Digite uma Temperatura em °C: \"))\n",
        "Conversor = 32 +(Temp*(9/5))\n",
        "Fah= Conversor\n",
        "if(Fah<32):\n",
        "  print(Fah, \"°F é uma temperatura fria\")\n",
        "elif(32<= Fah <= 68):\n",
        "  print(Fah, \"°F é uma temperatura amena.\")\n",
        "elif(Fah > 68):\n",
        "  print(Fah, \"°F é uma temperatura quente.\")\n",
        "else:\n",
        "  print(\"Não foi possível convertera a temperatura.\")\n"
      ],
      "metadata": {
        "colab": {
          "base_uri": "https://localhost:8080/"
        },
        "id": "IBk-wYToQQiw",
        "outputId": "b0b40a2c-234f-4f53-f500-ddaee3bc3f6b"
      },
      "execution_count": 3,
      "outputs": [
        {
          "output_type": "stream",
          "name": "stdout",
          "text": [
            "Digite uma Temperatura em °C: 25\n",
            "77.0 °F é uma temperatura quente.\n"
          ]
        }
      ]
    },
    {
      "cell_type": "markdown",
      "source": [
        "**Exercício 8**. Comparação de Três Números com Verificação de Ordenação\n",
        "\n",
        "   **Problema:** Desenvolva um programa que receba três números inteiros e determine qual é o maior e o menor. Além disso, verifique e informe se os números estão em ordem crescente, decrescente ou se não estão ordenados."
      ],
      "metadata": {
        "id": "KgUG5808ZudP"
      }
    },
    {
      "cell_type": "code",
      "source": [
        "num1 = int(input(\"Digite um número \"))\n",
        "num2 = int(input(\"Digite um número \"))\n",
        "num3 = int(input(\"Digite um número \"))\n",
        "if(num1> num2 and num1 > num3):\n",
        "  print(num1, \"é o maior número!\")\n",
        "elif(num2>num1 and num2>num3):\n",
        "  print(num2, \"é o maior número!\")\n",
        "else:\n",
        "  print(num3, \"é o maior número!\")\n",
        "if(num1<num2 and num1<num3):\n",
        "  print(num1, \"é o menor número!\")\n",
        "elif(num2<num1 and num2<num3):\n",
        "  print(num2, \"é o menor número!\")\n",
        "else:\n",
        "  print(num3, \"é o menor número!\")\n",
        "if (num1<num2 and num2<num3):\n",
        "  print(\"Os números estão em ordem crescente.\")\n",
        "elif(num1>num2 and num2>num3):\n",
        "  print(\"Os números estão em ordem decrescente.\")\n",
        "else:\n",
        "  print(\"Os números não estão ordenados.\")\n"
      ],
      "metadata": {
        "colab": {
          "base_uri": "https://localhost:8080/"
        },
        "id": "5eiNB3EGZwhS",
        "outputId": "63b46e60-5ac7-4197-ddf2-00add892bb24"
      },
      "execution_count": 4,
      "outputs": [
        {
          "output_type": "stream",
          "name": "stdout",
          "text": [
            "Digite um número 562\n",
            "Digite um número 896\n",
            "Digite um número 123\n",
            "896 é o maior número!\n",
            "123 é o menor número!\n",
            "Os números não estão ordenados\n"
          ]
        }
      ]
    },
    {
      "cell_type": "markdown",
      "source": [
        "**Exercício 9**. Calculadora de Desconto com Condição de Pagamento\n",
        "\n",
        "   **Problema:** Crie um programa que receba o valor de uma compra e determine o desconto a ser aplicado. Aplique 20% de desconto para compras acima de R$ 1.500, 10% para compras entre R$ 800 e R$ 1.500, e 5% para compras abaixo de R$ 800. Se o pagamento for à vista, aplique um desconto adicional de 5% sobre o valor final com desconto."
      ],
      "metadata": {
        "id": "c4MDWIncc9VW"
      }
    },
    {
      "cell_type": "code",
      "source": [
        "Compra = int(input(\"Digite o valor da sua compra: \"))\n",
        "TipoPagamento = str(input(\"O Pagamento será à vista? Digite S para sim e N para não\"))\n",
        "if(Compra > 1500):\n",
        "  ValorFinal = Compra - Compra*0.20\n",
        "  print(\"O valor com desconto da sua compra é R$: \", ValorFinal)\n",
        "elif (800 <= Compra <= 1500):\n",
        "  ValorFinal = Compra - Compra*0.10\n",
        "  print(\"O valor com desconto da sua compra é R$: \", ValorFinal)\n",
        "elif (0<= Compra < 800):\n",
        "  ValorFinal = Compra - Compra*0.05\n",
        "  print(\"O valor com desconto da sua compra é R$: \", ValorFinal)\n",
        "else:\n",
        "  print(\"Não foi possível calcular o desconto\")\n",
        "\n",
        "if (TipoPagamento == \"S\"):\n",
        "  ValorFinal2 = ValorFinal - ValorFinal*0.05\n",
        "  print(\"Você recebeu mais um desconto por pagar à vista e valor com desconto da sua compra é R$: \", ValorFinal2)\n",
        "else:\n",
        "  print(\"Não foi possível calcular o desconto\")\n"
      ],
      "metadata": {
        "colab": {
          "base_uri": "https://localhost:8080/"
        },
        "id": "2XUMMACEdAc7",
        "outputId": "84cfe59e-cbad-4197-cc73-0946395dc24c"
      },
      "execution_count": null,
      "outputs": [
        {
          "output_type": "stream",
          "name": "stdout",
          "text": [
            "Digite o valor da sua compra: 2500\n",
            "O Pagamento será à vista? Digite S para sim e N para nãoS\n",
            "O valor com desconto da sua compra é R$:  2000.0\n",
            "Você recebeu mais um desconto por pagar à vista e valor com desconto da sua compra é R$:  1900.0\n"
          ]
        }
      ]
    },
    {
      "cell_type": "markdown",
      "source": [
        "**Exercício 10**. Verificação de Senha Segura com Requisitos Adicionais\n",
        "\n",
        "   **Problema:** Desenvolva um programa que receba uma senha e verifique se ela é segura. Uma senha é considerada segura se tiver pelo menos 8 caracteres, incluir pelo menos uma letra maiúscula, uma letra minúscula, um número e um caractere especial (como !, @, #). Informe se a senha é segura ou não e liste quais requisitos estão faltando."
      ],
      "metadata": {
        "id": "9HycIvh1ecav"
      }
    },
    {
      "cell_type": "code",
      "source": [
        "senha = input(\"Digite uma senha: \")\n",
        "caracteres_especiais = \"$%&*$#@!?/\\^~\"\n",
        "\n",
        "while True:\n",
        "    # Verificar se a senha contém pelo menos uma letra maiúscula\n",
        "    if not any(char.isupper() for char in senha):\n",
        "        senha = input(\"A senha deve conter letras maiúsculas: \")\n",
        "    # Verificar se a senha contém pelo menos uma letra\n",
        "    elif not any(char.isalpha() for char in senha):\n",
        "        senha = input(\"A senha deve conter pelo menos 1 letra: \")\n",
        "    # Verificar se a senha contém pelo menos 1 número\n",
        "    elif not any(char.isdigit() for char in senha):\n",
        "        senha = input(\"A senha deve conter pelo menos 1 número: \")\n",
        "    # Verificar se a senha tem pelo menos 8 caracteres\n",
        "    elif len(senha) < 8:\n",
        "        senha = input(\"A senha deve conter pelo menos 8 caracteres: \")\n",
        "    # Verificar se a senha contém pelo menos um caractere especial\n",
        "    elif not any(char in caracteres_especiais for char in senha):\n",
        "        senha = input(\"A senha deve conter caracteres especiais: \")\n",
        "    else:\n",
        "        print(\"A senha é segura!\")\n",
        "        break  # Sai do loop quando todos os critérios são atendidos\n"
      ],
      "metadata": {
        "colab": {
          "base_uri": "https://localhost:8080/"
        },
        "id": "BDH6Y3o7efbX",
        "outputId": "81d5133f-426c-48ff-f6b4-ef769fbc7917"
      },
      "execution_count": 1,
      "outputs": [
        {
          "output_type": "stream",
          "name": "stdout",
          "text": [
            "Digite uma senha: 123569%çp\n",
            "A senha deve conter letras maiúsculas: Yppokk$\n",
            "A senha deve conter pelo menos 1 número: Yppp%%52\n",
            "A senha é segura!\n"
          ]
        }
      ]
    },
    {
      "cell_type": "markdown",
      "source": [
        "**Exercício 11**. Contador de Números Ímpares\n",
        "\n",
        "   - **Descrição:** Crie um programa que conte e imprima todos os números ímpares entre 1 e 100 usando um loop `for`."
      ],
      "metadata": {
        "id": "5L9I5BpBwc5d"
      }
    },
    {
      "cell_type": "code",
      "source": [
        "for i in range (100 + 1):\n",
        "  if ((i%2 !=0)):\n",
        "    print(i)\n"
      ],
      "metadata": {
        "colab": {
          "base_uri": "https://localhost:8080/"
        },
        "id": "_VnSgTXGwfbi",
        "outputId": "7b46434e-452c-4c4c-8214-92abab5cc6a9"
      },
      "execution_count": null,
      "outputs": [
        {
          "output_type": "stream",
          "name": "stdout",
          "text": [
            "1\n",
            "3\n",
            "5\n",
            "7\n",
            "9\n",
            "11\n",
            "13\n",
            "15\n",
            "17\n",
            "19\n",
            "21\n",
            "23\n",
            "25\n",
            "27\n",
            "29\n",
            "31\n",
            "33\n",
            "35\n",
            "37\n",
            "39\n",
            "41\n",
            "43\n",
            "45\n",
            "47\n",
            "49\n",
            "51\n",
            "53\n",
            "55\n",
            "57\n",
            "59\n",
            "61\n",
            "63\n",
            "65\n",
            "67\n",
            "69\n",
            "71\n",
            "73\n",
            "75\n",
            "77\n",
            "79\n",
            "81\n",
            "83\n",
            "85\n",
            "87\n",
            "89\n",
            "91\n",
            "93\n",
            "95\n",
            "97\n",
            "99\n"
          ]
        }
      ]
    },
    {
      "cell_type": "markdown",
      "source": [
        "**Exercício 12**. Soma de Números até um Limite\n",
        "\n",
        "   - **Descrição:** Desenvolva um programa que receba um número inteiro positivo e use um loop `while` para calcular a soma de todos os números de 1 até o número fornecido.\n"
      ],
      "metadata": {
        "id": "W0AUDg_ix3D8"
      }
    },
    {
      "cell_type": "code",
      "source": [
        "num = int(input(\"DIGITE UM NÚMERO INTEIRO POSITIVO: \"))\n",
        "cont= 0\n",
        "soma= 0\n",
        "while (cont <= num):\n",
        "  soma = soma + cont\n",
        "  cont += 1\n",
        "print(soma)\n"
      ],
      "metadata": {
        "colab": {
          "base_uri": "https://localhost:8080/"
        },
        "id": "ZwycnfoHx8Dw",
        "outputId": "77ead3fd-597b-469f-d7d4-79d294a6f0fd"
      },
      "execution_count": null,
      "outputs": [
        {
          "output_type": "stream",
          "name": "stdout",
          "text": [
            "DIGITE UM NÚMERO INTEIRO POSITIVO: 2\n",
            "3\n"
          ]
        }
      ]
    },
    {
      "cell_type": "markdown",
      "source": [
        "**Exercício 13**. Número de Tentativas para Senha\n",
        "\n",
        "   - **Descrição:** Crie um programa que limite o número de tentativas para digitar a senha correta. O usuário deve ter no máximo 3 tentativas. Use `while` e `if`."
      ],
      "metadata": {
        "id": "eTaT4HYo3W37"
      }
    },
    {
      "cell_type": "code",
      "source": [
        "senhacerta= \"1807\"\n",
        "max = 3\n",
        "cont = 0\n",
        "\n",
        "while cont < max:\n",
        "  senha = input(\"Digite a senha:\")\n",
        "  if senha == senhacerta:\n",
        "    print(\"Acesso Autorizado\")\n",
        "    break\n",
        "  else:\n",
        "    cont +=1\n",
        "    if cont < max:\n",
        "      tentativas_restante = max - cont\n",
        "      print(f\"Senha incorreta, tente novamente. Você tentou {cont} vezes e resta apenas {tentativas_restante} tentativas\")\n",
        "    else:\n",
        "      print(\"Número máximo de tentativas atingido. Acesso Bloqueado\")"
      ],
      "metadata": {
        "colab": {
          "base_uri": "https://localhost:8080/"
        },
        "id": "xmYp6Z9k3qYy",
        "outputId": "d858c1f8-c44b-40e8-afd9-f3410ab8ff6e"
      },
      "execution_count": null,
      "outputs": [
        {
          "output_type": "stream",
          "name": "stdout",
          "text": [
            "Digite a senha:124\n",
            "Senha incorreta, tente novamente. Você tentou 1 vezes e resta apenas 2 tentativas\n",
            "Digite a senha:124\n",
            "Senha incorreta, tente novamente. Você tentou 2 vezes e resta apenas 1 tentativas\n",
            "Digite a senha:124\n",
            "Número máximo de tentativas atingido. Acesso Bloqueado\n"
          ]
        }
      ]
    },
    {
      "cell_type": "markdown",
      "source": [
        "**Exercício 14**. Fatorial de um Número\n",
        "   - **Descrição:** Calcule o fatorial de um número fornecido pelo usuário usando um loop `for`. O fatorial de um número `n` é o produto de todos os números de 1 até `n`."
      ],
      "metadata": {
        "id": "xWpqNjny4g-3"
      }
    },
    {
      "cell_type": "code",
      "source": [
        "num = int(input(\"Digite um número inteiro para calcular o seu fatorial: \"))\n",
        "fat = 1\n",
        "for i in range(1, num +1): #range(start, stop, step)\n",
        "  fat = fat * i\n",
        "print(fat)"
      ],
      "metadata": {
        "colab": {
          "base_uri": "https://localhost:8080/"
        },
        "id": "og-9MHWP4k_j",
        "outputId": "18eae591-8634-49e0-d30e-8f0f65b27edc"
      },
      "execution_count": null,
      "outputs": [
        {
          "output_type": "stream",
          "name": "stdout",
          "text": [
            "Digite um número inteiro para calcular o seu fatorial: 4\n",
            "24\n"
          ]
        }
      ]
    },
    {
      "cell_type": "markdown",
      "source": [
        "**Exercício 15**. Verificação de Primalidade\n",
        "   - **Descrição:** Crie um programa que verifique se um número é primo. Use um loop `for` e condicionais para determinar se o número tem apenas dois divisores: 1 e ele mesmo."
      ],
      "metadata": {
        "id": "n5eZ96or6rPl"
      }
    },
    {
      "cell_type": "code",
      "source": [
        "num = int(input(\"Digite um número inteiro: \"))\n",
        "cont = 0\n",
        "for i in range(1,num+1):\n",
        "  if num % i ==0:\n",
        "    cont +=1\n",
        "  else:\n",
        "    cont+=0\n",
        "if cont == 2:\n",
        "  print(\"O número é primo\")\n",
        "else:\n",
        "  print(\"O número não é primo\")\n",
        "\n"
      ],
      "metadata": {
        "colab": {
          "base_uri": "https://localhost:8080/"
        },
        "id": "38-ywIj06tYm",
        "outputId": "bb496b0b-ad8a-4a1a-fb86-6c1911fba542"
      },
      "execution_count": null,
      "outputs": [
        {
          "output_type": "stream",
          "name": "stdout",
          "text": [
            "Digite um número inteiro: 36\n",
            "O número não é primo\n"
          ]
        }
      ]
    },
    {
      "cell_type": "markdown",
      "source": [
        "**Exercício 16**. Sequência de Fibonacci\n",
        "   - **Descrição:** Gere a sequência de Fibonacci até um número máximo fornecido pelo usuário usando um loop `while`. A sequência começa com 0 e 1, e cada número subsequente é a soma dos dois anteriores."
      ],
      "metadata": {
        "id": "HziwM5otCvOr"
      }
    },
    {
      "cell_type": "code",
      "source": [
        "num = int(input(\"Digite um número inteiro: \"))\n",
        "num1 = 0\n",
        "num2 =1\n",
        "print (num1, num2, end =\"\")\n",
        "cont = 3\n",
        "while cont <= num:\n",
        "  num3 = num1+num2\n",
        "  print(num3, end=\"\")\n",
        "  num1 = num2\n",
        "  num2 = num3\n",
        "  cont += 1\n"
      ],
      "metadata": {
        "id": "FC7yRIQGCxqR",
        "outputId": "858d059c-0eb2-45fd-ca58-3474cd8bec3e",
        "colab": {
          "base_uri": "https://localhost:8080/"
        }
      },
      "execution_count": null,
      "outputs": [
        {
          "output_type": "stream",
          "name": "stdout",
          "text": [
            "Digite um número inteiro: 8\n",
            "0 11235813"
          ]
        }
      ]
    },
    {
      "cell_type": "markdown",
      "source": [
        "**Exercício 17**. Contar Caracteres em uma String\n",
        "   - **Descrição:** Conte quantas vezes um caractere específico aparece em uma string fornecida pelo usuário usando um loop `for`.\n"
      ],
      "metadata": {
        "id": "OYUVON2kMn7y"
      }
    },
    {
      "cell_type": "code",
      "source": [
        "palavra = str(input(\"Digite uma palavra: \"))\n",
        "letra = str(input(\"Digite a letra desejada: \"))\n",
        "cont = 0\n",
        "n= len(palavra)\n",
        "for caractere in palavra:\n",
        "  if (caractere == letra):\n",
        "    cont+=1\n",
        "print(f\"O caractere '{letra}' aparece {cont} vezes na string.\")"
      ],
      "metadata": {
        "colab": {
          "base_uri": "https://localhost:8080/"
        },
        "id": "VPhAxzCjMqGE",
        "outputId": "7d7eaf98-0a03-474a-b4c2-88ee6cb3b39c"
      },
      "execution_count": null,
      "outputs": [
        {
          "output_type": "stream",
          "name": "stdout",
          "text": [
            "Digite uma palavra: roma\n",
            "Digite a letra desejadap\n",
            "O caractere 'p' aparece 0 vezes na string.\n"
          ]
        }
      ]
    },
    {
      "cell_type": "markdown",
      "source": [
        "**Excercício 18**. Tabuada de um Número\n",
        "   - **Descrição:** Crie um programa que exiba a tabuada (de 1 a 10) de um número fornecido pelo usuário usando um loop `for`."
      ],
      "metadata": {
        "id": "T7M-0xqHQaa2"
      }
    },
    {
      "cell_type": "code",
      "source": [
        "num = int(input(\"Digite um número inteiro: \"))\n",
        "for i in range(1, 11):\n",
        "  valor = num * i\n",
        "  print(valor, end=\" \")"
      ],
      "metadata": {
        "colab": {
          "base_uri": "https://localhost:8080/"
        },
        "id": "jbIEZ-SSQc9_",
        "outputId": "24cc2c23-8128-478a-8b4c-b34afb6f9dbb"
      },
      "execution_count": null,
      "outputs": [
        {
          "output_type": "stream",
          "name": "stdout",
          "text": [
            "Digite um número inteiro: 4\n",
            "4 8 12 16 20 24 28 32 36 40 "
          ]
        }
      ]
    },
    {
      "cell_type": "markdown",
      "source": [
        "**Exercício 19**. Contador de Letras em Palavras\n",
        "   - **Descrição:** Dada uma lista de palavras, conte quantas letras `a` existem em todas as palavras usando um loop `for` e condicionais."
      ],
      "metadata": {
        "id": "cNfmydW3Ue1D"
      }
    },
    {
      "cell_type": "code",
      "source": [
        "listadepalavras = []\n",
        "num_strings= int(input(\"Qual o número de itens você gostaria de adicionar à sua lista de palavras: \"))\n",
        "for i in range(num_strings):\n",
        "    palavra = input(f\"Digite a palavra desejada: \")\n",
        "    listadepalavras.append(palavra)\n",
        "print(\"Esta é sua lista:\", listadepalavras)\n",
        "letra = \"a\"\n",
        "cont= 0\n",
        "for palavra in listadepalavras:\n",
        "  for caractere in palavra:\n",
        "    if caractere == letra:\n",
        "      cont+=1\n",
        "print(f\"O número total de letras 'a' em todas as palavras é: {cont}\")\n"
      ],
      "metadata": {
        "colab": {
          "base_uri": "https://localhost:8080/"
        },
        "id": "rlUKLjaIUhcG",
        "outputId": "4237f5c6-b0ea-49e5-8337-d17170a7a477"
      },
      "execution_count": null,
      "outputs": [
        {
          "output_type": "stream",
          "name": "stdout",
          "text": [
            "Qual o número de itens você gostaria de adicionar à sua lista de palavras: 3\n",
            "Digite a palavra desejada: manga\n",
            "Digite a palavra desejada: bala\n",
            "Digite a palavra desejada: feijão\n",
            "Esta é sua lista: ['manga', 'bala', 'feijão']\n",
            "O número total de letras 'a' em todas as palavras é: 4\n"
          ]
        }
      ]
    },
    {
      "cell_type": "markdown",
      "source": [
        "**Exercício 20**. Conversão de Temperatura\n",
        "  \n",
        "  **Descrição:** Desenvolva um programa que converta temperaturas de Celsius para Fahrenheit e vice-versa. Use loops para permitir múltiplas conversões até que o usuário decida parar."
      ],
      "metadata": {
        "id": "ioVgWixcY1LL"
      }
    },
    {
      "cell_type": "code",
      "source": [
        "while True:\n",
        "  Resposta_Usuario = str(input(\"Deseja converter uma nova a temperatura? Digite S para sim e N para não \"))\n",
        "  if Resposta_Usuario == \"S\":\n",
        "    temp = int(input(\"Digite a temperatura em °C que você deseja converter: \"))\n",
        "    temp_convertida = 32 +(temp*(9/5))\n",
        "    print(f\"A temperatura convertida é {temp_convertida} °F\")\n",
        "  else:\n",
        "    break"
      ],
      "metadata": {
        "colab": {
          "base_uri": "https://localhost:8080/"
        },
        "id": "vNzrJ11dY4UI",
        "outputId": "d013baac-9eb4-40f3-95ee-074df09fb07b"
      },
      "execution_count": null,
      "outputs": [
        {
          "name": "stdout",
          "output_type": "stream",
          "text": [
            "Deseja converter uma nova a temperatura? Digite S para sim e N para não S\n",
            "Digite a temperatura em °C que você deseja converter: 25\n",
            "A temperatura convertida é 77.0 °F\n",
            "Deseja converter uma nova a temperatura? Digite S para sim e N para não N\n"
          ]
        }
      ]
    },
    {
      "cell_type": "markdown",
      "source": [
        "**Exercício 21**. Média de Notas\n",
        "\n",
        " **Descrição:** Crie um programa que calcule a média de uma série de notas fornecidas pelo usuário. O programa deve parar quando o usuário digitar um valor negativo."
      ],
      "metadata": {
        "id": "7fVDULzqbpsc"
      }
    },
    {
      "cell_type": "code",
      "source": [
        "lista_notas = []\n",
        "soma=0\n",
        "\n",
        "while True:\n",
        "  nota= float(input(\"Qual a nota você deseja adicionar (Se deseja encerrar o programa digite um número negativo): \"))\n",
        "  if nota < 0:\n",
        "    break\n",
        "  lista_notas.append(nota)\n",
        "  num_notas= len(lista_notas)\n",
        "if num_notas > 0:\n",
        "  soma = sum(lista_notas)\n",
        "  media = soma/num_notas\n",
        "  print(f\"Estas foram as notas fornecidas {lista_notas}\")\n",
        "  print(f\"Esta é a sua média {media}\")\n",
        "else:\n",
        "  print(\"Não foi possível fazer o cálculo\")\n"
      ],
      "metadata": {
        "colab": {
          "base_uri": "https://localhost:8080/"
        },
        "id": "HYJ96fuKbsdN",
        "outputId": "b9743a58-dd50-442c-bf6c-2e2a45671c66"
      },
      "execution_count": null,
      "outputs": [
        {
          "output_type": "stream",
          "name": "stdout",
          "text": [
            "Qual a nota você deseja adicionar (Se deseja encerrar o programa digite um número negativo): 6.5\n",
            "Qual a nota você deseja adicionar (Se deseja encerrar o programa digite um número negativo): 8\n",
            "Qual a nota você deseja adicionar (Se deseja encerrar o programa digite um número negativo): 10\n",
            "Qual a nota você deseja adicionar (Se deseja encerrar o programa digite um número negativo): 2\n",
            "Qual a nota você deseja adicionar (Se deseja encerrar o programa digite um número negativo): -9\n",
            "Estas foram as notas fornecidas [6.5, 8.0, 10.0, 2.0]\n",
            "Esta é a sua média 6.625\n"
          ]
        }
      ]
    },
    {
      "cell_type": "markdown",
      "source": [
        "**Exercício 22**. Números Divisíveis por 3 e 5\n",
        "\n",
        "**Descrição:** Crie um programa que liste todos os números entre 1 e 100 que são divisíveis por 3 e por 5 usando um loop `for` e condicionais."
      ],
      "metadata": {
        "id": "3gMcmA2wtiyT"
      }
    },
    {
      "cell_type": "code",
      "source": [
        "lista_divisiveis = []\n",
        "for i in range(1,100+1):\n",
        "  if ((i % 3 == 0) and (i%5 == 0)):\n",
        "    lista_divisiveis.append(i)\n",
        "print(lista_divisiveis)"
      ],
      "metadata": {
        "colab": {
          "base_uri": "https://localhost:8080/"
        },
        "id": "TnIE5lHytlXB",
        "outputId": "42b7d027-2bb0-46a6-a097-ece7fdefadac"
      },
      "execution_count": null,
      "outputs": [
        {
          "output_type": "stream",
          "name": "stdout",
          "text": [
            "[15, 30, 45, 60, 75, 90]\n"
          ]
        }
      ]
    },
    {
      "cell_type": "markdown",
      "source": [
        "**Exercício 23**. Inverter uma String\n",
        "\n",
        "**Descrição:** Crie um programa que inverta uma string fornecida pelo usuário sem usar funções embutidas, utilizando um loop `for`.\n"
      ],
      "metadata": {
        "id": "BJlCMBPMvV64"
      }
    },
    {
      "cell_type": "code",
      "source": [
        "palavra = str(input(\"Digite a palavra que você deseja inverter\"))\n",
        "palavra_invertida = \"\"\n",
        "for caractere in palavra:\n",
        "  palavra_invertida = caractere + palavra_invertida\n",
        "print(f\"Esta é a sua palavra invertida {palavra_invertida}\")"
      ],
      "metadata": {
        "colab": {
          "base_uri": "https://localhost:8080/"
        },
        "id": "Ame0GGXAvX9_",
        "outputId": "cfa0804e-17c1-485e-f8e3-f6ad74ec9e4e"
      },
      "execution_count": null,
      "outputs": [
        {
          "output_type": "stream",
          "name": "stdout",
          "text": [
            "Digite a palavra que você deseja inverteramor\n",
            "Está é a sua palavra invertida roma\n"
          ]
        }
      ]
    },
    {
      "cell_type": "markdown",
      "source": [
        "**Exercício 24**. Verificar Palíndromo\n",
        "\n",
        "**Descrição:** Desenvolva um programa que verifique se uma palavra é um palíndromo (ou seja, se pode ser lida da mesma forma de trás para frente). Use um loop `for` e condicionais."
      ],
      "metadata": {
        "id": "pOBoQjaj1E7N"
      }
    },
    {
      "cell_type": "code",
      "source": [
        "palavra = str(input(\"Digite a palavra que você deseja inverter\"))\n",
        "palavra_invertida = \"\"\n",
        "for caractere in palavra:\n",
        "  palavra_invertida = caractere + palavra_invertida\n",
        "if palavra_invertida == palavra:\n",
        "  print(f\"A palavra {palavra} é um Palíndromo\")\n",
        "else:\n",
        "  print(f\"A palavra {palavra} não é um Palíndromo\")"
      ],
      "metadata": {
        "colab": {
          "base_uri": "https://localhost:8080/"
        },
        "id": "AA58jwWo1HNA",
        "outputId": "980d7f82-cf1f-452f-a01f-c84d9d89e21f"
      },
      "execution_count": null,
      "outputs": [
        {
          "output_type": "stream",
          "name": "stdout",
          "text": [
            "Digite a palavra que você deseja inverterbolo\n",
            "A palavra bolo não é um Palíndromo\n"
          ]
        }
      ]
    },
    {
      "cell_type": "code",
      "source": [
        "#Método slicing\n",
        "palavra = str(input(\"Digite a palavra que você deseja inverter: \"))\n",
        "print(palavra)\n",
        "palavra_invertida = palavra[:: -1]\n",
        "if palavra_invertida == palavra:\n",
        "   print(f\"A palavra {palavra} é um Palíndromo\")\n",
        "else:\n",
        "  print(f\"A palavra {palavra} não é um Palíndromo\")\n"
      ],
      "metadata": {
        "colab": {
          "base_uri": "https://localhost:8080/"
        },
        "id": "t6nqgioXbVz3",
        "outputId": "00dc5d9c-fec2-4c35-c2e4-568eb51c5799"
      },
      "execution_count": null,
      "outputs": [
        {
          "output_type": "stream",
          "name": "stdout",
          "text": [
            "Digite a palavra que você deseja inverter: osso\n",
            "osso\n",
            "A palavra osso é um Palíndromo\n"
          ]
        }
      ]
    },
    {
      "cell_type": "markdown",
      "source": [
        "**Exercício 25**. Múltiplos de um Número\n",
        "\n",
        "**Descrição:** Crie um programa que encontre todos os múltiplos de um número fornecido pelo usuário até um valor máximo também fornecido pelo usuário."
      ],
      "metadata": {
        "id": "-0MyceTH1oyx"
      }
    },
    {
      "cell_type": "code",
      "source": [
        "num = int(input(\"Digite o número desejado: \"))\n",
        "max = int(input(\"Digite o número máximo de múlitplos desejados: \"))\n",
        "multiplos_lista = []\n",
        "for i in range(1, max + 1):\n",
        "  multiplo = num * i\n",
        "  multiplos_lista.append(multiplo)\n",
        "print(multiplos_lista)\n"
      ],
      "metadata": {
        "colab": {
          "base_uri": "https://localhost:8080/"
        },
        "id": "BUvt8-GM1r2-",
        "outputId": "f8e92cf1-0941-4017-85c1-914c9c953901"
      },
      "execution_count": null,
      "outputs": [
        {
          "output_type": "stream",
          "name": "stdout",
          "text": [
            "Digite o número desejado: 6\n",
            "Digite o número máximo de múlitplos desejados: 10\n",
            "[6, 12, 18, 24, 30, 36, 42, 48, 54, 60]\n"
          ]
        }
      ]
    },
    {
      "cell_type": "markdown",
      "source": [
        "**Exercício 26**. Gerar Números Aleatórios\n",
        "\n",
        "**Descrição:** Gere e exiba uma lista de 10 números aleatórios entre 1 e 100. Use um loop `for` e a biblioteca `random` para isso."
      ],
      "metadata": {
        "id": "2xDD30OY3WZR"
      }
    },
    {
      "cell_type": "code",
      "source": [
        "import random\n",
        "lista_aleatoria =[]\n",
        "for i in range (1, 10+1):\n",
        "  num_aleatorio = random.randint(1,100) #radint gera um número aleatório dentro de um intervalo definido\n",
        "  lista_aleatoria.append(num_aleatorio)\n",
        "print(lista_aleatoria)"
      ],
      "metadata": {
        "colab": {
          "base_uri": "https://localhost:8080/"
        },
        "id": "OccJ9qFT3aNJ",
        "outputId": "ce4ee2e4-d083-411d-c816-21f0ca926f6f"
      },
      "execution_count": null,
      "outputs": [
        {
          "output_type": "stream",
          "name": "stdout",
          "text": [
            "[46, 13, 35, 85, 34, 83, 1, 52, 66, 71]\n"
          ]
        }
      ]
    },
    {
      "cell_type": "markdown",
      "source": [
        "**Exercício 27**. Contar Palavras em uma Frase\n",
        "\n",
        "**Descrição:** Crie um programa que conte o número de palavras em uma frase fornecida pelo usuário. Use um loop `for` para iterar sobre as palavras da frase.\n"
      ],
      "metadata": {
        "id": "YKfPq10S5i5O"
      }
    },
    {
      "cell_type": "code",
      "source": [
        "frase = (input(\"Digite uma frase de sua preferência: \"))\n",
        "palavra =[]\n",
        "palavras = frase.split()\n",
        "palavra.append(palavras)\n",
        "cont= 0\n",
        "for i in palavras:\n",
        "  cont +=1\n",
        "print(f\"A frase digitada tem {cont} palavras\")"
      ],
      "metadata": {
        "colab": {
          "base_uri": "https://localhost:8080/"
        },
        "id": "0SUddlwe5lJB",
        "outputId": "d6a04c19-bc18-4dd3-d470-a95373d3b212"
      },
      "execution_count": null,
      "outputs": [
        {
          "output_type": "stream",
          "name": "stdout",
          "text": [
            "Digite uma frase de sua preferência: o rato fugiu\n",
            "A frase digitada tem 3 palavras\n"
          ]
        }
      ]
    },
    {
      "cell_type": "markdown",
      "source": [
        "**Exercício 28**. Tabuada de 1 a 10\n",
        "\n",
        "**Descrição:** Crie um programa que exiba a tabuada de 1 a 10 usando dois loops `for`: um para o número base e outro para o multiplicador."
      ],
      "metadata": {
        "id": "VzhGXe1d9tOz"
      }
    },
    {
      "cell_type": "code",
      "source": [
        "for i in range(1, 10+1):\n",
        "  Tabuada = []\n",
        "  base = i\n",
        "  for i in range (1, 10+1):\n",
        "    resultado = base *i\n",
        "    Tabuada.append(resultado)\n",
        "  print(f\"Esta é a tabuada {base}: {Tabuada}\")"
      ],
      "metadata": {
        "colab": {
          "base_uri": "https://localhost:8080/"
        },
        "id": "MdHPVmKM9xIu",
        "outputId": "bd6a4c00-8f72-4ec6-9c95-1b5e2a2d3657"
      },
      "execution_count": null,
      "outputs": [
        {
          "output_type": "stream",
          "name": "stdout",
          "text": [
            "Esta é a tabuada 1: [1, 2, 3, 4, 5, 6, 7, 8, 9, 10]\n",
            "Esta é a tabuada 2: [2, 4, 6, 8, 10, 12, 14, 16, 18, 20]\n",
            "Esta é a tabuada 3: [3, 6, 9, 12, 15, 18, 21, 24, 27, 30]\n",
            "Esta é a tabuada 4: [4, 8, 12, 16, 20, 24, 28, 32, 36, 40]\n",
            "Esta é a tabuada 5: [5, 10, 15, 20, 25, 30, 35, 40, 45, 50]\n",
            "Esta é a tabuada 6: [6, 12, 18, 24, 30, 36, 42, 48, 54, 60]\n",
            "Esta é a tabuada 7: [7, 14, 21, 28, 35, 42, 49, 56, 63, 70]\n",
            "Esta é a tabuada 8: [8, 16, 24, 32, 40, 48, 56, 64, 72, 80]\n",
            "Esta é a tabuada 9: [9, 18, 27, 36, 45, 54, 63, 72, 81, 90]\n",
            "Esta é a tabuada 10: [10, 20, 30, 40, 50, 60, 70, 80, 90, 100]\n"
          ]
        }
      ]
    },
    {
      "cell_type": "markdown",
      "source": [
        "**Exercício 29**. Verificar Paridade de Números\n",
        "\n",
        "**Descrição:** Dado um número máximo fornecido pelo usuário, crie um programa que exiba todos os números de 1 até o máximo e informe se cada um é par ou ímpar."
      ],
      "metadata": {
        "id": "2bRPwsuN_Qbu"
      }
    },
    {
      "cell_type": "code",
      "source": [
        "num_max = int(input(\"Digite um número máximo desjado: \"))\n",
        "for i in range(1, num_max +1):\n",
        "  if (i%2 ==0):\n",
        "    print(f\"O número {i} é par\")\n",
        "  else:\n",
        "    print(f\"O número {i} é impar\")"
      ],
      "metadata": {
        "colab": {
          "base_uri": "https://localhost:8080/"
        },
        "id": "HUPbF1Rw_Sk5",
        "outputId": "3d9feeee-4900-4462-cba1-b96da0479e8c"
      },
      "execution_count": null,
      "outputs": [
        {
          "output_type": "stream",
          "name": "stdout",
          "text": [
            "Digite um número máximo desjado: 26\n",
            "O número 1 é impar\n",
            "O número 2 é par\n",
            "O número 3 é impar\n",
            "O número 4 é par\n",
            "O número 5 é impar\n",
            "O número 6 é par\n",
            "O número 7 é impar\n",
            "O número 8 é par\n",
            "O número 9 é impar\n",
            "O número 10 é par\n",
            "O número 11 é impar\n",
            "O número 12 é par\n",
            "O número 13 é impar\n",
            "O número 14 é par\n",
            "O número 15 é impar\n",
            "O número 16 é par\n",
            "O número 17 é impar\n",
            "O número 18 é par\n",
            "O número 19 é impar\n",
            "O número 20 é par\n",
            "O número 21 é impar\n",
            "O número 22 é par\n",
            "O número 23 é impar\n",
            "O número 24 é par\n",
            "O número 25 é impar\n",
            "O número 26 é par\n"
          ]
        }
      ]
    },
    {
      "cell_type": "markdown",
      "source": [
        "**Exercício 30**. Somar Números em uma Lista\n",
        "\n",
        "**Descrição:** Crie uma lista de números e calcule a soma de todos os números positivos usando um loop `for`."
      ],
      "metadata": {
        "id": "3LaIJcdjAXdN"
      }
    },
    {
      "cell_type": "code",
      "source": [
        "lista_numeros = [1,20,30,-5,22,-9]\n",
        "soma = 0\n",
        "for i in lista_numeros:\n",
        "  if (i>=0):\n",
        "    soma = soma + i;\n",
        "  else:\n",
        "    soma= soma + 0\n",
        "print(soma)"
      ],
      "metadata": {
        "colab": {
          "base_uri": "https://localhost:8080/"
        },
        "id": "m_4AYI8QAZuO",
        "outputId": "dc5a2496-6d8e-49f6-f10a-f2705e451d18"
      },
      "execution_count": null,
      "outputs": [
        {
          "output_type": "stream",
          "name": "stdout",
          "text": [
            "73\n"
          ]
        }
      ]
    },
    {
      "cell_type": "markdown",
      "source": [
        "**Exercício 30, mas gerando uma lista aleatória**"
      ],
      "metadata": {
        "id": "F4yn86OZGO7A"
      }
    },
    {
      "cell_type": "code",
      "source": [
        "import random\n",
        "lista_aleatoria =[]\n",
        "min= int(input(\"digite o número mínimo do intervalo para o qual você deseja criar a lista: \"))\n",
        "max = int(input(\"digite o número máximo do intervalo para o qual você deseja crirar a lista: \"))\n",
        "num_itens = int(input(\"digite o número de itens desejados: \"))\n",
        "\n",
        "for i in range (num_itens):\n",
        "  num_aleatorio = random.randint(min,max) #radint gera um número aleatório dentro de um intervalo definido\n",
        "  lista_aleatoria.append(num_aleatorio)\n",
        "\n",
        "num_lista = len(lista_aleatoria)\n",
        "print(lista_aleatoria)\n",
        "\n",
        "soma = 0\n",
        "for i in lista_aleatoria:\n",
        "  if(i >= 0):\n",
        "    soma = soma + i\n",
        "  else:\n",
        "    soma = soma +0\n",
        "print(soma)"
      ],
      "metadata": {
        "colab": {
          "base_uri": "https://localhost:8080/"
        },
        "id": "6ti95i6kGTjG",
        "outputId": "5ec462ae-ae5d-44b8-c97d-cb5e06013fbf"
      },
      "execution_count": null,
      "outputs": [
        {
          "output_type": "stream",
          "name": "stdout",
          "text": [
            "digite o número mínimo do intervalo para o qual você deseja criar a lista: -50\n",
            "digite o número máximo do intervalo para o qual você deseja crirar a lista: 10\n",
            "digite o número de itens desejados: 5\n",
            "[10, -2, -23, -16, -49]\n",
            "10\n"
          ]
        }
      ]
    }
  ]
}