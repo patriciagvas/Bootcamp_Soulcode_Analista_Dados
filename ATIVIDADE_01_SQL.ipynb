{
  "nbformat": 4,
  "nbformat_minor": 0,
  "metadata": {
    "colab": {
      "provenance": [],
      "authorship_tag": "ABX9TyN3AEyDbpToT3u/iUIYDy5O"
    },
    "kernelspec": {
      "name": "python3",
      "display_name": "Python 3"
    },
    "language_info": {
      "name": "python"
    }
  },
  "cells": [
    {
      "cell_type": "code",
      "execution_count": null,
      "metadata": {
        "id": "5Ya2FOeplV_A"
      },
      "outputs": [],
      "source": [
        "CREATE TABLE DEPARTAMENTO (\n",
        "DEPARTAMENTO_ID INT AUTO_INCREMENT PRIMARY KEY, NOME VARCHAR(100)\n",
        ");\n",
        "\n",
        "insert into DEPARTAMENTO (nome) values ('Human Resources');\n",
        "insert into DEPARTAMENTO (nome) values ('Sales');\n",
        "insert into DEPARTAMENTO (nome) values ('Business Development');\n",
        "insert into DEPARTAMENTO (nome) values ('Research and Development');\n",
        "insert into DEPARTAMENTO (nome) values ('Accounting');\n",
        "insert into DEPARTAMENTO (nome) values ('Finance');\n",
        "insert into DEPARTAMENTO (nome) values ('Services');\n",
        "insert into DEPARTAMENTO (nome) values ('Training');\n",
        "insert into DEPARTAMENTO (nome) values ('Marketing');\n",
        "insert into DEPARTAMENTO (nome) values ('Support');\n",
        "\n",
        "CREATE TABLE GERENTE (GERENTE_ID INT AUTO_INCREMENT PRIMARY KEY, NOME VARCHAR(100));\n",
        "\n",
        "insert into GERENTE (nome) values ('Jayson');\n",
        "insert into GERENTE (nome) values ('Esteban');\n",
        "insert into GERENTE (nome) values ('Lurline');\n",
        "insert into GERENTE (nome) values ('Jimmie');\n",
        "insert into GERENTE (nome) values ('Tonye');\n",
        "insert into GERENTE (nome) values ('Christos');\n",
        "insert into GERENTE (nome) values ('Cherice');\n",
        "\n",
        "CREATE TABLE EMPREGADO (\n",
        "  EMPREGADO_ID INT AUTO_INCREMENT PRIMARY KEY,\n",
        "  NOME VARCHAR(100),\n",
        "  DEPARTAMENTO_ID INT,\n",
        "  SALARIO DECIMAL(10, 2),\n",
        "  DATA_ADMISSAO DATE,\n",
        "  GERENTE_ID INT,\n",
        "  CARGO VARCHAR(100),\n",
        "  FOREIGN KEY (DEPARTAMENTO_ID) REFERENCES DEPARTAMENTO(DEPARTAMENTO_ID),\n",
        "  FOREIGN KEY (GERENTE_ID) REFERENCES GERENTE(GERENTE_ID)\n",
        ");\n",
        "\n",
        "insert into EMPREGADO (nome, departamento_id, salario, data_admissao, gerente_id, cargo) values ('Ianthe', 7, 4665.92, '2020-06-04', 1, 'Geologist II');\n",
        "insert into EMPREGADO (nome, departamento_id, salario, data_admissao, gerente_id, cargo) values ('Orelee', 5, 4311.38, '2020-04-28', 2, 'Research Assistant I');\n",
        "insert into EMPREGADO (nome, departamento_id, salario, data_admissao, gerente_id, cargo) values ('Beth', 8, 12377.29, '2022-05-22', 3, 'VP Sales');\n",
        "insert into EMPREGADO (nome, departamento_id, salario, data_admissao, gerente_id, cargo) values ('August', 4, 13921.51, '2018-04-26', 2, 'Junior Executive');\n",
        "insert into EMPREGADO (nome, departamento_id, salario, data_admissao, gerente_id, cargo) values ('Desiree', 10, 4209.85, '2020-05-18', 6, 'Account Executive');\n",
        "insert into EMPREGADO (nome, departamento_id, salario, data_admissao, gerente_id, cargo) values ('Babette', 10, 11822.13, '2022-02-18', 4, 'Sales Representative');\n",
        "insert into EMPREGADO (nome, departamento_id, salario, data_admissao, gerente_id, cargo) values ('Sid', 6, 13818.26, '2017-11-15', 7, 'Speech Pathologist');\n",
        "insert into EMPREGADO (nome, departamento_id, salario, data_admissao, gerente_id, cargo) values ('Justina', 2, 11190.25, '2019-08-08', 1, 'Quality Engineer');\n",
        "insert into EMPREGADO (nome, departamento_id, salario, data_admissao, gerente_id, cargo) values ('Ruthie', 2, 2903.9, '2018-05-11', 4, 'Environmental Tech');\n",
        "insert into EMPREGADO (nome, departamento_id, salario, data_admissao, gerente_id, cargo) values ('Delly', 7, 3277.27, '2018-02-07', 4, 'Nuclear Power Engineer');\n",
        "insert into EMPREGADO (nome, departamento_id, salario, data_admissao, gerente_id, cargo) values ('Ogden', 8, 3400.79, '2020-04-09', 1, 'Sales Associate');\n",
        "insert into EMPREGADO (nome, departamento_id, salario, data_admissao, gerente_id, cargo) values ('Ximenes', 6, 13848.38, '2022-01-10', 7, 'Senior Developer');\n",
        "insert into EMPREGADO (nome, departamento_id, salario, data_admissao, gerente_id, cargo) values ('Brand', 10, 5873.25, '2021-06-24', 3, 'Quality Engineer');\n",
        "insert into EMPREGADO (nome, departamento_id, salario, data_admissao, gerente_id, cargo) values ('Gwendolyn', 2, 6568.58, '2018-09-18', 4, 'Nurse Practicioner');\n",
        "insert into EMPREGADO (nome, departamento_id, salario, data_admissao, gerente_id, cargo) values ('Fayette', 10, 6154.74, '2019-06-04', 7, 'Civil Engineer');\n",
        "insert into EMPREGADO (nome, departamento_id, salario, data_admissao, gerente_id, cargo) values ('Casandra', 8, 4411.89, '2019-03-08', 5, 'Computer Systems Analyst IV');\n",
        "insert into EMPREGADO (nome, departamento_id, salario, data_admissao, gerente_id, cargo) values ('Merrill', 3, 8731.39, '2022-11-20', 4, 'Senior Editor');\n",
        "insert into EMPREGADO (nome, departamento_id, salario, data_admissao, gerente_id, cargo) values ('Byron', 10, 13056.08, '2018-08-25', 3, 'Clinical Specialist');\n",
        "insert into EMPREGADO (nome, departamento_id, salario, data_admissao, gerente_id, cargo) values ('Clemence', 10, 7569.07, '2018-07-01', 4, 'Software Consultant');\n",
        "insert into EMPREGADO (nome, departamento_id, salario, data_admissao, gerente_id, cargo) values ('Giorgi', 9, 11161.72, '2019-09-04', 2, 'Financial Advisor');\n",
        "insert into EMPREGADO (nome, departamento_id, salario, data_admissao, gerente_id, cargo) values ('Kinnie', 6, 5993.98, '2018-08-18', 7, 'Nurse');\n",
        "insert into EMPREGADO (nome, departamento_id, salario, data_admissao, gerente_id, cargo) values ('Kore', 7, 10103.95, '2019-06-24', 1, 'Internal Auditor');\n",
        "insert into EMPREGADO (nome, departamento_id, salario, data_admissao, gerente_id, cargo) values ('Maison', 8, 4849.49, '2021-08-23', 1, 'Research Associate');\n",
        "insert into EMPREGADO (nome, departamento_id, salario, data_admissao, gerente_id, cargo) values ('Omero', 1, 4713.0, '2019-11-19', 5, 'Research Nurse');\n",
        "insert into EMPREGADO (nome, departamento_id, salario, data_admissao, gerente_id, cargo) values ('Melosa', 10, 10344.67, '2018-08-27', 2, 'Administrative Assistant IV');\n",
        "insert into EMPREGADO (nome, departamento_id, salario, data_admissao, gerente_id, cargo) values ('Pauli', 8, 11620.18, '2017-07-23', 2, 'Tax Accountant');\n",
        "insert into EMPREGADO (nome, departamento_id, salario, data_admissao, gerente_id, cargo) values ('Nealson', 5, 8574.49, '2017-08-24', 4, 'Statistician IV');\n",
        "insert into EMPREGADO (nome, departamento_id, salario, data_admissao, gerente_id, cargo) values ('Jewel', 6, 9469.34, '2018-05-18', 6, 'Physical Therapy Assistant');\n",
        "insert into EMPREGADO (nome, departamento_id, salario, data_admissao, gerente_id, cargo) values ('Inness', 2, 11977.76, '2019-03-21', 1, 'Environmental Specialist');\n",
        "insert into EMPREGADO (nome, departamento_id, salario, data_admissao, gerente_id, cargo) values ('Faustine', 3, 7664.51, '2022-03-01', 7, 'Sales Representative');\n",
        "insert into EMPREGADO (nome, departamento_id, salario, data_admissao, gerente_id, cargo) values ('Lemar', 2, 14845.19, '2023-07-30', 1, 'Registered Nurse');\n",
        "insert into EMPREGADO (nome, departamento_id, salario, data_admissao, gerente_id, cargo) values ('Dorry', 6, 4380.37, '2020-07-10', 3, 'Social Worker');\n",
        "insert into EMPREGADO (nome, departamento_id, salario, data_admissao, gerente_id, cargo) values ('Burr', 8, 12560.99, '2021-10-27', 3, 'Account Coordinator');\n",
        "insert into EMPREGADO (nome, departamento_id, salario, data_admissao, gerente_id, cargo) values ('Nessa', 8, 6433.77, '2024-03-29', 5, 'Programmer III');\n",
        "insert into EMPREGADO (nome, departamento_id, salario, data_admissao, gerente_id, cargo) values ('Doralin', 2, 11913.62, '2022-04-15', 6, 'Occupational Therapist');\n",
        "insert into EMPREGADO (nome, departamento_id, salario, data_admissao, gerente_id, cargo) values ('Jasen', 8, 14378.11, '2021-02-09', 6, 'Systems Administrator I');\n",
        "insert into EMPREGADO (nome, departamento_id, salario, data_admissao, gerente_id, cargo) values ('Archie', 5, 11459.17, '2020-05-02', 2, 'General Manager');\n",
        "insert into EMPREGADO (nome, departamento_id, salario, data_admissao, gerente_id, cargo) values ('Jasper', 9, 7784.69, '2021-05-02', 3, 'Community Outreach Specialist');\n",
        "insert into EMPREGADO (nome, departamento_id, salario, data_admissao, gerente_id, cargo) values ('Tiphani', 3, 10304.48, '2024-03-03', 6, 'Physical Therapy Assistant');\n",
        "insert into EMPREGADO (nome, departamento_id, salario, data_admissao, gerente_id, cargo) values ('Leigh', 4, 10545.75, '2022-02-20', 3, 'Assistant Professor');\n",
        "insert into EMPREGADO (nome, departamento_id, salario, data_admissao, gerente_id, cargo) values ('Alia', 10, 11516.81, '2019-01-17', 2, 'VP Sales');\n",
        "insert into EMPREGADO (nome, departamento_id, salario, data_admissao, gerente_id, cargo) values ('Shadow', 4, 7958.02, '2020-01-13', 2, 'Geological Engineer');\n",
        "insert into EMPREGADO (nome, departamento_id, salario, data_admissao, gerente_id, cargo) values ('Goldarina', 5, 8107.58, '2019-06-15', 4, 'Clinical Specialist');\n",
        "insert into EMPREGADO (nome, departamento_id, salario, data_admissao, gerente_id, cargo) values ('Leandra', 4, 3975.82, '2019-01-13', 1, 'Senior Sales Associate');\n",
        "insert into EMPREGADO (nome, departamento_id, salario, data_admissao, gerente_id, cargo) values ('Clareta', 9, 12822.28, '2021-07-21', 3, 'Programmer II');\n",
        "insert into EMPREGADO (nome, departamento_id, salario, data_admissao, gerente_id, cargo) values ('Eunice', 1, 3691.16, '2021-06-04', 3, 'Assistant Manager');\n",
        "insert into EMPREGADO (nome, departamento_id, salario, data_admissao, gerente_id, cargo) values ('Claudelle', 4, 6654.98, '2020-02-08', 5, 'Software Engineer I');\n",
        "insert into EMPREGADO (nome, departamento_id, salario, data_admissao, gerente_id, cargo) values ('Morgan', 9, 9431.03, '2023-05-08', 1, 'Account Coordinator');\n",
        "insert into EMPREGADO (nome, departamento_id, salario, data_admissao, gerente_id, cargo) values ('Bobbie', 8, 12644.84, '2021-01-28', 5, 'Operator');\n",
        "insert into EMPREGADO (nome, departamento_id, salario, data_admissao, gerente_id, cargo) values ('Dayle', 4, 12161.36, '2024-02-10', 5, 'VP Marketing');\n",
        "insert into EMPREGADO (nome, departamento_id, salario, data_admissao, gerente_id, cargo) values ('Ulysses', 6, 2944.96, '2019-05-24', 6, 'Structural Engineer');\n",
        "insert into EMPREGADO (nome, departamento_id, salario, data_admissao, gerente_id, cargo) values ('Flossie', 1, 14476.95, '2018-09-14', 1, 'Statistician I');\n",
        "insert into EMPREGADO (nome, departamento_id, salario, data_admissao, gerente_id, cargo) values ('Madella', 10, 8190.64, '2022-02-10', 3, 'Systems Administrator III');\n",
        "insert into EMPREGADO (nome, departamento_id, salario, data_admissao, gerente_id, cargo) values ('Tamar', 10, 9429.29, '2017-06-24', 2, 'Mechanical Systems Engineer');\n",
        "insert into EMPREGADO (nome, departamento_id, salario, data_admissao, gerente_id, cargo) values ('Chevy', 5, 3301.94, '2023-07-02', 6, 'Operator');\n",
        "insert into EMPREGADO (nome, departamento_id, salario, data_admissao, gerente_id, cargo) values ('Agustin', 7, 6968.97, '2017-06-09', 1, 'GIS Technical Architect');\n",
        "insert into EMPREGADO (nome, departamento_id, salario, data_admissao, gerente_id, cargo) values ('Georgina', 3, 14721.32, '2021-04-13', 5, 'Media Manager II');\n",
        "insert into EMPREGADO (nome, departamento_id, salario, data_admissao, gerente_id, cargo) values ('Maxie', 3, 10211.78, '2020-11-03', 1, 'Librarian');\n",
        "insert into EMPREGADO (nome, departamento_id, salario, data_admissao, gerente_id, cargo) values ('Crichton', 7, 14276.07, '2023-12-28', 4, 'Actuary');\n",
        "insert into EMPREGADO (nome, departamento_id, salario, data_admissao, gerente_id, cargo) values ('Dolly', 9, 3449.8, '2023-04-12', 3, 'Social Worker');\n",
        "insert into EMPREGADO (nome, departamento_id, salario, data_admissao, gerente_id, cargo) values ('Jehu', 1, 10132.49, '2022-12-26', 4, 'Executive Secretary');\n",
        "insert into EMPREGADO (nome, departamento_id, salario, data_admissao, gerente_id, cargo) values ('Saidee', 4, 13146.04, '2018-08-17', 6, 'Database Administrator I');\n",
        "insert into EMPREGADO (nome, departamento_id, salario, data_admissao, gerente_id, cargo) values ('Darya', 9, 7733.78, '2022-12-19', 2, 'Actuary');\n",
        "insert into EMPREGADO (nome, departamento_id, salario, data_admissao, gerente_id, cargo) values ('Marlene', 3, 4938.26, '2024-06-02', 4, 'Director of Sales');\n",
        "insert into EMPREGADO (nome, departamento_id, salario, data_admissao, gerente_id, cargo) values ('Julita', 10, 4908.2, '2021-06-25', 6, 'Account Coordinator');\n",
        "insert into EMPREGADO (nome, departamento_id, salario, data_admissao, gerente_id, cargo) values ('Glenna', 8, 13936.76, '2024-04-23', 3, 'Senior Sales Associate');\n",
        "insert into EMPREGADO (nome, departamento_id, salario, data_admissao, gerente_id, cargo) values ('Leif', 1, 7874.66, '2018-09-29', 4, 'Financial Analyst');\n",
        "insert into EMPREGADO (nome, departamento_id, salario, data_admissao, gerente_id, cargo) values ('Timmi', 2, 11850.59, '2021-04-01', 1, 'Senior Quality Engineer');\n",
        "insert into EMPREGADO (nome, departamento_id, salario, data_admissao, gerente_id, cargo) values ('Frants', 9, 3159.16, '2020-01-16', 7, 'Media Manager IV');\n",
        "insert into EMPREGADO (nome, departamento_id, salario, data_admissao, gerente_id, cargo) values ('Carver', 8, 14642.86, '2021-01-03', 1, 'Media Manager II');\n",
        "insert into EMPREGADO (nome, departamento_id, salario, data_admissao, gerente_id, cargo) values ('Samaria', 4, 2809.86, '2018-11-08', 6, 'Engineer II');\n",
        "insert into EMPREGADO (nome, departamento_id, salario, data_admissao, gerente_id, cargo) values ('Cammie', 10, 14445.09, '2024-06-08', 7, 'Assistant Professor');\n",
        "insert into EMPREGADO (nome, departamento_id, salario, data_admissao, gerente_id, cargo) values ('Lanae', 8, 8419.24, '2020-03-31', 3, 'Statistician IV');\n",
        "insert into EMPREGADO (nome, departamento_id, salario, data_admissao, gerente_id, cargo) values ('Dolf', 5, 13786.15, '2022-07-15', 3, 'Environmental Specialist');\n",
        "insert into EMPREGADO (nome, departamento_id, salario, data_admissao, gerente_id, cargo) values ('Elizabet', 4, 5034.01, '2024-05-25', 4, 'Geologist III');\n",
        "insert into EMPREGADO (nome, departamento_id, salario, data_admissao, gerente_id, cargo) values ('Karel', 10, 10082.42, '2018-12-14', 3, 'Nurse');\n",
        "insert into EMPREGADO (nome, departamento_id, salario, data_admissao, gerente_id, cargo) values ('Hillier', 10, 4841.27, '2018-08-20', 3, 'Quality Engineer');\n",
        "insert into EMPREGADO (nome, departamento_id, salario, data_admissao, gerente_id, cargo) values ('Wright', 1, 7967.74, '2020-04-23', 2, 'Professor');\n",
        "insert into EMPREGADO (nome, departamento_id, salario, data_admissao, gerente_id, cargo) values ('Karyl', 9, 4086.92, '2021-02-28', 5, 'Environmental Specialist');\n",
        "insert into EMPREGADO (nome, departamento_id, salario, data_admissao, gerente_id, cargo) values ('Dunn', 6, 11492.17, '2020-05-09', 6, 'Financial Advisor');\n",
        "insert into EMPREGADO (nome, departamento_id, salario, data_admissao, gerente_id, cargo) values ('Gilli', 6, 11927.99, '2022-07-23', 7, 'Financial Analyst');\n",
        "insert into EMPREGADO (nome, departamento_id, salario, data_admissao, gerente_id, cargo) values ('Yehudi', 3, 10455.86, '2021-04-25', 7, 'Developer III');\n",
        "insert into EMPREGADO (nome, departamento_id, salario, data_admissao, gerente_id, cargo) values ('Reinold', 9, 7417.69, '2017-07-16', 5, 'Human Resources Assistant III');\n",
        "insert into EMPREGADO (nome, departamento_id, salario, data_admissao, gerente_id, cargo) values ('Helene', 4, 5339.47, '2023-05-12', 7, 'Human Resources Manager');\n",
        "insert into EMPREGADO (nome, departamento_id, salario, data_admissao, gerente_id, cargo) values ('Eudora', 8, 7887.75, '2023-12-15', 7, 'Financial Advisor');\n",
        "insert into EMPREGADO (nome, departamento_id, salario, data_admissao, gerente_id, cargo) values ('Sherline', 10, 8898.78, '2024-02-17', 5, 'Biostatistician IV');\n",
        "insert into EMPREGADO (nome, departamento_id, salario, data_admissao, gerente_id, cargo) values ('Theo', 9, 12907.75, '2024-01-04', 5, 'Administrative Assistant I');\n",
        "insert into EMPREGADO (nome, departamento_id, salario, data_admissao, gerente_id, cargo) values ('Lorie', 9, 2750.0, '2022-05-27', 2, 'Executive Secretary');\n",
        "insert into EMPREGADO (nome, departamento_id, salario, data_admissao, gerente_id, cargo) values ('Richardo', 1, 10331.25, '2022-11-20', 1, 'Marketing Manager');\n",
        "insert into EMPREGADO (nome, departamento_id, salario, data_admissao, gerente_id, cargo) values ('Gerrard', 2, 4211.68, '2023-01-18', 1, 'Analog Circuit Design manager');\n",
        "insert into EMPREGADO (nome, departamento_id, salario, data_admissao, gerente_id, cargo) values ('Edith', 1, 6915.01, '2021-02-01', 5, 'Research Associate');\n",
        "insert into EMPREGADO (nome, departamento_id, salario, data_admissao, gerente_id, cargo) values ('Lionello', 3, 5470.71, '2017-06-18', 7, 'Software Consultant');\n",
        "insert into EMPREGADO (nome, departamento_id, salario, data_admissao, gerente_id, cargo) values ('Bess', 8, 4090.02, '2021-08-15', 7, 'Electrical Engineer');\n",
        "insert into EMPREGADO (nome, departamento_id, salario, data_admissao, gerente_id, cargo) values ('Rakel', 3, 9258.67, '2022-08-24', 5, 'Database Administrator I');\n",
        "insert into EMPREGADO (nome, departamento_id, salario, data_admissao, gerente_id, cargo) values ('Clarance', 2, 4723.58, '2020-04-08', 1, 'Automation Specialist III');\n",
        "insert into EMPREGADO (nome, departamento_id, salario, data_admissao, gerente_id, cargo) values ('Davina', 5, 13034.06, '2018-11-20', 1, 'Marketing Assistant');\n",
        "insert into EMPREGADO (nome, departamento_id, salario, data_admissao, gerente_id, cargo) values ('Sonnnie', 9, 8866.89, '2019-08-04', 2, 'Professor');\n",
        "insert into EMPREGADO (nome, departamento_id, salario, data_admissao, gerente_id, cargo) values ('Floria', 4, 10136.08, '2020-12-09', 7, 'Safety Technician II');\n",
        "insert into EMPREGADO (nome, departamento_id, salario, data_admissao, gerente_id, cargo) values ('Stephani', 2, 5469.27, '2022-01-04', 4, 'Pharmacist');\n",
        "insert into EMPREGADO (nome, departamento_id, salario, data_admissao, gerente_id, cargo) values ('Georgianna', 4, 6296.13, '2022-06-23', 5, 'Cost Accountant');\n",
        "\n"
      ]
    },
    {
      "cell_type": "markdown",
      "source": [
        "**Desafio 1: Listar Empregados de um Departamento Específico**\n",
        "1. Liste todos os empregados que pertencem ao departamento cujo nome é\n",
        "'Marketing'.\n",
        "2. Crie uma view chamada View_Marketing_Empregados que contenha\n",
        "todos os empregados do departamento 'Marketing'.\n"
      ],
      "metadata": {
        "id": "Cux855niMi0h"
      }
    },
    {
      "cell_type": "code",
      "source": [
        "SELECT * FROM EMPREGADO as e\n",
        "INNER JOIN DEPARTAMENTO as d\n",
        "\tON d.DEPARTAMENTO_ID  = e.DEPARTAMENTO_ID\n",
        "WHERE d.nome = 'Marketing'\n",
        "ORDER BY e.EMPREGADO_ID;\n",
        "\n",
        "#SEGUNDA OPÇÃO\n",
        "SELECT * FROM EMPREGADO WHERE DEPARTAMENTO_ID IN(SELECT DEPARTAMENTO_ID FROM DEPARTAMENTO WHERE NOME = 'Marketing')\n",
        "\n",
        "# CREATE VIEW - TABELA TEMPORÁRIA\n",
        "CREATE VIEW View_Empregados_Marketing AS\n",
        "SELECT *\n",
        "FROM EMPREGADO\n",
        "WHERE DEPARTAMENTO_ID IN (\n",
        "    SELECT DEPARTAMENTO_ID\n",
        "    FROM DEPARTAMENTO\n",
        "    WHERE NOME = 'Marketing'\n",
        ");"
      ],
      "metadata": {
        "id": "mktcv8amlagF"
      },
      "execution_count": null,
      "outputs": []
    },
    {
      "cell_type": "markdown",
      "source": [
        "**Desafio 2: Média de Salário por Departamento**\n",
        "3. Liste o nome do departamento e a média dos salários de seus\n",
        "empregados.\n",
        "4. Crie uma view chamada View_Media_Salarios que mostre o nome do\n",
        "departamento e a média dos salários dos empregados"
      ],
      "metadata": {
        "id": "J_FiCJiqM5Kx"
      }
    },
    {
      "cell_type": "code",
      "source": [
        "SELECT e.DEPARTAMENTO_ID, d.NOME, AVG(e.SALARIO) AS Media_salarial\n",
        "FROM EMPREGADO  e\n",
        "INNER JOIN DEPARTAMENTO  d\n",
        "ON d.DEPARTAMENTO_ID = e.DEPARTAMENTO_ID\n",
        "GROUP BY e.DEPARTAMENTO_ID, d.NOME\n",
        "ORDER BY e.DEPARTAMENTO_ID;\n",
        "\n",
        "# CREATE VIEW - TABELA TEMPORÁRIA\n",
        "\n",
        "SELECT e.DEPARTAMENTO_ID, d.NOME, AVG(e.SALARIO) AS Media_salarial\n",
        "FROM EMPREGADO  e\n",
        "INNER JOIN DEPARTAMENTO  d\n",
        "ON d.DEPARTAMENTO_ID = e.DEPARTAMENTO_ID\n",
        "GROUP BY e.DEPARTAMENTO_ID, d.NOME\n",
        "ORDER BY e.DEPARTAMENTO_ID;"
      ],
      "metadata": {
        "id": "ZO9wu5t9n6_O"
      },
      "execution_count": null,
      "outputs": []
    },
    {
      "cell_type": "markdown",
      "source": [
        "**Desafio 3: Empregados com Salário Acima da Média**\n",
        "5. Liste todos os empregados que têm um salário acima da média dos\n",
        "salários do seu departamento.\n",
        "6. Crie uma view chamada View_Empregados_Acima_Media que contenha\n",
        "os empregados que têm um salário acima da média do seu departamento."
      ],
      "metadata": {
        "id": "hawufuWLM_F3"
      }
    },
    {
      "cell_type": "code",
      "source": [
        "SELECT nome, salario, departamento_id FROM EMPREGADO e\n",
        "  WHERE salario > (SELECT AVG(salario) FROM EMPREGADO WHERE departamento_id = e.departamento_id);\n",
        "\n",
        "# CREATE VIEW - TABELA TEMPORÁRIA\n",
        "\n",
        "CREATE VIEW View_Empregados_Acima_Media AS\n",
        "SELECT nome, salario, departamento_id FROM EMPREGADO e\n",
        "  WHERE salario > (SELECT AVG(salario) FROM EMPREGADO WHERE departamento_id = e.departamento_id);"
      ],
      "metadata": {
        "id": "cWXWea5oq3a7"
      },
      "execution_count": null,
      "outputs": []
    },
    {
      "cell_type": "markdown",
      "source": [
        "**Desafio 4: Departamentos com Mais de X Empregados**\n",
        "7. Liste todos os departamentos que têm mais de 5 empregados.\n",
        "8. Crie uma view chamada\n",
        "View_Departamentos_Com_Muitos_Empregados que contenha os\n",
        "departamentos com mais de 5 empregados"
      ],
      "metadata": {
        "id": "8Kc7wybdNFL3"
      }
    },
    {
      "cell_type": "code",
      "source": [
        "SELECT * FROM DEPARTAMENTO d WHERE EXISTS (\n",
        "  SELECT 1 FROM EMPREGADO e\n",
        "WHERE e.departamento_id = d.departamento_id\n",
        "  GROUP BY e.departamento_id\n",
        "  HAVING COUNT(*) > 5\n",
        ");\n",
        "\n",
        "# CREATE VIEW - TABELA TEMPORÁRIA\n",
        "\n",
        "CREATE VIEW View_Departamentos_Com_Muitos_Empregados AS\n",
        "SELECT * FROM DEPARTAMENTO d WHERE EXISTS (\n",
        "  SELECT 1 FROM EMPREGADO e\n",
        "WHERE e.departamento_id = d.departamento_id\n",
        "  GROUP BY e.departamento_id\n",
        "  HAVING COUNT(*) > 5\n",
        ");"
      ],
      "metadata": {
        "id": "QAEMRwilrflu"
      },
      "execution_count": null,
      "outputs": []
    },
    {
      "cell_type": "markdown",
      "source": [
        "**Desafio 5: Empregados e Seus Gerentes**\n",
        "9. Liste todos os empregados juntamente com o nome de seus gerentes.\n",
        "10.Crie uma view chamada View_Empregados_Gerentes que mostre todos\n",
        "os empregados e o nome de seus gerentes."
      ],
      "metadata": {
        "id": "RAJ-VipyNLqg"
      }
    },
    {
      "cell_type": "code",
      "source": [
        "SELECT e.EMPREGADO_ID,\n",
        "    e.NOME AS EMPREGADO_NOME,\n",
        "    e.CARGO,\n",
        "    e.SALARIO,\n",
        "    e.DEPARTAMENTO_ID,\n",
        "    e.GERENTE_ID AS EMPREGADO_GERENTE_ID,\n",
        "    g.GERENTE_ID AS GERENTE_ID,\n",
        "    g.NOME AS GERENTE_NOME FROM EMPREGADO e\n",
        "INNER JOIN GERENTE g\n",
        "ON e.GERENTE_id = g.GERENTE_id\n",
        "ORDER BY e.GERENTE_id;\n",
        "\n",
        "# CREATE VIEW - TABELA TEMPORÁRIA\n",
        "\n",
        "CREATE VIEW View_Empregados_Gerentes AS\n",
        "SELECT e.EMPREGADO_ID,\n",
        "    e.NOME AS EMPREGADO_NOME,\n",
        "    e.CARGO,\n",
        "    e.SALARIO,\n",
        "    e.DEPARTAMENTO_ID,\n",
        "    e.GERENTE_ID AS EMPREGADO_GERENTE_ID,\n",
        "    g.GERENTE_ID AS GERENTE_ID,\n",
        "    g.NOME AS GERENTE_NOME FROM EMPREGADO e\n",
        "INNER JOIN GERENTE g\n",
        "ON e.GERENTE_id = g.GERENTE_id\n",
        "ORDER BY e.GERENTE_id;"
      ],
      "metadata": {
        "id": "TZuCKP0trz81"
      },
      "execution_count": null,
      "outputs": []
    },
    {
      "cell_type": "markdown",
      "source": [
        "**Desafio 6: Departamentos Sem Empregados**\n",
        "11.Liste todos os departamentos que não têm empregados.\n",
        "12.Crie uma view chamada View_Departamentos_Sem_Empregados que\n",
        "contenha os departamentos que não têm empregados.\n"
      ],
      "metadata": {
        "id": "F-1NkTl6NRNo"
      }
    },
    {
      "cell_type": "code",
      "source": [
        "SELECT * FROM DEPARTAMENTO d WHERE NOT EXISTS (\n",
        "  SELECT 1 FROM EMPREGADO e\n",
        "WHERE e.departamento_id = d.departamento_id\n",
        "  GROUP BY e.departamento_id\n",
        ");\n",
        "\n",
        "# CREATE VIEW - TABELA TEMPORÁRIA\n",
        "\n",
        "CREATE VIEW View_Departamentos_Sem_Empregados AS\n",
        "SELECT * FROM DEPARTAMENTO d WHERE NOT EXISTS (\n",
        "  SELECT 1 FROM EMPREGADO e\n",
        "WHERE e.departamento_id = d.departamento_id\n",
        "  GROUP BY e.departamento_id\n",
        ");"
      ],
      "metadata": {
        "id": "C_wALMWbtVN3"
      },
      "execution_count": null,
      "outputs": []
    },
    {
      "cell_type": "markdown",
      "source": [
        "**Desafio 7: Salários Acima de um Valor Específico**\n",
        "13.Liste todos os empregados que têm um salário acima de R$ 5000.\n",
        "14.Crie uma view chamada View_Salarios_Acima_5000 que contenha os\n",
        "empregados com salário acima de R$ 5000"
      ],
      "metadata": {
        "id": "QJPx5qM0NZN4"
      }
    },
    {
      "cell_type": "code",
      "source": [
        "SELECT * FROM EMPREGADO WHERE salario > 5000;\n",
        "\n",
        "# CREATE VIEW - TABELA TEMPORÁRIA\n",
        "\n",
        "CREATE VIEW View_Salarios_Acima_5000 AS\n",
        "SELECT * FROM EMPREGADO WHERE salario > 5000;"
      ],
      "metadata": {
        "id": "sWFGhKcytn-D"
      },
      "execution_count": null,
      "outputs": []
    },
    {
      "cell_type": "markdown",
      "source": [
        "**Desafio 8: Empregados por Data de Admissão**\n",
        "15.Liste todos os empregados que foram admitidos nos últimos 6 meses.\n",
        "16.Crie uma view chamada View_Admitidos_Recentemente que contenha os\n",
        "empregados admitidos nos últimos 6 meses.\n"
      ],
      "metadata": {
        "id": "Z8Uz37IiNfKo"
      }
    },
    {
      "cell_type": "code",
      "source": [
        "SELECT * FROM EMPREGADO WHERE  data_admissao >= CURDATE() - INTERVAL 6 MONTH;\n",
        "\n",
        "# CREATE VIEW - TABELA TEMPORÁRIA\n",
        "\n",
        "CREATE VIEW View_Admitidos_Recentemente AS\n",
        "SELECT * FROM EMPREGADO WHERE  data_admissao >= CURDATE() - INTERVAL 6 MONTH;"
      ],
      "metadata": {
        "id": "Hzh7cZTTt1fG"
      },
      "execution_count": null,
      "outputs": []
    },
    {
      "cell_type": "markdown",
      "source": [
        "**Desafio 9: Agrupar Empregados por Cargo**\n",
        "17.Liste o número de empregados em cada cargo.\n",
        "18.Crie uma view chamada View_Empregados_Por_Cargo que mostre o\n",
        "número de empregados em cada cargo."
      ],
      "metadata": {
        "id": "qU5AMT3uNmOx"
      }
    },
    {
      "cell_type": "code",
      "source": [
        "SELECT CARGO, COUNT(*) AS NUM_EMPREGADOS FROM EMPREGADO GROUP BY CARGO;\n",
        "\n",
        "# CREATE VIEW - TABELA TEMPORÁRIA\n",
        "\n",
        "CREATE VIEW View_Empregados_Por_Cargo  AS\n",
        "SELECT CARGO, COUNT(*) AS NUM_EMPREGADOS FROM EMPREGADO GROUP BY CARGO;"
      ],
      "metadata": {
        "id": "DyTRWZgvuWlr"
      },
      "execution_count": null,
      "outputs": []
    },
    {
      "cell_type": "markdown",
      "source": [
        "**Desafio 10: Empregados de um Departamento com Condição de Salário**\n",
        "19.Liste todos os empregados do departamento 'Finance' que têm um salário\n",
        "acima da média dos salários dos empregados desse departamento.\n",
        "20.Crie uma view chamada View_Finance_Salarios_Acima_Media que\n",
        "contenha os empregados do departamento 'Finance' com salário acima\n",
        "da média.\n"
      ],
      "metadata": {
        "id": "4naCUUFmNqjI"
      }
    },
    {
      "cell_type": "code",
      "source": [
        "SELECT * FROM EMPREGADO WHERE salario > (SELECT AVG(salario) FROM EMPREGADO WHERE departamento_id IN (SELECT departamento_id FROM DEPARTAMENTO\n",
        "\tWHERE nome = 'Finance'));\n",
        "\n",
        "# CREATE VIEW - TABELA TEMPORÁRIA\n",
        "\n",
        "CREATE VIEW View_Finance_Salarios_Acima_Media AS\n",
        "SELECT * FROM EMPREGADO WHERE salario > (SELECT AVG(salario) FROM EMPREGADO WHERE departamento_id IN (SELECT departamento_id FROM DEPARTAMENTO\n",
        "\tWHERE nome = 'Finance'));"
      ],
      "metadata": {
        "id": "SEgno6SgusDb"
      },
      "execution_count": null,
      "outputs": []
    }
  ]
}