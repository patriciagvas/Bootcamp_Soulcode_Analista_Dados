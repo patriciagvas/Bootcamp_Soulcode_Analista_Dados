{
  "nbformat": 4,
  "nbformat_minor": 0,
  "metadata": {
    "colab": {
      "provenance": []
    },
    "kernelspec": {
      "name": "python3",
      "display_name": "Python 3"
    },
    "language_info": {
      "name": "python"
    }
  },
  "cells": [
    {
      "cell_type": "markdown",
      "source": [
        "# 1 - Variáveis e Tipos de Dados"
      ],
      "metadata": {
        "id": "uxGISqtR2yNT"
      }
    },
    {
      "cell_type": "code",
      "execution_count": null,
      "metadata": {
        "id": "tLS0FEGj2rS7",
        "colab": {
          "base_uri": "https://localhost:8080/"
        },
        "collapsed": true,
        "outputId": "949b2c2d-7358-412c-891f-7b61af5482ab"
      },
      "outputs": [
        {
          "output_type": "stream",
          "name": "stdout",
          "text": [
            "<class 'str'>\n",
            "<class 'int'>\n",
            "<class 'int'>\n",
            "<class 'float'>\n",
            "Patrícia, você tem 26 anos, pesa 49kg e tem 1.72m\n"
          ]
        }
      ],
      "source": [
        "'''\n",
        "1.1. Crie variáveis para armazenar o nome, idade, peso e altura de uma pessoa.\n",
        "Imprima os valores e os tipos de dados dessas variáveis.\n",
        "'''\n",
        "\n",
        "nome = \"Patrícia\"\n",
        "idade = 26\n",
        "peso = 49\n",
        "altura = 1.72\n",
        "\n",
        "print(type(nome))\n",
        "print(type(idade))\n",
        "print(type(peso))\n",
        "print(type(altura))\n",
        "\n",
        "print(f\"{nome}, você tem {idade} anos, pesa {peso}kg e tem {altura}m\")\n"
      ]
    },
    {
      "cell_type": "code",
      "source": [
        "'''\n",
        "1.2. Atualize a variável de peso para um valor diferente e imprima o novo valor.\n",
        "'''\n",
        "nome = \"Patrícia\"\n",
        "idade = 26\n",
        "peso = 65\n",
        "altura = 1.72\n",
        "\n",
        "print(peso)"
      ],
      "metadata": {
        "id": "VFVgrodF27TT",
        "colab": {
          "base_uri": "https://localhost:8080/"
        },
        "outputId": "cb8bbce4-2b46-4bfb-b2a8-439e04910977"
      },
      "execution_count": null,
      "outputs": [
        {
          "output_type": "stream",
          "name": "stdout",
          "text": [
            "65\n"
          ]
        }
      ]
    },
    {
      "cell_type": "markdown",
      "source": [
        "# 2 - Operadores Matemáticos"
      ],
      "metadata": {
        "id": "RRRbkSkr3Ajw"
      }
    },
    {
      "cell_type": "code",
      "source": [
        "'''\n",
        "2.1. Crie uma variável a com valor 10 e uma variável b com valor 3. Realize as\n",
        "seguintes operações e imprima os resultados:\n",
        "Soma\n",
        "Subtração\n",
        "Multiplicação\n",
        "Divisão\n",
        "Parte inteira da divisão\n",
        "Resto da divisão\n",
        "Exponenciação\n",
        "'''\n",
        "\n",
        "a = 10\n",
        "b = 3\n",
        "\n",
        "soma = a + b\n",
        "print(soma)\n",
        "sub = a - b\n",
        "print(sub)\n",
        "mult = a * b\n",
        "print(mult)\n",
        "div = a / b\n",
        "print(round(div, 3))\n",
        "int_div = a // b\n",
        "print(int_div)\n",
        "resto = a % b\n",
        "print(resto)\n",
        "exp = a ** b\n",
        "print(exp)\n"
      ],
      "metadata": {
        "id": "hHAztIDU3AJP",
        "colab": {
          "base_uri": "https://localhost:8080/"
        },
        "outputId": "67b88eae-610b-4215-ee9f-59734421320d"
      },
      "execution_count": null,
      "outputs": [
        {
          "output_type": "stream",
          "name": "stdout",
          "text": [
            "13\n",
            "7\n",
            "30\n",
            "3.333\n",
            "3\n",
            "1\n",
            "1000\n"
          ]
        }
      ]
    },
    {
      "cell_type": "markdown",
      "source": [
        "# 3 - Entrada de Dados pelo Usuário\n"
      ],
      "metadata": {
        "id": "jWJt5Ep23OFd"
      }
    },
    {
      "cell_type": "code",
      "source": [
        "'''\n",
        "3.1. Peça ao usuário para digitar seu nome e armazene em uma variável. Imprima\n",
        "uma mensagem de boas-vindas usando o nome fornecido.\n",
        "'''\n",
        "nome_usuario = input(\"Digite o seu nome: \")\n",
        "print(f\"Olá {nome_usuario}, seja bem-vindo!\")"
      ],
      "metadata": {
        "id": "IiD6jUJh3eiD",
        "colab": {
          "base_uri": "https://localhost:8080/"
        },
        "outputId": "2325fb65-2176-4461-fca0-6624f0dc2f3c"
      },
      "execution_count": null,
      "outputs": [
        {
          "output_type": "stream",
          "name": "stdout",
          "text": [
            "Digite o seu nome: Patrícia\n",
            "Olá Patrícia, seja bem-vindo!\n"
          ]
        }
      ]
    },
    {
      "cell_type": "code",
      "source": [
        "'''\n",
        "3.2. Peça ao usuário para digitar sua idade, peso e altura. Calcule o IMC e\n",
        "imprima o resultado arredondado para três casas decimais.\n",
        "'''\n",
        "\n",
        "nome = input(\"Digite o seu nome: \")\n",
        "idade = input(\"Digite a sua idade: \")\n",
        "peso = int(input(\"Digite o seu peso: \"))\n",
        "altura = float(input(\"Digite a sua altura: \"))\n",
        "\n",
        "IMC = round(((peso)/(altura**2)), 3)\n",
        "\n",
        "print(f\"{nome}, com base na sua altura e peso, o seu IMC é {IMC}\")\n",
        "\n",
        "if (IMC < 18.5):\n",
        "  print(f\"O seu IMC de {IMC} indica que você está na classificação de magreza\")\n",
        "elif (18.5 <= IMC <= 24.9):\n",
        "  print(f\"O seu IMC de {IMC} indica que você está na classificação normal\")\n",
        "elif (25 <= IMC <= 29.9):\n",
        "  print(f\"O seu IMC de {IMC} indica que você está na classificação de sobrepeso\")\n",
        "elif (30 <= IMC <= 34.9):\n",
        "  print(f\"O seu IMC de {IMC} indica que você está na classificação de obesidade grau I\")\n",
        "elif (35 <= IMC <= 39.9):\n",
        "  print(f\"O seu IMC de {IMC} indica que você está na classificação de obesidade grau II\")\n",
        "elif (IMC >= 40):\n",
        "  print(f\"O seu IMC de {IMC} indica que você está na classificação de obesidade grau III\")\n",
        "\n"
      ],
      "metadata": {
        "id": "Y4kz72aR3k8d",
        "colab": {
          "base_uri": "https://localhost:8080/"
        },
        "outputId": "eafb784d-1827-4a19-8d30-0f61f2a31c5b"
      },
      "execution_count": null,
      "outputs": [
        {
          "output_type": "stream",
          "name": "stdout",
          "text": [
            "Digite o seu nome: Patrícia\n",
            "Digite a sua idade: 26\n",
            "Digite o seu peso: 49\n",
            "Digite a sua altura: 1.72\n",
            "Patrícia, com base na sua altura e peso, o seu IMC é 16.563\n",
            "O seu 16.563 indica que você está na classificação de magreza\n"
          ]
        }
      ]
    },
    {
      "cell_type": "markdown",
      "source": [
        "# 4 - Função de Impressão"
      ],
      "metadata": {
        "id": "zqRV3Plv3pjL"
      }
    },
    {
      "cell_type": "code",
      "source": [
        "'''\n",
        "4.1. Peça ao usuário para digitar um número e imprima o número digitado.\n",
        "'''\n",
        "numero = input(\"Digite um número: \")\n",
        "print(numero)"
      ],
      "metadata": {
        "id": "N5AbRV3i3vYV",
        "colab": {
          "base_uri": "https://localhost:8080/"
        },
        "outputId": "3611506f-b4c1-4211-9405-c7f5c645ff87"
      },
      "execution_count": null,
      "outputs": [
        {
          "output_type": "stream",
          "name": "stdout",
          "text": [
            "Digite um número: 25\n",
            "25\n"
          ]
        }
      ]
    },
    {
      "cell_type": "code",
      "source": [
        "'''\n",
        "4.2. Peça ao usuário para digitar dois números e imprima a soma deles.\n",
        "'''\n",
        "num1 = int(input(\"Digite o primeiro número: \"))\n",
        "num2 = int(input(\"Digite o segundo número: \"))\n",
        "\n",
        "soma = num1 + num2\n",
        "print(f\"A soma dos números {num1} e {num2} é igul a {soma}\")"
      ],
      "metadata": {
        "id": "qM2ocOFl3vpB",
        "colab": {
          "base_uri": "https://localhost:8080/"
        },
        "outputId": "f1d0fc98-54d1-4171-c4f6-8657bec4e5a7"
      },
      "execution_count": null,
      "outputs": [
        {
          "output_type": "stream",
          "name": "stdout",
          "text": [
            "Digite o primeiro número: 25\n",
            "Digite o segundo número: 3\n",
            "A soma dos números 25 e 3 é igul a 28\n"
          ]
        }
      ]
    },
    {
      "cell_type": "markdown",
      "source": [
        "# 5 - Métodos de Strings"
      ],
      "metadata": {
        "id": "RWwlLaOu35jq"
      }
    },
    {
      "cell_type": "code",
      "source": [
        "'''\n",
        "5.1. Peça ao usuário para digitar um e-mail e verifique se o e-mail contém o\n",
        "caractere '@'. Imprima uma mensagem indicando se é um e-mail válido ou não.\n",
        "'''\n",
        "email = input(\"Digite o seu e-mail: \")\n",
        "caractere = \"@\"\n",
        "if caractere in email:\n",
        "  print(\"O e-mail fornecido é válido\")\n",
        "else:\n",
        "  print(\"O e-mail fornecido não é válido\")"
      ],
      "metadata": {
        "id": "PnAPaeXY3-dA",
        "colab": {
          "base_uri": "https://localhost:8080/"
        },
        "outputId": "ac4e71d9-bfe8-4bbf-c707-1eab8642a415"
      },
      "execution_count": null,
      "outputs": [
        {
          "output_type": "stream",
          "name": "stdout",
          "text": [
            "Digite o seu e-mail: patrciia@gmail.com\n",
            "O e-mail fornecido é válido\n"
          ]
        }
      ]
    },
    {
      "cell_type": "code",
      "source": [
        "'''\n",
        "5.2. Peça ao usuário para digitar uma frase e:\n",
        "Converta a frase para maiúsculas.\n",
        "Converta a frase para minúsculas.\n",
        "Converta a primeira letra de cada palavra para maiúscula.\n",
        "Verifique se a frase começa com uma determinada palavra (ex.: 'Olá').\n",
        "'''\n",
        "\n",
        "frase = input(\"Digite uma frase: \")\n",
        "print(frase.upper())\n",
        "print(frase.lower())\n",
        "print(frase.capitalize())\n",
        "print(frase.title())\n",
        "print(frase.startswith('o'))\n",
        "print(frase.endswith('g'))"
      ],
      "metadata": {
        "id": "nkwe0I9c3-w-",
        "colab": {
          "base_uri": "https://localhost:8080/"
        },
        "outputId": "ac97c6b2-700a-461c-c7bd-d0c752dbbe15"
      },
      "execution_count": null,
      "outputs": [
        {
          "output_type": "stream",
          "name": "stdout",
          "text": [
            "Digite uma frase: o gato dormiu\n",
            "O GATO DORMIU\n",
            "o gato dormiu\n",
            "O gato dormiu\n",
            "O Gato Dormiu\n",
            "True\n",
            "False\n"
          ]
        }
      ]
    },
    {
      "cell_type": "markdown",
      "source": [
        "# 6 - Listas"
      ],
      "metadata": {
        "id": "HZQlB-8K4snX"
      }
    },
    {
      "cell_type": "code",
      "source": [
        "'''\n",
        "6.1. Crie uma lista com os nomes de cinco amigos. Imprima o nome do terceiro\n",
        "amigo na lista.\n",
        "\n",
        "'''\n",
        "lista_amigos = [\"Paulo\", \"Gabriel\", \"Lara\", \"Fernanda\", \"Vitoria\"]\n",
        "print(lista_amigos[2])\n"
      ],
      "metadata": {
        "id": "3_3JLvXZ4sBG",
        "colab": {
          "base_uri": "https://localhost:8080/"
        },
        "outputId": "367c2e80-1608-4fa5-ae97-ce53e7a7192b"
      },
      "execution_count": null,
      "outputs": [
        {
          "output_type": "stream",
          "name": "stdout",
          "text": [
            "Lara\n"
          ]
        }
      ]
    },
    {
      "cell_type": "code",
      "source": [
        "lista_amigos = []\n",
        "while True:\n",
        "  mensagem = input(\"Deseja adicionar  nomes? S para Sim e N para não: \").lower()\n",
        "  if mensagem == \"s\":\n",
        "    nome = input(\"Digite o nome dos amigos que fazem parte do grupo: \")\n",
        "    lista_amigos.append(nome)\n",
        "  else:\n",
        "    break\n",
        "print(lista_amigos[2])"
      ],
      "metadata": {
        "id": "SwA9W_1U0l5A",
        "colab": {
          "base_uri": "https://localhost:8080/"
        },
        "outputId": "a53078e9-42b6-4a9e-b6e0-7161ffba738f"
      },
      "execution_count": null,
      "outputs": [
        {
          "output_type": "stream",
          "name": "stdout",
          "text": [
            "Deseja adicionar  nomes? S para Sim e N para não: s\n",
            "Digite o nome dos amigos que fazem parte do grupo: Lara\n",
            "Deseja adicionar  nomes? S para Sim e N para não: s\n",
            "Digite o nome dos amigos que fazem parte do grupo: Pedr\n",
            "Deseja adicionar  nomes? S para Sim e N para não: s\n",
            "Digite o nome dos amigos que fazem parte do grupo: Kika\n",
            "Deseja adicionar  nomes? S para Sim e N para não: s\n",
            "Digite o nome dos amigos que fazem parte do grupo: Renata\n",
            "Deseja adicionar  nomes? S para Sim e N para não: n\n",
            "Kika\n"
          ]
        }
      ]
    },
    {
      "cell_type": "code",
      "source": [
        "'''\n",
        "6.2. Adicione um novo nome à lista de amigos e remova o primeiro nome.\n",
        "Imprima a lista atualizada.\n",
        "'''\n",
        "lista_amigos = [\"Paulo\", \"Gabriel\", \"Lara\", \"Fernanda\", \"Vitoria\"]\n",
        "print(lista_amigos)\n",
        "lista_amigos.append(\"Daniela\")\n",
        "print(lista_amigos)\n",
        "lista_amigos.remove(\"Paulo\")\n",
        "print(lista_amigos)"
      ],
      "metadata": {
        "id": "ppcjLqMb4yDu",
        "colab": {
          "base_uri": "https://localhost:8080/"
        },
        "outputId": "bd933a2a-0b85-441d-ede1-7456a960321b"
      },
      "execution_count": null,
      "outputs": [
        {
          "output_type": "stream",
          "name": "stdout",
          "text": [
            "['Paulo', 'Gabriel', 'Lara', 'Fernanda', 'Vitoria']\n",
            "['Paulo', 'Gabriel', 'Lara', 'Fernanda', 'Vitoria', 'Daniela']\n",
            "['Gabriel', 'Lara', 'Fernanda', 'Vitoria', 'Daniela']\n"
          ]
        }
      ]
    },
    {
      "cell_type": "code",
      "source": [
        "'''\n",
        "6.3. Crie uma lista com as idades dos seus amigos e:\n",
        "Imprima a idade do amigo mais velho.\n",
        "Imprima a idade do amigo mais novo.\n",
        "Calcule e imprima a soma das idades.\n",
        "'''\n",
        "lista_idade = [23, 27, 35, 19, 39]\n",
        "lista_idade.sort()\n",
        "print(f\"O seu amigo mais velho tem {max(lista_idade)}\")\n",
        "print(f\"O seu amigo mais novo tem {min(lista_idade)}\")\n"
      ],
      "metadata": {
        "id": "Hoz7RcUW4zc4",
        "colab": {
          "base_uri": "https://localhost:8080/"
        },
        "outputId": "64412584-ac2e-48d2-8284-c0e64cefa0b0"
      },
      "execution_count": null,
      "outputs": [
        {
          "output_type": "stream",
          "name": "stdout",
          "text": [
            "O seu amigo mais velho tem 39\n",
            "O seu amigo mais novo tem 19\n"
          ]
        }
      ]
    },
    {
      "cell_type": "markdown",
      "source": [
        "# 7 - Tuplas"
      ],
      "metadata": {
        "id": "9WTzsCNH4-tT"
      }
    },
    {
      "cell_type": "code",
      "source": [
        "'''\n",
        "7.1 Crie uma tupla com as informações de um cliente (nome, idade, peso, altura).\n",
        "Imprima todas as informações.\n",
        "'''\n",
        "tupla_cliente = (\"Patrícia\", 26, 49, 1.72)\n",
        "print(tupla_cliente)\n",
        "\n",
        "for i in tupla_cliente:\n",
        "  print(i)\n"
      ],
      "metadata": {
        "id": "XpWW7G-p5BOJ",
        "colab": {
          "base_uri": "https://localhost:8080/"
        },
        "outputId": "798f9dec-3971-4b74-8c29-28ee76104a80"
      },
      "execution_count": null,
      "outputs": [
        {
          "output_type": "stream",
          "name": "stdout",
          "text": [
            "('Patrícia', 26, 49, 1.72)\n",
            "Patrícia\n",
            "26\n",
            "49\n",
            "1.72\n"
          ]
        }
      ]
    },
    {
      "cell_type": "code",
      "source": [
        "'''\n",
        "7.2. Crie uma nova tupla concatenando a tupla do exercício anterior com o e-mail\n",
        "do cliente. Imprima a nova tupla.\n",
        "'''\n",
        "tuplacliente = (\"Patrícia\", 26, 49, 1.72)\n",
        "tuplaemailcliente = \"patriciag@gmail.com\"\n",
        "novatupla = tuplacliente + (tuplaemailcliente,)\n",
        "print(novatupla)\n"
      ],
      "metadata": {
        "id": "tIzWFwzc5GQ8",
        "colab": {
          "base_uri": "https://localhost:8080/"
        },
        "outputId": "9044d6c9-2ec9-47d4-9e1b-2bfb26488d2c"
      },
      "execution_count": null,
      "outputs": [
        {
          "output_type": "stream",
          "name": "stdout",
          "text": [
            "('Patrícia', 26, 49, 1.72, 'patriciag@gmail.com')\n"
          ]
        }
      ]
    },
    {
      "cell_type": "markdown",
      "source": [
        "# 8 - Dicionários"
      ],
      "metadata": {
        "id": "-zg06dPu5ZJC"
      }
    },
    {
      "cell_type": "code",
      "source": [
        "'''\n",
        "8.1. Crie um dicionário com informações de um cliente\n",
        "(nome, idade, peso, altura). Imprima o valor associado à chave 'nome'.\n",
        "'''\n",
        "pessoa = {\n",
        "    \"nome\": \"Patrícia\",\n",
        "    \"idade\": 26,\n",
        "    \"peso\" : 49,\n",
        "    \"altura\" : 1.72\n",
        "}\n",
        "\n",
        "print(pessoa[\"nome\"])"
      ],
      "metadata": {
        "id": "E_wd3pdX5clA",
        "colab": {
          "base_uri": "https://localhost:8080/"
        },
        "outputId": "d398df09-6c3f-45cd-825e-8da08bed0c2c"
      },
      "execution_count": null,
      "outputs": [
        {
          "output_type": "stream",
          "name": "stdout",
          "text": [
            "Patrícia\n"
          ]
        }
      ]
    },
    {
      "cell_type": "code",
      "source": [
        "'''\n",
        "8.2. Adicione uma nova chave 'email' ao dicionário do exercício anterior e\n",
        "imprima o dicionário atualizado.\n",
        "'''\n",
        "pessoa = {\n",
        "    \"nome\": \"Patrícia\",\n",
        "    \"idade\": 26,\n",
        "    \"peso\" : 49,\n",
        "    \"altura\" : 1.72\n",
        "}\n",
        "\n",
        "pessoa[\"email\"] = \"patriciag@gmail.com\"\n",
        "print(pessoa)"
      ],
      "metadata": {
        "id": "kM-tUW7o5eK7",
        "colab": {
          "base_uri": "https://localhost:8080/"
        },
        "outputId": "cfe22a2a-05ad-4e3e-ddae-4fb5b1e8d021"
      },
      "execution_count": null,
      "outputs": [
        {
          "output_type": "stream",
          "name": "stdout",
          "text": [
            "{'nome': 'Patrícia', 'idade': 26, 'peso': 49, 'altura': 1.72, 'email': 'patriciag@gmail.com'}\n"
          ]
        }
      ]
    },
    {
      "cell_type": "code",
      "source": [
        "'''\n",
        "8.3. Remova a chave 'peso' do dicionário e verifique se a chave 'endereço' está\n",
        "no dicionário. Imprima os resultados.\n",
        "'''\n",
        "pessoa = {\n",
        "    \"nome\": \"Patrícia\",\n",
        "    \"idade\": 26,\n",
        "    \"peso\" : 49,\n",
        "    \"altura\" : 1.72\n",
        "}\n",
        "\n",
        "pessoa.pop(\"peso\")\n",
        "print(pessoa)\n",
        "\n",
        "if \"endereço\" in pessoa:\n",
        "    print(\"A chave 'endereço' existe no dicionário.\")\n",
        "else:\n",
        "  print(\"A chave 'endereço' NÃO existe no dicionário.\")\n"
      ],
      "metadata": {
        "id": "xFhFuFOV5ffs",
        "colab": {
          "base_uri": "https://localhost:8080/"
        },
        "outputId": "65523332-5976-427e-d531-0f94f4dff570"
      },
      "execution_count": null,
      "outputs": [
        {
          "output_type": "stream",
          "name": "stdout",
          "text": [
            "{'nome': 'Patrícia', 'idade': 26, 'altura': 1.72}\n",
            "A chave 'endereço' NÃO existe no dicionário.\n"
          ]
        }
      ]
    },
    {
      "cell_type": "markdown",
      "source": [
        "# 9 - Controle de Fluxo"
      ],
      "metadata": {
        "id": "zDOsohbe5sjQ"
      }
    },
    {
      "cell_type": "code",
      "source": [
        "# Condicionais\n",
        "'''\n",
        "9.1. Peça ao usuário para digitar sua idade e verifique se ele é menor de idade,\n",
        " adulto ou idoso. Imprima uma mensagem correspondente.\n",
        "'''\n",
        "\n",
        "idade = int(input(\"Digite a sua idade: \"))\n",
        "\n",
        "if (0<= idade < 18):\n",
        "  print(\"Você é menor de idade.\")\n",
        "elif (18<= idade <= 60):\n",
        "  print(\"Você é adulto.\")\n",
        "elif (idade > 60):\n",
        "  print(\"Você é idoso.\")\n",
        "else:\n",
        "  print(\"Digite uma idade válida.\")"
      ],
      "metadata": {
        "id": "efFgv5Xx5wFC",
        "colab": {
          "base_uri": "https://localhost:8080/"
        },
        "outputId": "af2100c8-9d87-430d-a76e-18abb4ecbd8b"
      },
      "execution_count": null,
      "outputs": [
        {
          "output_type": "stream",
          "name": "stdout",
          "text": [
            "Digite a sua idade: -9\n",
            "Digite uma idade válida.\n"
          ]
        }
      ]
    },
    {
      "cell_type": "code",
      "source": [
        "# Condicionais\n",
        "'''\n",
        "9.2. Peça ao usuário para digitar uma nota (0 a 100) e imprima se ele foi\n",
        "aprovado (nota >= 60) ou reprovado.\n",
        "'''\n",
        "nome = input(\"Digite o seu nome: \")\n",
        "nota = int(input(\"Digite uma nota de 0 a 100: \"))\n",
        "\n",
        "if (nota >= 60):\n",
        "  print(f\"{nome}, você foi aprovado.\")\n",
        "else:\n",
        "  print(f\"{nome}, você foi reprovado.\")"
      ],
      "metadata": {
        "id": "pse5b4NO52OP",
        "colab": {
          "base_uri": "https://localhost:8080/"
        },
        "outputId": "2300efed-88c4-4661-8465-5e248381f564"
      },
      "execution_count": null,
      "outputs": [
        {
          "output_type": "stream",
          "name": "stdout",
          "text": [
            "Digite o seu nome: Patrícia \n",
            "Digite uma nota de 0 a 100: 89\n",
            "Patrícia , você foi aprovado.\n"
          ]
        }
      ]
    },
    {
      "cell_type": "code",
      "source": [
        "# Loop For\n",
        "'''\n",
        "9.3. Crie uma lista com os nomes de cinco cidades. Use um loop for para imprimir\n",
        "cada nome de cidade.\n",
        "'''\n",
        "\n",
        "lista_cidades = [\"São Paaulo\", \"Vitória\", \"Ouro Preto\", \"Belém\", \"Curitiba\"]\n",
        "\n",
        "for i in lista_cidades:\n",
        "  print(i)\n",
        "\n"
      ],
      "metadata": {
        "id": "inMnGHFy525K",
        "colab": {
          "base_uri": "https://localhost:8080/"
        },
        "outputId": "b43f59c3-3893-4d5e-adca-1a213109891b"
      },
      "execution_count": null,
      "outputs": [
        {
          "output_type": "stream",
          "name": "stdout",
          "text": [
            "São Paaulo\n",
            "Vitória\n",
            "Ouro Preto\n",
            "Belém\n",
            "Curitiba\n"
          ]
        }
      ]
    },
    {
      "cell_type": "code",
      "source": [
        "# Loop For\n",
        "'''\n",
        "9.4. Crie uma lista com os números de 1 a 10. Use um loop for para imprimir o\n",
        "quadrado de cada número.\n",
        "'''\n",
        "\n",
        "lista_numeros = [1, 2, 3, 4, 5, 6, 7, 8, 9, 10]\n",
        "dobro = []\n",
        "\n",
        "for i in lista_numeros:\n",
        "  dobro_num = i * 2\n",
        "  dobro.append(dobro_num)\n",
        "print(dobro)"
      ],
      "metadata": {
        "id": "GitTfGfM539Y",
        "colab": {
          "base_uri": "https://localhost:8080/"
        },
        "outputId": "8d4b5024-e768-4849-cb4c-4246cfd66c6b"
      },
      "execution_count": null,
      "outputs": [
        {
          "output_type": "stream",
          "name": "stdout",
          "text": [
            "[2, 4, 6, 8, 10, 12, 14, 16, 18, 20]\n"
          ]
        }
      ]
    },
    {
      "cell_type": "markdown",
      "source": [
        "# 10 - Estudo de caso 01"
      ],
      "metadata": {
        "id": "_vJUEjo_6mWX"
      }
    },
    {
      "cell_type": "code",
      "source": [
        "'''\n",
        "Contexto:\n",
        "Uma empresa precisa registrar informações sobre seus clientes e calcular o IMC\n",
        "(Índice de Massa Corporal) de cada um deles. As informações devem ser\n",
        "armazenadas em um dicionário e exibidas ao final.\n",
        "'''\n",
        "#Criar um dicionário vazio para receber as informações, nome, idade, peso e altura, email\n",
        "\n",
        "'''\n",
        "Requisitos:\n",
        "Peça ao usuário para inserir os seguintes dados de um cliente:\n",
        "Nome\n",
        "Idade\n",
        "Peso (em kg)\n",
        "Altura (em metros)\n",
        "E-mail\n",
        "Armazene essas informações em um dicionário.\n",
        "Calcule o IMC do cliente (IMC = Peso / (Altura * Altura)) e adicione esse valor ao dicionário.\n",
        "Exiba todas as informações do cliente, incluindo o IMC arredondado para duas casas decimais.\n",
        "\n",
        "'''\n",
        "\n",
        "cliente = {\n",
        "\n",
        "}\n",
        "\n",
        "\n",
        "cliente[\"nome\"] = input(\"Digite o nome do cliente: \")\n",
        "cliente[\"idade\"] = input(\"Digite a idade do cliente: \")\n",
        "cliente[\"peso\"] = int(input(\"Digite o peso do cliente: \"))\n",
        "cliente[\"altura\"] = float(input(\"Digite a altura do cliente: \"))\n",
        "cliente[\"email\"] = input(\"Digite o email do cliente: \")\n",
        "cliente[\"IMC\"] = round((cliente[\"peso\"]) / ((cliente[\"altura\"] **2)), 2)\n",
        "print(cliente)\n",
        "\n"
      ],
      "metadata": {
        "id": "llIsNhsG6l_z",
        "colab": {
          "base_uri": "https://localhost:8080/"
        },
        "outputId": "e8663f7e-51f3-4382-97f0-42c96218de9c"
      },
      "execution_count": null,
      "outputs": [
        {
          "output_type": "stream",
          "name": "stdout",
          "text": [
            "Digite o nome do cliente: Patrícia\n",
            "Digite a idade do cliente: 26\n",
            "Digite o peso do cliente: 49\n",
            "Digite a altura do cliente: 1.72\n",
            "Digite o email do cliente: patriciag@gmail.com\n",
            "{'nome': 'Patrícia', 'idade': '26', 'peso': 49, 'altura': 1.72, 'email': 'patriciag@gmail.com', 'IMC': 16.56}\n"
          ]
        }
      ]
    },
    {
      "cell_type": "markdown",
      "source": [
        "# 11 - Estudo de Caso 02"
      ],
      "metadata": {
        "id": "_Yi8lRKQ68B3"
      }
    },
    {
      "cell_type": "code",
      "source": [
        "'''\n",
        "Contexto:\n",
        "Uma escola precisa analisar as notas de seus alunos e determinar se cada aluno\n",
        "foi aprovado ou reprovado. As notas serão armazenadas em uma lista e a análise\n",
        "deve ser realizada em um loop.\n",
        "'''\n",
        "\n",
        "'''\n",
        "Requisitos:\n",
        "Peça ao usuário para inserir o nome e a nota de cinco alunos.\n",
        "Armazene os nomes e as notas em listas separadas.\n",
        "Para cada aluno, verifique se a nota é maior ou igual a 60. Se sim, o aluno está\n",
        "aprovado; caso contrário, está reprovado.\n",
        "Exiba uma mensagem para cada aluno informando seu nome, nota e se foi aprovado\n",
        "ou reprovado.\n",
        "'''\n",
        "\n",
        "lista_notas = []\n",
        "lista_nomes = []\n",
        "max = 5\n",
        "cont = 1\n",
        "\n",
        "while cont <= max:\n",
        "  nome = input(\"Digite o nome do aluno: \")\n",
        "  lista_nomes.append(nome)\n",
        "  nota = int((input(\"Digite a nota do aluno: \")))\n",
        "  lista_notas.append(nota)\n",
        "  cont+=1\n",
        "\n",
        "for i, x in zip(lista_nomes, lista_notas): #zip permite interar duas listas ao mesmo tempo\n",
        "  if x >= 60:\n",
        "    print(f\"{i} foi aprovado com nota {x}\")\n",
        "  else:\n",
        "    print(f\"{i} foi reprovado com nota {x}\")\n",
        "\n"
      ],
      "metadata": {
        "id": "mrqCtmjg6_It",
        "colab": {
          "base_uri": "https://localhost:8080/"
        },
        "outputId": "5511fcd4-dc8d-4426-8717-1421737fcc46"
      },
      "execution_count": null,
      "outputs": [
        {
          "output_type": "stream",
          "name": "stdout",
          "text": [
            "Digite o nome do aluno: Patrícia\n",
            "Digite a nota do aluno: 96\n",
            "Digite o nome do aluno: Lucas\n",
            "Digite a nota do aluno: 65\n",
            "Digite o nome do aluno: Pedro\n",
            "Digite a nota do aluno: 35\n",
            "Digite o nome do aluno: Lara\n",
            "Digite a nota do aluno: 56\n",
            "Digite o nome do aluno: Rafael\n",
            "Digite a nota do aluno: 45\n",
            "Patrícia foi aprovado com nota 96\n",
            "Lucas foi aprovado com nota 65\n",
            "Pedro foi reprovado com nota 35\n",
            "Lara foi reprovado com nota 56\n",
            "Rafael foi reprovado com nota 45\n"
          ]
        }
      ]
    },
    {
      "cell_type": "markdown",
      "source": [
        "# 12 - Estudo de caso 03"
      ],
      "metadata": {
        "id": "DoDAFqG37QWG"
      }
    },
    {
      "cell_type": "code",
      "source": [
        "'''\n",
        "Contexto\n",
        "Uma empresa deseja realizar uma pesquisa de opinião com cinco participantes\n",
        "sobre um novo produto. As respostas devem ser armazenadas e analisadas para\n",
        "verificar a satisfação dos clientes.\n",
        "'''\n",
        "\n",
        "'''\n",
        "Requisitos\n",
        "Peça ao usuário para inserir o nome e a opinião (satisfeito/insatisfeito) de\n",
        "cinco participantes.\n",
        "Armazene os nomes e as opiniões em um dicionário. # \"Pedro\": \"satisfeito\"\n",
        "Conte o número de participantes satisfeitos e insatisfeitos.\n",
        "Exiba a lista de participantes satisfeitos e insatisfeitos, bem como o número\n",
        "total de cada categoria.\n",
        "'''\n",
        "participantes = {\n",
        "\n",
        "}\n",
        "\n",
        "max = 5\n",
        "cont = 1\n",
        "satisfeito = []\n",
        "insatisfeito = []\n",
        "cont_sat= 0\n",
        "cont_ins=0\n",
        "\n",
        "while cont <= max:\n",
        "  nome= str(input(\"Digite o nome do participante: \"))\n",
        "  opiniao = str(input(\"Digite a sua opinião sobre o produto avaliado (Insatisfeito ou Satisfeito): \").lower())\n",
        "  participantes[nome] = opiniao\n",
        "  cont+=1\n",
        "\n",
        "#print(participantes)\n",
        "\n",
        "for nome in participantes:\n",
        "  if participantes[nome] == \"satisfeito\":\n",
        "    satisfeito.append(nome)\n",
        "    cont_sat += 1\n",
        "  elif participantes[nome] == \"insatisfeito\":\n",
        "    insatisfeito.append(nome)\n",
        "    cont_ins += 1\n",
        "  else:\n",
        "    print(\"Não foi possível avaliar a opinião do participante. Digite uma resposta válida.\")\n",
        "\n",
        "print(f\"Estes foram os participantes satisfeitos: {satisfeito}. Um total de {cont_sat} participantes.\")\n",
        "print(f\"Estes foram os participantes insatisfeitos: {insatisfeito}. Um total de {cont_ins} participantes.\")\n"
      ],
      "metadata": {
        "id": "34JqxL0B7Tvj",
        "colab": {
          "base_uri": "https://localhost:8080/"
        },
        "outputId": "abc2e436-cf50-48ae-b8c1-eca88722d058"
      },
      "execution_count": null,
      "outputs": [
        {
          "output_type": "stream",
          "name": "stdout",
          "text": [
            "Digite o nome do participante: Lucas\n",
            "Digite a sua opinião sobre o produto avaliado (Insatisfeito ou Satisfeito): satisfeito\n",
            "Digite o nome do participante: Lila\n",
            "Digite a sua opinião sobre o produto avaliado (Insatisfeito ou Satisfeito): satisfeito\n",
            "Digite o nome do participante: Kika\n",
            "Digite a sua opinião sobre o produto avaliado (Insatisfeito ou Satisfeito): satisfeito\n",
            "Digite o nome do participante: Patríica\n",
            "Digite a sua opinião sobre o produto avaliado (Insatisfeito ou Satisfeito): insatisfeito\n",
            "Digite o nome do participante: Pedro\n",
            "Digite a sua opinião sobre o produto avaliado (Insatisfeito ou Satisfeito): satisfeito\n",
            "Estes foram os participantes satisfeitos: ['Lucas', 'Lila', 'Kika', 'Pedro']. Um total de 4 participantes\n",
            "Estes foram os participantes insatisfeitos: ['Patríica']. Um total de 1 participantes\n"
          ]
        }
      ]
    }
  ]
}