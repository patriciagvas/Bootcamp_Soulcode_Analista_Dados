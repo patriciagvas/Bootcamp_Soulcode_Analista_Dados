{
  "nbformat": 4,
  "nbformat_minor": 0,
  "metadata": {
    "colab": {
      "provenance": [],
      "authorship_tag": "ABX9TyPWvoCLPl9domDPKqbRAd+L"
    },
    "kernelspec": {
      "name": "python3",
      "display_name": "Python 3"
    },
    "language_info": {
      "name": "python"
    }
  },
  "cells": [
    {
      "cell_type": "code",
      "source": [
        "# CRIAR BANCO DE DADOS EMPRESA_DB\n",
        "\n",
        "CREATE TABLE IF NOT EXISTS DEPARTAMENTO (\n",
        "    numdepto INT AUTO_INCREMENT PRIMARY KEY,\n",
        "    nome VARCHAR(50) NOT NULL\n",
        ");\n",
        "\n",
        "CREATE TABLE IF NOT EXISTS EMPREGADO (\n",
        "    matricula INT AUTO_INCREMENT PRIMARY KEY,\n",
        "    nome VARCHAR(70) NOT NULL,\n",
        "    salario DECIMAL(10,2),\n",
        "    numdepto INT,\n",
        "    CONSTRAINT EMPREGADO_FK FOREIGN KEY (numdepto) REFERENCES DEPARTAMENTO(numdepto)\n",
        ");\n",
        "\n",
        "CREATE TABLE IF NOT EXISTS PROJETO (\n",
        "    codprojeto INT AUTO_INCREMENT PRIMARY KEY,\n",
        "    nome VARCHAR(100) NOT NULL,\n",
        "    data_inicio DATE,\n",
        "    data_fim DATE\n",
        ");\n",
        "\n",
        "CREATE TABLE IF NOT EXISTS TRABALHA_EM (\n",
        "    matricula INT,\n",
        "    codprojeto INT,\n",
        "    data_inicio DATE,\n",
        "    data_fim DATE,\n",
        "    PRIMARY KEY (matricula, codprojeto),\n",
        "    CONSTRAINT TRABALHA_FK FOREIGN KEY (matricula) REFERENCES EMPREGADO(matricula),\n",
        "    CONSTRAINT TRABALHA_FK1 FOREIGN KEY (codprojeto) REFERENCES PROJETO(codprojeto)\n",
        ");\n",
        "\n",
        "CREATE TABLE IF NOT EXISTS HABILIDADE (\n",
        "    codhabilidade INT AUTO_INCREMENT PRIMARY KEY,\n",
        "    descricao VARCHAR(100) NOT NULL\n",
        ");\n",
        "\n",
        "CREATE TABLE IF NOT EXISTS EMPREGADO_HABILIDADE (\n",
        "    matricula INT,\n",
        "    codhabilidade INT,\n",
        "    PRIMARY KEY (matricula, codhabilidade),\n",
        "    CONSTRAINT EMPREGADO_HAB_FK FOREIGN KEY (matricula) REFERENCES EMPREGADO(matricula),\n",
        "    CONSTRAINT EMPREGADO_HAB_FK1 FOREIGN KEY (codhabilidade) REFERENCES HABILIDADE(codhabilidade)\n",
        ");\n",
        "\n",
        "INSERT INTO DEPARTAMENTO (nome) VALUES ('Recursos Humanos');\n",
        "INSERT INTO DEPARTAMENTO (nome) VALUES ('Desenvolvimento');\n",
        "INSERT INTO DEPARTAMENTO (nome) VALUES ('Marketing');\n",
        "INSERT INTO DEPARTAMENTO (nome) VALUES ('Financeiro');\n",
        "INSERT INTO DEPARTAMENTO (nome) VALUES ('Suporte Técnico');\n",
        "\n",
        "INSERT INTO EMPREGADO (nome, salario, numdepto) VALUES ('Ana Silva', 4500.00, 1);\n",
        "INSERT INTO EMPREGADO (nome, salario, numdepto) VALUES ('João Santos', 5500.00, 2);\n",
        "INSERT INTO EMPREGADO (nome, salario, numdepto) VALUES ('Maria Oliveira', 6000.00, 2);\n",
        "INSERT INTO EMPREGADO (nome, salario, numdepto) VALUES ('Carlos Souza', 4000.00, 3);\n",
        "INSERT INTO EMPREGADO (nome, salario, numdepto) VALUES ('Fernanda Lima', 4700.00, 4);\n",
        "\n",
        "INSERT INTO PROJETO (nome, data_inicio, data_fim) VALUES ('Projeto A', '2024-01-15', '2024-06-30');\n",
        "INSERT INTO PROJETO (nome, data_inicio, data_fim) VALUES ('Projeto B', '2024-03-01', '2024-09-15');\n",
        "INSERT INTO PROJETO (nome, data_inicio, data_fim) VALUES ('Projeto C', '2024-02-20', '2024-07-15');\n",
        "INSERT INTO PROJETO (nome, data_inicio, data_fim) VALUES ('Projeto D', '2024-05-10', '2024-11-30');\n",
        "INSERT INTO PROJETO (nome, data_inicio, data_fim) VALUES ('Projeto E', '2024-04-05', '2024-12-20');\n",
        "\n",
        "INSERT INTO TRABALHA_EM (matricula, codprojeto, data_inicio, data_fim) VALUES (1, 1, '2024-01-15', '2024-06-30');\n",
        "INSERT INTO TRABALHA_EM (matricula, codprojeto, data_inicio, data_fim) VALUES (2, 1, '2024-01-15', '2024-06-30');\n",
        "INSERT INTO TRABALHA_EM (matricula, codprojeto, data_inicio, data_fim) VALUES (3, 2, '2024-03-01', '2024-09-15');\n",
        "INSERT INTO TRABALHA_EM (matricula, codprojeto, data_inicio, data_fim) VALUES (4, 3, '2024-02-20', '2024-07-15');\n",
        "INSERT INTO TRABALHA_EM (matricula, codprojeto, data_inicio, data_fim) VALUES (5, 4, '2024-05-10', '2024-11-30');\n",
        "\n",
        "INSERT INTO HABILIDADE (descricao) VALUES ('Java Programming');\n",
        "INSERT INTO HABILIDADE (descricao) VALUES ('SQL Database Management');\n",
        "INSERT INTO HABILIDADE (descricao) VALUES ('Project Management');\n",
        "INSERT INTO HABILIDADE (descricao) VALUES ('Data Analysis');\n",
        "INSERT INTO HABILIDADE (descricao) VALUES ('Network Security');\n",
        "\n",
        "INSERT INTO EMPREGADO_HABILIDADE (matricula, codhabilidade) VALUES (1, 2);\n",
        "INSERT INTO EMPREGADO_HABILIDADE (matricula, codhabilidade) VALUES (2, 1);\n",
        "INSERT INTO EMPREGADO_HABILIDADE (matricula, codhabilidade) VALUES (3, 3);\n",
        "INSERT INTO EMPREGADO_HABILIDADE (matricula, codhabilidade) VALUES (4, 4);\n",
        "INSERT INTO EMPREGADO_HABILIDADE (matricula, codhabilidade) VALUES (5, 5);"
      ],
      "metadata": {
        "id": "PaEJ-Ui_9Zh4"
      },
      "execution_count": null,
      "outputs": []
    },
    {
      "cell_type": "markdown",
      "source": [
        "**1. Empregados e seus Departamentos (INNER JOIN)**\n",
        "- Liste todos os empregados juntamente com o nome de seus departamentos."
      ],
      "metadata": {
        "id": "VOxM2vjpU5ds"
      }
    },
    {
      "cell_type": "code",
      "execution_count": null,
      "metadata": {
        "id": "QjCvKCwvRhZY"
      },
      "outputs": [],
      "source": [
        "SELECT e.NOME AS nome_empregado, d.NOME AS nome_departamento\n",
        "FROM EMPREGADO e\n",
        "INNER JOIN DEPARTAMENTO d\n",
        "ON e.numdepto = d.numdepto\n",
        "ORDER BY e.nome;"
      ]
    },
    {
      "cell_type": "markdown",
      "source": [
        "**2. Empregados sem Departamento (LEFT JOIN + IS NULL)**\n",
        "- Liste todos os empregados que não estão associados a nenhum departamento."
      ],
      "metadata": {
        "id": "C-LLO-0tW22p"
      }
    },
    {
      "cell_type": "code",
      "source": [
        "SELECT e.NOME AS nome_empregado\n",
        "FROM EMPREGADO e\n",
        "LEFT JOIN DEPARTAMENTO d\n",
        "ON e.numdepto = d.numdepto\n",
        "WHERE d.numdepto IS NULL\n",
        "ORDER BY e.nome;"
      ],
      "metadata": {
        "id": "f_3twIxFXA7h"
      },
      "execution_count": null,
      "outputs": []
    },
    {
      "cell_type": "markdown",
      "source": [
        "**3. Projetos sem Empregados (LEFT JOIN + IS NULL)**\n",
        "- Liste todos os projetos que não têm empregados associados."
      ],
      "metadata": {
        "id": "yfyk6ROPX54m"
      }
    },
    {
      "cell_type": "code",
      "source": [
        "SELECT p.nome AS nome_projeto\n",
        "FROM PROJETO p\n",
        "LEFT JOIN TRABALHA_EM t\n",
        "ON p.codprojeto = t.codprojeto\n",
        "WHERE t.codprojeto IS NULL;"
      ],
      "metadata": {
        "id": "c_9TYRz8X_MZ"
      },
      "execution_count": null,
      "outputs": []
    },
    {
      "cell_type": "markdown",
      "source": [
        "**4. Empregados e suas Habilidades (INNER JOIN)**\n",
        "- Liste todos os empregados juntamente com suas habilidades."
      ],
      "metadata": {
        "id": "tWb7Ai3jZJph"
      }
    },
    {
      "cell_type": "code",
      "source": [
        "SELECT e.nome AS nome_empregado, h.descricao AS habilidade_empregado\n",
        "FROM EMPREGADO e\n",
        "INNER JOIN EMPREGADO_HABILIDADE eh\n",
        "ON e.matricula = eh.matricula\n",
        "INNER JOIN HABILIDADE h\n",
        "ON eh.codhabilidade = h.codhabilidade\n",
        "ORDER BY e.nome;"
      ],
      "metadata": {
        "id": "M-feMo0zZNyv"
      },
      "execution_count": null,
      "outputs": []
    },
    {
      "cell_type": "markdown",
      "source": [
        "**5. Empregados sem Habilidades (LEFT JOIN + IS NULL)**\n",
        "- Liste todos os empregados que não têm habilidades associadas."
      ],
      "metadata": {
        "id": "9U3bSOjKaZOC"
      }
    },
    {
      "cell_type": "code",
      "source": [
        "SELECT e.nome AS nome_empregado\n",
        "FROM EMPREGADO e\n",
        "LEFT JOIN EMPREGADO_HABILIDADE eh\n",
        "ON e.matricula = eh.matricula\n",
        "WHERE eh.codhabilidade IS NULL\n",
        "ORDER BY e.nome;"
      ],
      "metadata": {
        "id": "vpxGbQB0akvw"
      },
      "execution_count": null,
      "outputs": []
    },
    {
      "cell_type": "markdown",
      "source": [
        "**6. Departamentos e Número de Empregados (LEFT JOIN + COUNT)**\n",
        "- Liste todos os departamentos e o número de empregados em cada um."
      ],
      "metadata": {
        "id": "_cxW0WR8bOV9"
      }
    },
    {
      "cell_type": "code",
      "source": [
        "SELECT d.nome AS nome_departamento, COUNT(e.matricula) AS numero_empregado\n",
        "FROM DEPARTAMENTO d\n",
        "LEFT JOIN EMPREGADO e\n",
        "ON d.numdepto = e.numdepto\n",
        "GROUP BY d.nome\n",
        "ORDER BY d.nome ASC;"
      ],
      "metadata": {
        "id": "Kr4hUa0sbTPn"
      },
      "execution_count": null,
      "outputs": []
    },
    {
      "cell_type": "markdown",
      "source": [
        "**7. Empregados e seus Projetos (INNER JOIN)**\n",
        "- Liste todos os empregados juntamente com os projetos em que estão trabalhando."
      ],
      "metadata": {
        "id": "RccBIrgedffA"
      }
    },
    {
      "cell_type": "code",
      "source": [
        "SELECT e.nome AS empregado, p.nome AS nome_projeto\n",
        "FROM EMPREGADO e\n",
        "INNER JOIN TRABALHA_EM t\n",
        "ON e.matricula = t.matricula\n",
        "INNER JOIN PROJETO p\n",
        "ON t.codprojeto = p.codprojeto\n",
        "ORDER BY e.nome;"
      ],
      "metadata": {
        "id": "Ihf9Igx1dkKl"
      },
      "execution_count": null,
      "outputs": []
    },
    {
      "cell_type": "markdown",
      "source": [
        "**8. Empregados em Projetos Atuais (INNER JOIN + WHERE)**\n",
        "- Liste todos os empregados que estão trabalhando em projetos que ainda não\n",
        "terminaram."
      ],
      "metadata": {
        "id": "XgmyJ06vezjP"
      }
    },
    {
      "cell_type": "code",
      "source": [
        "SELECT e.nome AS empregado, p.data_fim AS prazo_final\n",
        "FROM EMPREGADO e\n",
        "INNER JOIN TRABALHA_EM t\n",
        "ON e.matricula = t.matricula\n",
        "INNER JOIN PROJETO p\n",
        "ON t.codprojeto = p.codprojeto\n",
        "WHERE p.data_fim > CURDATE()\n",
        "ORDER BY e.nome;"
      ],
      "metadata": {
        "id": "5jyfNagee4k-"
      },
      "execution_count": null,
      "outputs": []
    },
    {
      "cell_type": "markdown",
      "source": [
        "**9. Projetos e Duração (DATEDIFF)**\n",
        "- Liste todos os projetos juntamente com a duração em dias (diferente entre data_fim\n",
        "e data_inicio)."
      ],
      "metadata": {
        "id": "8VxtuhyQfuH4"
      }
    },
    {
      "cell_type": "code",
      "source": [
        "SELECT nome AS nome_projeto, TIMESTAMPDIFF(DAY, data_inicio, data_fim) AS duracao_dias\n",
        "FROM PROJETO\n",
        "ORDER BY nome;"
      ],
      "metadata": {
        "id": "SBw-EWLKfzBW"
      },
      "execution_count": null,
      "outputs": []
    },
    {
      "cell_type": "markdown",
      "source": [
        "**10. Empregados com Mais de uma Habilidade (INNER JOIN + HAVING COUNT)**\n",
        "- Liste todos os empregados que têm mais de uma habilidade."
      ],
      "metadata": {
        "id": "A_y1s3XWhlBW"
      }
    },
    {
      "cell_type": "code",
      "source": [
        "SELECT e.nome AS nome_empregado, COUNT(eh.codhabilidade) AS numero_habilidades\n",
        "FROM EMPREGADO e\n",
        "INNER JOIN EMPREGADO_HABILIDADE eh\n",
        "ON e.matricula = eh.matricula\n",
        "INNER JOIN HABILIDADE h\n",
        "ON eh.codhabilidade = h.codhabilidade\n",
        "GROUP BY e.matricula\n",
        "HAVING COUNT(eh.codhabilidade) > 1;"
      ],
      "metadata": {
        "id": "dxOuoKuQhpX-"
      },
      "execution_count": null,
      "outputs": []
    },
    {
      "cell_type": "markdown",
      "source": [
        "**11.Departamentos e Salário Médio (LEFT JOIN + AVG)**\n",
        "- Liste todos os departamentos juntamente com o salário médio dos empregados\n",
        "em cada departamento."
      ],
      "metadata": {
        "id": "JrIs-8yLjOgV"
      }
    },
    {
      "cell_type": "code",
      "source": [
        "SELECT d.nome AS nome_departamento, AVG(e.salario) AS media_salarial\n",
        "FROM DEPARTAMENTO d\n",
        "LEFT JOIN EMPREGADO e\n",
        "ON d.numdepto = e.numdepto\n",
        "GROUP BY d.nome\n",
        "ORDER BY d.nome;"
      ],
      "metadata": {
        "id": "mD-bL-0ijT1l"
      },
      "execution_count": null,
      "outputs": []
    },
    {
      "cell_type": "markdown",
      "source": [
        "**12. Empregados e suas Habilidades Ordenadas (INNER JOIN + ORDER BY)**\n",
        "- Liste todos os empregados juntamente com suas habilidades, ordenando os\n",
        "resultados pelo nome do empregado e pela descrição da habilidade."
      ],
      "metadata": {
        "id": "TaHFUGBBj4_s"
      }
    },
    {
      "cell_type": "code",
      "source": [
        "SELECT e.nome AS nome_empregado, h.descricao AS nome_habilidade\n",
        "FROM EMPREGADO e\n",
        "INNER JOIN EMPREGADO_HABILIDADE eh\n",
        "ON e.matricula = eh.matricula\n",
        "INNER JOIN HABILIDADE h\n",
        "ON eh.codhabilidade = h.codhabilidade\n",
        "ORDER BY e.nome, h.descricao;"
      ],
      "metadata": {
        "id": "vcJ_jAidj9LU"
      },
      "execution_count": null,
      "outputs": []
    },
    {
      "cell_type": "markdown",
      "source": [
        "**13. Projetos e Número de Empregados (INNER JOIN + COUNT)**\n",
        "\n",
        "- Liste todos os projetos juntamente com o número de empregados que estão\n",
        "trabalhando em cada projeto."
      ],
      "metadata": {
        "id": "I7UQ16dCk8f3"
      }
    },
    {
      "cell_type": "code",
      "source": [
        "SELECT p.nome AS nome_projeto, COUNT(e.matricula) AS numero_empregados\n",
        "FROM PROJETO p\n",
        "INNER JOIN TRABALHA_EM t\n",
        "ON p.codprojeto = t.codprojeto\n",
        "INNER JOIN EMPREGADO e\n",
        "ON t.matricula = e.matricula\n",
        "GROUP BY p.nome;"
      ],
      "metadata": {
        "id": "0P90F-JClAn1"
      },
      "execution_count": null,
      "outputs": []
    },
    {
      "cell_type": "markdown",
      "source": [
        "**14. Empregados com Habilidades Específicas (INNER JOIN + WHERE)**\n",
        "- Liste todos os empregados que possuem uma habilidade específica (por exemplo,\n",
        "\"SQL\")."
      ],
      "metadata": {
        "id": "lsKWAEvHl6Sj"
      }
    },
    {
      "cell_type": "code",
      "source": [
        "-- Para habilidades que contenham SQL na descrição\n",
        "\n",
        "SELECT e.nome AS nome_empregado\n",
        "FROM EMPREGADO e\n",
        "INNER JOIN EMPREGADO_HABILIDADE eh\n",
        "ON e.matricula = eh.matricula\n",
        "INNER JOIN HABILIDADE h\n",
        "ON eh.codhabilidade = h.codhabilidade\n",
        "WHERE h.descricao LIKE 'SQL%'\n",
        "ORDER BY e.nome;\n",
        "\n",
        "-- Para habilidades que sejam apenas SQL\n",
        "SELECT e.nome AS nome_empregado\n",
        "FROM EMPREGADO e\n",
        "INNER JOIN EMPREGADO_HABILIDADE eh\n",
        "ON e.matricula = eh.matricula\n",
        "INNER JOIN HABILIDADE h\n",
        "ON eh.codhabilidade = h.codhabilidade\n",
        "WHERE h.descricao = 'SQL'\n",
        "ORDER BY e.nome;"
      ],
      "metadata": {
        "id": "2GgklB3Wl9_0"
      },
      "execution_count": null,
      "outputs": []
    },
    {
      "cell_type": "markdown",
      "source": [
        "**15. Departamentos sem Empregados (LEFT JOIN + IS NULL)**\n",
        "- Liste todos os departamentos que não têm empregados associados."
      ],
      "metadata": {
        "id": "ZZLYtA6anwWL"
      }
    },
    {
      "cell_type": "code",
      "source": [
        "SELECT d.nome AS nome_departamento\n",
        "FROM DEPARTAMENTO d\n",
        "LEFT JOIN EMPREGADO e\n",
        "ON d.numdepto = e.numdepto\n",
        "WHERE e.numdepto IS NULL\n",
        "ORDER BY d.nome;"
      ],
      "metadata": {
        "id": "anQPebOln1CE"
      },
      "execution_count": null,
      "outputs": []
    },
    {
      "cell_type": "markdown",
      "source": [
        "**16. Projetos Ativos e seus Empregados (INNER JOIN + WHERE)**\n",
        "- Liste todos os projetos que ainda estão em andamento e os empregados que\n",
        "estão trabalhando neles."
      ],
      "metadata": {
        "id": "HMG24uULuHTq"
      }
    },
    {
      "cell_type": "code",
      "source": [
        "SELECT e.nome AS nome_empregado, p.nome AS projeto_em_andamento, p.data_fim AS data_final_projeto\n",
        "FROM EMPREGADO e\n",
        "INNER JOIN TRABALHA_EM t\n",
        "ON e.matricula = t.matricula\n",
        "INNER JOIN PROJETO p\n",
        "ON t.codprojeto = p.codprojeto\n",
        "WHERE p.data_fim > CURDATE()\n",
        "ORDER BY e.nome;"
      ],
      "metadata": {
        "id": "jZ6locanuLYy"
      },
      "execution_count": null,
      "outputs": []
    },
    {
      "cell_type": "markdown",
      "source": [
        "**17. Empregados e suas Habilidades e Projetos (INNER JOIN + Multiple Tables)**\n",
        "- Liste todos os empregados juntamente com suas habilidades e os projetos em que\n",
        "estão trabalhando."
      ],
      "metadata": {
        "id": "ub0Wr7f-vGvI"
      }
    },
    {
      "cell_type": "code",
      "source": [
        "SELECT e.nome AS nome_empregado, h.descricao AS empregado_habilidades, p.nome AS nome_projeto\n",
        "FROM EMPREGADO e\n",
        "INNER JOIN EMPREGADO_HABILIDADE eh\n",
        "ON e.matricula = eh.matricula\n",
        "INNER JOIN HABILIDADE h\n",
        "ON eh.codhabilidade = h.codhabilidade\n",
        "INNER JOIN TRABALHA_EM t\n",
        "ON e.matricula = t.matricula\n",
        "INNER JOIN PROJETO p\n",
        "ON t.codprojeto = p.codprojeto\n",
        "ORDER BY e.nome, p.nome;"
      ],
      "metadata": {
        "id": "ioDvR2rAvLU5"
      },
      "execution_count": null,
      "outputs": []
    },
    {
      "cell_type": "markdown",
      "source": [
        "**18. Projetos e Data de Início mais Recente (INNER JOIN + MAX)**\n",
        "- Liste todos os projetos juntamente com a data de início mais recente de um\n",
        "empregado que começou a trabalhar nesse projeto."
      ],
      "metadata": {
        "id": "1MtB9MxvwYSo"
      }
    },
    {
      "cell_type": "code",
      "source": [
        "SELECT p.nome AS nome_projeto, MAX(p.data_inicio) AS inicio_empregado\n",
        "FROM PROJETO p\n",
        "INNER JOIN TRABALHA_EM t\n",
        "ON p.codprojeto = t.codprojeto\n",
        "INNER JOIN EMPREGADO e\n",
        "ON t.matricula = e.matricula\n",
        "GROUP BY p.nome;"
      ],
      "metadata": {
        "id": "XT63fvKYwc16"
      },
      "execution_count": null,
      "outputs": []
    },
    {
      "cell_type": "markdown",
      "source": [
        "**19. Empregados que Trabalham em Mais de um Projeto (INNER JOIN + HAVING\n",
        "COUNT)**\n",
        "- Liste todos os empregados que estão trabalhando em mais de um projeto."
      ],
      "metadata": {
        "id": "lB3n8nQKyqkS"
      }
    },
    {
      "cell_type": "code",
      "source": [
        "SELECT e.nome AS nome_empregado, COUNT(p.codprojeto) AS numero_projetos\n",
        "FROM EMPREGADO e\n",
        "INNER JOIN TRABALHA_EM t\n",
        "ON e.matricula = t.matricula\n",
        "INNER JOIN PROJETO p\n",
        "ON t.codprojeto = p.codprojeto\n",
        "GROUP BY e.matricula, e.nome\n",
        "HAVING COUNT(p.codprojeto) > 1\n",
        "ORDER BY e.nome;"
      ],
      "metadata": {
        "id": "hN2kxtSRyvAA"
      },
      "execution_count": null,
      "outputs": []
    },
    {
      "cell_type": "markdown",
      "source": [
        "**20. Empregados e Departamento, Habilidade e Projeto (Multiple INNER JOINs)**\n",
        "- Liste todos os empregados juntamente com o nome do departamento, a descrição\n",
        "da habilidade e o nome do projeto em que estão trabalhando."
      ],
      "metadata": {
        "id": "2UClREdD4WGp"
      }
    },
    {
      "cell_type": "code",
      "source": [
        "SELECT e.nome AS nome_empregado, d.nome AS nome_departamento, h.descricao AS nome_habilidades, p.nome AS nome_projeto\n",
        "FROM EMPREGADO e\n",
        "INNER JOIN DEPARTAMENTO d\n",
        "ON e.numdepto = d.numdepto\n",
        "INNER JOIN EMPREGADO_HABILIDADE eh\n",
        "ON e.matricula = eh.matricula\n",
        "INNER JOIN HABILIDADE h\n",
        "ON eh.codhabilidade = h.codhabilidade\n",
        "INNER JOIN TRABALHA_EM t\n",
        "ON e.matricula = t.matricula\n",
        "INNER JOIN PROJETO p\n",
        "ON t.codprojeto = p.codprojeto\n",
        "ORDER BY e.nome;"
      ],
      "metadata": {
        "id": "m3HydHuR4aoO"
      },
      "execution_count": null,
      "outputs": []
    }
  ]
}